{
 "metadata": {
  "name": "",
  "signature": "sha256:da4a1fc969ff70e9a6f7a29721327857bde22c7e87797c5403ed92005bf238e4"
 },
 "nbformat": 3,
 "nbformat_minor": 0,
 "worksheets": [
  {
   "cells": [
    {
     "cell_type": "code",
     "collapsed": false,
     "input": [
      "from ROOT import TFile\n",
      "from ROOT import *"
     ],
     "language": "python",
     "metadata": {},
     "outputs": [],
     "prompt_number": 1
    },
    {
     "cell_type": "code",
     "collapsed": false,
     "input": [
      "myfile = '/Users/davidkaleko/Data/UBCommish/pulser_files/pulser_run134_subrun044_053.root'"
     ],
     "language": "python",
     "metadata": {},
     "outputs": [],
     "prompt_number": 13
    },
    {
     "cell_type": "code",
     "collapsed": false,
     "input": [
      "f = TFile(myfile,\"READ\")\n",
      "entries = f.ptree.GetEntries()"
     ],
     "language": "python",
     "metadata": {},
     "outputs": [],
     "prompt_number": 14
    },
    {
     "cell_type": "code",
     "collapsed": false,
     "input": [
      "cutoff_amp = 20.\n",
      "for x in xrange(entries):\n",
      "    dummy = f.ptree.GetEntry(x)\n",
      "    if f.ptree.amp > cutoff_amp :\n",
      "        print \"[%-2d, %-2d, %-2d] \\tamp %0.5f \\trms %0.5f\" % (f.ptree.crate, f.ptree.slot, f.ptree.femch, f.ptree.amp, f.ptree.ped_rms)"
     ],
     "language": "python",
     "metadata": {},
     "outputs": [
      {
       "output_type": "stream",
       "stream": "stdout",
       "text": [
        "[2 , 18, 1 ] \tamp 1104.64795 \trms 0.12990\n",
        "[7 , 4 , 0 ] \tamp 32.33667 \trms 5.61941"
       ]
      },
      {
       "output_type": "stream",
       "stream": "stdout",
       "text": [
        "\n",
        "[7 , 4 , 2 ] \tamp 25.94543 \trms 3.76405\n",
        "[7 , 4 , 4 ] \tamp 24.89282 \trms 3.59577\n",
        "[7 , 4 , 6 ] \tamp 39.36719 \trms 3.75967\n",
        "[7 , 4 , 6 ] \tamp 20.80396 \trms 3.75967\n",
        "[7 , 5 , 0 ] \tamp 30.70374 \trms 3.51889\n",
        "[7 , 5 , 24] \tamp 32.88062 \trms 5.57560\n",
        "[7 , 5 , 26] \tamp 28.58765 \trms 5.59357\n",
        "[7 , 5 , 28] \tamp 36.52759 \trms 5.67518\n",
        "[7 , 5 , 30] \tamp 27.10278 \trms 4.80523\n",
        "[7 , 10, 30] \tamp 30.40295 \trms 4.80659\n",
        "[9 , 16, 19] \tamp 44.32629 \trms 6.72639\n"
       ]
      }
     ],
     "prompt_number": 16
    },
    {
     "cell_type": "code",
     "collapsed": false,
     "input": [],
     "language": "python",
     "metadata": {},
     "outputs": []
    }
   ],
   "metadata": {}
  }
 ]
}