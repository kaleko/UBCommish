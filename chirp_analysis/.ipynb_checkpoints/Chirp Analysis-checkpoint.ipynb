{
 "metadata": {
  "name": "",
  "signature": "sha256:33ce4bb6905df03ccaa343c8c31668c606f476473e6144f86a8d2a786f7f4068"
 },
 "nbformat": 3,
 "nbformat_minor": 0,
 "worksheets": [
  {
   "cells": [
    {
     "cell_type": "heading",
     "level": 1,
     "metadata": {},
     "source": [
      "note this is all wrong, using waveform files instead of chirpy files. ignore this"
     ]
    },
    {
     "cell_type": "code",
     "collapsed": false,
     "input": [
      "%matplotlib inline\n",
      "import matplotlib.pyplot as plt\n",
      "import numpy as np\n",
      "import pandas as pd\n",
      "from root_numpy import root2array, root2rec, tree2rec, array2root\n",
      "from ROOT import TFile"
     ],
     "language": "python",
     "metadata": {},
     "outputs": [],
     "prompt_number": 7
    },
    {
     "cell_type": "code",
     "collapsed": false,
     "input": [
      "run = 148\n",
      "subrun1 = 317\n",
      "subrun2 = 326\n",
      "data_basedir = '/Users/davidkaleko/Data/UBCommish/wf_files/'\n",
      "fname = data_basedir + 'wf_run%03d_subrun%03d_%03d.root'%(run,subrun1,subrun2)"
     ],
     "language": "python",
     "metadata": {},
     "outputs": [],
     "prompt_number": 2
    },
    {
     "cell_type": "code",
     "collapsed": false,
     "input": [
      "#Get list of channels (wftree's) saved in the file\n",
      "f = ROOT.TFile(fname,\"READ\")\n",
      "trees = []\n",
      "for key in f.GetListOfKeys():\n",
      "    trees.append(key.GetName())"
     ],
     "language": "python",
     "metadata": {},
     "outputs": [],
     "prompt_number": 3
    },
    {
     "cell_type": "code",
     "collapsed": false,
     "input": [
      "#Load all the wftrees as pandas dataframes into a dictionary\n",
      "wf_dfs = {}\n",
      "for tree in trees:\n",
      "    wf_dfs[tree] = pd.DataFrame(root2array(fname,tree))\n",
      "#wf_dfs is {'wftree_09_14_47':dataframe, 'wftree_blahblah':dataframe, etc}"
     ],
     "language": "python",
     "metadata": {},
     "outputs": [],
     "prompt_number": 4
    },
    {
     "cell_type": "code",
     "collapsed": false,
     "input": [],
     "language": "python",
     "metadata": {},
     "outputs": [],
     "prompt_number": 17
    },
    {
     "cell_type": "code",
     "collapsed": false,
     "input": [
      "#Create dictionary that stores event number and waveforms that are chirpy\n",
      "#wfs_per_evt has key of event number, and looks like: \n",
      "#{ '1' : [ ([first wf],'wftree_01_02_03'), ([second wf],'wftree_04_05_06'), ... ] }\n",
      "wfs_per_evt = {}\n",
      "\n",
      "#Loop over channels\n",
      "for tree_name in wf_dfs:\n",
      "    this_ch_wfs = wf_dfs[tree_name]\n",
      "    this_ch_wfs.set_index('event')\n",
      "    #For this channel, loop over events, save the wfs from this channel that are chirping\n",
      "    for event,info in this_ch_wfs.iterrows():\n",
      "        wf = info['wf'][:9595]\n",
      "        n_chirps = len(find_chirp_regions(wf,RMS_chirp_cutoff=50,RMS_windowsize=40))\n",
      "        if n_chirps:\n",
      "            print \"%d chirp regions found for event %d tree %s\"%(n_chirps,event,treename)\n",
      "            try:\n",
      "                wfs_per_evt[event].append((wf,tree_name))\n",
      "            except KeyError:\n",
      "                wfs_per_evt[event] = [(wf,tree_name)]\n"
     ],
     "language": "python",
     "metadata": {},
     "outputs": [
      {
       "output_type": "stream",
       "stream": "stdout",
       "text": [
        "2 chirp regions found for event 0 tree wftree_06_09_10\n",
        "1 chirp regions found for event 3 tree wftree_06_09_10\n",
        "3 chirp regions found for event 7 tree wftree_06_09_10"
       ]
      },
      {
       "output_type": "stream",
       "stream": "stdout",
       "text": [
        "\n",
        "1 chirp regions found for event 11 tree wftree_06_09_10\n",
        "6 chirp regions found for event 16 tree wftree_06_09_10"
       ]
      },
      {
       "output_type": "stream",
       "stream": "stdout",
       "text": [
        "\n",
        "7 chirp regions found for event 18 tree wftree_06_09_10\n",
        "1 chirp regions found for event 20 tree wftree_06_09_10\n",
        "3 chirp regions found for event 22 tree wftree_06_09_10\n",
        "3 chirp regions found for event 24 tree wftree_06_09_10"
       ]
      },
      {
       "output_type": "stream",
       "stream": "stdout",
       "text": [
        "\n",
        "3 chirp regions found for event 26 tree wftree_06_09_10\n",
        "4 chirp regions found for event 29 tree wftree_06_09_10\n",
        "5 chirp regions found for event 31 tree wftree_06_09_10"
       ]
      },
      {
       "output_type": "stream",
       "stream": "stdout",
       "text": [
        "\n",
        "2 chirp regions found for event 33 tree wftree_06_09_10\n",
        "1 chirp regions found for event 37 tree wftree_06_09_10\n",
        "1 chirp regions found for event 40 tree wftree_06_09_10"
       ]
      },
      {
       "output_type": "stream",
       "stream": "stdout",
       "text": [
        "\n",
        "1 chirp regions found for event 44 tree wftree_06_09_10\n",
        "5 chirp regions found for event 51 tree wftree_06_09_10"
       ]
      },
      {
       "output_type": "stream",
       "stream": "stdout",
       "text": [
        "\n",
        "3 chirp regions found for event 53 tree wftree_06_09_10\n",
        "3 chirp regions found for event 55 tree wftree_06_09_10\n",
        "1 chirp regions found for event 59 tree wftree_06_09_10"
       ]
      },
      {
       "output_type": "stream",
       "stream": "stdout",
       "text": [
        "\n",
        "1 chirp regions found for event 62 tree wftree_06_09_10\n",
        "7 chirp regions found for event 64 tree wftree_06_09_10\n",
        "1 chirp regions found for event 66 tree wftree_06_09_10"
       ]
      },
      {
       "output_type": "stream",
       "stream": "stdout",
       "text": [
        "\n",
        "2 chirp regions found for event 71 tree wftree_06_09_10\n",
        "1 chirp regions found for event 75 tree wftree_06_09_10"
       ]
      },
      {
       "output_type": "stream",
       "stream": "stdout",
       "text": [
        "\n",
        "5 chirp regions found for event 77 tree wftree_06_09_10\n",
        "4 chirp regions found for event 80 tree wftree_06_09_10\n",
        "7 chirp regions found for event 84 tree wftree_06_09_10"
       ]
      },
      {
       "output_type": "stream",
       "stream": "stdout",
       "text": [
        "\n",
        "2 chirp regions found for event 98 tree wftree_06_09_10"
       ]
      },
      {
       "output_type": "stream",
       "stream": "stdout",
       "text": [
        "\n",
        "1 chirp regions found for event 5 tree wftree_06_09_10"
       ]
      },
      {
       "output_type": "stream",
       "stream": "stdout",
       "text": [
        "\n",
        "1 chirp regions found for event 8 tree wftree_06_09_10\n",
        "1 chirp regions found for event 14 tree wftree_06_09_10"
       ]
      },
      {
       "output_type": "stream",
       "stream": "stdout",
       "text": [
        "\n",
        "1 chirp regions found for event 15 tree wftree_06_09_10\n",
        "3 chirp regions found for event 16 tree wftree_06_09_10\n",
        "1 chirp regions found for event 18 tree wftree_06_09_10\n",
        "1 chirp regions found for event 19 tree wftree_06_09_10\n",
        "1 chirp regions found for event 23 tree wftree_06_09_10"
       ]
      },
      {
       "output_type": "stream",
       "stream": "stdout",
       "text": [
        "\n",
        "1 chirp regions found for event 25 tree wftree_06_09_10\n",
        "1 chirp regions found for event 27 tree wftree_06_09_10\n",
        "2 chirp regions found for event 29 tree wftree_06_09_10\n",
        "1 chirp regions found for event 30 tree wftree_06_09_10"
       ]
      },
      {
       "output_type": "stream",
       "stream": "stdout",
       "text": [
        "\n",
        "1 chirp regions found for event 33 tree wftree_06_09_10\n",
        "1 chirp regions found for event 34 tree wftree_06_09_10\n",
        "2 chirp regions found for event 35 tree wftree_06_09_10\n",
        "1 chirp regions found for event 36 tree wftree_06_09_10\n",
        "2 chirp regions found for event 41 tree wftree_06_09_10"
       ]
      },
      {
       "output_type": "stream",
       "stream": "stdout",
       "text": [
        "\n",
        "1 chirp regions found for event 43 tree wftree_06_09_10\n",
        "1 chirp regions found for event 46 tree wftree_06_09_10\n",
        "1 chirp regions found for event 47 tree wftree_06_09_10\n",
        "1 chirp regions found for event 51 tree wftree_06_09_10"
       ]
      },
      {
       "output_type": "stream",
       "stream": "stdout",
       "text": [
        "\n",
        "1 chirp regions found for event 54 tree wftree_06_09_10\n",
        "1 chirp regions found for event 57 tree wftree_06_09_10\n",
        "1 chirp regions found for event 59 tree wftree_06_09_10"
       ]
      },
      {
       "output_type": "stream",
       "stream": "stdout",
       "text": [
        "\n",
        "1 chirp regions found for event 60 tree wftree_06_09_10\n",
        "1 chirp regions found for event 61 tree wftree_06_09_10\n",
        "1 chirp regions found for event 64 tree wftree_06_09_10\n",
        "1 chirp regions found for event 65 tree wftree_06_09_10\n",
        "2 chirp regions found for event 67 tree wftree_06_09_10"
       ]
      },
      {
       "output_type": "stream",
       "stream": "stdout",
       "text": [
        "\n",
        "1 chirp regions found for event 74 tree wftree_06_09_10"
       ]
      },
      {
       "output_type": "stream",
       "stream": "stdout",
       "text": [
        "\n",
        "1 chirp regions found for event 78 tree wftree_06_09_10\n",
        "1 chirp regions found for event 79 tree wftree_06_09_10\n",
        "1 chirp regions found for event 87 tree wftree_06_09_10"
       ]
      },
      {
       "output_type": "stream",
       "stream": "stdout",
       "text": [
        "\n",
        "1 chirp regions found for event 2 tree wftree_06_09_10"
       ]
      },
      {
       "output_type": "stream",
       "stream": "stdout",
       "text": [
        "\n",
        "1 chirp regions found for event 4 tree wftree_06_09_10\n",
        "2 chirp regions found for event 5 tree wftree_06_09_10\n",
        "3 chirp regions found for event 8 tree wftree_06_09_10"
       ]
      },
      {
       "output_type": "stream",
       "stream": "stdout",
       "text": [
        "\n",
        "1 chirp regions found for event 9 tree wftree_06_09_10\n",
        "1 chirp regions found for event 14 tree wftree_06_09_10"
       ]
      },
      {
       "output_type": "stream",
       "stream": "stdout",
       "text": [
        "\n",
        "2 chirp regions found for event 16 tree wftree_06_09_10\n",
        "1 chirp regions found for event 18 tree wftree_06_09_10"
       ]
      },
      {
       "output_type": "stream",
       "stream": "stdout",
       "text": [
        "\n",
        "3 chirp regions found for event 19 tree wftree_06_09_10\n",
        "1 chirp regions found for event 20 tree wftree_06_09_10\n",
        "1 chirp regions found for event 21 tree wftree_06_09_10"
       ]
      },
      {
       "output_type": "stream",
       "stream": "stdout",
       "text": [
        "\n",
        "1 chirp regions found for event 25 tree wftree_06_09_10"
       ]
      },
      {
       "output_type": "stream",
       "stream": "stdout",
       "text": [
        "\n",
        "1 chirp regions found for event 27 tree wftree_06_09_10\n",
        "1 chirp regions found for event 28 tree wftree_06_09_10\n",
        "1 chirp regions found for event 29 tree wftree_06_09_10"
       ]
      },
      {
       "output_type": "stream",
       "stream": "stdout",
       "text": [
        "\n",
        "1 chirp regions found for event 30 tree wftree_06_09_10\n",
        "1 chirp regions found for event 33 tree wftree_06_09_10"
       ]
      },
      {
       "output_type": "stream",
       "stream": "stdout",
       "text": [
        "\n",
        "1 chirp regions found for event 36 tree wftree_06_09_10"
       ]
      },
      {
       "output_type": "stream",
       "stream": "stdout",
       "text": [
        "\n",
        "1 chirp regions found for event 39 tree wftree_06_09_10\n",
        "2 chirp regions found for event 45 tree wftree_06_09_10"
       ]
      },
      {
       "output_type": "stream",
       "stream": "stdout",
       "text": [
        "\n",
        "1 chirp regions found for event 47 tree wftree_06_09_10\n",
        "2 chirp regions found for event 51 tree wftree_06_09_10"
       ]
      },
      {
       "output_type": "stream",
       "stream": "stdout",
       "text": [
        "\n",
        "2 chirp regions found for event 52 tree wftree_06_09_10\n",
        "2 chirp regions found for event 53 tree wftree_06_09_10\n",
        "1 chirp regions found for event 55 tree wftree_06_09_10\n",
        "1 chirp regions found for event 60 tree wftree_06_09_10"
       ]
      },
      {
       "output_type": "stream",
       "stream": "stdout",
       "text": [
        "\n",
        "1 chirp regions found for event 61 tree wftree_06_09_10\n",
        "1 chirp regions found for event 63 tree wftree_06_09_10\n",
        "2 chirp regions found for event 65 tree wftree_06_09_10\n",
        "1 chirp regions found for event 66 tree wftree_06_09_10"
       ]
      },
      {
       "output_type": "stream",
       "stream": "stdout",
       "text": [
        "\n",
        "1 chirp regions found for event 69 tree wftree_06_09_10\n",
        "1 chirp regions found for event 71 tree wftree_06_09_10\n",
        "1 chirp regions found for event 74 tree wftree_06_09_10"
       ]
      },
      {
       "output_type": "stream",
       "stream": "stdout",
       "text": [
        "\n",
        "3 chirp regions found for event 77 tree wftree_06_09_10\n",
        "2 chirp regions found for event 84 tree wftree_06_09_10"
       ]
      },
      {
       "output_type": "stream",
       "stream": "stdout",
       "text": [
        "\n",
        "1 chirp regions found for event 86 tree wftree_06_09_10\n",
        "2 chirp regions found for event 88 tree wftree_06_09_10\n",
        "1 chirp regions found for event 92 tree wftree_06_09_10"
       ]
      },
      {
       "output_type": "stream",
       "stream": "stdout",
       "text": [
        "\n",
        "1 chirp regions found for event 93 tree wftree_06_09_10\n",
        "1 chirp regions found for event 95 tree wftree_06_09_10\n",
        "2 chirp regions found for event 97 tree wftree_06_09_10"
       ]
      },
      {
       "output_type": "stream",
       "stream": "stdout",
       "text": [
        "\n",
        "1 chirp regions found for event 98 tree wftree_06_09_10\n",
        "1 chirp regions found for event 99 tree wftree_06_09_10\n",
        "2 chirp regions found for event 0 tree wftree_06_09_10"
       ]
      },
      {
       "output_type": "stream",
       "stream": "stdout",
       "text": [
        "\n",
        "5 chirp regions found for event 2 tree wftree_06_09_10\n",
        "2 chirp regions found for event 3 tree wftree_06_09_10\n",
        "6 chirp regions found for event 5 tree wftree_06_09_10\n",
        "4 chirp regions found for event 7 tree wftree_06_09_10"
       ]
      },
      {
       "output_type": "stream",
       "stream": "stdout",
       "text": [
        "\n",
        "4 chirp regions found for event 10 tree wftree_06_09_10\n",
        "4 chirp regions found for event 11 tree wftree_06_09_10\n",
        "6 chirp regions found for event 13 tree wftree_06_09_10\n",
        "6 chirp regions found for event 14 tree wftree_06_09_10"
       ]
      },
      {
       "output_type": "stream",
       "stream": "stdout",
       "text": [
        "\n",
        "7 chirp regions found for event 16 tree wftree_06_09_10\n",
        "7 chirp regions found for event 18 tree wftree_06_09_10\n",
        "3 chirp regions found for event 20 tree wftree_06_09_10\n",
        "6 chirp regions found for event 22 tree wftree_06_09_10"
       ]
      },
      {
       "output_type": "stream",
       "stream": "stdout",
       "text": [
        "\n",
        "8 chirp regions found for event 24 tree wftree_06_09_10\n",
        "5 chirp regions found for event 26 tree wftree_06_09_10\n",
        "6 chirp regions found for event 29 tree wftree_06_09_10\n",
        "9 chirp regions found for event 31 tree wftree_06_09_10"
       ]
      },
      {
       "output_type": "stream",
       "stream": "stdout",
       "text": [
        "\n",
        "1 chirp regions found for event 32 tree wftree_06_09_10\n",
        "5 chirp regions found for event 33 tree wftree_06_09_10\n",
        "5 chirp regions found for event 37 tree wftree_06_09_10\n",
        "4 chirp regions found for event 38 tree wftree_06_09_10\n",
        "3 chirp regions found for event 40 tree wftree_06_09_10"
       ]
      },
      {
       "output_type": "stream",
       "stream": "stdout",
       "text": [
        "\n",
        "3 chirp regions found for event 44 tree wftree_06_09_10\n",
        "1 chirp regions found for event 45 tree wftree_06_09_10\n",
        "8 chirp regions found for event 51 tree wftree_06_09_10"
       ]
      },
      {
       "output_type": "stream",
       "stream": "stdout",
       "text": [
        "\n",
        "9 chirp regions found for event 53 tree wftree_06_09_10\n",
        "6 chirp regions found for event 55 tree wftree_06_09_10\n",
        "3 chirp regions found for event 59 tree wftree_06_09_10"
       ]
      },
      {
       "output_type": "stream",
       "stream": "stdout",
       "text": [
        "\n",
        "4 chirp regions found for event 60 tree wftree_06_09_10\n",
        "4 chirp regions found for event 62 tree wftree_06_09_10\n",
        "6 chirp regions found for event 64 tree wftree_06_09_10\n",
        "1 chirp regions found for event 66 tree wftree_06_09_10"
       ]
      },
      {
       "output_type": "stream",
       "stream": "stdout",
       "text": [
        "\n",
        "1 chirp regions found for event 68 tree wftree_06_09_10\n",
        "8 chirp regions found for event 71 tree wftree_06_09_10\n",
        "3 chirp regions found for event 75 tree wftree_06_09_10"
       ]
      },
      {
       "output_type": "stream",
       "stream": "stdout",
       "text": [
        "\n",
        "7 chirp regions found for event 77 tree wftree_06_09_10\n",
        "5 chirp regions found for event 80 tree wftree_06_09_10\n",
        "8 chirp regions found for event 84 tree wftree_06_09_10"
       ]
      },
      {
       "output_type": "stream",
       "stream": "stdout",
       "text": [
        "\n",
        "4 chirp regions found for event 86 tree wftree_06_09_10\n",
        "5 chirp regions found for event 89 tree wftree_06_09_10\n",
        "2 chirp regions found for event 94 tree wftree_06_09_10"
       ]
      },
      {
       "output_type": "stream",
       "stream": "stdout",
       "text": [
        "\n",
        "3 chirp regions found for event 96 tree wftree_06_09_10\n",
        "3 chirp regions found for event 98 tree wftree_06_09_10\n",
        "1 chirp regions found for event 0 tree wftree_06_09_10\n",
        "1 chirp regions found for event 4 tree wftree_06_09_10"
       ]
      },
      {
       "output_type": "stream",
       "stream": "stdout",
       "text": [
        "\n",
        "1 chirp regions found for event 5 tree wftree_06_09_10\n",
        "1 chirp regions found for event 6 tree wftree_06_09_10\n",
        "2 chirp regions found for event 8 tree wftree_06_09_10\n",
        "2 chirp regions found for event 11 tree wftree_06_09_10\n",
        "2 chirp regions found for event 13 tree wftree_06_09_10"
       ]
      },
      {
       "output_type": "stream",
       "stream": "stdout",
       "text": [
        "\n",
        "3 chirp regions found for event 14 tree wftree_06_09_10\n",
        "5 chirp regions found for event 16 tree wftree_06_09_10\n",
        "2 chirp regions found for event 17 tree wftree_06_09_10\n",
        "1 chirp regions found for event 19 tree wftree_06_09_10\n",
        "1 chirp regions found for event 20 tree wftree_06_09_10\n",
        "1 chirp regions found for event 21 tree wftree_06_09_10"
       ]
      },
      {
       "output_type": "stream",
       "stream": "stdout",
       "text": [
        "\n",
        "3 chirp regions found for event 23 tree wftree_06_09_10\n",
        "1 chirp regions found for event 25 tree wftree_06_09_10\n",
        "2 chirp regions found for event 26 tree wftree_06_09_10\n",
        "3 chirp regions found for event 27 tree wftree_06_09_10\n",
        "1 chirp regions found for event 28 tree wftree_06_09_10\n",
        "1 chirp regions found for event 29 tree wftree_06_09_10\n",
        "2 chirp regions found for event 31 tree wftree_06_09_10"
       ]
      },
      {
       "output_type": "stream",
       "stream": "stdout",
       "text": [
        "\n",
        "1 chirp regions found for event 33 tree wftree_06_09_10\n",
        "2 chirp regions found for event 35 tree wftree_06_09_10\n",
        "1 chirp regions found for event 37 tree wftree_06_09_10\n",
        "2 chirp regions found for event 38 tree wftree_06_09_10\n",
        "2 chirp regions found for event 41 tree wftree_06_09_10"
       ]
      },
      {
       "output_type": "stream",
       "stream": "stdout",
       "text": [
        "\n",
        "1 chirp regions found for event 43 tree wftree_06_09_10\n",
        "1 chirp regions found for event 44 tree wftree_06_09_10\n",
        "2 chirp regions found for event 47 tree wftree_06_09_10\n",
        "1 chirp regions found for event 50 tree wftree_06_09_10"
       ]
      },
      {
       "output_type": "stream",
       "stream": "stdout",
       "text": [
        "\n",
        "1 chirp regions found for event 51 tree wftree_06_09_10\n",
        "3 chirp regions found for event 52 tree wftree_06_09_10\n",
        "1 chirp regions found for event 53 tree wftree_06_09_10\n",
        "2 chirp regions found for event 54 tree wftree_06_09_10\n",
        "3 chirp regions found for event 55 tree wftree_06_09_10\n",
        "1 chirp regions found for event 56 tree wftree_06_09_10\n",
        "3 chirp regions found for event 57 tree wftree_06_09_10\n",
        "1 chirp regions found for event 58 tree wftree_06_09_10\n",
        "1 chirp regions found for event 59 tree wftree_06_09_10"
       ]
      },
      {
       "output_type": "stream",
       "stream": "stdout",
       "text": [
        "\n",
        "2 chirp regions found for event 61 tree wftree_06_09_10\n",
        "2 chirp regions found for event 63 tree wftree_06_09_10\n",
        "1 chirp regions found for event 64 tree wftree_06_09_10\n",
        "3 chirp regions found for event 67 tree wftree_06_09_10\n",
        "1 chirp regions found for event 69 tree wftree_06_09_10"
       ]
      },
      {
       "output_type": "stream",
       "stream": "stdout",
       "text": [
        "\n",
        "1 chirp regions found for event 72 tree wftree_06_09_10\n",
        "2 chirp regions found for event 74 tree wftree_06_09_10\n",
        "1 chirp regions found for event 75 tree wftree_06_09_10\n",
        "2 chirp regions found for event 79 tree wftree_06_09_10"
       ]
      },
      {
       "output_type": "stream",
       "stream": "stdout",
       "text": [
        "\n",
        "1 chirp regions found for event 80 tree wftree_06_09_10\n",
        "3 chirp regions found for event 81 tree wftree_06_09_10\n",
        "2 chirp regions found for event 83 tree wftree_06_09_10\n",
        "1 chirp regions found for event 85 tree wftree_06_09_10\n",
        "1 chirp regions found for event 87 tree wftree_06_09_10\n",
        "1 chirp regions found for event 88 tree wftree_06_09_10"
       ]
      },
      {
       "output_type": "stream",
       "stream": "stdout",
       "text": [
        "\n",
        "1 chirp regions found for event 89 tree wftree_06_09_10\n",
        "1 chirp regions found for event 91 tree wftree_06_09_10\n",
        "1 chirp regions found for event 93 tree wftree_06_09_10\n",
        "2 chirp regions found for event 94 tree wftree_06_09_10\n",
        "1 chirp regions found for event 95 tree wftree_06_09_10\n",
        "3 chirp regions found for event 96 tree wftree_06_09_10\n",
        "1 chirp regions found for event 98 tree wftree_06_09_10"
       ]
      },
      {
       "output_type": "stream",
       "stream": "stdout",
       "text": [
        "\n",
        "1 chirp regions found for event 99 tree wftree_06_09_10\n",
        "1 chirp regions found for event 1 tree wftree_06_09_10\n",
        "2 chirp regions found for event 2 tree wftree_06_09_10\n",
        "1 chirp regions found for event 5 tree wftree_06_09_10\n",
        "2 chirp regions found for event 6 tree wftree_06_09_10\n",
        "1 chirp regions found for event 7 tree wftree_06_09_10"
       ]
      },
      {
       "output_type": "stream",
       "stream": "stdout",
       "text": [
        "\n",
        "2 chirp regions found for event 8 tree wftree_06_09_10\n",
        "2 chirp regions found for event 11 tree wftree_06_09_10\n",
        "1 chirp regions found for event 12 tree wftree_06_09_10\n",
        "4 chirp regions found for event 16 tree wftree_06_09_10"
       ]
      },
      {
       "output_type": "stream",
       "stream": "stdout",
       "text": [
        "\n",
        "1 chirp regions found for event 17 tree wftree_06_09_10\n",
        "2 chirp regions found for event 21 tree wftree_06_09_10\n",
        "1 chirp regions found for event 23 tree wftree_06_09_10\n",
        "1 chirp regions found for event 24 tree wftree_06_09_10\n",
        "1 chirp regions found for event 25 tree wftree_06_09_10"
       ]
      },
      {
       "output_type": "stream",
       "stream": "stdout",
       "text": [
        "\n",
        "1 chirp regions found for event 27 tree wftree_06_09_10\n",
        "1 chirp regions found for event 32 tree wftree_06_09_10\n",
        "2 chirp regions found for event 35 tree wftree_06_09_10"
       ]
      },
      {
       "output_type": "stream",
       "stream": "stdout",
       "text": [
        "\n",
        "1 chirp regions found for event 42 tree wftree_06_09_10\n",
        "3 chirp regions found for event 43 tree wftree_06_09_10\n",
        "1 chirp regions found for event 46 tree wftree_06_09_10"
       ]
      },
      {
       "output_type": "stream",
       "stream": "stdout",
       "text": [
        "\n",
        "2 chirp regions found for event 49 tree wftree_06_09_10\n",
        "2 chirp regions found for event 51 tree wftree_06_09_10\n",
        "2 chirp regions found for event 58 tree wftree_06_09_10"
       ]
      },
      {
       "output_type": "stream",
       "stream": "stdout",
       "text": [
        "\n",
        "3 chirp regions found for event 63 tree wftree_06_09_10"
       ]
      },
      {
       "output_type": "stream",
       "stream": "stdout",
       "text": [
        "\n",
        "1 chirp regions found for event 65 tree wftree_06_09_10\n",
        "1 chirp regions found for event 67 tree wftree_06_09_10\n",
        "1 chirp regions found for event 68 tree wftree_06_09_10\n",
        "1 chirp regions found for event 73 tree wftree_06_09_10"
       ]
      },
      {
       "output_type": "stream",
       "stream": "stdout",
       "text": [
        "\n",
        "2 chirp regions found for event 74 tree wftree_06_09_10\n",
        "1 chirp regions found for event 75 tree wftree_06_09_10\n",
        "2 chirp regions found for event 78 tree wftree_06_09_10"
       ]
      },
      {
       "output_type": "stream",
       "stream": "stdout",
       "text": [
        "\n",
        "1 chirp regions found for event 79 tree wftree_06_09_10\n",
        "3 chirp regions found for event 82 tree wftree_06_09_10\n",
        "1 chirp regions found for event 83 tree wftree_06_09_10\n",
        "2 chirp regions found for event 84 tree wftree_06_09_10"
       ]
      },
      {
       "output_type": "stream",
       "stream": "stdout",
       "text": [
        "\n",
        "1 chirp regions found for event 85 tree wftree_06_09_10\n",
        "1 chirp regions found for event 86 tree wftree_06_09_10\n",
        "1 chirp regions found for event 87 tree wftree_06_09_10\n",
        "1 chirp regions found for event 89 tree wftree_06_09_10\n",
        "1 chirp regions found for event 93 tree wftree_06_09_10"
       ]
      },
      {
       "output_type": "stream",
       "stream": "stdout",
       "text": [
        "\n",
        "1 chirp regions found for event 95 tree wftree_06_09_10\n",
        "2 chirp regions found for event 96 tree wftree_06_09_10\n",
        "2 chirp regions found for event 97 tree wftree_06_09_10\n",
        "3 chirp regions found for event 99 tree wftree_06_09_10\n",
        "1 chirp regions found for event 0 tree wftree_06_09_10\n",
        "1 chirp regions found for event 4 tree wftree_06_09_10"
       ]
      },
      {
       "output_type": "stream",
       "stream": "stdout",
       "text": [
        "\n",
        "1 chirp regions found for event 6 tree wftree_06_09_10\n",
        "2 chirp regions found for event 7 tree wftree_06_09_10\n",
        "2 chirp regions found for event 8 tree wftree_06_09_10\n",
        "3 chirp regions found for event 10 tree wftree_06_09_10\n",
        "2 chirp regions found for event 12 tree wftree_06_09_10\n",
        "2 chirp regions found for event 13 tree wftree_06_09_10"
       ]
      },
      {
       "output_type": "stream",
       "stream": "stdout",
       "text": [
        "\n",
        "3 chirp regions found for event 16 tree wftree_06_09_10\n",
        "2 chirp regions found for event 17 tree wftree_06_09_10\n",
        "2 chirp regions found for event 18 tree wftree_06_09_10\n",
        "1 chirp regions found for event 19 tree wftree_06_09_10\n",
        "2 chirp regions found for event 21 tree wftree_06_09_10\n",
        "3 chirp regions found for event 22 tree wftree_06_09_10"
       ]
      },
      {
       "output_type": "stream",
       "stream": "stdout",
       "text": [
        "\n",
        "2 chirp regions found for event 23 tree wftree_06_09_10\n",
        "1 chirp regions found for event 26 tree wftree_06_09_10\n",
        "1 chirp regions found for event 30 tree wftree_06_09_10\n",
        "3 chirp regions found for event 31 tree wftree_06_09_10"
       ]
      },
      {
       "output_type": "stream",
       "stream": "stdout",
       "text": [
        "\n",
        "3 chirp regions found for event 34 tree wftree_06_09_10\n",
        "3 chirp regions found for event 35 tree wftree_06_09_10\n",
        "1 chirp regions found for event 41 tree wftree_06_09_10"
       ]
      },
      {
       "output_type": "stream",
       "stream": "stdout",
       "text": [
        "\n",
        "2 chirp regions found for event 44 tree wftree_06_09_10\n",
        "3 chirp regions found for event 45 tree wftree_06_09_10\n",
        "2 chirp regions found for event 46 tree wftree_06_09_10\n",
        "1 chirp regions found for event 47 tree wftree_06_09_10\n",
        "2 chirp regions found for event 49 tree wftree_06_09_10\n",
        "1 chirp regions found for event 50 tree wftree_06_09_10"
       ]
      },
      {
       "output_type": "stream",
       "stream": "stdout",
       "text": [
        "\n",
        "1 chirp regions found for event 53 tree wftree_06_09_10\n",
        "1 chirp regions found for event 54 tree wftree_06_09_10\n",
        "1 chirp regions found for event 55 tree wftree_06_09_10\n",
        "1 chirp regions found for event 56 tree wftree_06_09_10\n",
        "2 chirp regions found for event 61 tree wftree_06_09_10"
       ]
      },
      {
       "output_type": "stream",
       "stream": "stdout",
       "text": [
        "\n",
        "1 chirp regions found for event 62 tree wftree_06_09_10\n",
        "1 chirp regions found for event 64 tree wftree_06_09_10\n",
        "1 chirp regions found for event 66 tree wftree_06_09_10\n",
        "2 chirp regions found for event 67 tree wftree_06_09_10\n",
        "2 chirp regions found for event 68 tree wftree_06_09_10\n",
        "3 chirp regions found for event 70 tree wftree_06_09_10"
       ]
      },
      {
       "output_type": "stream",
       "stream": "stdout",
       "text": [
        "\n",
        "1 chirp regions found for event 71 tree wftree_06_09_10\n",
        "2 chirp regions found for event 75 tree wftree_06_09_10\n",
        "3 chirp regions found for event 78 tree wftree_06_09_10"
       ]
      },
      {
       "output_type": "stream",
       "stream": "stdout",
       "text": [
        "\n",
        "1 chirp regions found for event 79 tree wftree_06_09_10\n",
        "1 chirp regions found for event 80 tree wftree_06_09_10\n",
        "5 chirp regions found for event 81 tree wftree_06_09_10\n",
        "2 chirp regions found for event 82 tree wftree_06_09_10\n",
        "1 chirp regions found for event 83 tree wftree_06_09_10\n",
        "1 chirp regions found for event 84 tree wftree_06_09_10\n",
        "2 chirp regions found for event 86 tree wftree_06_09_10"
       ]
      },
      {
       "output_type": "stream",
       "stream": "stdout",
       "text": [
        "\n",
        "1 chirp regions found for event 87 tree wftree_06_09_10\n",
        "1 chirp regions found for event 88 tree wftree_06_09_10\n",
        "1 chirp regions found for event 90 tree wftree_06_09_10\n",
        "2 chirp regions found for event 92 tree wftree_06_09_10"
       ]
      },
      {
       "output_type": "stream",
       "stream": "stdout",
       "text": [
        "\n",
        "2 chirp regions found for event 93 tree wftree_06_09_10\n",
        "1 chirp regions found for event 94 tree wftree_06_09_10\n",
        "1 chirp regions found for event 95 tree wftree_06_09_10\n",
        "2 chirp regions found for event 96 tree wftree_06_09_10\n",
        "1 chirp regions found for event 97 tree wftree_06_09_10\n",
        "1 chirp regions found for event 98 tree wftree_06_09_10"
       ]
      },
      {
       "output_type": "stream",
       "stream": "stdout",
       "text": [
        "\n",
        "2 chirp regions found for event 1 tree wftree_06_09_10\n",
        "2 chirp regions found for event 15 tree wftree_06_09_10"
       ]
      },
      {
       "output_type": "stream",
       "stream": "stdout",
       "text": [
        "\n",
        "2 chirp regions found for event 16 tree wftree_06_09_10\n",
        "1 chirp regions found for event 17 tree wftree_06_09_10\n",
        "1 chirp regions found for event 19 tree wftree_06_09_10\n",
        "1 chirp regions found for event 21 tree wftree_06_09_10\n",
        "2 chirp regions found for event 23 tree wftree_06_09_10\n",
        "1 chirp regions found for event 26 tree wftree_06_09_10"
       ]
      },
      {
       "output_type": "stream",
       "stream": "stdout",
       "text": [
        "\n",
        "1 chirp regions found for event 27 tree wftree_06_09_10\n",
        "1 chirp regions found for event 30 tree wftree_06_09_10\n",
        "1 chirp regions found for event 31 tree wftree_06_09_10\n",
        "1 chirp regions found for event 36 tree wftree_06_09_10"
       ]
      },
      {
       "output_type": "stream",
       "stream": "stdout",
       "text": [
        "\n",
        "1 chirp regions found for event 37 tree wftree_06_09_10\n",
        "2 chirp regions found for event 39 tree wftree_06_09_10\n",
        "3 chirp regions found for event 45 tree wftree_06_09_10"
       ]
      },
      {
       "output_type": "stream",
       "stream": "stdout",
       "text": [
        "\n",
        "1 chirp regions found for event 47 tree wftree_06_09_10\n",
        "1 chirp regions found for event 51 tree wftree_06_09_10\n",
        "1 chirp regions found for event 58 tree wftree_06_09_10"
       ]
      },
      {
       "output_type": "stream",
       "stream": "stdout",
       "text": [
        "\n",
        "1 chirp regions found for event 61 tree wftree_06_09_10\n",
        "1 chirp regions found for event 71 tree wftree_06_09_10"
       ]
      },
      {
       "output_type": "stream",
       "stream": "stdout",
       "text": [
        "\n",
        "1 chirp regions found for event 77 tree wftree_06_09_10\n",
        "1 chirp regions found for event 81 tree wftree_06_09_10"
       ]
      },
      {
       "output_type": "stream",
       "stream": "stdout",
       "text": [
        "\n",
        "1 chirp regions found for event 84 tree wftree_06_09_10\n",
        "1 chirp regions found for event 86 tree wftree_06_09_10\n",
        "1 chirp regions found for event 89 tree wftree_06_09_10\n",
        "1 chirp regions found for event 90 tree wftree_06_09_10"
       ]
      },
      {
       "output_type": "stream",
       "stream": "stdout",
       "text": [
        "\n",
        "1 chirp regions found for event 91 tree wftree_06_09_10\n",
        "1 chirp regions found for event 92 tree wftree_06_09_10\n",
        "2 chirp regions found for event 93 tree wftree_06_09_10\n",
        "1 chirp regions found for event 94 tree wftree_06_09_10\n",
        "2 chirp regions found for event 0 tree wftree_06_09_10"
       ]
      },
      {
       "output_type": "stream",
       "stream": "stdout",
       "text": [
        "\n",
        "2 chirp regions found for event 1 tree wftree_06_09_10\n",
        "2 chirp regions found for event 3 tree wftree_06_09_10\n",
        "1 chirp regions found for event 6 tree wftree_06_09_10\n",
        "1 chirp regions found for event 7 tree wftree_06_09_10"
       ]
      },
      {
       "output_type": "stream",
       "stream": "stdout",
       "text": [
        "\n",
        "1 chirp regions found for event 8 tree wftree_06_09_10\n",
        "2 chirp regions found for event 10 tree wftree_06_09_10\n",
        "1 chirp regions found for event 11 tree wftree_06_09_10\n",
        "2 chirp regions found for event 16 tree wftree_06_09_10"
       ]
      },
      {
       "output_type": "stream",
       "stream": "stdout",
       "text": [
        "\n",
        "1 chirp regions found for event 17 tree wftree_06_09_10\n",
        "1 chirp regions found for event 18 tree wftree_06_09_10\n",
        "2 chirp regions found for event 20 tree wftree_06_09_10\n",
        "2 chirp regions found for event 21 tree wftree_06_09_10\n",
        "1 chirp regions found for event 23 tree wftree_06_09_10"
       ]
      },
      {
       "output_type": "stream",
       "stream": "stdout",
       "text": [
        "\n",
        "1 chirp regions found for event 25 tree wftree_06_09_10\n",
        "1 chirp regions found for event 26 tree wftree_06_09_10\n",
        "1 chirp regions found for event 30 tree wftree_06_09_10"
       ]
      },
      {
       "output_type": "stream",
       "stream": "stdout",
       "text": [
        "\n",
        "2 chirp regions found for event 31 tree wftree_06_09_10\n",
        "1 chirp regions found for event 32 tree wftree_06_09_10\n",
        "1 chirp regions found for event 33 tree wftree_06_09_10\n",
        "1 chirp regions found for event 34 tree wftree_06_09_10\n",
        "2 chirp regions found for event 36 tree wftree_06_09_10\n",
        "1 chirp regions found for event 38 tree wftree_06_09_10"
       ]
      },
      {
       "output_type": "stream",
       "stream": "stdout",
       "text": [
        "\n",
        "1 chirp regions found for event 39 tree wftree_06_09_10\n",
        "2 chirp regions found for event 43 tree wftree_06_09_10\n",
        "1 chirp regions found for event 46 tree wftree_06_09_10"
       ]
      },
      {
       "output_type": "stream",
       "stream": "stdout",
       "text": [
        "\n",
        "1 chirp regions found for event 50 tree wftree_06_09_10\n",
        "3 chirp regions found for event 51 tree wftree_06_09_10\n",
        "1 chirp regions found for event 53 tree wftree_06_09_10\n",
        "1 chirp regions found for event 55 tree wftree_06_09_10"
       ]
      },
      {
       "output_type": "stream",
       "stream": "stdout",
       "text": [
        "\n",
        "1 chirp regions found for event 56 tree wftree_06_09_10\n",
        "1 chirp regions found for event 60 tree wftree_06_09_10\n",
        "1 chirp regions found for event 61 tree wftree_06_09_10\n",
        "1 chirp regions found for event 62 tree wftree_06_09_10\n",
        "1 chirp regions found for event 63 tree wftree_06_09_10"
       ]
      },
      {
       "output_type": "stream",
       "stream": "stdout",
       "text": [
        "\n",
        "1 chirp regions found for event 66 tree wftree_06_09_10\n",
        "2 chirp regions found for event 70 tree wftree_06_09_10"
       ]
      },
      {
       "output_type": "stream",
       "stream": "stdout",
       "text": [
        "\n",
        "1 chirp regions found for event 71 tree wftree_06_09_10\n",
        "1 chirp regions found for event 72 tree wftree_06_09_10\n",
        "1 chirp regions found for event 75 tree wftree_06_09_10\n",
        "1 chirp regions found for event 76 tree wftree_06_09_10\n",
        "1 chirp regions found for event 80 tree wftree_06_09_10"
       ]
      },
      {
       "output_type": "stream",
       "stream": "stdout",
       "text": [
        "\n",
        "2 chirp regions found for event 81 tree wftree_06_09_10\n",
        "2 chirp regions found for event 82 tree wftree_06_09_10\n",
        "1 chirp regions found for event 83 tree wftree_06_09_10\n",
        "1 chirp regions found for event 84 tree wftree_06_09_10\n",
        "1 chirp regions found for event 85 tree wftree_06_09_10\n",
        "2 chirp regions found for event 90 tree wftree_06_09_10"
       ]
      },
      {
       "output_type": "stream",
       "stream": "stdout",
       "text": [
        "\n",
        "2 chirp regions found for event 91 tree wftree_06_09_10\n",
        "2 chirp regions found for event 93 tree wftree_06_09_10\n",
        "3 chirp regions found for event 95 tree wftree_06_09_10"
       ]
      },
      {
       "output_type": "stream",
       "stream": "stdout",
       "text": [
        "\n",
        "3 chirp regions found for event 96 tree wftree_06_09_10\n",
        "1 chirp regions found for event 0 tree wftree_06_09_10\n",
        "1 chirp regions found for event 5 tree wftree_06_09_10"
       ]
      },
      {
       "output_type": "stream",
       "stream": "stdout",
       "text": [
        "\n",
        "1 chirp regions found for event 9 tree wftree_06_09_10\n",
        "2 chirp regions found for event 11 tree wftree_06_09_10\n",
        "1 chirp regions found for event 12 tree wftree_06_09_10"
       ]
      },
      {
       "output_type": "stream",
       "stream": "stdout",
       "text": [
        "\n",
        "1 chirp regions found for event 13 tree wftree_06_09_10\n",
        "1 chirp regions found for event 14 tree wftree_06_09_10\n",
        "3 chirp regions found for event 16 tree wftree_06_09_10\n",
        "1 chirp regions found for event 17 tree wftree_06_09_10\n",
        "1 chirp regions found for event 18 tree wftree_06_09_10\n",
        "1 chirp regions found for event 21 tree wftree_06_09_10"
       ]
      },
      {
       "output_type": "stream",
       "stream": "stdout",
       "text": [
        "\n",
        "4 chirp regions found for event 22 tree wftree_06_09_10\n",
        "1 chirp regions found for event 24 tree wftree_06_09_10\n",
        "1 chirp regions found for event 27 tree wftree_06_09_10\n",
        "1 chirp regions found for event 28 tree wftree_06_09_10\n",
        "1 chirp regions found for event 29 tree wftree_06_09_10"
       ]
      },
      {
       "output_type": "stream",
       "stream": "stdout",
       "text": [
        "\n",
        "2 chirp regions found for event 30 tree wftree_06_09_10\n",
        "3 chirp regions found for event 32 tree wftree_06_09_10\n",
        "3 chirp regions found for event 33 tree wftree_06_09_10\n",
        "3 chirp regions found for event 34 tree wftree_06_09_10\n",
        "2 chirp regions found for event 35 tree wftree_06_09_10\n",
        "1 chirp regions found for event 36 tree wftree_06_09_10"
       ]
      },
      {
       "output_type": "stream",
       "stream": "stdout",
       "text": [
        "\n",
        "3 chirp regions found for event 37 tree wftree_06_09_10\n",
        "1 chirp regions found for event 40 tree wftree_06_09_10\n",
        "1 chirp regions found for event 43 tree wftree_06_09_10\n",
        "1 chirp regions found for event 44 tree wftree_06_09_10"
       ]
      },
      {
       "output_type": "stream",
       "stream": "stdout",
       "text": [
        "\n",
        "2 chirp regions found for event 45 tree wftree_06_09_10\n",
        "1 chirp regions found for event 46 tree wftree_06_09_10\n",
        "1 chirp regions found for event 47 tree wftree_06_09_10\n",
        "3 chirp regions found for event 48 tree wftree_06_09_10\n",
        "1 chirp regions found for event 52 tree wftree_06_09_10"
       ]
      },
      {
       "output_type": "stream",
       "stream": "stdout",
       "text": [
        "\n",
        "1 chirp regions found for event 53 tree wftree_06_09_10\n",
        "2 chirp regions found for event 56 tree wftree_06_09_10\n",
        "2 chirp regions found for event 58 tree wftree_06_09_10\n",
        "2 chirp regions found for event 59 tree wftree_06_09_10"
       ]
      },
      {
       "output_type": "stream",
       "stream": "stdout",
       "text": [
        "\n",
        "2 chirp regions found for event 60 tree wftree_06_09_10\n",
        "1 chirp regions found for event 61 tree wftree_06_09_10\n",
        "1 chirp regions found for event 62 tree wftree_06_09_10\n",
        "2 chirp regions found for event 63 tree wftree_06_09_10\n",
        "2 chirp regions found for event 64 tree wftree_06_09_10\n",
        "2 chirp regions found for event 65 tree wftree_06_09_10\n",
        "1 chirp regions found for event 66 tree wftree_06_09_10\n",
        "1 chirp regions found for event 67 tree wftree_06_09_10"
       ]
      },
      {
       "output_type": "stream",
       "stream": "stdout",
       "text": [
        "\n",
        "1 chirp regions found for event 68 tree wftree_06_09_10\n",
        "2 chirp regions found for event 69 tree wftree_06_09_10\n",
        "1 chirp regions found for event 70 tree wftree_06_09_10\n",
        "3 chirp regions found for event 73 tree wftree_06_09_10\n",
        "1 chirp regions found for event 74 tree wftree_06_09_10\n",
        "2 chirp regions found for event 76 tree wftree_06_09_10"
       ]
      },
      {
       "output_type": "stream",
       "stream": "stdout",
       "text": [
        "\n",
        "1 chirp regions found for event 77 tree wftree_06_09_10\n",
        "1 chirp regions found for event 78 tree wftree_06_09_10\n",
        "1 chirp regions found for event 80 tree wftree_06_09_10\n",
        "2 chirp regions found for event 81 tree wftree_06_09_10\n",
        "1 chirp regions found for event 85 tree wftree_06_09_10"
       ]
      },
      {
       "output_type": "stream",
       "stream": "stdout",
       "text": [
        "\n",
        "3 chirp regions found for event 87 tree wftree_06_09_10\n",
        "3 chirp regions found for event 88 tree wftree_06_09_10\n",
        "2 chirp regions found for event 90 tree wftree_06_09_10"
       ]
      },
      {
       "output_type": "stream",
       "stream": "stdout",
       "text": [
        "\n",
        "2 chirp regions found for event 91 tree wftree_06_09_10\n",
        "1 chirp regions found for event 92 tree wftree_06_09_10\n",
        "1 chirp regions found for event 93 tree wftree_06_09_10\n",
        "1 chirp regions found for event 94 tree wftree_06_09_10\n",
        "1 chirp regions found for event 97 tree wftree_06_09_10"
       ]
      },
      {
       "output_type": "stream",
       "stream": "stdout",
       "text": [
        "\n",
        "1 chirp regions found for event 98 tree wftree_06_09_10\n",
        "1 chirp regions found for event 99 tree wftree_06_09_10\n",
        "1 chirp regions found for event 0 tree wftree_06_09_10\n",
        "1 chirp regions found for event 3 tree wftree_06_09_10"
       ]
      },
      {
       "output_type": "stream",
       "stream": "stdout",
       "text": [
        "\n",
        "1 chirp regions found for event 7 tree wftree_06_09_10\n",
        "5 chirp regions found for event 9 tree wftree_06_09_10"
       ]
      },
      {
       "output_type": "stream",
       "stream": "stdout",
       "text": [
        "\n",
        "4 chirp regions found for event 10 tree wftree_06_09_10\n",
        "2 chirp regions found for event 11 tree wftree_06_09_10\n",
        "1 chirp regions found for event 12 tree wftree_06_09_10\n",
        "2 chirp regions found for event 13 tree wftree_06_09_10\n",
        "1 chirp regions found for event 15 tree wftree_06_09_10\n",
        "2 chirp regions found for event 16 tree wftree_06_09_10"
       ]
      },
      {
       "output_type": "stream",
       "stream": "stdout",
       "text": [
        "\n",
        "1 chirp regions found for event 17 tree wftree_06_09_10\n",
        "2 chirp regions found for event 18 tree wftree_06_09_10\n",
        "1 chirp regions found for event 19 tree wftree_06_09_10\n",
        "1 chirp regions found for event 20 tree wftree_06_09_10\n",
        "2 chirp regions found for event 21 tree wftree_06_09_10\n",
        "2 chirp regions found for event 25 tree wftree_06_09_10"
       ]
      },
      {
       "output_type": "stream",
       "stream": "stdout",
       "text": [
        "\n",
        "2 chirp regions found for event 27 tree wftree_06_09_10\n",
        "1 chirp regions found for event 30 tree wftree_06_09_10\n",
        "3 chirp regions found for event 31 tree wftree_06_09_10"
       ]
      },
      {
       "output_type": "stream",
       "stream": "stdout",
       "text": [
        "\n",
        "1 chirp regions found for event 32 tree wftree_06_09_10\n",
        "2 chirp regions found for event 34 tree wftree_06_09_10\n",
        "3 chirp regions found for event 35 tree wftree_06_09_10\n",
        "1 chirp regions found for event 36 tree wftree_06_09_10\n",
        "2 chirp regions found for event 37 tree wftree_06_09_10\n",
        "3 chirp regions found for event 39 tree wftree_06_09_10"
       ]
      },
      {
       "output_type": "stream",
       "stream": "stdout",
       "text": [
        "\n",
        "2 chirp regions found for event 40 tree wftree_06_09_10\n",
        "1 chirp regions found for event 41 tree wftree_06_09_10\n",
        "2 chirp regions found for event 42 tree wftree_06_09_10\n",
        "1 chirp regions found for event 43 tree wftree_06_09_10\n",
        "1 chirp regions found for event 44 tree wftree_06_09_10\n",
        "3 chirp regions found for event 47 tree wftree_06_09_10"
       ]
      },
      {
       "output_type": "stream",
       "stream": "stdout",
       "text": [
        "\n",
        "1 chirp regions found for event 51 tree wftree_06_09_10\n",
        "2 chirp regions found for event 52 tree wftree_06_09_10\n",
        "1 chirp regions found for event 53 tree wftree_06_09_10\n",
        "1 chirp regions found for event 55 tree wftree_06_09_10"
       ]
      },
      {
       "output_type": "stream",
       "stream": "stdout",
       "text": [
        "\n",
        "2 chirp regions found for event 57 tree wftree_06_09_10\n",
        "1 chirp regions found for event 58 tree wftree_06_09_10\n",
        "3 chirp regions found for event 59 tree wftree_06_09_10\n",
        "1 chirp regions found for event 60 tree wftree_06_09_10\n",
        "1 chirp regions found for event 61 tree wftree_06_09_10\n",
        "1 chirp regions found for event 63 tree wftree_06_09_10"
       ]
      },
      {
       "output_type": "stream",
       "stream": "stdout",
       "text": [
        "\n",
        "1 chirp regions found for event 65 tree wftree_06_09_10\n",
        "1 chirp regions found for event 66 tree wftree_06_09_10\n",
        "1 chirp regions found for event 67 tree wftree_06_09_10\n",
        "1 chirp regions found for event 68 tree wftree_06_09_10\n",
        "1 chirp regions found for event 69 tree wftree_06_09_10\n",
        "1 chirp regions found for event 70 tree wftree_06_09_10\n",
        "1 chirp regions found for event 72 tree wftree_06_09_10"
       ]
      },
      {
       "output_type": "stream",
       "stream": "stdout",
       "text": [
        "\n",
        "1 chirp regions found for event 73 tree wftree_06_09_10\n",
        "1 chirp regions found for event 74 tree wftree_06_09_10\n",
        "1 chirp regions found for event 76 tree wftree_06_09_10\n",
        "1 chirp regions found for event 79 tree wftree_06_09_10"
       ]
      },
      {
       "output_type": "stream",
       "stream": "stdout",
       "text": [
        "\n",
        "3 chirp regions found for event 80 tree wftree_06_09_10\n",
        "2 chirp regions found for event 81 tree wftree_06_09_10\n",
        "2 chirp regions found for event 82 tree wftree_06_09_10\n",
        "2 chirp regions found for event 84 tree wftree_06_09_10\n",
        "1 chirp regions found for event 85 tree wftree_06_09_10\n",
        "2 chirp regions found for event 86 tree wftree_06_09_10"
       ]
      },
      {
       "output_type": "stream",
       "stream": "stdout",
       "text": [
        "\n",
        "2 chirp regions found for event 87 tree wftree_06_09_10\n",
        "1 chirp regions found for event 89 tree wftree_06_09_10\n",
        "3 chirp regions found for event 90 tree wftree_06_09_10\n",
        "2 chirp regions found for event 91 tree wftree_06_09_10\n",
        "1 chirp regions found for event 92 tree wftree_06_09_10"
       ]
      },
      {
       "output_type": "stream",
       "stream": "stdout",
       "text": [
        "\n",
        "2 chirp regions found for event 94 tree wftree_06_09_10\n",
        "2 chirp regions found for event 95 tree wftree_06_09_10\n",
        "1 chirp regions found for event 96 tree wftree_06_09_10\n",
        "2 chirp regions found for event 98 tree wftree_06_09_10"
       ]
      },
      {
       "output_type": "stream",
       "stream": "stdout",
       "text": [
        "\n",
        "1 chirp regions found for event 99 tree wftree_06_09_10\n",
        "4 chirp regions found for event 0 tree wftree_06_09_10\n",
        "4 chirp regions found for event 1 tree wftree_06_09_10\n",
        "5 chirp regions found for event 2 tree wftree_06_09_10\n",
        "2 chirp regions found for event 3 tree wftree_06_09_10\n",
        "4 chirp regions found for event 4 tree wftree_06_09_10"
       ]
      },
      {
       "output_type": "stream",
       "stream": "stdout",
       "text": [
        "\n",
        "6 chirp regions found for event 5 tree wftree_06_09_10\n",
        "4 chirp regions found for event 6 tree wftree_06_09_10\n",
        "10 chirp regions found for event 7 tree wftree_06_09_10\n",
        "9 chirp regions found for event 8 tree wftree_06_09_10\n",
        "9 chirp regions found for event 9 tree wftree_06_09_10\n",
        "6 chirp regions found for event 10 tree wftree_06_09_10"
       ]
      },
      {
       "output_type": "stream",
       "stream": "stdout",
       "text": [
        "\n",
        "5 chirp regions found for event 11 tree wftree_06_09_10\n",
        "8 chirp regions found for event 12 tree wftree_06_09_10\n",
        "4 chirp regions found for event 13 tree wftree_06_09_10\n",
        "5 chirp regions found for event 14 tree wftree_06_09_10\n",
        "4 chirp regions found for event 15 tree wftree_06_09_10\n",
        "6 chirp regions found for event 16 tree wftree_06_09_10"
       ]
      },
      {
       "output_type": "stream",
       "stream": "stdout",
       "text": [
        "\n",
        "7 chirp regions found for event 17 tree wftree_06_09_10\n",
        "7 chirp regions found for event 18 tree wftree_06_09_10\n",
        "4 chirp regions found for event 19 tree wftree_06_09_10\n",
        "3 chirp regions found for event 20 tree wftree_06_09_10\n",
        "8 chirp regions found for event 21 tree wftree_06_09_10\n",
        "9 chirp regions found for event 22 tree wftree_06_09_10"
       ]
      },
      {
       "output_type": "stream",
       "stream": "stdout",
       "text": [
        "\n",
        "9 chirp regions found for event 23 tree wftree_06_09_10\n",
        "5 chirp regions found for event 24 tree wftree_06_09_10\n",
        "5 chirp regions found for event 25 tree wftree_06_09_10\n",
        "3 chirp regions found for event 26 tree wftree_06_09_10\n",
        "5 chirp regions found for event 27 tree wftree_06_09_10\n",
        "6 chirp regions found for event 28 tree wftree_06_09_10\n",
        "7 chirp regions found for event 29 tree wftree_06_09_10"
       ]
      },
      {
       "output_type": "stream",
       "stream": "stdout",
       "text": [
        "\n",
        "5 chirp regions found for event 30 tree wftree_06_09_10\n",
        "5 chirp regions found for event 31 tree wftree_06_09_10\n",
        "8 chirp regions found for event 32 tree wftree_06_09_10\n",
        "8 chirp regions found for event 33 tree wftree_06_09_10\n",
        "6 chirp regions found for event 34 tree wftree_06_09_10\n",
        "4 chirp regions found for event 35 tree wftree_06_09_10\n",
        "9 chirp regions found for event 36 tree wftree_06_09_10"
       ]
      },
      {
       "output_type": "stream",
       "stream": "stdout",
       "text": [
        "\n",
        "6 chirp regions found for event 37 tree wftree_06_09_10\n",
        "5 chirp regions found for event 38 tree wftree_06_09_10\n",
        "6 chirp regions found for event 39 tree wftree_06_09_10\n",
        "4 chirp regions found for event 40 tree wftree_06_09_10\n",
        "6 chirp regions found for event 41 tree wftree_06_09_10\n",
        "4 chirp regions found for event 42 tree wftree_06_09_10\n",
        "9 chirp regions found for event 43 tree wftree_06_09_10"
       ]
      },
      {
       "output_type": "stream",
       "stream": "stdout",
       "text": [
        "\n",
        "5 chirp regions found for event 44 tree wftree_06_09_10\n",
        "4 chirp regions found for event 45 tree wftree_06_09_10\n",
        "7 chirp regions found for event 46 tree wftree_06_09_10\n",
        "7 chirp regions found for event 47 tree wftree_06_09_10\n",
        "7 chirp regions found for event 48 tree wftree_06_09_10\n",
        "5 chirp regions found for event 49 tree wftree_06_09_10\n",
        "4 chirp regions found for event 50 tree wftree_06_09_10"
       ]
      },
      {
       "output_type": "stream",
       "stream": "stdout",
       "text": [
        "\n",
        "6 chirp regions found for event 51 tree wftree_06_09_10\n",
        "6 chirp regions found for event 52 tree wftree_06_09_10\n",
        "6 chirp regions found for event 53 tree wftree_06_09_10\n",
        "8 chirp regions found for event 54 tree wftree_06_09_10\n",
        "10 chirp regions found for event 55 tree wftree_06_09_10\n",
        "3 chirp regions found for event 56 tree wftree_06_09_10\n",
        "5 chirp regions found for event 57 tree wftree_06_09_10\n",
        "5 chirp regions found for event 58 tree wftree_06_09_10"
       ]
      },
      {
       "output_type": "stream",
       "stream": "stdout",
       "text": [
        "\n",
        "6 chirp regions found for event 59 tree wftree_06_09_10\n",
        "9 chirp regions found for event 60 tree wftree_06_09_10\n",
        "3 chirp regions found for event 61 tree wftree_06_09_10\n",
        "11 chirp regions found for event 62 tree wftree_06_09_10\n",
        "5 chirp regions found for event 63 tree wftree_06_09_10\n",
        "7 chirp regions found for event 64 tree wftree_06_09_10"
       ]
      },
      {
       "output_type": "stream",
       "stream": "stdout",
       "text": [
        "\n",
        "5 chirp regions found for event 65 tree wftree_06_09_10\n",
        "9 chirp regions found for event 66 tree wftree_06_09_10\n",
        "9 chirp regions found for event 67 tree wftree_06_09_10\n",
        "5 chirp regions found for event 68 tree wftree_06_09_10\n",
        "6 chirp regions found for event 69 tree wftree_06_09_10\n",
        "7 chirp regions found for event 70 tree wftree_06_09_10\n",
        "9 chirp regions found for event 71 tree wftree_06_09_10\n",
        "10 chirp regions found for event 72 tree wftree_06_09_10"
       ]
      },
      {
       "output_type": "stream",
       "stream": "stdout",
       "text": [
        "\n",
        "7 chirp regions found for event 73 tree wftree_06_09_10\n",
        "5 chirp regions found for event 74 tree wftree_06_09_10\n",
        "8 chirp regions found for event 75 tree wftree_06_09_10\n",
        "3 chirp regions found for event 76 tree wftree_06_09_10\n",
        "4 chirp regions found for event 77 tree wftree_06_09_10\n",
        "6 chirp regions found for event 78 tree wftree_06_09_10\n",
        "2 chirp regions found for event 79 tree wftree_06_09_10\n",
        "6 chirp regions found for event 80 tree wftree_06_09_10"
       ]
      },
      {
       "output_type": "stream",
       "stream": "stdout",
       "text": [
        "\n",
        "3 chirp regions found for event 81 tree wftree_06_09_10\n",
        "9 chirp regions found for event 82 tree wftree_06_09_10\n",
        "6 chirp regions found for event 83 tree wftree_06_09_10\n",
        "10 chirp regions found for event 84 tree wftree_06_09_10\n",
        "12 chirp regions found for event 85 tree wftree_06_09_10\n",
        "3 chirp regions found for event 86 tree wftree_06_09_10\n",
        "8 chirp regions found for event 87 tree wftree_06_09_10"
       ]
      },
      {
       "output_type": "stream",
       "stream": "stdout",
       "text": [
        "\n",
        "4 chirp regions found for event 88 tree wftree_06_09_10\n",
        "5 chirp regions found for event 89 tree wftree_06_09_10\n",
        "3 chirp regions found for event 90 tree wftree_06_09_10\n",
        "7 chirp regions found for event 91 tree wftree_06_09_10\n",
        "7 chirp regions found for event 92 tree wftree_06_09_10\n",
        "3 chirp regions found for event 93 tree wftree_06_09_10\n",
        "7 chirp regions found for event 94 tree wftree_06_09_10"
       ]
      },
      {
       "output_type": "stream",
       "stream": "stdout",
       "text": [
        "\n",
        "11 chirp regions found for event 95 tree wftree_06_09_10\n",
        "3 chirp regions found for event 96 tree wftree_06_09_10\n",
        "5 chirp regions found for event 97 tree wftree_06_09_10\n",
        "9 chirp regions found for event 98 tree wftree_06_09_10\n",
        "8 chirp regions found for event 99 tree wftree_06_09_10\n",
        "7 chirp regions found for event 0 tree wftree_06_09_10"
       ]
      },
      {
       "output_type": "stream",
       "stream": "stdout",
       "text": [
        "\n",
        "5 chirp regions found for event 1 tree wftree_06_09_10\n",
        "9 chirp regions found for event 2 tree wftree_06_09_10\n",
        "10 chirp regions found for event 3 tree wftree_06_09_10\n",
        "9 chirp regions found for event 4 tree wftree_06_09_10\n",
        "6 chirp regions found for event 5 tree wftree_06_09_10\n",
        "11 chirp regions found for event 6 tree wftree_06_09_10\n",
        "10 chirp regions found for event 7 tree wftree_06_09_10\n",
        "11 chirp regions found for event 8 tree wftree_06_09_10"
       ]
      },
      {
       "output_type": "stream",
       "stream": "stdout",
       "text": [
        "\n",
        "9 chirp regions found for event 9 tree wftree_06_09_10\n",
        "6 chirp regions found for event 10 tree wftree_06_09_10\n",
        "11 chirp regions found for event 11 tree wftree_06_09_10\n",
        "7 chirp regions found for event 12 tree wftree_06_09_10\n",
        "10 chirp regions found for event 13 tree wftree_06_09_10\n",
        "5 chirp regions found for event 14 tree wftree_06_09_10"
       ]
      },
      {
       "output_type": "stream",
       "stream": "stdout",
       "text": [
        "\n",
        "12 chirp regions found for event 15 tree wftree_06_09_10\n",
        "8 chirp regions found for event 16 tree wftree_06_09_10\n",
        "3 chirp regions found for event 17 tree wftree_06_09_10\n",
        "5 chirp regions found for event 18 tree wftree_06_09_10\n",
        "3 chirp regions found for event 19 tree wftree_06_09_10"
       ]
      },
      {
       "output_type": "stream",
       "stream": "stdout",
       "text": [
        "\n",
        "5 chirp regions found for event 20 tree wftree_06_09_10\n",
        "11 chirp regions found for event 21 tree wftree_06_09_10\n",
        "9 chirp regions found for event 22 tree wftree_06_09_10\n",
        "9 chirp regions found for event 23 tree wftree_06_09_10\n",
        "13 chirp regions found for event 24 tree wftree_06_09_10\n",
        "11 chirp regions found for event 25 tree wftree_06_09_10"
       ]
      },
      {
       "output_type": "stream",
       "stream": "stdout",
       "text": [
        "\n",
        "13 chirp regions found for event 26 tree wftree_06_09_10\n",
        "14 chirp regions found for event 27 tree wftree_06_09_10\n",
        "11 chirp regions found for event 28 tree wftree_06_09_10\n",
        "12 chirp regions found for event 29 tree wftree_06_09_10\n",
        "9 chirp regions found for event 30 tree wftree_06_09_10\n",
        "6 chirp regions found for event 31 tree wftree_06_09_10\n",
        "7 chirp regions found for event 32 tree wftree_06_09_10"
       ]
      },
      {
       "output_type": "stream",
       "stream": "stdout",
       "text": [
        "\n",
        "13 chirp regions found for event 33 tree wftree_06_09_10\n",
        "7 chirp regions found for event 34 tree wftree_06_09_10\n",
        "5 chirp regions found for event 35 tree wftree_06_09_10\n",
        "7 chirp regions found for event 36 tree wftree_06_09_10\n",
        "8 chirp regions found for event 37 tree wftree_06_09_10\n",
        "7 chirp regions found for event 38 tree wftree_06_09_10\n",
        "6 chirp regions found for event 39 tree wftree_06_09_10\n",
        "15 chirp regions found for event 40 tree wftree_06_09_10"
       ]
      },
      {
       "output_type": "stream",
       "stream": "stdout",
       "text": [
        "\n",
        "11 chirp regions found for event 41 tree wftree_06_09_10\n",
        "9 chirp regions found for event 42 tree wftree_06_09_10\n",
        "6 chirp regions found for event 43 tree wftree_06_09_10\n",
        "14 chirp regions found for event 44 tree wftree_06_09_10\n",
        "7 chirp regions found for event 45 tree wftree_06_09_10\n",
        "9 chirp regions found for event 46 tree wftree_06_09_10\n",
        "13 chirp regions found for event 47 tree wftree_06_09_10\n",
        "5 chirp regions found for event 48 tree wftree_06_09_10"
       ]
      },
      {
       "output_type": "stream",
       "stream": "stdout",
       "text": [
        "\n",
        "9 chirp regions found for event 49 tree wftree_06_09_10\n",
        "4 chirp regions found for event 50 tree wftree_06_09_10\n",
        "6 chirp regions found for event 51 tree wftree_06_09_10\n",
        "8 chirp regions found for event 52 tree wftree_06_09_10\n",
        "13 chirp regions found for event 53 tree wftree_06_09_10\n",
        "6 chirp regions found for event 54 tree wftree_06_09_10\n",
        "5 chirp regions found for event 55 tree wftree_06_09_10\n",
        "8 chirp regions found for event 56 tree wftree_06_09_10"
       ]
      },
      {
       "output_type": "stream",
       "stream": "stdout",
       "text": [
        "\n",
        "5 chirp regions found for event 57 tree wftree_06_09_10\n",
        "7 chirp regions found for event 58 tree wftree_06_09_10\n",
        "9 chirp regions found for event 59 tree wftree_06_09_10\n",
        "7 chirp regions found for event 60 tree wftree_06_09_10\n",
        "6 chirp regions found for event 61 tree wftree_06_09_10\n",
        "7 chirp regions found for event 62 tree wftree_06_09_10\n",
        "9 chirp regions found for event 63 tree wftree_06_09_10"
       ]
      },
      {
       "output_type": "stream",
       "stream": "stdout",
       "text": [
        "\n",
        "7 chirp regions found for event 64 tree wftree_06_09_10\n",
        "9 chirp regions found for event 65 tree wftree_06_09_10\n",
        "4 chirp regions found for event 66 tree wftree_06_09_10\n",
        "13 chirp regions found for event 67 tree wftree_06_09_10\n",
        "11 chirp regions found for event 68 tree wftree_06_09_10\n",
        "8 chirp regions found for event 69 tree wftree_06_09_10\n",
        "8 chirp regions found for event 70 tree wftree_06_09_10"
       ]
      },
      {
       "output_type": "stream",
       "stream": "stdout",
       "text": [
        "\n",
        "10 chirp regions found for event 71 tree wftree_06_09_10\n",
        "9 chirp regions found for event 72 tree wftree_06_09_10\n",
        "12 chirp regions found for event 73 tree wftree_06_09_10\n",
        "8 chirp regions found for event 74 tree wftree_06_09_10\n",
        "5 chirp regions found for event 75 tree wftree_06_09_10"
       ]
      },
      {
       "output_type": "stream",
       "stream": "stdout",
       "text": [
        "\n",
        "11 chirp regions found for event 76 tree wftree_06_09_10\n",
        "10 chirp regions found for event 77 tree wftree_06_09_10\n",
        "6 chirp regions found for event 78 tree wftree_06_09_10\n",
        "11 chirp regions found for event 79 tree wftree_06_09_10\n",
        "8 chirp regions found for event 80 tree wftree_06_09_10\n",
        "11 chirp regions found for event 81 tree wftree_06_09_10\n",
        "10 chirp regions found for event 82 tree wftree_06_09_10"
       ]
      },
      {
       "output_type": "stream",
       "stream": "stdout",
       "text": [
        "\n",
        "8 chirp regions found for event 83 tree wftree_06_09_10\n",
        "6 chirp regions found for event 84 tree wftree_06_09_10\n",
        "8 chirp regions found for event 85 tree wftree_06_09_10\n",
        "9 chirp regions found for event 86 tree wftree_06_09_10\n",
        "7 chirp regions found for event 87 tree wftree_06_09_10\n",
        "4 chirp regions found for event 88 tree wftree_06_09_10\n",
        "10 chirp regions found for event 89 tree wftree_06_09_10"
       ]
      },
      {
       "output_type": "stream",
       "stream": "stdout",
       "text": [
        "\n",
        "7 chirp regions found for event 90 tree wftree_06_09_10\n",
        "11 chirp regions found for event 91 tree wftree_06_09_10\n",
        "10 chirp regions found for event 92 tree wftree_06_09_10\n",
        "13 chirp regions found for event 93 tree wftree_06_09_10\n",
        "9 chirp regions found for event 94 tree wftree_06_09_10\n",
        "8 chirp regions found for event 95 tree wftree_06_09_10\n",
        "12 chirp regions found for event 96 tree wftree_06_09_10"
       ]
      },
      {
       "output_type": "stream",
       "stream": "stdout",
       "text": [
        "\n",
        "9 chirp regions found for event 97 tree wftree_06_09_10\n",
        "13 chirp regions found for event 98 tree wftree_06_09_10\n",
        "9 chirp regions found for event 99 tree wftree_06_09_10\n",
        "3 chirp regions found for event 0 tree wftree_06_09_10"
       ]
      },
      {
       "output_type": "stream",
       "stream": "stdout",
       "text": [
        "\n",
        "6 chirp regions found for event 1 tree wftree_06_09_10\n",
        "8 chirp regions found for event 2 tree wftree_06_09_10\n",
        "2 chirp regions found for event 3 tree wftree_06_09_10\n",
        "6 chirp regions found for event 4 tree wftree_06_09_10\n",
        "2 chirp regions found for event 5 tree wftree_06_09_10\n",
        "3 chirp regions found for event 6 tree wftree_06_09_10\n",
        "5 chirp regions found for event 7 tree wftree_06_09_10"
       ]
      },
      {
       "output_type": "stream",
       "stream": "stdout",
       "text": [
        "\n",
        "6 chirp regions found for event 8 tree wftree_06_09_10\n",
        "2 chirp regions found for event 9 tree wftree_06_09_10\n",
        "4 chirp regions found for event 10 tree wftree_06_09_10\n",
        "3 chirp regions found for event 11 tree wftree_06_09_10\n",
        "3 chirp regions found for event 12 tree wftree_06_09_10\n",
        "3 chirp regions found for event 13 tree wftree_06_09_10\n",
        "2 chirp regions found for event 14 tree wftree_06_09_10\n",
        "7 chirp regions found for event 15 tree wftree_06_09_10"
       ]
      },
      {
       "output_type": "stream",
       "stream": "stdout",
       "text": [
        "\n",
        "2 chirp regions found for event 16 tree wftree_06_09_10\n",
        "4 chirp regions found for event 17 tree wftree_06_09_10\n",
        "3 chirp regions found for event 18 tree wftree_06_09_10\n",
        "6 chirp regions found for event 19 tree wftree_06_09_10\n",
        "5 chirp regions found for event 20 tree wftree_06_09_10\n",
        "3 chirp regions found for event 21 tree wftree_06_09_10\n",
        "1 chirp regions found for event 22 tree wftree_06_09_10\n",
        "7 chirp regions found for event 23 tree wftree_06_09_10"
       ]
      },
      {
       "output_type": "stream",
       "stream": "stdout",
       "text": [
        "\n",
        "4 chirp regions found for event 24 tree wftree_06_09_10\n",
        "6 chirp regions found for event 25 tree wftree_06_09_10\n",
        "2 chirp regions found for event 26 tree wftree_06_09_10\n",
        "2 chirp regions found for event 27 tree wftree_06_09_10\n",
        "3 chirp regions found for event 28 tree wftree_06_09_10\n",
        "4 chirp regions found for event 29 tree wftree_06_09_10"
       ]
      },
      {
       "output_type": "stream",
       "stream": "stdout",
       "text": [
        "\n",
        "4 chirp regions found for event 30 tree wftree_06_09_10\n",
        "4 chirp regions found for event 31 tree wftree_06_09_10\n",
        "7 chirp regions found for event 32 tree wftree_06_09_10\n",
        "3 chirp regions found for event 33 tree wftree_06_09_10\n",
        "4 chirp regions found for event 34 tree wftree_06_09_10\n",
        "4 chirp regions found for event 35 tree wftree_06_09_10\n",
        "6 chirp regions found for event 36 tree wftree_06_09_10"
       ]
      },
      {
       "output_type": "stream",
       "stream": "stdout",
       "text": [
        "\n",
        "3 chirp regions found for event 37 tree wftree_06_09_10\n",
        "7 chirp regions found for event 38 tree wftree_06_09_10\n",
        "5 chirp regions found for event 39 tree wftree_06_09_10\n",
        "3 chirp regions found for event 40 tree wftree_06_09_10\n",
        "3 chirp regions found for event 41 tree wftree_06_09_10\n",
        "4 chirp regions found for event 42 tree wftree_06_09_10\n",
        "7 chirp regions found for event 43 tree wftree_06_09_10\n",
        "5 chirp regions found for event 44 tree wftree_06_09_10"
       ]
      },
      {
       "output_type": "stream",
       "stream": "stdout",
       "text": [
        "\n",
        "4 chirp regions found for event 45 tree wftree_06_09_10\n",
        "6 chirp regions found for event 46 tree wftree_06_09_10\n",
        "7 chirp regions found for event 47 tree wftree_06_09_10\n",
        "3 chirp regions found for event 48 tree wftree_06_09_10\n",
        "4 chirp regions found for event 49 tree wftree_06_09_10\n",
        "6 chirp regions found for event 50 tree wftree_06_09_10\n",
        "3 chirp regions found for event 51 tree wftree_06_09_10\n",
        "4 chirp regions found for event 52 tree wftree_06_09_10"
       ]
      },
      {
       "output_type": "stream",
       "stream": "stdout",
       "text": [
        "\n",
        "6 chirp regions found for event 53 tree wftree_06_09_10\n",
        "2 chirp regions found for event 54 tree wftree_06_09_10\n",
        "2 chirp regions found for event 55 tree wftree_06_09_10\n",
        "5 chirp regions found for event 56 tree wftree_06_09_10\n",
        "6 chirp regions found for event 57 tree wftree_06_09_10\n",
        "2 chirp regions found for event 58 tree wftree_06_09_10"
       ]
      },
      {
       "output_type": "stream",
       "stream": "stdout",
       "text": [
        "\n",
        "5 chirp regions found for event 59 tree wftree_06_09_10\n",
        "7 chirp regions found for event 60 tree wftree_06_09_10\n",
        "6 chirp regions found for event 61 tree wftree_06_09_10\n",
        "1 chirp regions found for event 62 tree wftree_06_09_10\n",
        "3 chirp regions found for event 63 tree wftree_06_09_10\n",
        "7 chirp regions found for event 64 tree wftree_06_09_10\n",
        "2 chirp regions found for event 65 tree wftree_06_09_10"
       ]
      },
      {
       "output_type": "stream",
       "stream": "stdout",
       "text": [
        "\n",
        "6 chirp regions found for event 66 tree wftree_06_09_10\n",
        "11 chirp regions found for event 67 tree wftree_06_09_10\n",
        "7 chirp regions found for event 68 tree wftree_06_09_10\n",
        "7 chirp regions found for event 69 tree wftree_06_09_10\n",
        "4 chirp regions found for event 70 tree wftree_06_09_10\n",
        "5 chirp regions found for event 71 tree wftree_06_09_10"
       ]
      },
      {
       "output_type": "stream",
       "stream": "stdout",
       "text": [
        "\n",
        "4 chirp regions found for event 72 tree wftree_06_09_10\n",
        "3 chirp regions found for event 73 tree wftree_06_09_10\n",
        "4 chirp regions found for event 74 tree wftree_06_09_10\n",
        "5 chirp regions found for event 75 tree wftree_06_09_10\n",
        "1 chirp regions found for event 76 tree wftree_06_09_10\n",
        "3 chirp regions found for event 77 tree wftree_06_09_10"
       ]
      },
      {
       "output_type": "stream",
       "stream": "stdout",
       "text": [
        "\n",
        "5 chirp regions found for event 78 tree wftree_06_09_10\n",
        "4 chirp regions found for event 79 tree wftree_06_09_10\n",
        "5 chirp regions found for event 80 tree wftree_06_09_10\n",
        "2 chirp regions found for event 81 tree wftree_06_09_10\n",
        "4 chirp regions found for event 82 tree wftree_06_09_10\n",
        "4 chirp regions found for event 83 tree wftree_06_09_10\n",
        "3 chirp regions found for event 84 tree wftree_06_09_10"
       ]
      },
      {
       "output_type": "stream",
       "stream": "stdout",
       "text": [
        "\n",
        "5 chirp regions found for event 85 tree wftree_06_09_10\n",
        "4 chirp regions found for event 86 tree wftree_06_09_10\n",
        "5 chirp regions found for event 87 tree wftree_06_09_10\n",
        "2 chirp regions found for event 88 tree wftree_06_09_10\n",
        "3 chirp regions found for event 89 tree wftree_06_09_10\n",
        "9 chirp regions found for event 90 tree wftree_06_09_10\n",
        "7 chirp regions found for event 91 tree wftree_06_09_10"
       ]
      },
      {
       "output_type": "stream",
       "stream": "stdout",
       "text": [
        "\n",
        "3 chirp regions found for event 92 tree wftree_06_09_10\n",
        "3 chirp regions found for event 93 tree wftree_06_09_10\n",
        "2 chirp regions found for event 94 tree wftree_06_09_10\n",
        "7 chirp regions found for event 95 tree wftree_06_09_10\n",
        "4 chirp regions found for event 96 tree wftree_06_09_10\n",
        "3 chirp regions found for event 97 tree wftree_06_09_10"
       ]
      },
      {
       "output_type": "stream",
       "stream": "stdout",
       "text": [
        "\n",
        "3 chirp regions found for event 98 tree wftree_06_09_10\n",
        "7 chirp regions found for event 99 tree wftree_06_09_10\n",
        "5 chirp regions found for event 0 tree wftree_06_09_10\n",
        "3 chirp regions found for event 1 tree wftree_06_09_10\n",
        "2 chirp regions found for event 2 tree wftree_06_09_10"
       ]
      },
      {
       "output_type": "stream",
       "stream": "stdout",
       "text": [
        "\n",
        "2 chirp regions found for event 3 tree wftree_06_09_10\n",
        "4 chirp regions found for event 4 tree wftree_06_09_10\n",
        "6 chirp regions found for event 5 tree wftree_06_09_10\n",
        "7 chirp regions found for event 6 tree wftree_06_09_10\n",
        "8 chirp regions found for event 7 tree wftree_06_09_10\n",
        "6 chirp regions found for event 8 tree wftree_06_09_10\n",
        "6 chirp regions found for event 9 tree wftree_06_09_10"
       ]
      },
      {
       "output_type": "stream",
       "stream": "stdout",
       "text": [
        "\n",
        "6 chirp regions found for event 10 tree wftree_06_09_10\n",
        "3 chirp regions found for event 11 tree wftree_06_09_10\n",
        "5 chirp regions found for event 12 tree wftree_06_09_10\n",
        "3 chirp regions found for event 13 tree wftree_06_09_10\n",
        "6 chirp regions found for event 14 tree wftree_06_09_10\n",
        "7 chirp regions found for event 15 tree wftree_06_09_10"
       ]
      },
      {
       "output_type": "stream",
       "stream": "stdout",
       "text": [
        "\n",
        "2 chirp regions found for event 16 tree wftree_06_09_10\n",
        "6 chirp regions found for event 17 tree wftree_06_09_10\n",
        "4 chirp regions found for event 18 tree wftree_06_09_10\n",
        "3 chirp regions found for event 19 tree wftree_06_09_10\n",
        "3 chirp regions found for event 20 tree wftree_06_09_10\n",
        "2 chirp regions found for event 21 tree wftree_06_09_10\n",
        "3 chirp regions found for event 22 tree wftree_06_09_10"
       ]
      },
      {
       "output_type": "stream",
       "stream": "stdout",
       "text": [
        "\n",
        "4 chirp regions found for event 23 tree wftree_06_09_10\n",
        "5 chirp regions found for event 24 tree wftree_06_09_10\n",
        "10 chirp regions found for event 25 tree wftree_06_09_10\n",
        "3 chirp regions found for event 26 tree wftree_06_09_10\n",
        "7 chirp regions found for event 27 tree wftree_06_09_10\n",
        "5 chirp regions found for event 28 tree wftree_06_09_10\n",
        "5 chirp regions found for event 29 tree wftree_06_09_10\n",
        "4 chirp regions found for event 30 tree wftree_06_09_10"
       ]
      },
      {
       "output_type": "stream",
       "stream": "stdout",
       "text": [
        "\n",
        "4 chirp regions found for event 31 tree wftree_06_09_10\n",
        "5 chirp regions found for event 32 tree wftree_06_09_10\n",
        "5 chirp regions found for event 33 tree wftree_06_09_10\n",
        "5 chirp regions found for event 34 tree wftree_06_09_10\n",
        "2 chirp regions found for event 35 tree wftree_06_09_10\n",
        "1 chirp regions found for event 36 tree wftree_06_09_10\n",
        "4 chirp regions found for event 37 tree wftree_06_09_10"
       ]
      },
      {
       "output_type": "stream",
       "stream": "stdout",
       "text": [
        "\n",
        "7 chirp regions found for event 38 tree wftree_06_09_10\n",
        "6 chirp regions found for event 39 tree wftree_06_09_10\n",
        "4 chirp regions found for event 40 tree wftree_06_09_10\n",
        "4 chirp regions found for event 41 tree wftree_06_09_10\n",
        "2 chirp regions found for event 42 tree wftree_06_09_10\n",
        "3 chirp regions found for event 43 tree wftree_06_09_10\n",
        "5 chirp regions found for event 44 tree wftree_06_09_10\n",
        "7 chirp regions found for event 45 tree wftree_06_09_10"
       ]
      },
      {
       "output_type": "stream",
       "stream": "stdout",
       "text": [
        "\n",
        "4 chirp regions found for event 46 tree wftree_06_09_10\n",
        "1 chirp regions found for event 47 tree wftree_06_09_10\n",
        "6 chirp regions found for event 48 tree wftree_06_09_10\n",
        "4 chirp regions found for event 49 tree wftree_06_09_10\n",
        "12 chirp regions found for event 50 tree wftree_06_09_10\n",
        "5 chirp regions found for event 51 tree wftree_06_09_10\n",
        "4 chirp regions found for event 52 tree wftree_06_09_10\n",
        "5 chirp regions found for event 53 tree wftree_06_09_10"
       ]
      },
      {
       "output_type": "stream",
       "stream": "stdout",
       "text": [
        "\n",
        "6 chirp regions found for event 54 tree wftree_06_09_10\n",
        "4 chirp regions found for event 55 tree wftree_06_09_10\n",
        "8 chirp regions found for event 56 tree wftree_06_09_10\n",
        "6 chirp regions found for event 57 tree wftree_06_09_10\n",
        "7 chirp regions found for event 58 tree wftree_06_09_10\n",
        "8 chirp regions found for event 59 tree wftree_06_09_10\n",
        "4 chirp regions found for event 60 tree wftree_06_09_10"
       ]
      },
      {
       "output_type": "stream",
       "stream": "stdout",
       "text": [
        "\n",
        "6 chirp regions found for event 61 tree wftree_06_09_10\n",
        "4 chirp regions found for event 62 tree wftree_06_09_10\n",
        "1 chirp regions found for event 63 tree wftree_06_09_10\n",
        "7 chirp regions found for event 64 tree wftree_06_09_10\n",
        "6 chirp regions found for event 65 tree wftree_06_09_10\n",
        "4 chirp regions found for event 66 tree wftree_06_09_10\n",
        "8 chirp regions found for event 68 tree wftree_06_09_10"
       ]
      },
      {
       "output_type": "stream",
       "stream": "stdout",
       "text": [
        "\n",
        "4 chirp regions found for event 69 tree wftree_06_09_10\n",
        "3 chirp regions found for event 70 tree wftree_06_09_10\n",
        "3 chirp regions found for event 71 tree wftree_06_09_10\n",
        "6 chirp regions found for event 72 tree wftree_06_09_10\n",
        "1 chirp regions found for event 73 tree wftree_06_09_10\n",
        "4 chirp regions found for event 74 tree wftree_06_09_10\n",
        "1 chirp regions found for event 75 tree wftree_06_09_10\n",
        "4 chirp regions found for event 76 tree wftree_06_09_10"
       ]
      },
      {
       "output_type": "stream",
       "stream": "stdout",
       "text": [
        "\n",
        "4 chirp regions found for event 77 tree wftree_06_09_10\n",
        "1 chirp regions found for event 78 tree wftree_06_09_10\n",
        "9 chirp regions found for event 79 tree wftree_06_09_10\n",
        "6 chirp regions found for event 80 tree wftree_06_09_10\n",
        "3 chirp regions found for event 81 tree wftree_06_09_10\n",
        "2 chirp regions found for event 82 tree wftree_06_09_10\n",
        "4 chirp regions found for event 83 tree wftree_06_09_10\n",
        "4 chirp regions found for event 84 tree wftree_06_09_10\n",
        "4 chirp regions found for event 85 tree wftree_06_09_10"
       ]
      },
      {
       "output_type": "stream",
       "stream": "stdout",
       "text": [
        "\n",
        "9 chirp regions found for event 86 tree wftree_06_09_10\n",
        "6 chirp regions found for event 87 tree wftree_06_09_10\n",
        "5 chirp regions found for event 88 tree wftree_06_09_10\n",
        "9 chirp regions found for event 89 tree wftree_06_09_10\n",
        "6 chirp regions found for event 90 tree wftree_06_09_10\n",
        "3 chirp regions found for event 91 tree wftree_06_09_10\n",
        "5 chirp regions found for event 92 tree wftree_06_09_10\n",
        "4 chirp regions found for event 93 tree wftree_06_09_10"
       ]
      },
      {
       "output_type": "stream",
       "stream": "stdout",
       "text": [
        "\n",
        "2 chirp regions found for event 94 tree wftree_06_09_10\n",
        "6 chirp regions found for event 95 tree wftree_06_09_10\n",
        "9 chirp regions found for event 96 tree wftree_06_09_10\n",
        "7 chirp regions found for event 97 tree wftree_06_09_10\n",
        "9 chirp regions found for event 98 tree wftree_06_09_10\n",
        "3 chirp regions found for event 99 tree wftree_06_09_10\n",
        "2 chirp regions found for event 0 tree wftree_06_09_10"
       ]
      },
      {
       "output_type": "stream",
       "stream": "stdout",
       "text": [
        "\n",
        "1 chirp regions found for event 2 tree wftree_06_09_10\n",
        "1 chirp regions found for event 3 tree wftree_06_09_10\n",
        "3 chirp regions found for event 5 tree wftree_06_09_10\n",
        "1 chirp regions found for event 6 tree wftree_06_09_10\n",
        "2 chirp regions found for event 8 tree wftree_06_09_10"
       ]
      },
      {
       "output_type": "stream",
       "stream": "stdout",
       "text": [
        "\n",
        "1 chirp regions found for event 9 tree wftree_06_09_10\n",
        "3 chirp regions found for event 16 tree wftree_06_09_10\n",
        "1 chirp regions found for event 17 tree wftree_06_09_10"
       ]
      },
      {
       "output_type": "stream",
       "stream": "stdout",
       "text": [
        "\n",
        "1 chirp regions found for event 19 tree wftree_06_09_10\n",
        "2 chirp regions found for event 21 tree wftree_06_09_10\n",
        "1 chirp regions found for event 22 tree wftree_06_09_10\n",
        "1 chirp regions found for event 24 tree wftree_06_09_10\n",
        "1 chirp regions found for event 25 tree wftree_06_09_10\n",
        "2 chirp regions found for event 26 tree wftree_06_09_10"
       ]
      },
      {
       "output_type": "stream",
       "stream": "stdout",
       "text": [
        "\n",
        "1 chirp regions found for event 28 tree wftree_06_09_10\n",
        "3 chirp regions found for event 30 tree wftree_06_09_10\n",
        "2 chirp regions found for event 34 tree wftree_06_09_10"
       ]
      },
      {
       "output_type": "stream",
       "stream": "stdout",
       "text": [
        "\n",
        "1 chirp regions found for event 38 tree wftree_06_09_10\n",
        "2 chirp regions found for event 41 tree wftree_06_09_10\n",
        "2 chirp regions found for event 43 tree wftree_06_09_10"
       ]
      },
      {
       "output_type": "stream",
       "stream": "stdout",
       "text": [
        "\n",
        "2 chirp regions found for event 45 tree wftree_06_09_10\n",
        "3 chirp regions found for event 46 tree wftree_06_09_10\n",
        "2 chirp regions found for event 47 tree wftree_06_09_10\n",
        "2 chirp regions found for event 50 tree wftree_06_09_10\n",
        "1 chirp regions found for event 55 tree wftree_06_09_10"
       ]
      },
      {
       "output_type": "stream",
       "stream": "stdout",
       "text": [
        "\n",
        "1 chirp regions found for event 56 tree wftree_06_09_10\n",
        "2 chirp regions found for event 59 tree wftree_06_09_10\n",
        "1 chirp regions found for event 61 tree wftree_06_09_10\n",
        "2 chirp regions found for event 63 tree wftree_06_09_10\n",
        "1 chirp regions found for event 64 tree wftree_06_09_10"
       ]
      },
      {
       "output_type": "stream",
       "stream": "stdout",
       "text": [
        "\n",
        "1 chirp regions found for event 65 tree wftree_06_09_10\n",
        "2 chirp regions found for event 66 tree wftree_06_09_10\n",
        "1 chirp regions found for event 68 tree wftree_06_09_10\n",
        "1 chirp regions found for event 70 tree wftree_06_09_10\n",
        "1 chirp regions found for event 71 tree wftree_06_09_10\n",
        "1 chirp regions found for event 74 tree wftree_06_09_10"
       ]
      },
      {
       "output_type": "stream",
       "stream": "stdout",
       "text": [
        "\n",
        "1 chirp regions found for event 76 tree wftree_06_09_10\n",
        "1 chirp regions found for event 77 tree wftree_06_09_10\n",
        "1 chirp regions found for event 80 tree wftree_06_09_10\n",
        "1 chirp regions found for event 81 tree wftree_06_09_10"
       ]
      },
      {
       "output_type": "stream",
       "stream": "stdout",
       "text": [
        "\n",
        "2 chirp regions found for event 83 tree wftree_06_09_10\n",
        "3 chirp regions found for event 84 tree wftree_06_09_10\n",
        "2 chirp regions found for event 85 tree wftree_06_09_10\n",
        "1 chirp regions found for event 87 tree wftree_06_09_10\n",
        "2 chirp regions found for event 88 tree wftree_06_09_10"
       ]
      },
      {
       "output_type": "stream",
       "stream": "stdout",
       "text": [
        "\n",
        "1 chirp regions found for event 89 tree wftree_06_09_10\n",
        "2 chirp regions found for event 90 tree wftree_06_09_10\n",
        "2 chirp regions found for event 94 tree wftree_06_09_10\n",
        "2 chirp regions found for event 95 tree wftree_06_09_10\n",
        "1 chirp regions found for event 97 tree wftree_06_09_10"
       ]
      },
      {
       "output_type": "stream",
       "stream": "stdout",
       "text": [
        "\n",
        "2 chirp regions found for event 98 tree wftree_06_09_10\n",
        "1 chirp regions found for event 99 tree wftree_06_09_10\n",
        "5 chirp regions found for event 0 tree wftree_06_09_10\n",
        "5 chirp regions found for event 1 tree wftree_06_09_10\n",
        "6 chirp regions found for event 2 tree wftree_06_09_10\n",
        "3 chirp regions found for event 3 tree wftree_06_09_10\n",
        "4 chirp regions found for event 4 tree wftree_06_09_10\n",
        "4 chirp regions found for event 5 tree wftree_06_09_10\n",
        "3 chirp regions found for event 6 tree wftree_06_09_10"
       ]
      },
      {
       "output_type": "stream",
       "stream": "stdout",
       "text": [
        "\n",
        "5 chirp regions found for event 7 tree wftree_06_09_10\n",
        "4 chirp regions found for event 8 tree wftree_06_09_10\n",
        "9 chirp regions found for event 9 tree wftree_06_09_10\n",
        "1 chirp regions found for event 10 tree wftree_06_09_10\n",
        "5 chirp regions found for event 11 tree wftree_06_09_10\n",
        "5 chirp regions found for event 12 tree wftree_06_09_10\n",
        "2 chirp regions found for event 13 tree wftree_06_09_10\n",
        "11 chirp regions found for event 14 tree wftree_06_09_10\n",
        "6 chirp regions found for event 15 tree wftree_06_09_10"
       ]
      },
      {
       "output_type": "stream",
       "stream": "stdout",
       "text": [
        "\n",
        "11 chirp regions found for event 16 tree wftree_06_09_10\n",
        "6 chirp regions found for event 17 tree wftree_06_09_10\n",
        "8 chirp regions found for event 18 tree wftree_06_09_10\n",
        "7 chirp regions found for event 19 tree wftree_06_09_10\n",
        "1 chirp regions found for event 20 tree wftree_06_09_10\n",
        "5 chirp regions found for event 21 tree wftree_06_09_10\n",
        "4 chirp regions found for event 22 tree wftree_06_09_10\n",
        "5 chirp regions found for event 23 tree wftree_06_09_10\n",
        "5 chirp regions found for event 24 tree wftree_06_09_10"
       ]
      },
      {
       "output_type": "stream",
       "stream": "stdout",
       "text": [
        "\n",
        "6 chirp regions found for event 25 tree wftree_06_09_10\n",
        "3 chirp regions found for event 26 tree wftree_06_09_10\n",
        "5 chirp regions found for event 27 tree wftree_06_09_10\n",
        "6 chirp regions found for event 28 tree wftree_06_09_10\n",
        "4 chirp regions found for event 29 tree wftree_06_09_10\n",
        "6 chirp regions found for event 30 tree wftree_06_09_10\n",
        "12 chirp regions found for event 31 tree wftree_06_09_10\n",
        "4 chirp regions found for event 32 tree wftree_06_09_10"
       ]
      },
      {
       "output_type": "stream",
       "stream": "stdout",
       "text": [
        "\n",
        "6 chirp regions found for event 33 tree wftree_06_09_10\n",
        "4 chirp regions found for event 34 tree wftree_06_09_10\n",
        "5 chirp regions found for event 35 tree wftree_06_09_10\n",
        "5 chirp regions found for event 36 tree wftree_06_09_10\n",
        "3 chirp regions found for event 37 tree wftree_06_09_10\n",
        "3 chirp regions found for event 38 tree wftree_06_09_10\n",
        "9 chirp regions found for event 39 tree wftree_06_09_10\n",
        "2 chirp regions found for event 40 tree wftree_06_09_10\n",
        "7 chirp regions found for event 41 tree wftree_06_09_10"
       ]
      },
      {
       "output_type": "stream",
       "stream": "stdout",
       "text": [
        "\n",
        "7 chirp regions found for event 42 tree wftree_06_09_10\n",
        "7 chirp regions found for event 43 tree wftree_06_09_10\n",
        "6 chirp regions found for event 44 tree wftree_06_09_10\n",
        "5 chirp regions found for event 45 tree wftree_06_09_10\n",
        "5 chirp regions found for event 46 tree wftree_06_09_10\n",
        "3 chirp regions found for event 47 tree wftree_06_09_10\n",
        "5 chirp regions found for event 48 tree wftree_06_09_10\n",
        "7 chirp regions found for event 49 tree wftree_06_09_10\n",
        "7 chirp regions found for event 50 tree wftree_06_09_10"
       ]
      },
      {
       "output_type": "stream",
       "stream": "stdout",
       "text": [
        "\n",
        "9 chirp regions found for event 51 tree wftree_06_09_10\n",
        "4 chirp regions found for event 52 tree wftree_06_09_10\n",
        "3 chirp regions found for event 53 tree wftree_06_09_10\n",
        "3 chirp regions found for event 54 tree wftree_06_09_10\n",
        "5 chirp regions found for event 55 tree wftree_06_09_10\n",
        "6 chirp regions found for event 56 tree wftree_06_09_10\n",
        "5 chirp regions found for event 57 tree wftree_06_09_10\n",
        "1 chirp regions found for event 58 tree wftree_06_09_10"
       ]
      },
      {
       "output_type": "stream",
       "stream": "stdout",
       "text": [
        "\n",
        "10 chirp regions found for event 59 tree wftree_06_09_10\n",
        "5 chirp regions found for event 60 tree wftree_06_09_10\n",
        "7 chirp regions found for event 61 tree wftree_06_09_10\n",
        "6 chirp regions found for event 62 tree wftree_06_09_10\n",
        "3 chirp regions found for event 63 tree wftree_06_09_10\n",
        "1 chirp regions found for event 64 tree wftree_06_09_10\n",
        "7 chirp regions found for event 65 tree wftree_06_09_10"
       ]
      },
      {
       "output_type": "stream",
       "stream": "stdout",
       "text": [
        "\n",
        "2 chirp regions found for event 66 tree wftree_06_09_10\n",
        "4 chirp regions found for event 67 tree wftree_06_09_10\n",
        "6 chirp regions found for event 68 tree wftree_06_09_10\n",
        "7 chirp regions found for event 69 tree wftree_06_09_10\n",
        "6 chirp regions found for event 70 tree wftree_06_09_10\n",
        "4 chirp regions found for event 71 tree wftree_06_09_10\n",
        "5 chirp regions found for event 72 tree wftree_06_09_10"
       ]
      },
      {
       "output_type": "stream",
       "stream": "stdout",
       "text": [
        "\n",
        "6 chirp regions found for event 73 tree wftree_06_09_10\n",
        "5 chirp regions found for event 74 tree wftree_06_09_10\n",
        "4 chirp regions found for event 75 tree wftree_06_09_10\n",
        "4 chirp regions found for event 76 tree wftree_06_09_10\n",
        "5 chirp regions found for event 77 tree wftree_06_09_10\n",
        "4 chirp regions found for event 78 tree wftree_06_09_10\n",
        "5 chirp regions found for event 79 tree wftree_06_09_10"
       ]
      },
      {
       "output_type": "stream",
       "stream": "stdout",
       "text": [
        "\n",
        "8 chirp regions found for event 80 tree wftree_06_09_10\n",
        "6 chirp regions found for event 81 tree wftree_06_09_10\n",
        "6 chirp regions found for event 82 tree wftree_06_09_10\n",
        "5 chirp regions found for event 83 tree wftree_06_09_10\n",
        "4 chirp regions found for event 84 tree wftree_06_09_10\n",
        "4 chirp regions found for event 85 tree wftree_06_09_10\n",
        "4 chirp regions found for event 86 tree wftree_06_09_10"
       ]
      },
      {
       "output_type": "stream",
       "stream": "stdout",
       "text": [
        "\n",
        "2 chirp regions found for event 87 tree wftree_06_09_10\n",
        "9 chirp regions found for event 88 tree wftree_06_09_10\n",
        "6 chirp regions found for event 89 tree wftree_06_09_10\n",
        "10 chirp regions found for event 90 tree wftree_06_09_10\n",
        "7 chirp regions found for event 91 tree wftree_06_09_10\n",
        "5 chirp regions found for event 92 tree wftree_06_09_10\n",
        "9 chirp regions found for event 93 tree wftree_06_09_10"
       ]
      },
      {
       "output_type": "stream",
       "stream": "stdout",
       "text": [
        "\n",
        "5 chirp regions found for event 94 tree wftree_06_09_10\n",
        "5 chirp regions found for event 95 tree wftree_06_09_10\n",
        "4 chirp regions found for event 96 tree wftree_06_09_10\n",
        "6 chirp regions found for event 97 tree wftree_06_09_10\n",
        "5 chirp regions found for event 98 tree wftree_06_09_10\n",
        "5 chirp regions found for event 99 tree wftree_06_09_10\n",
        "6 chirp regions found for event 0 tree wftree_06_09_10\n",
        "6 chirp regions found for event 1 tree wftree_06_09_10"
       ]
      },
      {
       "output_type": "stream",
       "stream": "stdout",
       "text": [
        "\n",
        "6 chirp regions found for event 2 tree wftree_06_09_10\n",
        "6 chirp regions found for event 3 tree wftree_06_09_10\n",
        "2 chirp regions found for event 4 tree wftree_06_09_10\n",
        "4 chirp regions found for event 5 tree wftree_06_09_10\n",
        "1 chirp regions found for event 6 tree wftree_06_09_10\n",
        "1 chirp regions found for event 7 tree wftree_06_09_10\n",
        "4 chirp regions found for event 8 tree wftree_06_09_10\n",
        "1 chirp regions found for event 9 tree wftree_06_09_10"
       ]
      },
      {
       "output_type": "stream",
       "stream": "stdout",
       "text": [
        "\n",
        "3 chirp regions found for event 10 tree wftree_06_09_10\n",
        "5 chirp regions found for event 11 tree wftree_06_09_10\n",
        "3 chirp regions found for event 12 tree wftree_06_09_10\n",
        "5 chirp regions found for event 13 tree wftree_06_09_10\n",
        "4 chirp regions found for event 14 tree wftree_06_09_10\n",
        "6 chirp regions found for event 15 tree wftree_06_09_10\n",
        "3 chirp regions found for event 16 tree wftree_06_09_10\n",
        "3 chirp regions found for event 17 tree wftree_06_09_10"
       ]
      },
      {
       "output_type": "stream",
       "stream": "stdout",
       "text": [
        "\n",
        "2 chirp regions found for event 18 tree wftree_06_09_10\n",
        "2 chirp regions found for event 19 tree wftree_06_09_10\n",
        "2 chirp regions found for event 20 tree wftree_06_09_10\n",
        "2 chirp regions found for event 21 tree wftree_06_09_10\n",
        "2 chirp regions found for event 22 tree wftree_06_09_10\n",
        "3 chirp regions found for event 23 tree wftree_06_09_10\n",
        "2 chirp regions found for event 24 tree wftree_06_09_10"
       ]
      },
      {
       "output_type": "stream",
       "stream": "stdout",
       "text": [
        "\n",
        "4 chirp regions found for event 25 tree wftree_06_09_10\n",
        "3 chirp regions found for event 26 tree wftree_06_09_10\n",
        "1 chirp regions found for event 27 tree wftree_06_09_10\n",
        "5 chirp regions found for event 28 tree wftree_06_09_10\n",
        "3 chirp regions found for event 29 tree wftree_06_09_10\n",
        "2 chirp regions found for event 30 tree wftree_06_09_10\n",
        "4 chirp regions found for event 32 tree wftree_06_09_10"
       ]
      },
      {
       "output_type": "stream",
       "stream": "stdout",
       "text": [
        "\n",
        "6 chirp regions found for event 33 tree wftree_06_09_10\n",
        "4 chirp regions found for event 34 tree wftree_06_09_10\n",
        "4 chirp regions found for event 35 tree wftree_06_09_10\n",
        "5 chirp regions found for event 36 tree wftree_06_09_10\n",
        "3 chirp regions found for event 37 tree wftree_06_09_10\n",
        "2 chirp regions found for event 38 tree wftree_06_09_10\n",
        "3 chirp regions found for event 39 tree wftree_06_09_10\n",
        "3 chirp regions found for event 40 tree wftree_06_09_10\n",
        "3 chirp regions found for event 41 tree wftree_06_09_10"
       ]
      },
      {
       "output_type": "stream",
       "stream": "stdout",
       "text": [
        "\n",
        "6 chirp regions found for event 42 tree wftree_06_09_10\n",
        "8 chirp regions found for event 43 tree wftree_06_09_10\n",
        "3 chirp regions found for event 44 tree wftree_06_09_10\n",
        "3 chirp regions found for event 45 tree wftree_06_09_10\n",
        "4 chirp regions found for event 46 tree wftree_06_09_10\n",
        "1 chirp regions found for event 47 tree wftree_06_09_10\n",
        "4 chirp regions found for event 48 tree wftree_06_09_10\n",
        "2 chirp regions found for event 49 tree wftree_06_09_10\n",
        "7 chirp regions found for event 50 tree wftree_06_09_10"
       ]
      },
      {
       "output_type": "stream",
       "stream": "stdout",
       "text": [
        "\n",
        "4 chirp regions found for event 51 tree wftree_06_09_10\n",
        "2 chirp regions found for event 52 tree wftree_06_09_10\n",
        "3 chirp regions found for event 53 tree wftree_06_09_10\n",
        "1 chirp regions found for event 54 tree wftree_06_09_10\n",
        "5 chirp regions found for event 55 tree wftree_06_09_10\n",
        "1 chirp regions found for event 56 tree wftree_06_09_10\n",
        "6 chirp regions found for event 57 tree wftree_06_09_10\n",
        "4 chirp regions found for event 58 tree wftree_06_09_10\n",
        "6 chirp regions found for event 59 tree wftree_06_09_10"
       ]
      },
      {
       "output_type": "stream",
       "stream": "stdout",
       "text": [
        "\n",
        "4 chirp regions found for event 60 tree wftree_06_09_10\n",
        "3 chirp regions found for event 61 tree wftree_06_09_10\n",
        "3 chirp regions found for event 62 tree wftree_06_09_10\n",
        "3 chirp regions found for event 63 tree wftree_06_09_10\n",
        "4 chirp regions found for event 64 tree wftree_06_09_10\n",
        "4 chirp regions found for event 65 tree wftree_06_09_10\n",
        "3 chirp regions found for event 66 tree wftree_06_09_10\n",
        "1 chirp regions found for event 67 tree wftree_06_09_10\n",
        "5 chirp regions found for event 68 tree wftree_06_09_10"
       ]
      },
      {
       "output_type": "stream",
       "stream": "stdout",
       "text": [
        "\n",
        "5 chirp regions found for event 69 tree wftree_06_09_10\n",
        "1 chirp regions found for event 70 tree wftree_06_09_10\n",
        "6 chirp regions found for event 71 tree wftree_06_09_10\n",
        "4 chirp regions found for event 72 tree wftree_06_09_10\n",
        "2 chirp regions found for event 73 tree wftree_06_09_10\n",
        "4 chirp regions found for event 74 tree wftree_06_09_10\n",
        "2 chirp regions found for event 75 tree wftree_06_09_10\n",
        "4 chirp regions found for event 76 tree wftree_06_09_10\n",
        "2 chirp regions found for event 77 tree wftree_06_09_10"
       ]
      },
      {
       "output_type": "stream",
       "stream": "stdout",
       "text": [
        "\n",
        "1 chirp regions found for event 78 tree wftree_06_09_10\n",
        "4 chirp regions found for event 79 tree wftree_06_09_10\n",
        "3 chirp regions found for event 80 tree wftree_06_09_10\n",
        "5 chirp regions found for event 82 tree wftree_06_09_10\n",
        "4 chirp regions found for event 83 tree wftree_06_09_10\n",
        "1 chirp regions found for event 84 tree wftree_06_09_10\n",
        "5 chirp regions found for event 85 tree wftree_06_09_10\n",
        "5 chirp regions found for event 86 tree wftree_06_09_10"
       ]
      },
      {
       "output_type": "stream",
       "stream": "stdout",
       "text": [
        "\n",
        "1 chirp regions found for event 87 tree wftree_06_09_10\n",
        "5 chirp regions found for event 88 tree wftree_06_09_10\n",
        "4 chirp regions found for event 89 tree wftree_06_09_10\n",
        "2 chirp regions found for event 90 tree wftree_06_09_10\n",
        "1 chirp regions found for event 91 tree wftree_06_09_10\n",
        "9 chirp regions found for event 92 tree wftree_06_09_10\n",
        "4 chirp regions found for event 93 tree wftree_06_09_10\n",
        "3 chirp regions found for event 94 tree wftree_06_09_10\n",
        "3 chirp regions found for event 95 tree wftree_06_09_10"
       ]
      },
      {
       "output_type": "stream",
       "stream": "stdout",
       "text": [
        "\n",
        "3 chirp regions found for event 96 tree wftree_06_09_10\n",
        "3 chirp regions found for event 97 tree wftree_06_09_10\n",
        "2 chirp regions found for event 98 tree wftree_06_09_10\n",
        "3 chirp regions found for event 99 tree wftree_06_09_10\n",
        "6 chirp regions found for event 0 tree wftree_06_09_10"
       ]
      },
      {
       "output_type": "stream",
       "stream": "stdout",
       "text": [
        "\n",
        "6 chirp regions found for event 1 tree wftree_06_09_10\n",
        "3 chirp regions found for event 2 tree wftree_06_09_10\n",
        "4 chirp regions found for event 3 tree wftree_06_09_10\n",
        "3 chirp regions found for event 4 tree wftree_06_09_10\n",
        "4 chirp regions found for event 5 tree wftree_06_09_10\n",
        "5 chirp regions found for event 6 tree wftree_06_09_10\n",
        "3 chirp regions found for event 7 tree wftree_06_09_10\n",
        "7 chirp regions found for event 8 tree wftree_06_09_10\n",
        "5 chirp regions found for event 9 tree wftree_06_09_10"
       ]
      },
      {
       "output_type": "stream",
       "stream": "stdout",
       "text": [
        "\n",
        "6 chirp regions found for event 10 tree wftree_06_09_10\n",
        "1 chirp regions found for event 11 tree wftree_06_09_10\n",
        "6 chirp regions found for event 12 tree wftree_06_09_10\n",
        "4 chirp regions found for event 13 tree wftree_06_09_10\n",
        "4 chirp regions found for event 14 tree wftree_06_09_10\n",
        "5 chirp regions found for event 15 tree wftree_06_09_10\n",
        "4 chirp regions found for event 16 tree wftree_06_09_10\n",
        "6 chirp regions found for event 17 tree wftree_06_09_10\n",
        "5 chirp regions found for event 19 tree wftree_06_09_10"
       ]
      },
      {
       "output_type": "stream",
       "stream": "stdout",
       "text": [
        "\n",
        "5 chirp regions found for event 20 tree wftree_06_09_10\n",
        "3 chirp regions found for event 21 tree wftree_06_09_10\n",
        "3 chirp regions found for event 22 tree wftree_06_09_10\n",
        "3 chirp regions found for event 24 tree wftree_06_09_10\n",
        "8 chirp regions found for event 25 tree wftree_06_09_10\n",
        "6 chirp regions found for event 26 tree wftree_06_09_10\n",
        "5 chirp regions found for event 27 tree wftree_06_09_10\n",
        "3 chirp regions found for event 28 tree wftree_06_09_10"
       ]
      },
      {
       "output_type": "stream",
       "stream": "stdout",
       "text": [
        "\n",
        "4 chirp regions found for event 29 tree wftree_06_09_10\n",
        "4 chirp regions found for event 30 tree wftree_06_09_10\n",
        "4 chirp regions found for event 31 tree wftree_06_09_10\n",
        "2 chirp regions found for event 32 tree wftree_06_09_10\n",
        "1 chirp regions found for event 33 tree wftree_06_09_10\n",
        "4 chirp regions found for event 34 tree wftree_06_09_10\n",
        "6 chirp regions found for event 35 tree wftree_06_09_10\n",
        "5 chirp regions found for event 36 tree wftree_06_09_10\n",
        "3 chirp regions found for event 37 tree wftree_06_09_10"
       ]
      },
      {
       "output_type": "stream",
       "stream": "stdout",
       "text": [
        "\n",
        "5 chirp regions found for event 38 tree wftree_06_09_10\n",
        "1 chirp regions found for event 39 tree wftree_06_09_10\n",
        "2 chirp regions found for event 40 tree wftree_06_09_10\n",
        "1 chirp regions found for event 41 tree wftree_06_09_10\n",
        "6 chirp regions found for event 42 tree wftree_06_09_10\n",
        "3 chirp regions found for event 43 tree wftree_06_09_10\n",
        "2 chirp regions found for event 44 tree wftree_06_09_10\n",
        "4 chirp regions found for event 45 tree wftree_06_09_10"
       ]
      },
      {
       "output_type": "stream",
       "stream": "stdout",
       "text": [
        "\n",
        "4 chirp regions found for event 46 tree wftree_06_09_10\n",
        "3 chirp regions found for event 47 tree wftree_06_09_10\n",
        "9 chirp regions found for event 48 tree wftree_06_09_10\n",
        "3 chirp regions found for event 49 tree wftree_06_09_10"
       ]
      },
      {
       "output_type": "stream",
       "stream": "stdout",
       "text": [
        "\n",
        "4 chirp regions found for event 50 tree wftree_06_09_10\n",
        "5 chirp regions found for event 51 tree wftree_06_09_10\n",
        "6 chirp regions found for event 52 tree wftree_06_09_10\n",
        "5 chirp regions found for event 53 tree wftree_06_09_10\n",
        "1 chirp regions found for event 54 tree wftree_06_09_10"
       ]
      },
      {
       "output_type": "stream",
       "stream": "stdout",
       "text": [
        "\n",
        "5 chirp regions found for event 56 tree wftree_06_09_10\n",
        "6 chirp regions found for event 57 tree wftree_06_09_10\n",
        "5 chirp regions found for event 58 tree wftree_06_09_10"
       ]
      },
      {
       "output_type": "stream",
       "stream": "stdout",
       "text": [
        "\n",
        "5 chirp regions found for event 59 tree wftree_06_09_10\n",
        "4 chirp regions found for event 60 tree wftree_06_09_10\n",
        "6 chirp regions found for event 61 tree wftree_06_09_10\n",
        "6 chirp regions found for event 62 tree wftree_06_09_10"
       ]
      },
      {
       "output_type": "stream",
       "stream": "stdout",
       "text": [
        "\n",
        "5 chirp regions found for event 63 tree wftree_06_09_10\n",
        "4 chirp regions found for event 64 tree wftree_06_09_10\n",
        "1 chirp regions found for event 65 tree wftree_06_09_10\n",
        "6 chirp regions found for event 66 tree wftree_06_09_10\n",
        "3 chirp regions found for event 67 tree wftree_06_09_10"
       ]
      },
      {
       "output_type": "stream",
       "stream": "stdout",
       "text": [
        "\n",
        "6 chirp regions found for event 68 tree wftree_06_09_10\n",
        "4 chirp regions found for event 69 tree wftree_06_09_10\n",
        "5 chirp regions found for event 70 tree wftree_06_09_10\n",
        "5 chirp regions found for event 71 tree wftree_06_09_10\n",
        "9 chirp regions found for event 72 tree wftree_06_09_10"
       ]
      },
      {
       "output_type": "stream",
       "stream": "stdout",
       "text": [
        "\n",
        "5 chirp regions found for event 73 tree wftree_06_09_10\n",
        "4 chirp regions found for event 74 tree wftree_06_09_10\n",
        "3 chirp regions found for event 75 tree wftree_06_09_10\n",
        "3 chirp regions found for event 76 tree wftree_06_09_10\n",
        "2 chirp regions found for event 77 tree wftree_06_09_10\n",
        "7 chirp regions found for event 78 tree wftree_06_09_10"
       ]
      },
      {
       "output_type": "stream",
       "stream": "stdout",
       "text": [
        "\n",
        "5 chirp regions found for event 79 tree wftree_06_09_10\n",
        "5 chirp regions found for event 80 tree wftree_06_09_10\n",
        "4 chirp regions found for event 81 tree wftree_06_09_10\n",
        "3 chirp regions found for event 82 tree wftree_06_09_10\n",
        "4 chirp regions found for event 83 tree wftree_06_09_10\n",
        "6 chirp regions found for event 84 tree wftree_06_09_10\n",
        "3 chirp regions found for event 85 tree wftree_06_09_10\n",
        "3 chirp regions found for event 86 tree wftree_06_09_10"
       ]
      },
      {
       "output_type": "stream",
       "stream": "stdout",
       "text": [
        "\n",
        "5 chirp regions found for event 87 tree wftree_06_09_10\n",
        "6 chirp regions found for event 88 tree wftree_06_09_10\n",
        "5 chirp regions found for event 89 tree wftree_06_09_10\n",
        "4 chirp regions found for event 90 tree wftree_06_09_10\n",
        "5 chirp regions found for event 91 tree wftree_06_09_10\n",
        "1 chirp regions found for event 92 tree wftree_06_09_10\n",
        "3 chirp regions found for event 93 tree wftree_06_09_10\n",
        "4 chirp regions found for event 94 tree wftree_06_09_10\n",
        "9 chirp regions found for event 95 tree wftree_06_09_10"
       ]
      },
      {
       "output_type": "stream",
       "stream": "stdout",
       "text": [
        "\n",
        "1 chirp regions found for event 96 tree wftree_06_09_10\n",
        "6 chirp regions found for event 97 tree wftree_06_09_10\n",
        "6 chirp regions found for event 98 tree wftree_06_09_10\n",
        "2 chirp regions found for event 99 tree wftree_06_09_10\n",
        "3 chirp regions found for event 0 tree wftree_06_09_10\n",
        "1 chirp regions found for event 1 tree wftree_06_09_10\n",
        "1 chirp regions found for event 2 tree wftree_06_09_10\n",
        "1 chirp regions found for event 5 tree wftree_06_09_10"
       ]
      },
      {
       "output_type": "stream",
       "stream": "stdout",
       "text": [
        "\n",
        "2 chirp regions found for event 6 tree wftree_06_09_10\n",
        "1 chirp regions found for event 7 tree wftree_06_09_10\n",
        "1 chirp regions found for event 9 tree wftree_06_09_10\n",
        "1 chirp regions found for event 10 tree wftree_06_09_10\n",
        "2 chirp regions found for event 11 tree wftree_06_09_10\n",
        "1 chirp regions found for event 12 tree wftree_06_09_10\n",
        "1 chirp regions found for event 13 tree wftree_06_09_10\n",
        "2 chirp regions found for event 14 tree wftree_06_09_10"
       ]
      },
      {
       "output_type": "stream",
       "stream": "stdout",
       "text": [
        "\n",
        "3 chirp regions found for event 15 tree wftree_06_09_10\n",
        "2 chirp regions found for event 16 tree wftree_06_09_10\n",
        "1 chirp regions found for event 17 tree wftree_06_09_10\n",
        "1 chirp regions found for event 18 tree wftree_06_09_10\n",
        "2 chirp regions found for event 19 tree wftree_06_09_10\n",
        "1 chirp regions found for event 20 tree wftree_06_09_10\n",
        "1 chirp regions found for event 21 tree wftree_06_09_10\n",
        "1 chirp regions found for event 22 tree wftree_06_09_10\n",
        "1 chirp regions found for event 24 tree wftree_06_09_10"
       ]
      },
      {
       "output_type": "stream",
       "stream": "stdout",
       "text": [
        "\n",
        "1 chirp regions found for event 25 tree wftree_06_09_10\n",
        "1 chirp regions found for event 26 tree wftree_06_09_10\n",
        "2 chirp regions found for event 29 tree wftree_06_09_10\n",
        "2 chirp regions found for event 30 tree wftree_06_09_10\n",
        "1 chirp regions found for event 32 tree wftree_06_09_10\n",
        "2 chirp regions found for event 33 tree wftree_06_09_10"
       ]
      },
      {
       "output_type": "stream",
       "stream": "stdout",
       "text": [
        "\n",
        "1 chirp regions found for event 35 tree wftree_06_09_10\n",
        "1 chirp regions found for event 36 tree wftree_06_09_10\n",
        "3 chirp regions found for event 38 tree wftree_06_09_10\n",
        "1 chirp regions found for event 39 tree wftree_06_09_10\n",
        "2 chirp regions found for event 40 tree wftree_06_09_10\n",
        "1 chirp regions found for event 43 tree wftree_06_09_10"
       ]
      },
      {
       "output_type": "stream",
       "stream": "stdout",
       "text": [
        "\n",
        "1 chirp regions found for event 44 tree wftree_06_09_10\n",
        "3 chirp regions found for event 45 tree wftree_06_09_10\n",
        "3 chirp regions found for event 46 tree wftree_06_09_10\n",
        "2 chirp regions found for event 47 tree wftree_06_09_10\n",
        "3 chirp regions found for event 48 tree wftree_06_09_10\n",
        "1 chirp regions found for event 49 tree wftree_06_09_10\n",
        "2 chirp regions found for event 52 tree wftree_06_09_10"
       ]
      },
      {
       "output_type": "stream",
       "stream": "stdout",
       "text": [
        "\n",
        "2 chirp regions found for event 53 tree wftree_06_09_10\n",
        "2 chirp regions found for event 55 tree wftree_06_09_10\n",
        "1 chirp regions found for event 58 tree wftree_06_09_10\n",
        "1 chirp regions found for event 60 tree wftree_06_09_10\n",
        "2 chirp regions found for event 63 tree wftree_06_09_10"
       ]
      },
      {
       "output_type": "stream",
       "stream": "stdout",
       "text": [
        "\n",
        "1 chirp regions found for event 64 tree wftree_06_09_10\n",
        "1 chirp regions found for event 65 tree wftree_06_09_10\n",
        "2 chirp regions found for event 68 tree wftree_06_09_10\n",
        "1 chirp regions found for event 69 tree wftree_06_09_10\n",
        "1 chirp regions found for event 70 tree wftree_06_09_10\n",
        "1 chirp regions found for event 71 tree wftree_06_09_10"
       ]
      },
      {
       "output_type": "stream",
       "stream": "stdout",
       "text": [
        "\n",
        "1 chirp regions found for event 72 tree wftree_06_09_10\n",
        "1 chirp regions found for event 73 tree wftree_06_09_10\n",
        "1 chirp regions found for event 75 tree wftree_06_09_10\n",
        "1 chirp regions found for event 76 tree wftree_06_09_10\n",
        "1 chirp regions found for event 77 tree wftree_06_09_10\n",
        "1 chirp regions found for event 79 tree wftree_06_09_10"
       ]
      },
      {
       "output_type": "stream",
       "stream": "stdout",
       "text": [
        "\n",
        "2 chirp regions found for event 80 tree wftree_06_09_10\n",
        "2 chirp regions found for event 82 tree wftree_06_09_10\n",
        "1 chirp regions found for event 83 tree wftree_06_09_10\n",
        "1 chirp regions found for event 84 tree wftree_06_09_10\n",
        "1 chirp regions found for event 86 tree wftree_06_09_10"
       ]
      },
      {
       "output_type": "stream",
       "stream": "stdout",
       "text": [
        "\n",
        "1 chirp regions found for event 87 tree wftree_06_09_10\n",
        "1 chirp regions found for event 90 tree wftree_06_09_10\n",
        "1 chirp regions found for event 94 tree wftree_06_09_10"
       ]
      },
      {
       "output_type": "stream",
       "stream": "stdout",
       "text": [
        "\n",
        "1 chirp regions found for event 95 tree wftree_06_09_10\n",
        "2 chirp regions found for event 0 tree wftree_06_09_10"
       ]
      },
      {
       "output_type": "stream",
       "stream": "stdout",
       "text": [
        "\n",
        "3 chirp regions found for event 1 tree wftree_06_09_10\n",
        "1 chirp regions found for event 2 tree wftree_06_09_10\n",
        "3 chirp regions found for event 4 tree wftree_06_09_10\n",
        "1 chirp regions found for event 5 tree wftree_06_09_10\n",
        "1 chirp regions found for event 6 tree wftree_06_09_10\n",
        "3 chirp regions found for event 7 tree wftree_06_09_10\n",
        "2 chirp regions found for event 9 tree wftree_06_09_10"
       ]
      },
      {
       "output_type": "stream",
       "stream": "stdout",
       "text": [
        "\n",
        "1 chirp regions found for event 10 tree wftree_06_09_10\n",
        "2 chirp regions found for event 12 tree wftree_06_09_10\n",
        "1 chirp regions found for event 13 tree wftree_06_09_10\n",
        "2 chirp regions found for event 14 tree wftree_06_09_10\n",
        "2 chirp regions found for event 16 tree wftree_06_09_10\n",
        "1 chirp regions found for event 17 tree wftree_06_09_10\n",
        "2 chirp regions found for event 18 tree wftree_06_09_10"
       ]
      },
      {
       "output_type": "stream",
       "stream": "stdout",
       "text": [
        "\n",
        "1 chirp regions found for event 19 tree wftree_06_09_10\n",
        "2 chirp regions found for event 20 tree wftree_06_09_10\n",
        "2 chirp regions found for event 21 tree wftree_06_09_10\n",
        "1 chirp regions found for event 22 tree wftree_06_09_10\n",
        "1 chirp regions found for event 23 tree wftree_06_09_10\n",
        "1 chirp regions found for event 25 tree wftree_06_09_10\n",
        "1 chirp regions found for event 26 tree wftree_06_09_10"
       ]
      },
      {
       "output_type": "stream",
       "stream": "stdout",
       "text": [
        "\n",
        "1 chirp regions found for event 27 tree wftree_06_09_10\n",
        "1 chirp regions found for event 28 tree wftree_06_09_10\n",
        "3 chirp regions found for event 30 tree wftree_06_09_10\n",
        "1 chirp regions found for event 31 tree wftree_06_09_10\n",
        "1 chirp regions found for event 32 tree wftree_06_09_10\n",
        "2 chirp regions found for event 33 tree wftree_06_09_10"
       ]
      },
      {
       "output_type": "stream",
       "stream": "stdout",
       "text": [
        "\n",
        "2 chirp regions found for event 34 tree wftree_06_09_10\n",
        "1 chirp regions found for event 35 tree wftree_06_09_10\n",
        "5 chirp regions found for event 39 tree wftree_06_09_10\n",
        "1 chirp regions found for event 40 tree wftree_06_09_10"
       ]
      },
      {
       "output_type": "stream",
       "stream": "stdout",
       "text": [
        "\n",
        "2 chirp regions found for event 42 tree wftree_06_09_10\n",
        "1 chirp regions found for event 44 tree wftree_06_09_10\n",
        "1 chirp regions found for event 45 tree wftree_06_09_10\n",
        "3 chirp regions found for event 46 tree wftree_06_09_10"
       ]
      },
      {
       "output_type": "stream",
       "stream": "stdout",
       "text": [
        "\n",
        "3 chirp regions found for event 48 tree wftree_06_09_10\n",
        "3 chirp regions found for event 49 tree wftree_06_09_10\n",
        "2 chirp regions found for event 50 tree wftree_06_09_10\n",
        "1 chirp regions found for event 52 tree wftree_06_09_10\n",
        "3 chirp regions found for event 53 tree wftree_06_09_10\n",
        "1 chirp regions found for event 56 tree wftree_06_09_10"
       ]
      },
      {
       "output_type": "stream",
       "stream": "stdout",
       "text": [
        "\n",
        "1 chirp regions found for event 58 tree wftree_06_09_10\n",
        "1 chirp regions found for event 59 tree wftree_06_09_10\n",
        "1 chirp regions found for event 60 tree wftree_06_09_10\n",
        "1 chirp regions found for event 62 tree wftree_06_09_10\n",
        "1 chirp regions found for event 63 tree wftree_06_09_10\n",
        "2 chirp regions found for event 64 tree wftree_06_09_10\n",
        "2 chirp regions found for event 66 tree wftree_06_09_10"
       ]
      },
      {
       "output_type": "stream",
       "stream": "stdout",
       "text": [
        "\n",
        "2 chirp regions found for event 68 tree wftree_06_09_10\n",
        "3 chirp regions found for event 70 tree wftree_06_09_10\n",
        "1 chirp regions found for event 71 tree wftree_06_09_10\n",
        "2 chirp regions found for event 73 tree wftree_06_09_10\n",
        "1 chirp regions found for event 75 tree wftree_06_09_10"
       ]
      },
      {
       "output_type": "stream",
       "stream": "stdout",
       "text": [
        "\n",
        "3 chirp regions found for event 76 tree wftree_06_09_10\n",
        "1 chirp regions found for event 77 tree wftree_06_09_10\n",
        "1 chirp regions found for event 78 tree wftree_06_09_10\n",
        "1 chirp regions found for event 79 tree wftree_06_09_10\n",
        "1 chirp regions found for event 80 tree wftree_06_09_10\n",
        "1 chirp regions found for event 81 tree wftree_06_09_10\n",
        "3 chirp regions found for event 83 tree wftree_06_09_10\n",
        "1 chirp regions found for event 84 tree wftree_06_09_10"
       ]
      },
      {
       "output_type": "stream",
       "stream": "stdout",
       "text": [
        "\n",
        "1 chirp regions found for event 86 tree wftree_06_09_10\n",
        "1 chirp regions found for event 87 tree wftree_06_09_10\n",
        "4 chirp regions found for event 88 tree wftree_06_09_10\n",
        "4 chirp regions found for event 90 tree wftree_06_09_10\n",
        "1 chirp regions found for event 91 tree wftree_06_09_10\n",
        "1 chirp regions found for event 93 tree wftree_06_09_10"
       ]
      },
      {
       "output_type": "stream",
       "stream": "stdout",
       "text": [
        "\n",
        "1 chirp regions found for event 94 tree wftree_06_09_10\n",
        "1 chirp regions found for event 96 tree wftree_06_09_10\n",
        "1 chirp regions found for event 97 tree wftree_06_09_10\n",
        "2 chirp regions found for event 98 tree wftree_06_09_10\n",
        "2 chirp regions found for event 99 tree wftree_06_09_10\n",
        "1 chirp regions found for event 1 tree wftree_06_09_10\n",
        "2 chirp regions found for event 2 tree wftree_06_09_10"
       ]
      },
      {
       "output_type": "stream",
       "stream": "stdout",
       "text": [
        "\n",
        "1 chirp regions found for event 7 tree wftree_06_09_10\n",
        "1 chirp regions found for event 11 tree wftree_06_09_10"
       ]
      },
      {
       "output_type": "stream",
       "stream": "stdout",
       "text": [
        "\n",
        "3 chirp regions found for event 14 tree wftree_06_09_10\n",
        "2 chirp regions found for event 16 tree wftree_06_09_10"
       ]
      },
      {
       "output_type": "stream",
       "stream": "stdout",
       "text": [
        "\n",
        "3 chirp regions found for event 17 tree wftree_06_09_10\n",
        "1 chirp regions found for event 19 tree wftree_06_09_10\n",
        "1 chirp regions found for event 21 tree wftree_06_09_10\n",
        "2 chirp regions found for event 22 tree wftree_06_09_10"
       ]
      },
      {
       "output_type": "stream",
       "stream": "stdout",
       "text": [
        "\n",
        "1 chirp regions found for event 23 tree wftree_06_09_10\n",
        "3 chirp regions found for event 27 tree wftree_06_09_10\n",
        "2 chirp regions found for event 29 tree wftree_06_09_10"
       ]
      },
      {
       "output_type": "stream",
       "stream": "stdout",
       "text": [
        "\n",
        "1 chirp regions found for event 30 tree wftree_06_09_10\n",
        "2 chirp regions found for event 31 tree wftree_06_09_10\n",
        "2 chirp regions found for event 33 tree wftree_06_09_10\n",
        "2 chirp regions found for event 36 tree wftree_06_09_10"
       ]
      },
      {
       "output_type": "stream",
       "stream": "stdout",
       "text": [
        "\n",
        "1 chirp regions found for event 37 tree wftree_06_09_10\n",
        "1 chirp regions found for event 38 tree wftree_06_09_10\n",
        "2 chirp regions found for event 39 tree wftree_06_09_10\n",
        "1 chirp regions found for event 40 tree wftree_06_09_10\n",
        "1 chirp regions found for event 41 tree wftree_06_09_10\n",
        "1 chirp regions found for event 42 tree wftree_06_09_10\n",
        "1 chirp regions found for event 43 tree wftree_06_09_10\n",
        "1 chirp regions found for event 44 tree wftree_06_09_10\n",
        "1 chirp regions found for event 45 tree wftree_06_09_10"
       ]
      },
      {
       "output_type": "stream",
       "stream": "stdout",
       "text": [
        "\n",
        "1 chirp regions found for event 46 tree wftree_06_09_10\n",
        "1 chirp regions found for event 47 tree wftree_06_09_10\n",
        "2 chirp regions found for event 48 tree wftree_06_09_10\n",
        "1 chirp regions found for event 52 tree wftree_06_09_10\n",
        "1 chirp regions found for event 54 tree wftree_06_09_10"
       ]
      },
      {
       "output_type": "stream",
       "stream": "stdout",
       "text": [
        "\n",
        "3 chirp regions found for event 55 tree wftree_06_09_10\n",
        "2 chirp regions found for event 56 tree wftree_06_09_10\n",
        "1 chirp regions found for event 57 tree wftree_06_09_10\n",
        "2 chirp regions found for event 58 tree wftree_06_09_10\n",
        "1 chirp regions found for event 59 tree wftree_06_09_10\n",
        "2 chirp regions found for event 60 tree wftree_06_09_10\n",
        "1 chirp regions found for event 61 tree wftree_06_09_10\n",
        "1 chirp regions found for event 62 tree wftree_06_09_10"
       ]
      },
      {
       "output_type": "stream",
       "stream": "stdout",
       "text": [
        "\n",
        "1 chirp regions found for event 65 tree wftree_06_09_10\n",
        "2 chirp regions found for event 66 tree wftree_06_09_10\n",
        "1 chirp regions found for event 67 tree wftree_06_09_10\n",
        "1 chirp regions found for event 73 tree wftree_06_09_10"
       ]
      },
      {
       "output_type": "stream",
       "stream": "stdout",
       "text": [
        "\n",
        "1 chirp regions found for event 74 tree wftree_06_09_10\n",
        "1 chirp regions found for event 75 tree wftree_06_09_10\n",
        "2 chirp regions found for event 76 tree wftree_06_09_10\n",
        "1 chirp regions found for event 77 tree wftree_06_09_10\n",
        "1 chirp regions found for event 79 tree wftree_06_09_10\n",
        "1 chirp regions found for event 80 tree wftree_06_09_10"
       ]
      },
      {
       "output_type": "stream",
       "stream": "stdout",
       "text": [
        "\n",
        "1 chirp regions found for event 81 tree wftree_06_09_10\n",
        "1 chirp regions found for event 82 tree wftree_06_09_10\n",
        "1 chirp regions found for event 83 tree wftree_06_09_10\n",
        "1 chirp regions found for event 84 tree wftree_06_09_10\n",
        "1 chirp regions found for event 86 tree wftree_06_09_10\n",
        "1 chirp regions found for event 87 tree wftree_06_09_10"
       ]
      },
      {
       "output_type": "stream",
       "stream": "stdout",
       "text": [
        "\n",
        "2 chirp regions found for event 88 tree wftree_06_09_10\n",
        "2 chirp regions found for event 89 tree wftree_06_09_10\n",
        "1 chirp regions found for event 93 tree wftree_06_09_10\n",
        "1 chirp regions found for event 96 tree wftree_06_09_10"
       ]
      },
      {
       "output_type": "stream",
       "stream": "stdout",
       "text": [
        "\n",
        "1 chirp regions found for event 97 tree wftree_06_09_10\n",
        "3 chirp regions found for event 0 tree wftree_06_09_10\n",
        "3 chirp regions found for event 5 tree wftree_06_09_10"
       ]
      },
      {
       "output_type": "stream",
       "stream": "stdout",
       "text": [
        "\n",
        "1 chirp regions found for event 7 tree wftree_06_09_10\n",
        "3 chirp regions found for event 8 tree wftree_06_09_10\n",
        "1 chirp regions found for event 9 tree wftree_06_09_10\n",
        "1 chirp regions found for event 11 tree wftree_06_09_10\n",
        "1 chirp regions found for event 12 tree wftree_06_09_10"
       ]
      },
      {
       "output_type": "stream",
       "stream": "stdout",
       "text": [
        "\n",
        "2 chirp regions found for event 13 tree wftree_06_09_10\n",
        "1 chirp regions found for event 14 tree wftree_06_09_10\n",
        "3 chirp regions found for event 15 tree wftree_06_09_10\n",
        "2 chirp regions found for event 16 tree wftree_06_09_10\n",
        "2 chirp regions found for event 19 tree wftree_06_09_10"
       ]
      },
      {
       "output_type": "stream",
       "stream": "stdout",
       "text": [
        "\n",
        "1 chirp regions found for event 21 tree wftree_06_09_10\n",
        "2 chirp regions found for event 27 tree wftree_06_09_10"
       ]
      },
      {
       "output_type": "stream",
       "stream": "stdout",
       "text": [
        "\n",
        "1 chirp regions found for event 28 tree wftree_06_09_10\n",
        "1 chirp regions found for event 29 tree wftree_06_09_10\n",
        "1 chirp regions found for event 30 tree wftree_06_09_10\n",
        "1 chirp regions found for event 32 tree wftree_06_09_10\n",
        "2 chirp regions found for event 33 tree wftree_06_09_10\n",
        "4 chirp regions found for event 34 tree wftree_06_09_10\n",
        "4 chirp regions found for event 35 tree wftree_06_09_10"
       ]
      },
      {
       "output_type": "stream",
       "stream": "stdout",
       "text": [
        "\n",
        "1 chirp regions found for event 36 tree wftree_06_09_10\n",
        "1 chirp regions found for event 37 tree wftree_06_09_10\n",
        "1 chirp regions found for event 38 tree wftree_06_09_10\n",
        "1 chirp regions found for event 39 tree wftree_06_09_10\n",
        "1 chirp regions found for event 42 tree wftree_06_09_10\n",
        "1 chirp regions found for event 44 tree wftree_06_09_10"
       ]
      },
      {
       "output_type": "stream",
       "stream": "stdout",
       "text": [
        "\n",
        "1 chirp regions found for event 45 tree wftree_06_09_10\n",
        "1 chirp regions found for event 48 tree wftree_06_09_10\n",
        "2 chirp regions found for event 49 tree wftree_06_09_10\n",
        "1 chirp regions found for event 51 tree wftree_06_09_10"
       ]
      },
      {
       "output_type": "stream",
       "stream": "stdout",
       "text": [
        "\n",
        "1 chirp regions found for event 52 tree wftree_06_09_10\n",
        "3 chirp regions found for event 54 tree wftree_06_09_10\n",
        "1 chirp regions found for event 55 tree wftree_06_09_10\n",
        "2 chirp regions found for event 57 tree wftree_06_09_10\n",
        "3 chirp regions found for event 58 tree wftree_06_09_10\n",
        "3 chirp regions found for event 59 tree wftree_06_09_10\n",
        "2 chirp regions found for event 60 tree wftree_06_09_10"
       ]
      },
      {
       "output_type": "stream",
       "stream": "stdout",
       "text": [
        "\n",
        "3 chirp regions found for event 62 tree wftree_06_09_10\n",
        "1 chirp regions found for event 63 tree wftree_06_09_10\n",
        "1 chirp regions found for event 64 tree wftree_06_09_10\n",
        "1 chirp regions found for event 65 tree wftree_06_09_10\n",
        "2 chirp regions found for event 66 tree wftree_06_09_10\n",
        "1 chirp regions found for event 68 tree wftree_06_09_10\n",
        "2 chirp regions found for event 71 tree wftree_06_09_10"
       ]
      },
      {
       "output_type": "stream",
       "stream": "stdout",
       "text": [
        "\n",
        "2 chirp regions found for event 72 tree wftree_06_09_10\n",
        "2 chirp regions found for event 73 tree wftree_06_09_10\n",
        "1 chirp regions found for event 74 tree wftree_06_09_10\n",
        "1 chirp regions found for event 76 tree wftree_06_09_10\n",
        "2 chirp regions found for event 77 tree wftree_06_09_10\n",
        "2 chirp regions found for event 78 tree wftree_06_09_10\n",
        "1 chirp regions found for event 82 tree wftree_06_09_10"
       ]
      },
      {
       "output_type": "stream",
       "stream": "stdout",
       "text": [
        "\n",
        "1 chirp regions found for event 83 tree wftree_06_09_10\n",
        "1 chirp regions found for event 85 tree wftree_06_09_10\n",
        "2 chirp regions found for event 86 tree wftree_06_09_10\n",
        "3 chirp regions found for event 87 tree wftree_06_09_10\n",
        "1 chirp regions found for event 88 tree wftree_06_09_10\n",
        "1 chirp regions found for event 90 tree wftree_06_09_10\n",
        "1 chirp regions found for event 91 tree wftree_06_09_10"
       ]
      },
      {
       "output_type": "stream",
       "stream": "stdout",
       "text": [
        "\n",
        "1 chirp regions found for event 92 tree wftree_06_09_10\n",
        "2 chirp regions found for event 93 tree wftree_06_09_10\n",
        "2 chirp regions found for event 94 tree wftree_06_09_10\n",
        "1 chirp regions found for event 95 tree wftree_06_09_10\n",
        "1 chirp regions found for event 96 tree wftree_06_09_10\n",
        "1 chirp regions found for event 99 tree wftree_06_09_10\n",
        "1 chirp regions found for event 1 tree wftree_06_09_10"
       ]
      },
      {
       "output_type": "stream",
       "stream": "stdout",
       "text": [
        "\n",
        "1 chirp regions found for event 3 tree wftree_06_09_10\n",
        "1 chirp regions found for event 4 tree wftree_06_09_10\n",
        "1 chirp regions found for event 5 tree wftree_06_09_10\n",
        "2 chirp regions found for event 6 tree wftree_06_09_10\n",
        "1 chirp regions found for event 8 tree wftree_06_09_10\n",
        "1 chirp regions found for event 9 tree wftree_06_09_10\n",
        "2 chirp regions found for event 10 tree wftree_06_09_10"
       ]
      },
      {
       "output_type": "stream",
       "stream": "stdout",
       "text": [
        "\n",
        "2 chirp regions found for event 12 tree wftree_06_09_10\n",
        "2 chirp regions found for event 15 tree wftree_06_09_10\n",
        "3 chirp regions found for event 16 tree wftree_06_09_10\n",
        "1 chirp regions found for event 17 tree wftree_06_09_10\n",
        "2 chirp regions found for event 18 tree wftree_06_09_10\n",
        "1 chirp regions found for event 20 tree wftree_06_09_10"
       ]
      },
      {
       "output_type": "stream",
       "stream": "stdout",
       "text": [
        "\n",
        "1 chirp regions found for event 21 tree wftree_06_09_10\n",
        "2 chirp regions found for event 23 tree wftree_06_09_10\n",
        "1 chirp regions found for event 25 tree wftree_06_09_10\n",
        "1 chirp regions found for event 26 tree wftree_06_09_10\n",
        "2 chirp regions found for event 27 tree wftree_06_09_10\n",
        "1 chirp regions found for event 31 tree wftree_06_09_10"
       ]
      },
      {
       "output_type": "stream",
       "stream": "stdout",
       "text": [
        "\n",
        "3 chirp regions found for event 32 tree wftree_06_09_10\n",
        "2 chirp regions found for event 34 tree wftree_06_09_10\n",
        "1 chirp regions found for event 37 tree wftree_06_09_10\n",
        "2 chirp regions found for event 38 tree wftree_06_09_10\n",
        "2 chirp regions found for event 40 tree wftree_06_09_10"
       ]
      },
      {
       "output_type": "stream",
       "stream": "stdout",
       "text": [
        "\n",
        "2 chirp regions found for event 43 tree wftree_06_09_10\n",
        "1 chirp regions found for event 44 tree wftree_06_09_10\n",
        "2 chirp regions found for event 45 tree wftree_06_09_10\n",
        "1 chirp regions found for event 46 tree wftree_06_09_10\n",
        "2 chirp regions found for event 47 tree wftree_06_09_10"
       ]
      },
      {
       "output_type": "stream",
       "stream": "stdout",
       "text": [
        "\n",
        "2 chirp regions found for event 49 tree wftree_06_09_10\n",
        "1 chirp regions found for event 53 tree wftree_06_09_10\n",
        "2 chirp regions found for event 58 tree wftree_06_09_10"
       ]
      },
      {
       "output_type": "stream",
       "stream": "stdout",
       "text": [
        "\n",
        "1 chirp regions found for event 64 tree wftree_06_09_10\n",
        "1 chirp regions found for event 65 tree wftree_06_09_10\n",
        "3 chirp regions found for event 66 tree wftree_06_09_10"
       ]
      },
      {
       "output_type": "stream",
       "stream": "stdout",
       "text": [
        "\n",
        "1 chirp regions found for event 67 tree wftree_06_09_10\n",
        "1 chirp regions found for event 68 tree wftree_06_09_10\n",
        "1 chirp regions found for event 69 tree wftree_06_09_10\n",
        "2 chirp regions found for event 70 tree wftree_06_09_10\n",
        "2 chirp regions found for event 71 tree wftree_06_09_10\n",
        "1 chirp regions found for event 72 tree wftree_06_09_10\n",
        "2 chirp regions found for event 73 tree wftree_06_09_10"
       ]
      },
      {
       "output_type": "stream",
       "stream": "stdout",
       "text": [
        "\n",
        "1 chirp regions found for event 76 tree wftree_06_09_10\n",
        "3 chirp regions found for event 77 tree wftree_06_09_10\n",
        "1 chirp regions found for event 80 tree wftree_06_09_10\n",
        "1 chirp regions found for event 81 tree wftree_06_09_10\n",
        "2 chirp regions found for event 82 tree wftree_06_09_10"
       ]
      },
      {
       "output_type": "stream",
       "stream": "stdout",
       "text": [
        "\n",
        "1 chirp regions found for event 84 tree wftree_06_09_10\n",
        "2 chirp regions found for event 87 tree wftree_06_09_10\n",
        "1 chirp regions found for event 90 tree wftree_06_09_10\n",
        "2 chirp regions found for event 92 tree wftree_06_09_10"
       ]
      },
      {
       "output_type": "stream",
       "stream": "stdout",
       "text": [
        "\n",
        "1 chirp regions found for event 93 tree wftree_06_09_10\n",
        "2 chirp regions found for event 94 tree wftree_06_09_10\n",
        "2 chirp regions found for event 95 tree wftree_06_09_10\n",
        "2 chirp regions found for event 96 tree wftree_06_09_10\n",
        "1 chirp regions found for event 97 tree wftree_06_09_10\n",
        "1 chirp regions found for event 98 tree wftree_06_09_10\n",
        "4 chirp regions found for event 0 tree wftree_06_09_10\n",
        "1 chirp regions found for event 2 tree wftree_06_09_10"
       ]
      },
      {
       "output_type": "stream",
       "stream": "stdout",
       "text": [
        "\n",
        "1 chirp regions found for event 3 tree wftree_06_09_10\n",
        "1 chirp regions found for event 6 tree wftree_06_09_10\n",
        "1 chirp regions found for event 8 tree wftree_06_09_10\n",
        "1 chirp regions found for event 9 tree wftree_06_09_10\n",
        "1 chirp regions found for event 10 tree wftree_06_09_10\n",
        "2 chirp regions found for event 12 tree wftree_06_09_10"
       ]
      },
      {
       "output_type": "stream",
       "stream": "stdout",
       "text": [
        "\n",
        "1 chirp regions found for event 13 tree wftree_06_09_10\n",
        "1 chirp regions found for event 14 tree wftree_06_09_10\n",
        "1 chirp regions found for event 15 tree wftree_06_09_10\n",
        "2 chirp regions found for event 16 tree wftree_06_09_10\n",
        "2 chirp regions found for event 17 tree wftree_06_09_10\n",
        "1 chirp regions found for event 18 tree wftree_06_09_10\n",
        "2 chirp regions found for event 21 tree wftree_06_09_10"
       ]
      },
      {
       "output_type": "stream",
       "stream": "stdout",
       "text": [
        "\n",
        "4 chirp regions found for event 22 tree wftree_06_09_10\n",
        "2 chirp regions found for event 24 tree wftree_06_09_10\n",
        "3 chirp regions found for event 27 tree wftree_06_09_10\n",
        "2 chirp regions found for event 30 tree wftree_06_09_10"
       ]
      },
      {
       "output_type": "stream",
       "stream": "stdout",
       "text": [
        "\n",
        "3 chirp regions found for event 31 tree wftree_06_09_10\n",
        "1 chirp regions found for event 33 tree wftree_06_09_10\n",
        "1 chirp regions found for event 34 tree wftree_06_09_10\n",
        "3 chirp regions found for event 36 tree wftree_06_09_10\n",
        "2 chirp regions found for event 37 tree wftree_06_09_10\n",
        "2 chirp regions found for event 38 tree wftree_06_09_10\n",
        "1 chirp regions found for event 39 tree wftree_06_09_10"
       ]
      },
      {
       "output_type": "stream",
       "stream": "stdout",
       "text": [
        "\n",
        "1 chirp regions found for event 40 tree wftree_06_09_10\n",
        "3 chirp regions found for event 41 tree wftree_06_09_10\n",
        "1 chirp regions found for event 44 tree wftree_06_09_10\n",
        "3 chirp regions found for event 45 tree wftree_06_09_10\n",
        "1 chirp regions found for event 48 tree wftree_06_09_10"
       ]
      },
      {
       "output_type": "stream",
       "stream": "stdout",
       "text": [
        "\n",
        "1 chirp regions found for event 49 tree wftree_06_09_10\n",
        "2 chirp regions found for event 52 tree wftree_06_09_10\n",
        "1 chirp regions found for event 53 tree wftree_06_09_10\n",
        "1 chirp regions found for event 54 tree wftree_06_09_10\n",
        "3 chirp regions found for event 55 tree wftree_06_09_10\n",
        "2 chirp regions found for event 56 tree wftree_06_09_10\n",
        "1 chirp regions found for event 57 tree wftree_06_09_10"
       ]
      },
      {
       "output_type": "stream",
       "stream": "stdout",
       "text": [
        "\n",
        "2 chirp regions found for event 58 tree wftree_06_09_10\n",
        "1 chirp regions found for event 59 tree wftree_06_09_10\n",
        "3 chirp regions found for event 60 tree wftree_06_09_10\n",
        "1 chirp regions found for event 61 tree wftree_06_09_10\n",
        "1 chirp regions found for event 62 tree wftree_06_09_10\n",
        "3 chirp regions found for event 63 tree wftree_06_09_10\n",
        "1 chirp regions found for event 64 tree wftree_06_09_10\n",
        "1 chirp regions found for event 65 tree wftree_06_09_10\n",
        "4 chirp regions found for event 67 tree wftree_06_09_10"
       ]
      },
      {
       "output_type": "stream",
       "stream": "stdout",
       "text": [
        "\n",
        "1 chirp regions found for event 69 tree wftree_06_09_10\n",
        "2 chirp regions found for event 70 tree wftree_06_09_10\n",
        "1 chirp regions found for event 71 tree wftree_06_09_10\n",
        "1 chirp regions found for event 72 tree wftree_06_09_10\n",
        "1 chirp regions found for event 73 tree wftree_06_09_10\n",
        "1 chirp regions found for event 74 tree wftree_06_09_10"
       ]
      },
      {
       "output_type": "stream",
       "stream": "stdout",
       "text": [
        "\n",
        "1 chirp regions found for event 75 tree wftree_06_09_10\n",
        "2 chirp regions found for event 76 tree wftree_06_09_10\n",
        "2 chirp regions found for event 77 tree wftree_06_09_10\n",
        "2 chirp regions found for event 78 tree wftree_06_09_10\n",
        "1 chirp regions found for event 79 tree wftree_06_09_10\n",
        "3 chirp regions found for event 81 tree wftree_06_09_10\n",
        "1 chirp regions found for event 82 tree wftree_06_09_10\n",
        "1 chirp regions found for event 84 tree wftree_06_09_10"
       ]
      },
      {
       "output_type": "stream",
       "stream": "stdout",
       "text": [
        "\n",
        "3 chirp regions found for event 86 tree wftree_06_09_10\n",
        "1 chirp regions found for event 87 tree wftree_06_09_10\n",
        "3 chirp regions found for event 88 tree wftree_06_09_10\n",
        "1 chirp regions found for event 89 tree wftree_06_09_10\n",
        "2 chirp regions found for event 90 tree wftree_06_09_10\n",
        "2 chirp regions found for event 91 tree wftree_06_09_10\n",
        "2 chirp regions found for event 92 tree wftree_06_09_10\n",
        "3 chirp regions found for event 94 tree wftree_06_09_10"
       ]
      },
      {
       "output_type": "stream",
       "stream": "stdout",
       "text": [
        "\n",
        "3 chirp regions found for event 95 tree wftree_06_09_10\n",
        "1 chirp regions found for event 96 tree wftree_06_09_10\n",
        "1 chirp regions found for event 97 tree wftree_06_09_10\n",
        "1 chirp regions found for event 98 tree wftree_06_09_10\n",
        "3 chirp regions found for event 0 tree wftree_06_09_10"
       ]
      },
      {
       "output_type": "stream",
       "stream": "stdout",
       "text": [
        "\n",
        "1 chirp regions found for event 1 tree wftree_06_09_10\n",
        "1 chirp regions found for event 2 tree wftree_06_09_10\n",
        "1 chirp regions found for event 3 tree wftree_06_09_10\n",
        "3 chirp regions found for event 4 tree wftree_06_09_10\n",
        "1 chirp regions found for event 5 tree wftree_06_09_10\n",
        "2 chirp regions found for event 6 tree wftree_06_09_10\n",
        "2 chirp regions found for event 7 tree wftree_06_09_10\n",
        "1 chirp regions found for event 9 tree wftree_06_09_10"
       ]
      },
      {
       "output_type": "stream",
       "stream": "stdout",
       "text": [
        "\n",
        "3 chirp regions found for event 10 tree wftree_06_09_10\n",
        "4 chirp regions found for event 11 tree wftree_06_09_10\n",
        "3 chirp regions found for event 12 tree wftree_06_09_10\n",
        "1 chirp regions found for event 14 tree wftree_06_09_10\n",
        "3 chirp regions found for event 15 tree wftree_06_09_10\n",
        "4 chirp regions found for event 16 tree wftree_06_09_10\n",
        "1 chirp regions found for event 17 tree wftree_06_09_10\n",
        "2 chirp regions found for event 18 tree wftree_06_09_10"
       ]
      },
      {
       "output_type": "stream",
       "stream": "stdout",
       "text": [
        "\n",
        "1 chirp regions found for event 21 tree wftree_06_09_10\n",
        "1 chirp regions found for event 23 tree wftree_06_09_10\n",
        "1 chirp regions found for event 25 tree wftree_06_09_10\n",
        "1 chirp regions found for event 26 tree wftree_06_09_10\n",
        "1 chirp regions found for event 27 tree wftree_06_09_10"
       ]
      },
      {
       "output_type": "stream",
       "stream": "stdout",
       "text": [
        "\n",
        "3 chirp regions found for event 28 tree wftree_06_09_10\n",
        "1 chirp regions found for event 29 tree wftree_06_09_10\n",
        "3 chirp regions found for event 30 tree wftree_06_09_10\n",
        "1 chirp regions found for event 31 tree wftree_06_09_10\n",
        "3 chirp regions found for event 32 tree wftree_06_09_10\n",
        "1 chirp regions found for event 33 tree wftree_06_09_10\n",
        "3 chirp regions found for event 36 tree wftree_06_09_10"
       ]
      },
      {
       "output_type": "stream",
       "stream": "stdout",
       "text": [
        "\n",
        "1 chirp regions found for event 38 tree wftree_06_09_10\n",
        "4 chirp regions found for event 40 tree wftree_06_09_10\n",
        "2 chirp regions found for event 41 tree wftree_06_09_10\n",
        "1 chirp regions found for event 44 tree wftree_06_09_10\n",
        "2 chirp regions found for event 45 tree wftree_06_09_10"
       ]
      },
      {
       "output_type": "stream",
       "stream": "stdout",
       "text": [
        "\n",
        "1 chirp regions found for event 46 tree wftree_06_09_10\n",
        "2 chirp regions found for event 47 tree wftree_06_09_10\n",
        "1 chirp regions found for event 48 tree wftree_06_09_10\n",
        "2 chirp regions found for event 49 tree wftree_06_09_10\n",
        "4 chirp regions found for event 50 tree wftree_06_09_10\n",
        "1 chirp regions found for event 51 tree wftree_06_09_10\n",
        "1 chirp regions found for event 52 tree wftree_06_09_10\n",
        "2 chirp regions found for event 53 tree wftree_06_09_10\n",
        "1 chirp regions found for event 54 tree wftree_06_09_10"
       ]
      },
      {
       "output_type": "stream",
       "stream": "stdout",
       "text": [
        "\n",
        "2 chirp regions found for event 55 tree wftree_06_09_10\n",
        "1 chirp regions found for event 57 tree wftree_06_09_10\n",
        "1 chirp regions found for event 58 tree wftree_06_09_10\n",
        "1 chirp regions found for event 59 tree wftree_06_09_10\n",
        "1 chirp regions found for event 60 tree wftree_06_09_10\n",
        "1 chirp regions found for event 61 tree wftree_06_09_10\n",
        "1 chirp regions found for event 62 tree wftree_06_09_10\n",
        "1 chirp regions found for event 63 tree wftree_06_09_10"
       ]
      },
      {
       "output_type": "stream",
       "stream": "stdout",
       "text": [
        "\n",
        "2 chirp regions found for event 64 tree wftree_06_09_10\n",
        "1 chirp regions found for event 65 tree wftree_06_09_10\n",
        "1 chirp regions found for event 68 tree wftree_06_09_10\n",
        "3 chirp regions found for event 73 tree wftree_06_09_10"
       ]
      },
      {
       "output_type": "stream",
       "stream": "stdout",
       "text": [
        "\n",
        "1 chirp regions found for event 74 tree wftree_06_09_10\n",
        "3 chirp regions found for event 75 tree wftree_06_09_10\n",
        "2 chirp regions found for event 77 tree wftree_06_09_10\n",
        "2 chirp regions found for event 78 tree wftree_06_09_10\n",
        "1 chirp regions found for event 79 tree wftree_06_09_10\n",
        "1 chirp regions found for event 80 tree wftree_06_09_10\n",
        "3 chirp regions found for event 82 tree wftree_06_09_10"
       ]
      },
      {
       "output_type": "stream",
       "stream": "stdout",
       "text": [
        "\n",
        "1 chirp regions found for event 83 tree wftree_06_09_10\n",
        "1 chirp regions found for event 84 tree wftree_06_09_10\n",
        "3 chirp regions found for event 85 tree wftree_06_09_10\n",
        "1 chirp regions found for event 86 tree wftree_06_09_10\n",
        "2 chirp regions found for event 87 tree wftree_06_09_10\n",
        "3 chirp regions found for event 88 tree wftree_06_09_10\n",
        "3 chirp regions found for event 89 tree wftree_06_09_10\n",
        "3 chirp regions found for event 91 tree wftree_06_09_10"
       ]
      },
      {
       "output_type": "stream",
       "stream": "stdout",
       "text": [
        "\n",
        "4 chirp regions found for event 93 tree wftree_06_09_10\n",
        "4 chirp regions found for event 94 tree wftree_06_09_10\n",
        "2 chirp regions found for event 95 tree wftree_06_09_10\n",
        "2 chirp regions found for event 96 tree wftree_06_09_10\n",
        "1 chirp regions found for event 97 tree wftree_06_09_10\n",
        "1 chirp regions found for event 98 tree wftree_06_09_10\n",
        "1 chirp regions found for event 99 tree wftree_06_09_10\n",
        "5 chirp regions found for event 0 tree wftree_06_09_10"
       ]
      },
      {
       "output_type": "stream",
       "stream": "stdout",
       "text": [
        "\n",
        "2 chirp regions found for event 1 tree wftree_06_09_10\n",
        "2 chirp regions found for event 2 tree wftree_06_09_10\n",
        "9 chirp regions found for event 3 tree wftree_06_09_10\n",
        "14 chirp regions found for event 4 tree wftree_06_09_10\n",
        "11 chirp regions found for event 5 tree wftree_06_09_10\n",
        "5 chirp regions found for event 6 tree wftree_06_09_10\n",
        "11 chirp regions found for event 7 tree wftree_06_09_10\n",
        "6 chirp regions found for event 8 tree wftree_06_09_10\n",
        "16 chirp regions found for event 10 tree wftree_06_09_10"
       ]
      },
      {
       "output_type": "stream",
       "stream": "stdout",
       "text": [
        "\n",
        "9 chirp regions found for event 11 tree wftree_06_09_10\n",
        "1 chirp regions found for event 12 tree wftree_06_09_10\n",
        "9 chirp regions found for event 13 tree wftree_06_09_10\n",
        "7 chirp regions found for event 15 tree wftree_06_09_10\n",
        "3 chirp regions found for event 16 tree wftree_06_09_10\n",
        "2 chirp regions found for event 17 tree wftree_06_09_10\n",
        "5 chirp regions found for event 19 tree wftree_06_09_10"
       ]
      },
      {
       "output_type": "stream",
       "stream": "stdout",
       "text": [
        "\n",
        "1 chirp regions found for event 23 tree wftree_06_09_10\n",
        "5 chirp regions found for event 24 tree wftree_06_09_10\n",
        "7 chirp regions found for event 25 tree wftree_06_09_10\n",
        "5 chirp regions found for event 27 tree wftree_06_09_10\n",
        "8 chirp regions found for event 31 tree wftree_06_09_10"
       ]
      },
      {
       "output_type": "stream",
       "stream": "stdout",
       "text": [
        "\n",
        "2 chirp regions found for event 32 tree wftree_06_09_10\n",
        "8 chirp regions found for event 33 tree wftree_06_09_10\n",
        "1 chirp regions found for event 34 tree wftree_06_09_10\n",
        "4 chirp regions found for event 36 tree wftree_06_09_10\n",
        "5 chirp regions found for event 38 tree wftree_06_09_10\n",
        "8 chirp regions found for event 41 tree wftree_06_09_10"
       ]
      },
      {
       "output_type": "stream",
       "stream": "stdout",
       "text": [
        "\n",
        "1 chirp regions found for event 44 tree wftree_06_09_10\n",
        "5 chirp regions found for event 45 tree wftree_06_09_10\n",
        "7 chirp regions found for event 48 tree wftree_06_09_10\n",
        "2 chirp regions found for event 49 tree wftree_06_09_10\n",
        "4 chirp regions found for event 51 tree wftree_06_09_10"
       ]
      },
      {
       "output_type": "stream",
       "stream": "stdout",
       "text": [
        "\n",
        "2 chirp regions found for event 52 tree wftree_06_09_10\n",
        "10 chirp regions found for event 54 tree wftree_06_09_10\n",
        "2 chirp regions found for event 55 tree wftree_06_09_10\n",
        "4 chirp regions found for event 56 tree wftree_06_09_10\n",
        "6 chirp regions found for event 57 tree wftree_06_09_10\n",
        "8 chirp regions found for event 60 tree wftree_06_09_10"
       ]
      },
      {
       "output_type": "stream",
       "stream": "stdout",
       "text": [
        "\n",
        "8 chirp regions found for event 62 tree wftree_06_09_10\n",
        "1 chirp regions found for event 63 tree wftree_06_09_10\n",
        "7 chirp regions found for event 65 tree wftree_06_09_10\n",
        "9 chirp regions found for event 69 tree wftree_06_09_10"
       ]
      },
      {
       "output_type": "stream",
       "stream": "stdout",
       "text": [
        "\n",
        "1 chirp regions found for event 71 tree wftree_06_09_10\n",
        "2 chirp regions found for event 72 tree wftree_06_09_10\n",
        "6 chirp regions found for event 74 tree wftree_06_09_10\n",
        "11 chirp regions found for event 75 tree wftree_06_09_10\n",
        "7 chirp regions found for event 78 tree wftree_06_09_10"
       ]
      },
      {
       "output_type": "stream",
       "stream": "stdout",
       "text": [
        "\n",
        "4 chirp regions found for event 81 tree wftree_06_09_10\n",
        "4 chirp regions found for event 88 tree wftree_06_09_10"
       ]
      },
      {
       "output_type": "stream",
       "stream": "stdout",
       "text": [
        "\n",
        "1 chirp regions found for event 89 tree wftree_06_09_10\n",
        "5 chirp regions found for event 92 tree wftree_06_09_10\n",
        "1 chirp regions found for event 93 tree wftree_06_09_10\n",
        "1 chirp regions found for event 94 tree wftree_06_09_10\n",
        "14 chirp regions found for event 95 tree wftree_06_09_10\n",
        "8 chirp regions found for event 98 tree wftree_06_09_10"
       ]
      },
      {
       "output_type": "stream",
       "stream": "stdout",
       "text": [
        "\n",
        "1 chirp regions found for event 2 tree wftree_06_09_10\n",
        "1 chirp regions found for event 4 tree wftree_06_09_10\n",
        "2 chirp regions found for event 6 tree wftree_06_09_10\n",
        "1 chirp regions found for event 7 tree wftree_06_09_10"
       ]
      },
      {
       "output_type": "stream",
       "stream": "stdout",
       "text": [
        "\n",
        "1 chirp regions found for event 10 tree wftree_06_09_10\n",
        "1 chirp regions found for event 12 tree wftree_06_09_10\n",
        "2 chirp regions found for event 16 tree wftree_06_09_10"
       ]
      },
      {
       "output_type": "stream",
       "stream": "stdout",
       "text": [
        "\n",
        "2 chirp regions found for event 21 tree wftree_06_09_10\n",
        "1 chirp regions found for event 22 tree wftree_06_09_10\n",
        "1 chirp regions found for event 23 tree wftree_06_09_10\n",
        "1 chirp regions found for event 24 tree wftree_06_09_10\n",
        "1 chirp regions found for event 25 tree wftree_06_09_10"
       ]
      },
      {
       "output_type": "stream",
       "stream": "stdout",
       "text": [
        "\n",
        "1 chirp regions found for event 29 tree wftree_06_09_10\n",
        "1 chirp regions found for event 31 tree wftree_06_09_10\n",
        "2 chirp regions found for event 32 tree wftree_06_09_10\n",
        "1 chirp regions found for event 35 tree wftree_06_09_10"
       ]
      },
      {
       "output_type": "stream",
       "stream": "stdout",
       "text": [
        "\n",
        "1 chirp regions found for event 37 tree wftree_06_09_10\n",
        "3 chirp regions found for event 39 tree wftree_06_09_10\n",
        "1 chirp regions found for event 40 tree wftree_06_09_10\n",
        "2 chirp regions found for event 41 tree wftree_06_09_10\n",
        "2 chirp regions found for event 43 tree wftree_06_09_10\n",
        "1 chirp regions found for event 44 tree wftree_06_09_10"
       ]
      },
      {
       "output_type": "stream",
       "stream": "stdout",
       "text": [
        "\n",
        "1 chirp regions found for event 47 tree wftree_06_09_10\n",
        "1 chirp regions found for event 50 tree wftree_06_09_10\n",
        "1 chirp regions found for event 56 tree wftree_06_09_10"
       ]
      },
      {
       "output_type": "stream",
       "stream": "stdout",
       "text": [
        "\n",
        "1 chirp regions found for event 58 tree wftree_06_09_10\n",
        "1 chirp regions found for event 59 tree wftree_06_09_10\n",
        "1 chirp regions found for event 60 tree wftree_06_09_10\n",
        "1 chirp regions found for event 61 tree wftree_06_09_10\n",
        "1 chirp regions found for event 64 tree wftree_06_09_10\n",
        "1 chirp regions found for event 66 tree wftree_06_09_10"
       ]
      },
      {
       "output_type": "stream",
       "stream": "stdout",
       "text": [
        "\n",
        "2 chirp regions found for event 69 tree wftree_06_09_10\n",
        "2 chirp regions found for event 70 tree wftree_06_09_10\n",
        "1 chirp regions found for event 75 tree wftree_06_09_10"
       ]
      },
      {
       "output_type": "stream",
       "stream": "stdout",
       "text": [
        "\n",
        "2 chirp regions found for event 76 tree wftree_06_09_10\n",
        "2 chirp regions found for event 78 tree wftree_06_09_10\n",
        "1 chirp regions found for event 79 tree wftree_06_09_10\n",
        "3 chirp regions found for event 80 tree wftree_06_09_10\n",
        "2 chirp regions found for event 81 tree wftree_06_09_10\n",
        "1 chirp regions found for event 83 tree wftree_06_09_10\n",
        "1 chirp regions found for event 84 tree wftree_06_09_10"
       ]
      },
      {
       "output_type": "stream",
       "stream": "stdout",
       "text": [
        "\n",
        "1 chirp regions found for event 86 tree wftree_06_09_10\n",
        "1 chirp regions found for event 90 tree wftree_06_09_10\n",
        "2 chirp regions found for event 91 tree wftree_06_09_10\n",
        "1 chirp regions found for event 93 tree wftree_06_09_10"
       ]
      },
      {
       "output_type": "stream",
       "stream": "stdout",
       "text": [
        "\n",
        "1 chirp regions found for event 95 tree wftree_06_09_10\n",
        "1 chirp regions found for event 97 tree wftree_06_09_10\n",
        "2 chirp regions found for event 98 tree wftree_06_09_10\n",
        "2 chirp regions found for event 99 tree wftree_06_09_10\n",
        "2 chirp regions found for event 0 tree wftree_06_09_10\n",
        "1 chirp regions found for event 1 tree wftree_06_09_10\n",
        "1 chirp regions found for event 4 tree wftree_06_09_10"
       ]
      },
      {
       "output_type": "stream",
       "stream": "stdout",
       "text": [
        "\n",
        "2 chirp regions found for event 5 tree wftree_06_09_10\n",
        "2 chirp regions found for event 7 tree wftree_06_09_10\n",
        "2 chirp regions found for event 8 tree wftree_06_09_10\n",
        "1 chirp regions found for event 9 tree wftree_06_09_10\n",
        "1 chirp regions found for event 12 tree wftree_06_09_10\n",
        "2 chirp regions found for event 13 tree wftree_06_09_10"
       ]
      },
      {
       "output_type": "stream",
       "stream": "stdout",
       "text": [
        "\n",
        "1 chirp regions found for event 14 tree wftree_06_09_10\n",
        "2 chirp regions found for event 15 tree wftree_06_09_10\n",
        "3 chirp regions found for event 16 tree wftree_06_09_10\n",
        "3 chirp regions found for event 18 tree wftree_06_09_10\n",
        "4 chirp regions found for event 19 tree wftree_06_09_10\n",
        "2 chirp regions found for event 21 tree wftree_06_09_10\n",
        "1 chirp regions found for event 25 tree wftree_06_09_10"
       ]
      },
      {
       "output_type": "stream",
       "stream": "stdout",
       "text": [
        "\n",
        "2 chirp regions found for event 26 tree wftree_06_09_10\n",
        "1 chirp regions found for event 28 tree wftree_06_09_10\n",
        "1 chirp regions found for event 29 tree wftree_06_09_10\n",
        "1 chirp regions found for event 32 tree wftree_06_09_10\n",
        "1 chirp regions found for event 33 tree wftree_06_09_10\n",
        "1 chirp regions found for event 34 tree wftree_06_09_10"
       ]
      },
      {
       "output_type": "stream",
       "stream": "stdout",
       "text": [
        "\n",
        "1 chirp regions found for event 36 tree wftree_06_09_10\n",
        "1 chirp regions found for event 37 tree wftree_06_09_10\n",
        "1 chirp regions found for event 39 tree wftree_06_09_10\n",
        "1 chirp regions found for event 40 tree wftree_06_09_10\n",
        "2 chirp regions found for event 42 tree wftree_06_09_10\n",
        "1 chirp regions found for event 44 tree wftree_06_09_10"
       ]
      },
      {
       "output_type": "stream",
       "stream": "stdout",
       "text": [
        "\n",
        "1 chirp regions found for event 45 tree wftree_06_09_10\n",
        "1 chirp regions found for event 46 tree wftree_06_09_10\n",
        "2 chirp regions found for event 49 tree wftree_06_09_10\n",
        "1 chirp regions found for event 50 tree wftree_06_09_10\n",
        "1 chirp regions found for event 51 tree wftree_06_09_10\n",
        "1 chirp regions found for event 52 tree wftree_06_09_10\n",
        "1 chirp regions found for event 53 tree wftree_06_09_10"
       ]
      },
      {
       "output_type": "stream",
       "stream": "stdout",
       "text": [
        "\n",
        "1 chirp regions found for event 55 tree wftree_06_09_10\n",
        "2 chirp regions found for event 57 tree wftree_06_09_10\n",
        "1 chirp regions found for event 58 tree wftree_06_09_10\n",
        "2 chirp regions found for event 60 tree wftree_06_09_10\n",
        "1 chirp regions found for event 61 tree wftree_06_09_10\n",
        "4 chirp regions found for event 62 tree wftree_06_09_10"
       ]
      },
      {
       "output_type": "stream",
       "stream": "stdout",
       "text": [
        "\n",
        "3 chirp regions found for event 65 tree wftree_06_09_10\n",
        "2 chirp regions found for event 66 tree wftree_06_09_10\n",
        "2 chirp regions found for event 67 tree wftree_06_09_10\n",
        "3 chirp regions found for event 68 tree wftree_06_09_10\n",
        "1 chirp regions found for event 70 tree wftree_06_09_10\n",
        "2 chirp regions found for event 76 tree wftree_06_09_10"
       ]
      },
      {
       "output_type": "stream",
       "stream": "stdout",
       "text": [
        "\n",
        "3 chirp regions found for event 78 tree wftree_06_09_10\n",
        "1 chirp regions found for event 81 tree wftree_06_09_10\n",
        "2 chirp regions found for event 82 tree wftree_06_09_10\n",
        "1 chirp regions found for event 83 tree wftree_06_09_10"
       ]
      },
      {
       "output_type": "stream",
       "stream": "stdout",
       "text": [
        "\n",
        "1 chirp regions found for event 84 tree wftree_06_09_10\n",
        "1 chirp regions found for event 85 tree wftree_06_09_10\n",
        "1 chirp regions found for event 87 tree wftree_06_09_10\n",
        "1 chirp regions found for event 89 tree wftree_06_09_10\n",
        "1 chirp regions found for event 91 tree wftree_06_09_10\n",
        "2 chirp regions found for event 92 tree wftree_06_09_10"
       ]
      },
      {
       "output_type": "stream",
       "stream": "stdout",
       "text": [
        "\n",
        "2 chirp regions found for event 93 tree wftree_06_09_10\n",
        "2 chirp regions found for event 94 tree wftree_06_09_10\n",
        "1 chirp regions found for event 95 tree wftree_06_09_10\n",
        "1 chirp regions found for event 96 tree wftree_06_09_10\n",
        "2 chirp regions found for event 99 tree wftree_06_09_10\n",
        "1 chirp regions found for event 1 tree wftree_06_09_10"
       ]
      },
      {
       "output_type": "stream",
       "stream": "stdout",
       "text": [
        "\n",
        "1 chirp regions found for event 2 tree wftree_06_09_10\n",
        "1 chirp regions found for event 6 tree wftree_06_09_10\n",
        "1 chirp regions found for event 8 tree wftree_06_09_10\n",
        "2 chirp regions found for event 9 tree wftree_06_09_10\n",
        "2 chirp regions found for event 10 tree wftree_06_09_10"
       ]
      },
      {
       "output_type": "stream",
       "stream": "stdout",
       "text": [
        "\n",
        "1 chirp regions found for event 12 tree wftree_06_09_10\n",
        "2 chirp regions found for event 16 tree wftree_06_09_10\n",
        "2 chirp regions found for event 17 tree wftree_06_09_10\n",
        "2 chirp regions found for event 19 tree wftree_06_09_10"
       ]
      },
      {
       "output_type": "stream",
       "stream": "stdout",
       "text": [
        "\n",
        "1 chirp regions found for event 21 tree wftree_06_09_10\n",
        "2 chirp regions found for event 22 tree wftree_06_09_10\n",
        "1 chirp regions found for event 23 tree wftree_06_09_10\n",
        "1 chirp regions found for event 24 tree wftree_06_09_10\n",
        "1 chirp regions found for event 25 tree wftree_06_09_10\n",
        "1 chirp regions found for event 26 tree wftree_06_09_10\n",
        "1 chirp regions found for event 27 tree wftree_06_09_10\n",
        "2 chirp regions found for event 29 tree wftree_06_09_10"
       ]
      },
      {
       "output_type": "stream",
       "stream": "stdout",
       "text": [
        "\n",
        "1 chirp regions found for event 30 tree wftree_06_09_10\n",
        "3 chirp regions found for event 31 tree wftree_06_09_10\n",
        "1 chirp regions found for event 33 tree wftree_06_09_10\n",
        "2 chirp regions found for event 34 tree wftree_06_09_10\n",
        "2 chirp regions found for event 35 tree wftree_06_09_10\n",
        "1 chirp regions found for event 36 tree wftree_06_09_10\n",
        "2 chirp regions found for event 37 tree wftree_06_09_10\n",
        "1 chirp regions found for event 38 tree wftree_06_09_10"
       ]
      },
      {
       "output_type": "stream",
       "stream": "stdout",
       "text": [
        "\n",
        "2 chirp regions found for event 43 tree wftree_06_09_10\n",
        "4 chirp regions found for event 44 tree wftree_06_09_10\n",
        "2 chirp regions found for event 47 tree wftree_06_09_10"
       ]
      },
      {
       "output_type": "stream",
       "stream": "stdout",
       "text": [
        "\n",
        "1 chirp regions found for event 49 tree wftree_06_09_10\n",
        "3 chirp regions found for event 51 tree wftree_06_09_10\n",
        "1 chirp regions found for event 52 tree wftree_06_09_10\n",
        "1 chirp regions found for event 56 tree wftree_06_09_10"
       ]
      },
      {
       "output_type": "stream",
       "stream": "stdout",
       "text": [
        "\n",
        "1 chirp regions found for event 58 tree wftree_06_09_10\n",
        "1 chirp regions found for event 59 tree wftree_06_09_10\n",
        "1 chirp regions found for event 62 tree wftree_06_09_10\n",
        "1 chirp regions found for event 63 tree wftree_06_09_10\n",
        "1 chirp regions found for event 64 tree wftree_06_09_10\n",
        "1 chirp regions found for event 67 tree wftree_06_09_10"
       ]
      },
      {
       "output_type": "stream",
       "stream": "stdout",
       "text": [
        "\n",
        "1 chirp regions found for event 68 tree wftree_06_09_10\n",
        "2 chirp regions found for event 71 tree wftree_06_09_10\n",
        "1 chirp regions found for event 73 tree wftree_06_09_10\n",
        "4 chirp regions found for event 76 tree wftree_06_09_10"
       ]
      },
      {
       "output_type": "stream",
       "stream": "stdout",
       "text": [
        "\n",
        "2 chirp regions found for event 80 tree wftree_06_09_10\n",
        "1 chirp regions found for event 81 tree wftree_06_09_10\n",
        "1 chirp regions found for event 82 tree wftree_06_09_10\n",
        "1 chirp regions found for event 85 tree wftree_06_09_10"
       ]
      },
      {
       "output_type": "stream",
       "stream": "stdout",
       "text": [
        "\n",
        "1 chirp regions found for event 89 tree wftree_06_09_10\n",
        "1 chirp regions found for event 91 tree wftree_06_09_10\n",
        "2 chirp regions found for event 92 tree wftree_06_09_10\n",
        "1 chirp regions found for event 95 tree wftree_06_09_10"
       ]
      },
      {
       "output_type": "stream",
       "stream": "stdout",
       "text": [
        "\n",
        "5 chirp regions found for event 96 tree wftree_06_09_10\n",
        "1 chirp regions found for event 98 tree wftree_06_09_10\n",
        "1 chirp regions found for event 99 tree wftree_06_09_10\n",
        "1 chirp regions found for event 2 tree wftree_06_09_10\n",
        "1 chirp regions found for event 3 tree wftree_06_09_10\n",
        "3 chirp regions found for event 5 tree wftree_06_09_10"
       ]
      },
      {
       "output_type": "stream",
       "stream": "stdout",
       "text": [
        "\n",
        "1 chirp regions found for event 8 tree wftree_06_09_10\n",
        "1 chirp regions found for event 11 tree wftree_06_09_10\n",
        "2 chirp regions found for event 13 tree wftree_06_09_10\n",
        "1 chirp regions found for event 14 tree wftree_06_09_10"
       ]
      },
      {
       "output_type": "stream",
       "stream": "stdout",
       "text": [
        "\n",
        "2 chirp regions found for event 16 tree wftree_06_09_10\n",
        "1 chirp regions found for event 18 tree wftree_06_09_10\n",
        "2 chirp regions found for event 19 tree wftree_06_09_10\n",
        "1 chirp regions found for event 21 tree wftree_06_09_10\n",
        "1 chirp regions found for event 24 tree wftree_06_09_10"
       ]
      },
      {
       "output_type": "stream",
       "stream": "stdout",
       "text": [
        "\n",
        "2 chirp regions found for event 26 tree wftree_06_09_10\n",
        "2 chirp regions found for event 28 tree wftree_06_09_10\n",
        "2 chirp regions found for event 29 tree wftree_06_09_10\n",
        "1 chirp regions found for event 30 tree wftree_06_09_10\n",
        "1 chirp regions found for event 31 tree wftree_06_09_10\n",
        "1 chirp regions found for event 32 tree wftree_06_09_10\n",
        "1 chirp regions found for event 35 tree wftree_06_09_10"
       ]
      },
      {
       "output_type": "stream",
       "stream": "stdout",
       "text": [
        "\n",
        "1 chirp regions found for event 37 tree wftree_06_09_10\n",
        "1 chirp regions found for event 42 tree wftree_06_09_10\n",
        "1 chirp regions found for event 43 tree wftree_06_09_10\n",
        "2 chirp regions found for event 45 tree wftree_06_09_10"
       ]
      },
      {
       "output_type": "stream",
       "stream": "stdout",
       "text": [
        "\n",
        "1 chirp regions found for event 48 tree wftree_06_09_10\n",
        "1 chirp regions found for event 50 tree wftree_06_09_10\n",
        "1 chirp regions found for event 52 tree wftree_06_09_10\n",
        "1 chirp regions found for event 53 tree wftree_06_09_10\n",
        "2 chirp regions found for event 55 tree wftree_06_09_10"
       ]
      },
      {
       "output_type": "stream",
       "stream": "stdout",
       "text": [
        "\n",
        "1 chirp regions found for event 56 tree wftree_06_09_10\n",
        "1 chirp regions found for event 57 tree wftree_06_09_10\n",
        "1 chirp regions found for event 58 tree wftree_06_09_10\n",
        "2 chirp regions found for event 60 tree wftree_06_09_10\n",
        "1 chirp regions found for event 62 tree wftree_06_09_10\n",
        "1 chirp regions found for event 64 tree wftree_06_09_10"
       ]
      },
      {
       "output_type": "stream",
       "stream": "stdout",
       "text": [
        "\n",
        "1 chirp regions found for event 65 tree wftree_06_09_10\n",
        "2 chirp regions found for event 68 tree wftree_06_09_10\n",
        "1 chirp regions found for event 69 tree wftree_06_09_10\n",
        "1 chirp regions found for event 71 tree wftree_06_09_10\n",
        "1 chirp regions found for event 73 tree wftree_06_09_10"
       ]
      },
      {
       "output_type": "stream",
       "stream": "stdout",
       "text": [
        "\n",
        "1 chirp regions found for event 76 tree wftree_06_09_10\n",
        "1 chirp regions found for event 79 tree wftree_06_09_10\n",
        "1 chirp regions found for event 80 tree wftree_06_09_10\n",
        "2 chirp regions found for event 81 tree wftree_06_09_10\n",
        "1 chirp regions found for event 82 tree wftree_06_09_10"
       ]
      },
      {
       "output_type": "stream",
       "stream": "stdout",
       "text": [
        "\n",
        "2 chirp regions found for event 83 tree wftree_06_09_10\n",
        "1 chirp regions found for event 84 tree wftree_06_09_10\n",
        "1 chirp regions found for event 85 tree wftree_06_09_10\n",
        "1 chirp regions found for event 88 tree wftree_06_09_10\n",
        "1 chirp regions found for event 89 tree wftree_06_09_10\n",
        "1 chirp regions found for event 91 tree wftree_06_09_10"
       ]
      },
      {
       "output_type": "stream",
       "stream": "stdout",
       "text": [
        "\n",
        "1 chirp regions found for event 92 tree wftree_06_09_10\n",
        "3 chirp regions found for event 93 tree wftree_06_09_10\n",
        "2 chirp regions found for event 94 tree wftree_06_09_10\n",
        "2 chirp regions found for event 95 tree wftree_06_09_10\n",
        "1 chirp regions found for event 96 tree wftree_06_09_10\n",
        "2 chirp regions found for event 99 tree wftree_06_09_10\n",
        "2 chirp regions found for event 1 tree wftree_06_09_10"
       ]
      },
      {
       "output_type": "stream",
       "stream": "stdout",
       "text": [
        "\n",
        "2 chirp regions found for event 2 tree wftree_06_09_10\n",
        "1 chirp regions found for event 4 tree wftree_06_09_10\n",
        "1 chirp regions found for event 5 tree wftree_06_09_10\n",
        "1 chirp regions found for event 6 tree wftree_06_09_10\n",
        "1 chirp regions found for event 7 tree wftree_06_09_10\n",
        "1 chirp regions found for event 8 tree wftree_06_09_10\n",
        "2 chirp regions found for event 13 tree wftree_06_09_10"
       ]
      },
      {
       "output_type": "stream",
       "stream": "stdout",
       "text": [
        "\n",
        "2 chirp regions found for event 16 tree wftree_06_09_10\n",
        "2 chirp regions found for event 20 tree wftree_06_09_10\n",
        "1 chirp regions found for event 21 tree wftree_06_09_10\n",
        "1 chirp regions found for event 23 tree wftree_06_09_10"
       ]
      },
      {
       "output_type": "stream",
       "stream": "stdout",
       "text": [
        "\n",
        "1 chirp regions found for event 26 tree wftree_06_09_10\n",
        "1 chirp regions found for event 27 tree wftree_06_09_10\n",
        "2 chirp regions found for event 29 tree wftree_06_09_10\n",
        "1 chirp regions found for event 31 tree wftree_06_09_10\n",
        "1 chirp regions found for event 32 tree wftree_06_09_10"
       ]
      },
      {
       "output_type": "stream",
       "stream": "stdout",
       "text": [
        "\n",
        "1 chirp regions found for event 35 tree wftree_06_09_10\n",
        "1 chirp regions found for event 38 tree wftree_06_09_10\n",
        "1 chirp regions found for event 39 tree wftree_06_09_10\n",
        "1 chirp regions found for event 40 tree wftree_06_09_10\n",
        "1 chirp regions found for event 41 tree wftree_06_09_10"
       ]
      },
      {
       "output_type": "stream",
       "stream": "stdout",
       "text": [
        "\n",
        "1 chirp regions found for event 45 tree wftree_06_09_10\n",
        "1 chirp regions found for event 50 tree wftree_06_09_10"
       ]
      },
      {
       "output_type": "stream",
       "stream": "stdout",
       "text": [
        "\n",
        "1 chirp regions found for event 51 tree wftree_06_09_10\n",
        "1 chirp regions found for event 55 tree wftree_06_09_10\n",
        "1 chirp regions found for event 56 tree wftree_06_09_10\n",
        "2 chirp regions found for event 57 tree wftree_06_09_10\n",
        "1 chirp regions found for event 58 tree wftree_06_09_10\n",
        "3 chirp regions found for event 61 tree wftree_06_09_10"
       ]
      },
      {
       "output_type": "stream",
       "stream": "stdout",
       "text": [
        "\n",
        "1 chirp regions found for event 62 tree wftree_06_09_10\n",
        "1 chirp regions found for event 65 tree wftree_06_09_10\n",
        "1 chirp regions found for event 66 tree wftree_06_09_10\n",
        "1 chirp regions found for event 68 tree wftree_06_09_10\n",
        "1 chirp regions found for event 72 tree wftree_06_09_10"
       ]
      },
      {
       "output_type": "stream",
       "stream": "stdout",
       "text": [
        "\n",
        "1 chirp regions found for event 73 tree wftree_06_09_10\n",
        "1 chirp regions found for event 74 tree wftree_06_09_10\n",
        "3 chirp regions found for event 76 tree wftree_06_09_10\n",
        "1 chirp regions found for event 77 tree wftree_06_09_10\n",
        "1 chirp regions found for event 79 tree wftree_06_09_10\n",
        "1 chirp regions found for event 83 tree wftree_06_09_10"
       ]
      },
      {
       "output_type": "stream",
       "stream": "stdout",
       "text": [
        "\n",
        "1 chirp regions found for event 87 tree wftree_06_09_10\n",
        "1 chirp regions found for event 91 tree wftree_06_09_10\n",
        "1 chirp regions found for event 92 tree wftree_06_09_10"
       ]
      },
      {
       "output_type": "stream",
       "stream": "stdout",
       "text": [
        "\n",
        "1 chirp regions found for event 93 tree wftree_06_09_10\n",
        "2 chirp regions found for event 99 tree wftree_06_09_10\n",
        "2 chirp regions found for event 0 tree wftree_06_09_10\n",
        "1 chirp regions found for event 1 tree wftree_06_09_10"
       ]
      },
      {
       "output_type": "stream",
       "stream": "stdout",
       "text": [
        "\n",
        "2 chirp regions found for event 2 tree wftree_06_09_10\n",
        "1 chirp regions found for event 6 tree wftree_06_09_10\n",
        "1 chirp regions found for event 7 tree wftree_06_09_10\n",
        "1 chirp regions found for event 8 tree wftree_06_09_10\n",
        "2 chirp regions found for event 9 tree wftree_06_09_10\n",
        "3 chirp regions found for event 10 tree wftree_06_09_10"
       ]
      },
      {
       "output_type": "stream",
       "stream": "stdout",
       "text": [
        "\n",
        "1 chirp regions found for event 11 tree wftree_06_09_10\n",
        "1 chirp regions found for event 12 tree wftree_06_09_10\n",
        "1 chirp regions found for event 13 tree wftree_06_09_10\n",
        "2 chirp regions found for event 14 tree wftree_06_09_10\n",
        "2 chirp regions found for event 16 tree wftree_06_09_10\n",
        "2 chirp regions found for event 18 tree wftree_06_09_10\n",
        "1 chirp regions found for event 19 tree wftree_06_09_10"
       ]
      },
      {
       "output_type": "stream",
       "stream": "stdout",
       "text": [
        "\n",
        "2 chirp regions found for event 21 tree wftree_06_09_10\n",
        "2 chirp regions found for event 23 tree wftree_06_09_10\n",
        "1 chirp regions found for event 24 tree wftree_06_09_10\n",
        "1 chirp regions found for event 25 tree wftree_06_09_10\n",
        "1 chirp regions found for event 28 tree wftree_06_09_10"
       ]
      },
      {
       "output_type": "stream",
       "stream": "stdout",
       "text": [
        "\n",
        "2 chirp regions found for event 29 tree wftree_06_09_10\n",
        "1 chirp regions found for event 30 tree wftree_06_09_10\n",
        "1 chirp regions found for event 33 tree wftree_06_09_10\n",
        "2 chirp regions found for event 35 tree wftree_06_09_10\n",
        "1 chirp regions found for event 36 tree wftree_06_09_10\n",
        "2 chirp regions found for event 37 tree wftree_06_09_10"
       ]
      },
      {
       "output_type": "stream",
       "stream": "stdout",
       "text": [
        "\n",
        "1 chirp regions found for event 38 tree wftree_06_09_10\n",
        "2 chirp regions found for event 39 tree wftree_06_09_10\n",
        "4 chirp regions found for event 43 tree wftree_06_09_10\n",
        "1 chirp regions found for event 45 tree wftree_06_09_10\n",
        "2 chirp regions found for event 54 tree wftree_06_09_10"
       ]
      },
      {
       "output_type": "stream",
       "stream": "stdout",
       "text": [
        "\n",
        "2 chirp regions found for event 60 tree wftree_06_09_10\n",
        "1 chirp regions found for event 63 tree wftree_06_09_10"
       ]
      },
      {
       "output_type": "stream",
       "stream": "stdout",
       "text": [
        "\n",
        "3 chirp regions found for event 67 tree wftree_06_09_10\n",
        "1 chirp regions found for event 78 tree wftree_06_09_10"
       ]
      },
      {
       "output_type": "stream",
       "stream": "stdout",
       "text": [
        "\n",
        "1 chirp regions found for event 79 tree wftree_06_09_10\n",
        "1 chirp regions found for event 82 tree wftree_06_09_10\n",
        "2 chirp regions found for event 88 tree wftree_06_09_10"
       ]
      },
      {
       "output_type": "stream",
       "stream": "stdout",
       "text": [
        "\n",
        "1 chirp regions found for event 90 tree wftree_06_09_10\n",
        "1 chirp regions found for event 93 tree wftree_06_09_10\n",
        "1 chirp regions found for event 94 tree wftree_06_09_10\n",
        "1 chirp regions found for event 95 tree wftree_06_09_10\n",
        "1 chirp regions found for event 98 tree wftree_06_09_10"
       ]
      },
      {
       "output_type": "stream",
       "stream": "stdout",
       "text": [
        "\n",
        "1 chirp regions found for event 99 tree wftree_06_09_10\n",
        "8 chirp regions found for event 0 tree wftree_06_09_10\n",
        "7 chirp regions found for event 1 tree wftree_06_09_10\n",
        "4 chirp regions found for event 2 tree wftree_06_09_10\n",
        "6 chirp regions found for event 3 tree wftree_06_09_10\n",
        "7 chirp regions found for event 4 tree wftree_06_09_10\n",
        "6 chirp regions found for event 5 tree wftree_06_09_10\n",
        "9 chirp regions found for event 6 tree wftree_06_09_10\n",
        "4 chirp regions found for event 7 tree wftree_06_09_10"
       ]
      },
      {
       "output_type": "stream",
       "stream": "stdout",
       "text": [
        "\n",
        "6 chirp regions found for event 8 tree wftree_06_09_10\n",
        "4 chirp regions found for event 9 tree wftree_06_09_10\n",
        "5 chirp regions found for event 10 tree wftree_06_09_10\n",
        "8 chirp regions found for event 11 tree wftree_06_09_10\n",
        "5 chirp regions found for event 12 tree wftree_06_09_10\n",
        "4 chirp regions found for event 13 tree wftree_06_09_10\n",
        "6 chirp regions found for event 14 tree wftree_06_09_10\n",
        "7 chirp regions found for event 15 tree wftree_06_09_10\n",
        "6 chirp regions found for event 16 tree wftree_06_09_10"
       ]
      },
      {
       "output_type": "stream",
       "stream": "stdout",
       "text": [
        "\n",
        "4 chirp regions found for event 17 tree wftree_06_09_10\n",
        "4 chirp regions found for event 18 tree wftree_06_09_10\n",
        "6 chirp regions found for event 19 tree wftree_06_09_10\n",
        "2 chirp regions found for event 20 tree wftree_06_09_10\n",
        "5 chirp regions found for event 21 tree wftree_06_09_10\n",
        "4 chirp regions found for event 22 tree wftree_06_09_10\n",
        "5 chirp regions found for event 23 tree wftree_06_09_10\n",
        "4 chirp regions found for event 24 tree wftree_06_09_10\n",
        "10 chirp regions found for event 25 tree wftree_06_09_10"
       ]
      },
      {
       "output_type": "stream",
       "stream": "stdout",
       "text": [
        "\n",
        "2 chirp regions found for event 26 tree wftree_06_09_10\n",
        "5 chirp regions found for event 27 tree wftree_06_09_10\n",
        "7 chirp regions found for event 28 tree wftree_06_09_10\n",
        "2 chirp regions found for event 29 tree wftree_06_09_10\n",
        "6 chirp regions found for event 30 tree wftree_06_09_10\n",
        "6 chirp regions found for event 31 tree wftree_06_09_10\n",
        "5 chirp regions found for event 32 tree wftree_06_09_10\n",
        "6 chirp regions found for event 33 tree wftree_06_09_10\n",
        "2 chirp regions found for event 34 tree wftree_06_09_10"
       ]
      },
      {
       "output_type": "stream",
       "stream": "stdout",
       "text": [
        "\n",
        "7 chirp regions found for event 35 tree wftree_06_09_10\n",
        "7 chirp regions found for event 36 tree wftree_06_09_10\n",
        "7 chirp regions found for event 37 tree wftree_06_09_10\n",
        "3 chirp regions found for event 38 tree wftree_06_09_10\n",
        "3 chirp regions found for event 39 tree wftree_06_09_10\n",
        "10 chirp regions found for event 40 tree wftree_06_09_10\n",
        "4 chirp regions found for event 41 tree wftree_06_09_10\n",
        "6 chirp regions found for event 42 tree wftree_06_09_10\n",
        "7 chirp regions found for event 43 tree wftree_06_09_10"
       ]
      },
      {
       "output_type": "stream",
       "stream": "stdout",
       "text": [
        "\n",
        "6 chirp regions found for event 44 tree wftree_06_09_10\n",
        "7 chirp regions found for event 45 tree wftree_06_09_10\n",
        "5 chirp regions found for event 46 tree wftree_06_09_10\n",
        "4 chirp regions found for event 47 tree wftree_06_09_10\n",
        "10 chirp regions found for event 48 tree wftree_06_09_10\n",
        "3 chirp regions found for event 49 tree wftree_06_09_10\n",
        "1 chirp regions found for event 50 tree wftree_06_09_10\n",
        "6 chirp regions found for event 51 tree wftree_06_09_10\n",
        "4 chirp regions found for event 52 tree wftree_06_09_10"
       ]
      },
      {
       "output_type": "stream",
       "stream": "stdout",
       "text": [
        "\n",
        "5 chirp regions found for event 53 tree wftree_06_09_10\n",
        "5 chirp regions found for event 54 tree wftree_06_09_10\n",
        "4 chirp regions found for event 55 tree wftree_06_09_10\n",
        "4 chirp regions found for event 56 tree wftree_06_09_10\n",
        "6 chirp regions found for event 57 tree wftree_06_09_10\n",
        "10 chirp regions found for event 58 tree wftree_06_09_10\n",
        "6 chirp regions found for event 59 tree wftree_06_09_10\n",
        "5 chirp regions found for event 60 tree wftree_06_09_10\n",
        "3 chirp regions found for event 61 tree wftree_06_09_10"
       ]
      },
      {
       "output_type": "stream",
       "stream": "stdout",
       "text": [
        "\n",
        "3 chirp regions found for event 62 tree wftree_06_09_10\n",
        "7 chirp regions found for event 63 tree wftree_06_09_10\n",
        "7 chirp regions found for event 64 tree wftree_06_09_10\n",
        "5 chirp regions found for event 65 tree wftree_06_09_10\n",
        "6 chirp regions found for event 66 tree wftree_06_09_10\n",
        "8 chirp regions found for event 67 tree wftree_06_09_10\n",
        "10 chirp regions found for event 68 tree wftree_06_09_10\n",
        "4 chirp regions found for event 69 tree wftree_06_09_10\n",
        "7 chirp regions found for event 70 tree wftree_06_09_10"
       ]
      },
      {
       "output_type": "stream",
       "stream": "stdout",
       "text": [
        "\n",
        "5 chirp regions found for event 71 tree wftree_06_09_10\n",
        "9 chirp regions found for event 72 tree wftree_06_09_10\n",
        "3 chirp regions found for event 73 tree wftree_06_09_10\n",
        "7 chirp regions found for event 74 tree wftree_06_09_10\n",
        "7 chirp regions found for event 75 tree wftree_06_09_10\n",
        "6 chirp regions found for event 76 tree wftree_06_09_10\n",
        "4 chirp regions found for event 77 tree wftree_06_09_10\n",
        "2 chirp regions found for event 78 tree wftree_06_09_10\n",
        "7 chirp regions found for event 79 tree wftree_06_09_10"
       ]
      },
      {
       "output_type": "stream",
       "stream": "stdout",
       "text": [
        "\n",
        "4 chirp regions found for event 80 tree wftree_06_09_10\n",
        "6 chirp regions found for event 81 tree wftree_06_09_10\n",
        "8 chirp regions found for event 82 tree wftree_06_09_10\n",
        "3 chirp regions found for event 83 tree wftree_06_09_10\n",
        "8 chirp regions found for event 84 tree wftree_06_09_10\n",
        "10 chirp regions found for event 85 tree wftree_06_09_10\n",
        "8 chirp regions found for event 86 tree wftree_06_09_10\n",
        "4 chirp regions found for event 87 tree wftree_06_09_10\n",
        "11 chirp regions found for event 88 tree wftree_06_09_10"
       ]
      },
      {
       "output_type": "stream",
       "stream": "stdout",
       "text": [
        "\n",
        "5 chirp regions found for event 89 tree wftree_06_09_10\n",
        "3 chirp regions found for event 90 tree wftree_06_09_10\n",
        "3 chirp regions found for event 91 tree wftree_06_09_10\n",
        "5 chirp regions found for event 92 tree wftree_06_09_10\n",
        "7 chirp regions found for event 93 tree wftree_06_09_10\n",
        "6 chirp regions found for event 94 tree wftree_06_09_10\n",
        "6 chirp regions found for event 95 tree wftree_06_09_10\n",
        "6 chirp regions found for event 96 tree wftree_06_09_10"
       ]
      },
      {
       "output_type": "stream",
       "stream": "stdout",
       "text": [
        "\n",
        "5 chirp regions found for event 97 tree wftree_06_09_10\n",
        "6 chirp regions found for event 98 tree wftree_06_09_10\n",
        "4 chirp regions found for event 99 tree wftree_06_09_10\n",
        "3 chirp regions found for event 0 tree wftree_06_09_10\n",
        "7 chirp regions found for event 1 tree wftree_06_09_10\n",
        "5 chirp regions found for event 2 tree wftree_06_09_10\n",
        "8 chirp regions found for event 3 tree wftree_06_09_10\n",
        "5 chirp regions found for event 4 tree wftree_06_09_10\n",
        "3 chirp regions found for event 5 tree wftree_06_09_10"
       ]
      },
      {
       "output_type": "stream",
       "stream": "stdout",
       "text": [
        "\n",
        "8 chirp regions found for event 6 tree wftree_06_09_10\n",
        "10 chirp regions found for event 7 tree wftree_06_09_10\n",
        "3 chirp regions found for event 8 tree wftree_06_09_10\n",
        "9 chirp regions found for event 9 tree wftree_06_09_10\n",
        "3 chirp regions found for event 10 tree wftree_06_09_10\n",
        "2 chirp regions found for event 11 tree wftree_06_09_10\n",
        "6 chirp regions found for event 12 tree wftree_06_09_10\n",
        "7 chirp regions found for event 13 tree wftree_06_09_10\n",
        "6 chirp regions found for event 14 tree wftree_06_09_10"
       ]
      },
      {
       "output_type": "stream",
       "stream": "stdout",
       "text": [
        "\n",
        "8 chirp regions found for event 15 tree wftree_06_09_10\n",
        "7 chirp regions found for event 16 tree wftree_06_09_10\n",
        "3 chirp regions found for event 17 tree wftree_06_09_10\n",
        "3 chirp regions found for event 18 tree wftree_06_09_10\n",
        "9 chirp regions found for event 19 tree wftree_06_09_10\n",
        "6 chirp regions found for event 20 tree wftree_06_09_10\n",
        "10 chirp regions found for event 21 tree wftree_06_09_10\n",
        "7 chirp regions found for event 22 tree wftree_06_09_10\n",
        "5 chirp regions found for event 23 tree wftree_06_09_10"
       ]
      },
      {
       "output_type": "stream",
       "stream": "stdout",
       "text": [
        "\n",
        "5 chirp regions found for event 24 tree wftree_06_09_10\n",
        "6 chirp regions found for event 25 tree wftree_06_09_10\n",
        "7 chirp regions found for event 26 tree wftree_06_09_10\n",
        "6 chirp regions found for event 27 tree wftree_06_09_10\n",
        "10 chirp regions found for event 28 tree wftree_06_09_10\n",
        "6 chirp regions found for event 29 tree wftree_06_09_10\n",
        "6 chirp regions found for event 30 tree wftree_06_09_10\n",
        "4 chirp regions found for event 31 tree wftree_06_09_10\n",
        "3 chirp regions found for event 32 tree wftree_06_09_10"
       ]
      },
      {
       "output_type": "stream",
       "stream": "stdout",
       "text": [
        "\n",
        "4 chirp regions found for event 33 tree wftree_06_09_10\n",
        "5 chirp regions found for event 34 tree wftree_06_09_10\n",
        "5 chirp regions found for event 35 tree wftree_06_09_10\n",
        "5 chirp regions found for event 36 tree wftree_06_09_10\n",
        "6 chirp regions found for event 37 tree wftree_06_09_10\n",
        "8 chirp regions found for event 38 tree wftree_06_09_10\n",
        "5 chirp regions found for event 39 tree wftree_06_09_10\n",
        "6 chirp regions found for event 40 tree wftree_06_09_10\n",
        "6 chirp regions found for event 41 tree wftree_06_09_10"
       ]
      },
      {
       "output_type": "stream",
       "stream": "stdout",
       "text": [
        "\n",
        "7 chirp regions found for event 42 tree wftree_06_09_10\n",
        "8 chirp regions found for event 43 tree wftree_06_09_10\n",
        "9 chirp regions found for event 44 tree wftree_06_09_10\n",
        "7 chirp regions found for event 45 tree wftree_06_09_10\n",
        "8 chirp regions found for event 46 tree wftree_06_09_10\n",
        "9 chirp regions found for event 47 tree wftree_06_09_10\n",
        "13 chirp regions found for event 48 tree wftree_06_09_10\n",
        "6 chirp regions found for event 49 tree wftree_06_09_10\n",
        "8 chirp regions found for event 50 tree wftree_06_09_10"
       ]
      },
      {
       "output_type": "stream",
       "stream": "stdout",
       "text": [
        "\n",
        "7 chirp regions found for event 51 tree wftree_06_09_10\n",
        "8 chirp regions found for event 52 tree wftree_06_09_10\n",
        "8 chirp regions found for event 53 tree wftree_06_09_10\n",
        "10 chirp regions found for event 54 tree wftree_06_09_10\n",
        "5 chirp regions found for event 55 tree wftree_06_09_10\n",
        "6 chirp regions found for event 56 tree wftree_06_09_10\n",
        "2 chirp regions found for event 57 tree wftree_06_09_10\n",
        "10 chirp regions found for event 58 tree wftree_06_09_10\n",
        "5 chirp regions found for event 59 tree wftree_06_09_10"
       ]
      },
      {
       "output_type": "stream",
       "stream": "stdout",
       "text": [
        "\n",
        "7 chirp regions found for event 60 tree wftree_06_09_10\n",
        "5 chirp regions found for event 61 tree wftree_06_09_10\n",
        "8 chirp regions found for event 62 tree wftree_06_09_10\n",
        "4 chirp regions found for event 63 tree wftree_06_09_10\n",
        "8 chirp regions found for event 64 tree wftree_06_09_10\n",
        "7 chirp regions found for event 65 tree wftree_06_09_10\n",
        "6 chirp regions found for event 66 tree wftree_06_09_10\n",
        "10 chirp regions found for event 67 tree wftree_06_09_10\n",
        "6 chirp regions found for event 68 tree wftree_06_09_10"
       ]
      },
      {
       "output_type": "stream",
       "stream": "stdout",
       "text": [
        "\n",
        "5 chirp regions found for event 69 tree wftree_06_09_10\n",
        "3 chirp regions found for event 70 tree wftree_06_09_10\n",
        "5 chirp regions found for event 71 tree wftree_06_09_10\n",
        "8 chirp regions found for event 72 tree wftree_06_09_10\n",
        "9 chirp regions found for event 73 tree wftree_06_09_10\n",
        "6 chirp regions found for event 74 tree wftree_06_09_10\n",
        "6 chirp regions found for event 75 tree wftree_06_09_10\n",
        "6 chirp regions found for event 76 tree wftree_06_09_10\n",
        "9 chirp regions found for event 77 tree wftree_06_09_10"
       ]
      },
      {
       "output_type": "stream",
       "stream": "stdout",
       "text": [
        "\n",
        "2 chirp regions found for event 78 tree wftree_06_09_10\n",
        "6 chirp regions found for event 79 tree wftree_06_09_10\n",
        "7 chirp regions found for event 80 tree wftree_06_09_10\n",
        "5 chirp regions found for event 81 tree wftree_06_09_10\n",
        "8 chirp regions found for event 82 tree wftree_06_09_10\n",
        "12 chirp regions found for event 83 tree wftree_06_09_10\n",
        "3 chirp regions found for event 84 tree wftree_06_09_10\n",
        "12 chirp regions found for event 85 tree wftree_06_09_10\n",
        "9 chirp regions found for event 86 tree wftree_06_09_10"
       ]
      },
      {
       "output_type": "stream",
       "stream": "stdout",
       "text": [
        "\n",
        "4 chirp regions found for event 87 tree wftree_06_09_10\n",
        "6 chirp regions found for event 88 tree wftree_06_09_10\n",
        "4 chirp regions found for event 89 tree wftree_06_09_10\n",
        "14 chirp regions found for event 91 tree wftree_06_09_10\n",
        "10 chirp regions found for event 92 tree wftree_06_09_10\n",
        "10 chirp regions found for event 93 tree wftree_06_09_10\n",
        "5 chirp regions found for event 94 tree wftree_06_09_10\n",
        "5 chirp regions found for event 95 tree wftree_06_09_10"
       ]
      },
      {
       "output_type": "stream",
       "stream": "stdout",
       "text": [
        "\n",
        "3 chirp regions found for event 96 tree wftree_06_09_10\n",
        "7 chirp regions found for event 97 tree wftree_06_09_10\n",
        "6 chirp regions found for event 98 tree wftree_06_09_10\n",
        "7 chirp regions found for event 99 tree wftree_06_09_10\n",
        "1 chirp regions found for event 0 tree wftree_06_09_10\n",
        "1 chirp regions found for event 1 tree wftree_06_09_10\n",
        "1 chirp regions found for event 2 tree wftree_06_09_10\n",
        "2 chirp regions found for event 3 tree wftree_06_09_10\n",
        "1 chirp regions found for event 5 tree wftree_06_09_10"
       ]
      },
      {
       "output_type": "stream",
       "stream": "stdout",
       "text": [
        "\n",
        "1 chirp regions found for event 8 tree wftree_06_09_10\n",
        "2 chirp regions found for event 9 tree wftree_06_09_10\n",
        "2 chirp regions found for event 11 tree wftree_06_09_10\n",
        "1 chirp regions found for event 12 tree wftree_06_09_10\n",
        "3 chirp regions found for event 16 tree wftree_06_09_10"
       ]
      },
      {
       "output_type": "stream",
       "stream": "stdout",
       "text": [
        "\n",
        "2 chirp regions found for event 17 tree wftree_06_09_10\n",
        "2 chirp regions found for event 20 tree wftree_06_09_10\n",
        "1 chirp regions found for event 21 tree wftree_06_09_10\n",
        "1 chirp regions found for event 22 tree wftree_06_09_10\n",
        "1 chirp regions found for event 25 tree wftree_06_09_10"
       ]
      },
      {
       "output_type": "stream",
       "stream": "stdout",
       "text": [
        "\n",
        "2 chirp regions found for event 26 tree wftree_06_09_10\n",
        "1 chirp regions found for event 28 tree wftree_06_09_10\n",
        "1 chirp regions found for event 29 tree wftree_06_09_10\n",
        "1 chirp regions found for event 30 tree wftree_06_09_10\n",
        "2 chirp regions found for event 33 tree wftree_06_09_10\n",
        "1 chirp regions found for event 34 tree wftree_06_09_10"
       ]
      },
      {
       "output_type": "stream",
       "stream": "stdout",
       "text": [
        "\n",
        "2 chirp regions found for event 37 tree wftree_06_09_10\n",
        "2 chirp regions found for event 41 tree wftree_06_09_10\n",
        "1 chirp regions found for event 44 tree wftree_06_09_10"
       ]
      },
      {
       "output_type": "stream",
       "stream": "stdout",
       "text": [
        "\n",
        "1 chirp regions found for event 45 tree wftree_06_09_10\n",
        "1 chirp regions found for event 46 tree wftree_06_09_10\n",
        "1 chirp regions found for event 48 tree wftree_06_09_10\n",
        "2 chirp regions found for event 50 tree wftree_06_09_10\n",
        "2 chirp regions found for event 52 tree wftree_06_09_10\n",
        "2 chirp regions found for event 53 tree wftree_06_09_10"
       ]
      },
      {
       "output_type": "stream",
       "stream": "stdout",
       "text": [
        "\n",
        "1 chirp regions found for event 54 tree wftree_06_09_10\n",
        "1 chirp regions found for event 56 tree wftree_06_09_10\n",
        "1 chirp regions found for event 58 tree wftree_06_09_10\n",
        "1 chirp regions found for event 60 tree wftree_06_09_10\n",
        "1 chirp regions found for event 63 tree wftree_06_09_10"
       ]
      },
      {
       "output_type": "stream",
       "stream": "stdout",
       "text": [
        "\n",
        "2 chirp regions found for event 64 tree wftree_06_09_10\n",
        "1 chirp regions found for event 67 tree wftree_06_09_10\n",
        "1 chirp regions found for event 70 tree wftree_06_09_10\n",
        "2 chirp regions found for event 72 tree wftree_06_09_10"
       ]
      },
      {
       "output_type": "stream",
       "stream": "stdout",
       "text": [
        "\n",
        "1 chirp regions found for event 73 tree wftree_06_09_10\n",
        "1 chirp regions found for event 75 tree wftree_06_09_10\n",
        "3 chirp regions found for event 77 tree wftree_06_09_10\n",
        "1 chirp regions found for event 78 tree wftree_06_09_10\n",
        "1 chirp regions found for event 79 tree wftree_06_09_10\n",
        "1 chirp regions found for event 81 tree wftree_06_09_10"
       ]
      },
      {
       "output_type": "stream",
       "stream": "stdout",
       "text": [
        "\n",
        "1 chirp regions found for event 82 tree wftree_06_09_10\n",
        "1 chirp regions found for event 83 tree wftree_06_09_10\n",
        "1 chirp regions found for event 87 tree wftree_06_09_10\n",
        "1 chirp regions found for event 90 tree wftree_06_09_10"
       ]
      },
      {
       "output_type": "stream",
       "stream": "stdout",
       "text": [
        "\n",
        "1 chirp regions found for event 91 tree wftree_06_09_10\n",
        "1 chirp regions found for event 96 tree wftree_06_09_10\n",
        "1 chirp regions found for event 97 tree wftree_06_09_10\n",
        "4 chirp regions found for event 0 tree wftree_06_09_10"
       ]
      },
      {
       "output_type": "stream",
       "stream": "stdout",
       "text": [
        "\n",
        "7 chirp regions found for event 1 tree wftree_06_09_10\n",
        "8 chirp regions found for event 2 tree wftree_06_09_10\n",
        "10 chirp regions found for event 3 tree wftree_06_09_10\n",
        "7 chirp regions found for event 4 tree wftree_06_09_10\n",
        "5 chirp regions found for event 5 tree wftree_06_09_10\n",
        "4 chirp regions found for event 6 tree wftree_06_09_10\n",
        "6 chirp regions found for event 7 tree wftree_06_09_10\n",
        "4 chirp regions found for event 8 tree wftree_06_09_10\n",
        "5 chirp regions found for event 9 tree wftree_06_09_10"
       ]
      },
      {
       "output_type": "stream",
       "stream": "stdout",
       "text": [
        "\n",
        "9 chirp regions found for event 10 tree wftree_06_09_10\n",
        "5 chirp regions found for event 11 tree wftree_06_09_10\n",
        "3 chirp regions found for event 12 tree wftree_06_09_10\n",
        "4 chirp regions found for event 13 tree wftree_06_09_10\n",
        "3 chirp regions found for event 14 tree wftree_06_09_10\n",
        "5 chirp regions found for event 15 tree wftree_06_09_10\n",
        "6 chirp regions found for event 16 tree wftree_06_09_10\n",
        "8 chirp regions found for event 17 tree wftree_06_09_10\n",
        "10 chirp regions found for event 18 tree wftree_06_09_10"
       ]
      },
      {
       "output_type": "stream",
       "stream": "stdout",
       "text": [
        "\n",
        "5 chirp regions found for event 19 tree wftree_06_09_10\n",
        "4 chirp regions found for event 21 tree wftree_06_09_10\n",
        "5 chirp regions found for event 22 tree wftree_06_09_10\n",
        "9 chirp regions found for event 23 tree wftree_06_09_10\n",
        "6 chirp regions found for event 24 tree wftree_06_09_10\n",
        "4 chirp regions found for event 25 tree wftree_06_09_10\n",
        "6 chirp regions found for event 26 tree wftree_06_09_10\n",
        "2 chirp regions found for event 27 tree wftree_06_09_10"
       ]
      },
      {
       "output_type": "stream",
       "stream": "stdout",
       "text": [
        "\n",
        "7 chirp regions found for event 28 tree wftree_06_09_10\n",
        "5 chirp regions found for event 29 tree wftree_06_09_10\n",
        "5 chirp regions found for event 30 tree wftree_06_09_10\n",
        "3 chirp regions found for event 31 tree wftree_06_09_10\n",
        "4 chirp regions found for event 32 tree wftree_06_09_10\n",
        "2 chirp regions found for event 33 tree wftree_06_09_10\n",
        "9 chirp regions found for event 34 tree wftree_06_09_10\n",
        "7 chirp regions found for event 35 tree wftree_06_09_10\n",
        "3 chirp regions found for event 36 tree wftree_06_09_10"
       ]
      },
      {
       "output_type": "stream",
       "stream": "stdout",
       "text": [
        "\n",
        "5 chirp regions found for event 37 tree wftree_06_09_10\n",
        "5 chirp regions found for event 38 tree wftree_06_09_10\n",
        "6 chirp regions found for event 39 tree wftree_06_09_10\n",
        "9 chirp regions found for event 40 tree wftree_06_09_10\n",
        "4 chirp regions found for event 41 tree wftree_06_09_10\n",
        "7 chirp regions found for event 42 tree wftree_06_09_10\n",
        "4 chirp regions found for event 43 tree wftree_06_09_10\n",
        "4 chirp regions found for event 44 tree wftree_06_09_10\n",
        "8 chirp regions found for event 45 tree wftree_06_09_10"
       ]
      },
      {
       "output_type": "stream",
       "stream": "stdout",
       "text": [
        "\n",
        "6 chirp regions found for event 46 tree wftree_06_09_10\n",
        "4 chirp regions found for event 47 tree wftree_06_09_10\n",
        "3 chirp regions found for event 48 tree wftree_06_09_10\n",
        "5 chirp regions found for event 49 tree wftree_06_09_10\n",
        "5 chirp regions found for event 50 tree wftree_06_09_10\n",
        "5 chirp regions found for event 51 tree wftree_06_09_10\n",
        "3 chirp regions found for event 52 tree wftree_06_09_10\n",
        "6 chirp regions found for event 53 tree wftree_06_09_10\n",
        "6 chirp regions found for event 54 tree wftree_06_09_10"
       ]
      },
      {
       "output_type": "stream",
       "stream": "stdout",
       "text": [
        "\n",
        "7 chirp regions found for event 55 tree wftree_06_09_10\n",
        "9 chirp regions found for event 56 tree wftree_06_09_10\n",
        "8 chirp regions found for event 57 tree wftree_06_09_10\n",
        "5 chirp regions found for event 58 tree wftree_06_09_10\n",
        "6 chirp regions found for event 59 tree wftree_06_09_10\n",
        "9 chirp regions found for event 60 tree wftree_06_09_10\n",
        "5 chirp regions found for event 61 tree wftree_06_09_10\n",
        "6 chirp regions found for event 62 tree wftree_06_09_10\n",
        "5 chirp regions found for event 63 tree wftree_06_09_10"
       ]
      },
      {
       "output_type": "stream",
       "stream": "stdout",
       "text": [
        "\n",
        "8 chirp regions found for event 64 tree wftree_06_09_10\n",
        "6 chirp regions found for event 65 tree wftree_06_09_10\n",
        "6 chirp regions found for event 66 tree wftree_06_09_10\n",
        "2 chirp regions found for event 67 tree wftree_06_09_10\n",
        "4 chirp regions found for event 68 tree wftree_06_09_10\n",
        "9 chirp regions found for event 69 tree wftree_06_09_10\n",
        "7 chirp regions found for event 70 tree wftree_06_09_10\n",
        "6 chirp regions found for event 71 tree wftree_06_09_10\n",
        "6 chirp regions found for event 72 tree wftree_06_09_10"
       ]
      },
      {
       "output_type": "stream",
       "stream": "stdout",
       "text": [
        "\n",
        "4 chirp regions found for event 73 tree wftree_06_09_10\n",
        "5 chirp regions found for event 74 tree wftree_06_09_10\n",
        "1 chirp regions found for event 75 tree wftree_06_09_10\n",
        "5 chirp regions found for event 76 tree wftree_06_09_10\n",
        "4 chirp regions found for event 77 tree wftree_06_09_10\n",
        "5 chirp regions found for event 78 tree wftree_06_09_10\n",
        "6 chirp regions found for event 79 tree wftree_06_09_10\n",
        "6 chirp regions found for event 80 tree wftree_06_09_10\n",
        "6 chirp regions found for event 81 tree wftree_06_09_10"
       ]
      },
      {
       "output_type": "stream",
       "stream": "stdout",
       "text": [
        "\n",
        "4 chirp regions found for event 82 tree wftree_06_09_10\n",
        "6 chirp regions found for event 83 tree wftree_06_09_10\n",
        "5 chirp regions found for event 84 tree wftree_06_09_10\n",
        "6 chirp regions found for event 85 tree wftree_06_09_10\n",
        "5 chirp regions found for event 86 tree wftree_06_09_10\n",
        "4 chirp regions found for event 87 tree wftree_06_09_10"
       ]
      },
      {
       "output_type": "stream",
       "stream": "stdout",
       "text": [
        "\n",
        "5 chirp regions found for event 88 tree wftree_06_09_10\n",
        "7 chirp regions found for event 89 tree wftree_06_09_10\n",
        "6 chirp regions found for event 90 tree wftree_06_09_10\n",
        "3 chirp regions found for event 91 tree wftree_06_09_10\n",
        "6 chirp regions found for event 92 tree wftree_06_09_10\n",
        "3 chirp regions found for event 93 tree wftree_06_09_10"
       ]
      },
      {
       "output_type": "stream",
       "stream": "stdout",
       "text": [
        "\n",
        "5 chirp regions found for event 94 tree wftree_06_09_10\n",
        "6 chirp regions found for event 95 tree wftree_06_09_10\n",
        "3 chirp regions found for event 96 tree wftree_06_09_10\n",
        "8 chirp regions found for event 97 tree wftree_06_09_10\n",
        "6 chirp regions found for event 98 tree wftree_06_09_10\n",
        "4 chirp regions found for event 99 tree wftree_06_09_10\n",
        "3 chirp regions found for event 0 tree wftree_06_09_10"
       ]
      },
      {
       "output_type": "stream",
       "stream": "stdout",
       "text": [
        "\n",
        "6 chirp regions found for event 1 tree wftree_06_09_10\n",
        "7 chirp regions found for event 2 tree wftree_06_09_10\n",
        "1 chirp regions found for event 4 tree wftree_06_09_10\n",
        "2 chirp regions found for event 5 tree wftree_06_09_10\n",
        "8 chirp regions found for event 6 tree wftree_06_09_10\n",
        "8 chirp regions found for event 7 tree wftree_06_09_10\n",
        "5 chirp regions found for event 8 tree wftree_06_09_10\n",
        "2 chirp regions found for event 9 tree wftree_06_09_10"
       ]
      },
      {
       "output_type": "stream",
       "stream": "stdout",
       "text": [
        "\n",
        "5 chirp regions found for event 10 tree wftree_06_09_10\n",
        "2 chirp regions found for event 11 tree wftree_06_09_10\n",
        "6 chirp regions found for event 13 tree wftree_06_09_10\n",
        "6 chirp regions found for event 14 tree wftree_06_09_10\n",
        "3 chirp regions found for event 15 tree wftree_06_09_10"
       ]
      },
      {
       "output_type": "stream",
       "stream": "stdout",
       "text": [
        "\n",
        "6 chirp regions found for event 16 tree wftree_06_09_10\n",
        "5 chirp regions found for event 17 tree wftree_06_09_10\n",
        "9 chirp regions found for event 18 tree wftree_06_09_10\n",
        "5 chirp regions found for event 19 tree wftree_06_09_10\n",
        "8 chirp regions found for event 20 tree wftree_06_09_10\n",
        "5 chirp regions found for event 21 tree wftree_06_09_10\n",
        "2 chirp regions found for event 22 tree wftree_06_09_10\n",
        "4 chirp regions found for event 23 tree wftree_06_09_10\n",
        "4 chirp regions found for event 24 tree wftree_06_09_10"
       ]
      },
      {
       "output_type": "stream",
       "stream": "stdout",
       "text": [
        "\n",
        "4 chirp regions found for event 25 tree wftree_06_09_10\n",
        "4 chirp regions found for event 26 tree wftree_06_09_10\n",
        "4 chirp regions found for event 27 tree wftree_06_09_10\n",
        "7 chirp regions found for event 28 tree wftree_06_09_10\n",
        "2 chirp regions found for event 29 tree wftree_06_09_10\n",
        "5 chirp regions found for event 30 tree wftree_06_09_10"
       ]
      },
      {
       "output_type": "stream",
       "stream": "stdout",
       "text": [
        "\n",
        "4 chirp regions found for event 31 tree wftree_06_09_10\n",
        "9 chirp regions found for event 32 tree wftree_06_09_10\n",
        "4 chirp regions found for event 33 tree wftree_06_09_10\n",
        "5 chirp regions found for event 34 tree wftree_06_09_10\n",
        "3 chirp regions found for event 35 tree wftree_06_09_10\n",
        "6 chirp regions found for event 36 tree wftree_06_09_10\n",
        "3 chirp regions found for event 37 tree wftree_06_09_10\n",
        "7 chirp regions found for event 38 tree wftree_06_09_10\n",
        "7 chirp regions found for event 39 tree wftree_06_09_10"
       ]
      },
      {
       "output_type": "stream",
       "stream": "stdout",
       "text": [
        "\n",
        "7 chirp regions found for event 40 tree wftree_06_09_10\n",
        "6 chirp regions found for event 41 tree wftree_06_09_10\n",
        "4 chirp regions found for event 42 tree wftree_06_09_10\n",
        "7 chirp regions found for event 43 tree wftree_06_09_10\n",
        "6 chirp regions found for event 44 tree wftree_06_09_10"
       ]
      },
      {
       "output_type": "stream",
       "stream": "stdout",
       "text": [
        "\n",
        "6 chirp regions found for event 45 tree wftree_06_09_10\n",
        "3 chirp regions found for event 46 tree wftree_06_09_10\n",
        "2 chirp regions found for event 47 tree wftree_06_09_10\n",
        "6 chirp regions found for event 48 tree wftree_06_09_10\n",
        "4 chirp regions found for event 49 tree wftree_06_09_10\n",
        "2 chirp regions found for event 50 tree wftree_06_09_10\n",
        "5 chirp regions found for event 51 tree wftree_06_09_10\n",
        "3 chirp regions found for event 52 tree wftree_06_09_10\n",
        "6 chirp regions found for event 53 tree wftree_06_09_10"
       ]
      },
      {
       "output_type": "stream",
       "stream": "stdout",
       "text": [
        "\n",
        "5 chirp regions found for event 54 tree wftree_06_09_10\n",
        "1 chirp regions found for event 55 tree wftree_06_09_10\n",
        "3 chirp regions found for event 56 tree wftree_06_09_10\n",
        "5 chirp regions found for event 57 tree wftree_06_09_10\n",
        "4 chirp regions found for event 58 tree wftree_06_09_10\n",
        "8 chirp regions found for event 59 tree wftree_06_09_10\n",
        "5 chirp regions found for event 60 tree wftree_06_09_10\n",
        "6 chirp regions found for event 61 tree wftree_06_09_10"
       ]
      },
      {
       "output_type": "stream",
       "stream": "stdout",
       "text": [
        "\n",
        "6 chirp regions found for event 62 tree wftree_06_09_10\n",
        "5 chirp regions found for event 63 tree wftree_06_09_10\n",
        "6 chirp regions found for event 64 tree wftree_06_09_10\n",
        "8 chirp regions found for event 65 tree wftree_06_09_10\n",
        "9 chirp regions found for event 66 tree wftree_06_09_10\n",
        "6 chirp regions found for event 67 tree wftree_06_09_10"
       ]
      },
      {
       "output_type": "stream",
       "stream": "stdout",
       "text": [
        "\n",
        "6 chirp regions found for event 68 tree wftree_06_09_10\n",
        "3 chirp regions found for event 69 tree wftree_06_09_10\n",
        "6 chirp regions found for event 70 tree wftree_06_09_10\n",
        "4 chirp regions found for event 71 tree wftree_06_09_10\n",
        "10 chirp regions found for event 72 tree wftree_06_09_10\n",
        "4 chirp regions found for event 73 tree wftree_06_09_10\n",
        "5 chirp regions found for event 74 tree wftree_06_09_10\n",
        "4 chirp regions found for event 75 tree wftree_06_09_10\n",
        "7 chirp regions found for event 76 tree wftree_06_09_10"
       ]
      },
      {
       "output_type": "stream",
       "stream": "stdout",
       "text": [
        "\n",
        "7 chirp regions found for event 77 tree wftree_06_09_10\n",
        "4 chirp regions found for event 78 tree wftree_06_09_10\n",
        "7 chirp regions found for event 79 tree wftree_06_09_10\n",
        "3 chirp regions found for event 80 tree wftree_06_09_10\n",
        "7 chirp regions found for event 81 tree wftree_06_09_10\n",
        "7 chirp regions found for event 82 tree wftree_06_09_10"
       ]
      },
      {
       "output_type": "stream",
       "stream": "stdout",
       "text": [
        "\n",
        "5 chirp regions found for event 83 tree wftree_06_09_10\n",
        "2 chirp regions found for event 84 tree wftree_06_09_10\n",
        "5 chirp regions found for event 85 tree wftree_06_09_10\n",
        "8 chirp regions found for event 86 tree wftree_06_09_10\n",
        "3 chirp regions found for event 87 tree wftree_06_09_10\n",
        "7 chirp regions found for event 88 tree wftree_06_09_10\n",
        "2 chirp regions found for event 89 tree wftree_06_09_10\n",
        "5 chirp regions found for event 90 tree wftree_06_09_10\n",
        "5 chirp regions found for event 91 tree wftree_06_09_10"
       ]
      },
      {
       "output_type": "stream",
       "stream": "stdout",
       "text": [
        "\n",
        "2 chirp regions found for event 92 tree wftree_06_09_10\n",
        "1 chirp regions found for event 93 tree wftree_06_09_10\n",
        "4 chirp regions found for event 94 tree wftree_06_09_10\n",
        "4 chirp regions found for event 95 tree wftree_06_09_10\n",
        "5 chirp regions found for event 96 tree wftree_06_09_10\n",
        "5 chirp regions found for event 97 tree wftree_06_09_10"
       ]
      },
      {
       "output_type": "stream",
       "stream": "stdout",
       "text": [
        "\n",
        "5 chirp regions found for event 98 tree wftree_06_09_10\n",
        "4 chirp regions found for event 99 tree wftree_06_09_10\n",
        "4 chirp regions found for event 0 tree wftree_06_09_10"
       ]
      },
      {
       "output_type": "stream",
       "stream": "stdout",
       "text": [
        "\n",
        "3 chirp regions found for event 1 tree wftree_06_09_10\n",
        "3 chirp regions found for event 2 tree wftree_06_09_10\n",
        "5 chirp regions found for event 3 tree wftree_06_09_10\n",
        "6 chirp regions found for event 4 tree wftree_06_09_10\n",
        "8 chirp regions found for event 5 tree wftree_06_09_10\n",
        "3 chirp regions found for event 6 tree wftree_06_09_10\n",
        "8 chirp regions found for event 7 tree wftree_06_09_10\n",
        "2 chirp regions found for event 8 tree wftree_06_09_10\n",
        "7 chirp regions found for event 10 tree wftree_06_09_10"
       ]
      },
      {
       "output_type": "stream",
       "stream": "stdout",
       "text": [
        "\n",
        "4 chirp regions found for event 11 tree wftree_06_09_10\n",
        "5 chirp regions found for event 12 tree wftree_06_09_10\n",
        "7 chirp regions found for event 13 tree wftree_06_09_10\n",
        "4 chirp regions found for event 14 tree wftree_06_09_10\n",
        "4 chirp regions found for event 15 tree wftree_06_09_10\n",
        "5 chirp regions found for event 16 tree wftree_06_09_10\n",
        "7 chirp regions found for event 17 tree wftree_06_09_10\n",
        "6 chirp regions found for event 18 tree wftree_06_09_10\n",
        "3 chirp regions found for event 19 tree wftree_06_09_10"
       ]
      },
      {
       "output_type": "stream",
       "stream": "stdout",
       "text": [
        "\n",
        "5 chirp regions found for event 20 tree wftree_06_09_10\n",
        "6 chirp regions found for event 21 tree wftree_06_09_10\n",
        "5 chirp regions found for event 22 tree wftree_06_09_10\n",
        "6 chirp regions found for event 23 tree wftree_06_09_10\n",
        "6 chirp regions found for event 24 tree wftree_06_09_10\n",
        "6 chirp regions found for event 25 tree wftree_06_09_10\n",
        "7 chirp regions found for event 26 tree wftree_06_09_10\n",
        "7 chirp regions found for event 27 tree wftree_06_09_10\n",
        "6 chirp regions found for event 28 tree wftree_06_09_10"
       ]
      },
      {
       "output_type": "stream",
       "stream": "stdout",
       "text": [
        "\n",
        "5 chirp regions found for event 29 tree wftree_06_09_10\n",
        "4 chirp regions found for event 30 tree wftree_06_09_10\n",
        "3 chirp regions found for event 31 tree wftree_06_09_10\n",
        "7 chirp regions found for event 32 tree wftree_06_09_10\n",
        "3 chirp regions found for event 33 tree wftree_06_09_10\n",
        "1 chirp regions found for event 34 tree wftree_06_09_10\n",
        "10 chirp regions found for event 35 tree wftree_06_09_10\n",
        "3 chirp regions found for event 36 tree wftree_06_09_10\n",
        "7 chirp regions found for event 37 tree wftree_06_09_10"
       ]
      },
      {
       "output_type": "stream",
       "stream": "stdout",
       "text": [
        "\n",
        "4 chirp regions found for event 38 tree wftree_06_09_10\n",
        "4 chirp regions found for event 39 tree wftree_06_09_10\n",
        "3 chirp regions found for event 40 tree wftree_06_09_10\n",
        "3 chirp regions found for event 41 tree wftree_06_09_10\n",
        "2 chirp regions found for event 42 tree wftree_06_09_10\n",
        "6 chirp regions found for event 43 tree wftree_06_09_10\n",
        "6 chirp regions found for event 44 tree wftree_06_09_10\n",
        "1 chirp regions found for event 45 tree wftree_06_09_10\n",
        "5 chirp regions found for event 46 tree wftree_06_09_10"
       ]
      },
      {
       "output_type": "stream",
       "stream": "stdout",
       "text": [
        "\n",
        "2 chirp regions found for event 47 tree wftree_06_09_10\n",
        "1 chirp regions found for event 48 tree wftree_06_09_10\n",
        "4 chirp regions found for event 49 tree wftree_06_09_10\n",
        "3 chirp regions found for event 50 tree wftree_06_09_10\n",
        "5 chirp regions found for event 51 tree wftree_06_09_10\n",
        "4 chirp regions found for event 52 tree wftree_06_09_10\n",
        "2 chirp regions found for event 53 tree wftree_06_09_10\n",
        "3 chirp regions found for event 54 tree wftree_06_09_10"
       ]
      },
      {
       "output_type": "stream",
       "stream": "stdout",
       "text": [
        "\n",
        "5 chirp regions found for event 55 tree wftree_06_09_10\n",
        "2 chirp regions found for event 56 tree wftree_06_09_10\n",
        "4 chirp regions found for event 57 tree wftree_06_09_10\n",
        "4 chirp regions found for event 58 tree wftree_06_09_10\n",
        "4 chirp regions found for event 59 tree wftree_06_09_10\n",
        "4 chirp regions found for event 60 tree wftree_06_09_10\n",
        "2 chirp regions found for event 61 tree wftree_06_09_10\n",
        "4 chirp regions found for event 62 tree wftree_06_09_10\n",
        "5 chirp regions found for event 63 tree wftree_06_09_10"
       ]
      },
      {
       "output_type": "stream",
       "stream": "stdout",
       "text": [
        "\n",
        "7 chirp regions found for event 64 tree wftree_06_09_10\n",
        "6 chirp regions found for event 65 tree wftree_06_09_10\n",
        "5 chirp regions found for event 66 tree wftree_06_09_10\n",
        "7 chirp regions found for event 67 tree wftree_06_09_10\n",
        "6 chirp regions found for event 68 tree wftree_06_09_10\n",
        "2 chirp regions found for event 69 tree wftree_06_09_10"
       ]
      },
      {
       "output_type": "stream",
       "stream": "stdout",
       "text": [
        "\n",
        "8 chirp regions found for event 70 tree wftree_06_09_10\n",
        "6 chirp regions found for event 71 tree wftree_06_09_10\n",
        "5 chirp regions found for event 72 tree wftree_06_09_10\n",
        "4 chirp regions found for event 73 tree wftree_06_09_10\n",
        "1 chirp regions found for event 74 tree wftree_06_09_10\n",
        "2 chirp regions found for event 75 tree wftree_06_09_10\n",
        "8 chirp regions found for event 76 tree wftree_06_09_10\n",
        "5 chirp regions found for event 77 tree wftree_06_09_10\n",
        "3 chirp regions found for event 78 tree wftree_06_09_10"
       ]
      },
      {
       "output_type": "stream",
       "stream": "stdout",
       "text": [
        "\n",
        "3 chirp regions found for event 79 tree wftree_06_09_10\n",
        "8 chirp regions found for event 80 tree wftree_06_09_10\n",
        "9 chirp regions found for event 81 tree wftree_06_09_10\n",
        "5 chirp regions found for event 82 tree wftree_06_09_10\n",
        "5 chirp regions found for event 83 tree wftree_06_09_10\n",
        "5 chirp regions found for event 84 tree wftree_06_09_10\n",
        "4 chirp regions found for event 85 tree wftree_06_09_10\n",
        "5 chirp regions found for event 86 tree wftree_06_09_10"
       ]
      },
      {
       "output_type": "stream",
       "stream": "stdout",
       "text": [
        "\n",
        "5 chirp regions found for event 87 tree wftree_06_09_10\n",
        "2 chirp regions found for event 88 tree wftree_06_09_10\n",
        "4 chirp regions found for event 89 tree wftree_06_09_10\n",
        "4 chirp regions found for event 90 tree wftree_06_09_10\n",
        "6 chirp regions found for event 91 tree wftree_06_09_10\n",
        "4 chirp regions found for event 92 tree wftree_06_09_10\n",
        "3 chirp regions found for event 93 tree wftree_06_09_10"
       ]
      },
      {
       "output_type": "stream",
       "stream": "stdout",
       "text": [
        "\n",
        "6 chirp regions found for event 94 tree wftree_06_09_10\n",
        "4 chirp regions found for event 95 tree wftree_06_09_10\n",
        "4 chirp regions found for event 96 tree wftree_06_09_10\n",
        "5 chirp regions found for event 97 tree wftree_06_09_10\n",
        "5 chirp regions found for event 98 tree wftree_06_09_10\n",
        "5 chirp regions found for event 99 tree wftree_06_09_10\n",
        "1 chirp regions found for event 2 tree wftree_06_09_10"
       ]
      },
      {
       "output_type": "stream",
       "stream": "stdout",
       "text": [
        "\n",
        "1 chirp regions found for event 12 tree wftree_06_09_10"
       ]
      },
      {
       "output_type": "stream",
       "stream": "stdout",
       "text": [
        "\n",
        "2 chirp regions found for event 16 tree wftree_06_09_10\n",
        "1 chirp regions found for event 18 tree wftree_06_09_10\n",
        "1 chirp regions found for event 20 tree wftree_06_09_10\n",
        "1 chirp regions found for event 21 tree wftree_06_09_10"
       ]
      },
      {
       "output_type": "stream",
       "stream": "stdout",
       "text": [
        "\n",
        "1 chirp regions found for event 22 tree wftree_06_09_10\n",
        "1 chirp regions found for event 23 tree wftree_06_09_10\n",
        "1 chirp regions found for event 24 tree wftree_06_09_10\n",
        "1 chirp regions found for event 28 tree wftree_06_09_10\n",
        "3 chirp regions found for event 29 tree wftree_06_09_10\n",
        "1 chirp regions found for event 31 tree wftree_06_09_10"
       ]
      },
      {
       "output_type": "stream",
       "stream": "stdout",
       "text": [
        "\n",
        "1 chirp regions found for event 32 tree wftree_06_09_10\n",
        "3 chirp regions found for event 33 tree wftree_06_09_10\n",
        "1 chirp regions found for event 41 tree wftree_06_09_10"
       ]
      },
      {
       "output_type": "stream",
       "stream": "stdout",
       "text": [
        "\n",
        "1 chirp regions found for event 42 tree wftree_06_09_10\n",
        "1 chirp regions found for event 44 tree wftree_06_09_10\n",
        "3 chirp regions found for event 48 tree wftree_06_09_10\n",
        "2 chirp regions found for event 52 tree wftree_06_09_10"
       ]
      },
      {
       "output_type": "stream",
       "stream": "stdout",
       "text": [
        "\n",
        "1 chirp regions found for event 57 tree wftree_06_09_10\n",
        "2 chirp regions found for event 59 tree wftree_06_09_10\n",
        "1 chirp regions found for event 63 tree wftree_06_09_10"
       ]
      },
      {
       "output_type": "stream",
       "stream": "stdout",
       "text": [
        "\n",
        "1 chirp regions found for event 65 tree wftree_06_09_10\n",
        "2 chirp regions found for event 66 tree wftree_06_09_10\n",
        "1 chirp regions found for event 68 tree wftree_06_09_10\n",
        "1 chirp regions found for event 69 tree wftree_06_09_10\n",
        "1 chirp regions found for event 70 tree wftree_06_09_10\n",
        "1 chirp regions found for event 73 tree wftree_06_09_10"
       ]
      },
      {
       "output_type": "stream",
       "stream": "stdout",
       "text": [
        "\n",
        "1 chirp regions found for event 78 tree wftree_06_09_10\n",
        "1 chirp regions found for event 79 tree wftree_06_09_10\n",
        "1 chirp regions found for event 80 tree wftree_06_09_10\n",
        "1 chirp regions found for event 82 tree wftree_06_09_10"
       ]
      },
      {
       "output_type": "stream",
       "stream": "stdout",
       "text": [
        "\n",
        "1 chirp regions found for event 83 tree wftree_06_09_10\n",
        "2 chirp regions found for event 84 tree wftree_06_09_10\n",
        "1 chirp regions found for event 89 tree wftree_06_09_10\n",
        "1 chirp regions found for event 90 tree wftree_06_09_10"
       ]
      },
      {
       "output_type": "stream",
       "stream": "stdout",
       "text": [
        "\n",
        "1 chirp regions found for event 91 tree wftree_06_09_10\n",
        "1 chirp regions found for event 94 tree wftree_06_09_10\n",
        "1 chirp regions found for event 95 tree wftree_06_09_10\n",
        "2 chirp regions found for event 97 tree wftree_06_09_10\n",
        "1 chirp regions found for event 98 tree wftree_06_09_10"
       ]
      },
      {
       "output_type": "stream",
       "stream": "stdout",
       "text": [
        "\n",
        "3 chirp regions found for event 0 tree wftree_06_09_10\n",
        "11 chirp regions found for event 1 tree wftree_06_09_10\n",
        "7 chirp regions found for event 2 tree wftree_06_09_10\n",
        "3 chirp regions found for event 3 tree wftree_06_09_10"
       ]
      },
      {
       "output_type": "stream",
       "stream": "stdout",
       "text": [
        "\n",
        "5 chirp regions found for event 4 tree wftree_06_09_10\n",
        "5 chirp regions found for event 5 tree wftree_06_09_10\n",
        "4 chirp regions found for event 6 tree wftree_06_09_10\n",
        "7 chirp regions found for event 7 tree wftree_06_09_10\n",
        "6 chirp regions found for event 8 tree wftree_06_09_10\n",
        "4 chirp regions found for event 9 tree wftree_06_09_10"
       ]
      },
      {
       "output_type": "stream",
       "stream": "stdout",
       "text": [
        "\n",
        "3 chirp regions found for event 10 tree wftree_06_09_10\n",
        "4 chirp regions found for event 11 tree wftree_06_09_10\n",
        "6 chirp regions found for event 12 tree wftree_06_09_10\n",
        "7 chirp regions found for event 13 tree wftree_06_09_10\n",
        "3 chirp regions found for event 14 tree wftree_06_09_10\n",
        "10 chirp regions found for event 15 tree wftree_06_09_10\n",
        "7 chirp regions found for event 16 tree wftree_06_09_10\n",
        "4 chirp regions found for event 17 tree wftree_06_09_10"
       ]
      },
      {
       "output_type": "stream",
       "stream": "stdout",
       "text": [
        "\n",
        "9 chirp regions found for event 18 tree wftree_06_09_10\n",
        "3 chirp regions found for event 19 tree wftree_06_09_10\n",
        "1 chirp regions found for event 20 tree wftree_06_09_10\n",
        "6 chirp regions found for event 21 tree wftree_06_09_10\n",
        "6 chirp regions found for event 22 tree wftree_06_09_10\n",
        "1 chirp regions found for event 23 tree wftree_06_09_10\n",
        "3 chirp regions found for event 24 tree wftree_06_09_10\n",
        "3 chirp regions found for event 25 tree wftree_06_09_10\n",
        "2 chirp regions found for event 26 tree wftree_06_09_10"
       ]
      },
      {
       "output_type": "stream",
       "stream": "stdout",
       "text": [
        "\n",
        "5 chirp regions found for event 27 tree wftree_06_09_10\n",
        "5 chirp regions found for event 28 tree wftree_06_09_10\n",
        "2 chirp regions found for event 29 tree wftree_06_09_10\n",
        "5 chirp regions found for event 30 tree wftree_06_09_10\n",
        "6 chirp regions found for event 31 tree wftree_06_09_10\n",
        "6 chirp regions found for event 32 tree wftree_06_09_10\n",
        "4 chirp regions found for event 33 tree wftree_06_09_10\n",
        "8 chirp regions found for event 34 tree wftree_06_09_10\n",
        "5 chirp regions found for event 35 tree wftree_06_09_10"
       ]
      },
      {
       "output_type": "stream",
       "stream": "stdout",
       "text": [
        "\n",
        "4 chirp regions found for event 36 tree wftree_06_09_10\n",
        "2 chirp regions found for event 37 tree wftree_06_09_10\n",
        "3 chirp regions found for event 38 tree wftree_06_09_10\n",
        "4 chirp regions found for event 39 tree wftree_06_09_10\n",
        "4 chirp regions found for event 40 tree wftree_06_09_10\n",
        "5 chirp regions found for event 41 tree wftree_06_09_10\n",
        "4 chirp regions found for event 42 tree wftree_06_09_10\n",
        "9 chirp regions found for event 43 tree wftree_06_09_10\n",
        "7 chirp regions found for event 44 tree wftree_06_09_10"
       ]
      },
      {
       "output_type": "stream",
       "stream": "stdout",
       "text": [
        "\n",
        "1 chirp regions found for event 46 tree wftree_06_09_10\n",
        "4 chirp regions found for event 47 tree wftree_06_09_10\n",
        "2 chirp regions found for event 48 tree wftree_06_09_10\n",
        "5 chirp regions found for event 49 tree wftree_06_09_10\n",
        "4 chirp regions found for event 50 tree wftree_06_09_10\n",
        "2 chirp regions found for event 51 tree wftree_06_09_10\n",
        "7 chirp regions found for event 52 tree wftree_06_09_10\n",
        "2 chirp regions found for event 53 tree wftree_06_09_10"
       ]
      },
      {
       "output_type": "stream",
       "stream": "stdout",
       "text": [
        "\n",
        "7 chirp regions found for event 54 tree wftree_06_09_10\n",
        "3 chirp regions found for event 55 tree wftree_06_09_10\n",
        "7 chirp regions found for event 56 tree wftree_06_09_10\n",
        "6 chirp regions found for event 57 tree wftree_06_09_10\n",
        "4 chirp regions found for event 58 tree wftree_06_09_10\n",
        "3 chirp regions found for event 59 tree wftree_06_09_10\n",
        "1 chirp regions found for event 60 tree wftree_06_09_10\n",
        "5 chirp regions found for event 61 tree wftree_06_09_10\n",
        "10 chirp regions found for event 62 tree wftree_06_09_10"
       ]
      },
      {
       "output_type": "stream",
       "stream": "stdout",
       "text": [
        "\n",
        "7 chirp regions found for event 63 tree wftree_06_09_10\n",
        "3 chirp regions found for event 64 tree wftree_06_09_10\n",
        "7 chirp regions found for event 65 tree wftree_06_09_10\n",
        "2 chirp regions found for event 66 tree wftree_06_09_10\n",
        "6 chirp regions found for event 67 tree wftree_06_09_10\n",
        "7 chirp regions found for event 68 tree wftree_06_09_10\n",
        "4 chirp regions found for event 69 tree wftree_06_09_10\n",
        "3 chirp regions found for event 70 tree wftree_06_09_10\n",
        "5 chirp regions found for event 71 tree wftree_06_09_10"
       ]
      },
      {
       "output_type": "stream",
       "stream": "stdout",
       "text": [
        "\n",
        "6 chirp regions found for event 72 tree wftree_06_09_10\n",
        "6 chirp regions found for event 73 tree wftree_06_09_10\n",
        "7 chirp regions found for event 74 tree wftree_06_09_10\n",
        "6 chirp regions found for event 75 tree wftree_06_09_10\n",
        "4 chirp regions found for event 76 tree wftree_06_09_10\n",
        "4 chirp regions found for event 77 tree wftree_06_09_10\n",
        "5 chirp regions found for event 78 tree wftree_06_09_10\n",
        "4 chirp regions found for event 79 tree wftree_06_09_10\n",
        "6 chirp regions found for event 80 tree wftree_06_09_10"
       ]
      },
      {
       "output_type": "stream",
       "stream": "stdout",
       "text": [
        "\n",
        "5 chirp regions found for event 81 tree wftree_06_09_10\n",
        "2 chirp regions found for event 82 tree wftree_06_09_10\n",
        "5 chirp regions found for event 83 tree wftree_06_09_10\n",
        "2 chirp regions found for event 84 tree wftree_06_09_10\n",
        "4 chirp regions found for event 85 tree wftree_06_09_10\n",
        "6 chirp regions found for event 86 tree wftree_06_09_10\n",
        "6 chirp regions found for event 87 tree wftree_06_09_10\n",
        "7 chirp regions found for event 88 tree wftree_06_09_10\n",
        "3 chirp regions found for event 89 tree wftree_06_09_10"
       ]
      },
      {
       "output_type": "stream",
       "stream": "stdout",
       "text": [
        "\n",
        "4 chirp regions found for event 90 tree wftree_06_09_10\n",
        "9 chirp regions found for event 91 tree wftree_06_09_10\n",
        "5 chirp regions found for event 92 tree wftree_06_09_10\n",
        "2 chirp regions found for event 93 tree wftree_06_09_10\n",
        "8 chirp regions found for event 94 tree wftree_06_09_10\n",
        "5 chirp regions found for event 95 tree wftree_06_09_10\n",
        "3 chirp regions found for event 96 tree wftree_06_09_10\n",
        "3 chirp regions found for event 97 tree wftree_06_09_10\n",
        "5 chirp regions found for event 98 tree wftree_06_09_10"
       ]
      },
      {
       "output_type": "stream",
       "stream": "stdout",
       "text": [
        "\n",
        "4 chirp regions found for event 99 tree wftree_06_09_10\n",
        "6 chirp regions found for event 0 tree wftree_06_09_10\n",
        "3 chirp regions found for event 1 tree wftree_06_09_10\n",
        "3 chirp regions found for event 2 tree wftree_06_09_10\n",
        "6 chirp regions found for event 3 tree wftree_06_09_10\n",
        "2 chirp regions found for event 4 tree wftree_06_09_10\n",
        "3 chirp regions found for event 5 tree wftree_06_09_10\n",
        "8 chirp regions found for event 6 tree wftree_06_09_10\n",
        "6 chirp regions found for event 7 tree wftree_06_09_10"
       ]
      },
      {
       "output_type": "stream",
       "stream": "stdout",
       "text": [
        "\n",
        "4 chirp regions found for event 8 tree wftree_06_09_10\n",
        "4 chirp regions found for event 9 tree wftree_06_09_10\n",
        "6 chirp regions found for event 10 tree wftree_06_09_10\n",
        "3 chirp regions found for event 11 tree wftree_06_09_10\n",
        "6 chirp regions found for event 12 tree wftree_06_09_10\n",
        "6 chirp regions found for event 13 tree wftree_06_09_10\n",
        "4 chirp regions found for event 14 tree wftree_06_09_10\n",
        "1 chirp regions found for event 15 tree wftree_06_09_10\n",
        "6 chirp regions found for event 16 tree wftree_06_09_10"
       ]
      },
      {
       "output_type": "stream",
       "stream": "stdout",
       "text": [
        "\n",
        "1 chirp regions found for event 17 tree wftree_06_09_10\n",
        "8 chirp regions found for event 18 tree wftree_06_09_10\n",
        "7 chirp regions found for event 19 tree wftree_06_09_10\n",
        "4 chirp regions found for event 20 tree wftree_06_09_10\n",
        "10 chirp regions found for event 21 tree wftree_06_09_10\n",
        "5 chirp regions found for event 22 tree wftree_06_09_10\n",
        "3 chirp regions found for event 23 tree wftree_06_09_10\n",
        "5 chirp regions found for event 24 tree wftree_06_09_10\n",
        "3 chirp regions found for event 25 tree wftree_06_09_10"
       ]
      },
      {
       "output_type": "stream",
       "stream": "stdout",
       "text": [
        "\n",
        "7 chirp regions found for event 26 tree wftree_06_09_10\n",
        "8 chirp regions found for event 27 tree wftree_06_09_10\n",
        "2 chirp regions found for event 28 tree wftree_06_09_10\n",
        "1 chirp regions found for event 29 tree wftree_06_09_10\n",
        "6 chirp regions found for event 30 tree wftree_06_09_10\n",
        "5 chirp regions found for event 31 tree wftree_06_09_10\n",
        "2 chirp regions found for event 32 tree wftree_06_09_10\n",
        "2 chirp regions found for event 33 tree wftree_06_09_10\n",
        "4 chirp regions found for event 34 tree wftree_06_09_10"
       ]
      },
      {
       "output_type": "stream",
       "stream": "stdout",
       "text": [
        "\n",
        "3 chirp regions found for event 35 tree wftree_06_09_10\n",
        "3 chirp regions found for event 36 tree wftree_06_09_10\n",
        "5 chirp regions found for event 37 tree wftree_06_09_10\n",
        "2 chirp regions found for event 38 tree wftree_06_09_10\n",
        "7 chirp regions found for event 39 tree wftree_06_09_10\n",
        "5 chirp regions found for event 40 tree wftree_06_09_10\n",
        "7 chirp regions found for event 41 tree wftree_06_09_10\n",
        "8 chirp regions found for event 42 tree wftree_06_09_10\n",
        "3 chirp regions found for event 43 tree wftree_06_09_10"
       ]
      },
      {
       "output_type": "stream",
       "stream": "stdout",
       "text": [
        "\n",
        "4 chirp regions found for event 44 tree wftree_06_09_10\n",
        "3 chirp regions found for event 45 tree wftree_06_09_10\n",
        "5 chirp regions found for event 46 tree wftree_06_09_10\n",
        "3 chirp regions found for event 47 tree wftree_06_09_10\n",
        "5 chirp regions found for event 48 tree wftree_06_09_10\n",
        "6 chirp regions found for event 49 tree wftree_06_09_10\n",
        "2 chirp regions found for event 50 tree wftree_06_09_10\n",
        "5 chirp regions found for event 51 tree wftree_06_09_10\n",
        "4 chirp regions found for event 52 tree wftree_06_09_10"
       ]
      },
      {
       "output_type": "stream",
       "stream": "stdout",
       "text": [
        "\n",
        "4 chirp regions found for event 53 tree wftree_06_09_10\n",
        "2 chirp regions found for event 54 tree wftree_06_09_10\n",
        "6 chirp regions found for event 55 tree wftree_06_09_10\n",
        "5 chirp regions found for event 56 tree wftree_06_09_10\n",
        "3 chirp regions found for event 57 tree wftree_06_09_10\n",
        "9 chirp regions found for event 58 tree wftree_06_09_10\n",
        "5 chirp regions found for event 59 tree wftree_06_09_10\n",
        "4 chirp regions found for event 60 tree wftree_06_09_10\n",
        "6 chirp regions found for event 61 tree wftree_06_09_10"
       ]
      },
      {
       "output_type": "stream",
       "stream": "stdout",
       "text": [
        "\n",
        "7 chirp regions found for event 62 tree wftree_06_09_10\n",
        "2 chirp regions found for event 63 tree wftree_06_09_10\n",
        "3 chirp regions found for event 64 tree wftree_06_09_10\n",
        "4 chirp regions found for event 65 tree wftree_06_09_10\n",
        "1 chirp regions found for event 66 tree wftree_06_09_10\n",
        "3 chirp regions found for event 67 tree wftree_06_09_10\n",
        "3 chirp regions found for event 68 tree wftree_06_09_10\n",
        "2 chirp regions found for event 69 tree wftree_06_09_10\n",
        "2 chirp regions found for event 70 tree wftree_06_09_10"
       ]
      },
      {
       "output_type": "stream",
       "stream": "stdout",
       "text": [
        "\n",
        "4 chirp regions found for event 71 tree wftree_06_09_10\n",
        "4 chirp regions found for event 72 tree wftree_06_09_10\n",
        "5 chirp regions found for event 73 tree wftree_06_09_10\n",
        "4 chirp regions found for event 74 tree wftree_06_09_10\n",
        "9 chirp regions found for event 75 tree wftree_06_09_10\n",
        "4 chirp regions found for event 76 tree wftree_06_09_10\n",
        "9 chirp regions found for event 77 tree wftree_06_09_10\n",
        "4 chirp regions found for event 78 tree wftree_06_09_10\n",
        "6 chirp regions found for event 79 tree wftree_06_09_10"
       ]
      },
      {
       "output_type": "stream",
       "stream": "stdout",
       "text": [
        "\n",
        "6 chirp regions found for event 80 tree wftree_06_09_10\n",
        "3 chirp regions found for event 81 tree wftree_06_09_10\n",
        "5 chirp regions found for event 82 tree wftree_06_09_10\n",
        "5 chirp regions found for event 83 tree wftree_06_09_10\n",
        "3 chirp regions found for event 84 tree wftree_06_09_10\n",
        "6 chirp regions found for event 85 tree wftree_06_09_10\n",
        "8 chirp regions found for event 86 tree wftree_06_09_10\n",
        "10 chirp regions found for event 87 tree wftree_06_09_10\n",
        "5 chirp regions found for event 88 tree wftree_06_09_10"
       ]
      },
      {
       "output_type": "stream",
       "stream": "stdout",
       "text": [
        "\n",
        "4 chirp regions found for event 89 tree wftree_06_09_10\n",
        "6 chirp regions found for event 90 tree wftree_06_09_10\n",
        "3 chirp regions found for event 91 tree wftree_06_09_10\n",
        "5 chirp regions found for event 92 tree wftree_06_09_10\n",
        "4 chirp regions found for event 93 tree wftree_06_09_10\n",
        "5 chirp regions found for event 94 tree wftree_06_09_10\n",
        "5 chirp regions found for event 95 tree wftree_06_09_10\n",
        "4 chirp regions found for event 96 tree wftree_06_09_10\n",
        "1 chirp regions found for event 97 tree wftree_06_09_10"
       ]
      },
      {
       "output_type": "stream",
       "stream": "stdout",
       "text": [
        "\n",
        "10 chirp regions found for event 98 tree wftree_06_09_10\n",
        "4 chirp regions found for event 99 tree wftree_06_09_10\n",
        "2 chirp regions found for event 7 tree wftree_06_09_10"
       ]
      },
      {
       "output_type": "stream",
       "stream": "stdout",
       "text": [
        "\n",
        "1 chirp regions found for event 21 tree wftree_06_09_10"
       ]
      },
      {
       "output_type": "stream",
       "stream": "stdout",
       "text": [
        "\n",
        "1 chirp regions found for event 42 tree wftree_06_09_10"
       ]
      },
      {
       "output_type": "stream",
       "stream": "stdout",
       "text": [
        "\n",
        "1 chirp regions found for event 68 tree wftree_06_09_10"
       ]
      },
      {
       "output_type": "stream",
       "stream": "stdout",
       "text": [
        "\n",
        "1 chirp regions found for event 69 tree wftree_06_09_10\n",
        "1 chirp regions found for event 74 tree wftree_06_09_10\n",
        "1 chirp regions found for event 91 tree wftree_06_09_10"
       ]
      },
      {
       "output_type": "stream",
       "stream": "stdout",
       "text": [
        "\n",
        "1 chirp regions found for event 2 tree wftree_06_09_10"
       ]
      },
      {
       "output_type": "stream",
       "stream": "stdout",
       "text": [
        "\n",
        "1 chirp regions found for event 3 tree wftree_06_09_10\n",
        "3 chirp regions found for event 7 tree wftree_06_09_10\n",
        "1 chirp regions found for event 10 tree wftree_06_09_10\n",
        "1 chirp regions found for event 17 tree wftree_06_09_10"
       ]
      },
      {
       "output_type": "stream",
       "stream": "stdout",
       "text": [
        "\n",
        "2 chirp regions found for event 21 tree wftree_06_09_10\n",
        "1 chirp regions found for event 22 tree wftree_06_09_10\n",
        "2 chirp regions found for event 27 tree wftree_06_09_10"
       ]
      },
      {
       "output_type": "stream",
       "stream": "stdout",
       "text": [
        "\n",
        "1 chirp regions found for event 28 tree wftree_06_09_10\n",
        "1 chirp regions found for event 30 tree wftree_06_09_10\n",
        "1 chirp regions found for event 31 tree wftree_06_09_10\n",
        "1 chirp regions found for event 34 tree wftree_06_09_10\n",
        "1 chirp regions found for event 37 tree wftree_06_09_10"
       ]
      },
      {
       "output_type": "stream",
       "stream": "stdout",
       "text": [
        "\n",
        "2 chirp regions found for event 38 tree wftree_06_09_10\n",
        "1 chirp regions found for event 41 tree wftree_06_09_10\n",
        "1 chirp regions found for event 42 tree wftree_06_09_10\n",
        "1 chirp regions found for event 44 tree wftree_06_09_10\n",
        "2 chirp regions found for event 46 tree wftree_06_09_10"
       ]
      },
      {
       "output_type": "stream",
       "stream": "stdout",
       "text": [
        "\n",
        "1 chirp regions found for event 47 tree wftree_06_09_10\n",
        "1 chirp regions found for event 48 tree wftree_06_09_10\n",
        "1 chirp regions found for event 49 tree wftree_06_09_10\n",
        "1 chirp regions found for event 52 tree wftree_06_09_10"
       ]
      },
      {
       "output_type": "stream",
       "stream": "stdout",
       "text": [
        "\n",
        "1 chirp regions found for event 53 tree wftree_06_09_10\n",
        "1 chirp regions found for event 67 tree wftree_06_09_10"
       ]
      },
      {
       "output_type": "stream",
       "stream": "stdout",
       "text": [
        "\n",
        "1 chirp regions found for event 68 tree wftree_06_09_10\n",
        "1 chirp regions found for event 69 tree wftree_06_09_10\n",
        "1 chirp regions found for event 70 tree wftree_06_09_10\n",
        "1 chirp regions found for event 71 tree wftree_06_09_10\n",
        "1 chirp regions found for event 73 tree wftree_06_09_10\n",
        "1 chirp regions found for event 74 tree wftree_06_09_10"
       ]
      },
      {
       "output_type": "stream",
       "stream": "stdout",
       "text": [
        "\n",
        "1 chirp regions found for event 82 tree wftree_06_09_10\n",
        "1 chirp regions found for event 84 tree wftree_06_09_10"
       ]
      },
      {
       "output_type": "stream",
       "stream": "stdout",
       "text": [
        "\n",
        "1 chirp regions found for event 87 tree wftree_06_09_10\n",
        "1 chirp regions found for event 90 tree wftree_06_09_10\n",
        "1 chirp regions found for event 91 tree wftree_06_09_10\n",
        "1 chirp regions found for event 93 tree wftree_06_09_10"
       ]
      },
      {
       "output_type": "stream",
       "stream": "stdout",
       "text": [
        "\n",
        "1 chirp regions found for event 94 tree wftree_06_09_10\n",
        "1 chirp regions found for event 98 tree wftree_06_09_10\n",
        "1 chirp regions found for event 0 tree wftree_06_09_10\n",
        "1 chirp regions found for event 2 tree wftree_06_09_10"
       ]
      },
      {
       "output_type": "stream",
       "stream": "stdout",
       "text": [
        "\n",
        "2 chirp regions found for event 3 tree wftree_06_09_10\n",
        "1 chirp regions found for event 4 tree wftree_06_09_10\n",
        "1 chirp regions found for event 5 tree wftree_06_09_10\n",
        "2 chirp regions found for event 9 tree wftree_06_09_10\n",
        "1 chirp regions found for event 12 tree wftree_06_09_10"
       ]
      },
      {
       "output_type": "stream",
       "stream": "stdout",
       "text": [
        "\n",
        "1 chirp regions found for event 13 tree wftree_06_09_10\n",
        "1 chirp regions found for event 15 tree wftree_06_09_10\n",
        "2 chirp regions found for event 16 tree wftree_06_09_10\n",
        "1 chirp regions found for event 17 tree wftree_06_09_10\n",
        "2 chirp regions found for event 18 tree wftree_06_09_10\n",
        "1 chirp regions found for event 19 tree wftree_06_09_10\n",
        "1 chirp regions found for event 20 tree wftree_06_09_10\n",
        "1 chirp regions found for event 21 tree wftree_06_09_10"
       ]
      },
      {
       "output_type": "stream",
       "stream": "stdout",
       "text": [
        "\n",
        "1 chirp regions found for event 22 tree wftree_06_09_10\n",
        "2 chirp regions found for event 23 tree wftree_06_09_10\n",
        "1 chirp regions found for event 24 tree wftree_06_09_10\n",
        "1 chirp regions found for event 25 tree wftree_06_09_10\n",
        "2 chirp regions found for event 26 tree wftree_06_09_10\n",
        "1 chirp regions found for event 27 tree wftree_06_09_10\n",
        "1 chirp regions found for event 31 tree wftree_06_09_10"
       ]
      },
      {
       "output_type": "stream",
       "stream": "stdout",
       "text": [
        "\n",
        "1 chirp regions found for event 32 tree wftree_06_09_10\n",
        "2 chirp regions found for event 33 tree wftree_06_09_10\n",
        "1 chirp regions found for event 34 tree wftree_06_09_10\n",
        "3 chirp regions found for event 35 tree wftree_06_09_10\n",
        "2 chirp regions found for event 40 tree wftree_06_09_10"
       ]
      },
      {
       "output_type": "stream",
       "stream": "stdout",
       "text": [
        "\n",
        "1 chirp regions found for event 42 tree wftree_06_09_10\n",
        "1 chirp regions found for event 43 tree wftree_06_09_10\n",
        "2 chirp regions found for event 44 tree wftree_06_09_10\n",
        "1 chirp regions found for event 46 tree wftree_06_09_10\n",
        "1 chirp regions found for event 47 tree wftree_06_09_10\n",
        "1 chirp regions found for event 50 tree wftree_06_09_10"
       ]
      },
      {
       "output_type": "stream",
       "stream": "stdout",
       "text": [
        "\n",
        "1 chirp regions found for event 51 tree wftree_06_09_10\n",
        "1 chirp regions found for event 52 tree wftree_06_09_10\n",
        "1 chirp regions found for event 53 tree wftree_06_09_10\n",
        "1 chirp regions found for event 55 tree wftree_06_09_10\n",
        "1 chirp regions found for event 57 tree wftree_06_09_10\n",
        "1 chirp regions found for event 59 tree wftree_06_09_10"
       ]
      },
      {
       "output_type": "stream",
       "stream": "stdout",
       "text": [
        "\n",
        "1 chirp regions found for event 61 tree wftree_06_09_10\n",
        "1 chirp regions found for event 62 tree wftree_06_09_10\n",
        "2 chirp regions found for event 64 tree wftree_06_09_10\n",
        "1 chirp regions found for event 65 tree wftree_06_09_10\n",
        "1 chirp regions found for event 66 tree wftree_06_09_10\n",
        "1 chirp regions found for event 67 tree wftree_06_09_10\n",
        "1 chirp regions found for event 70 tree wftree_06_09_10"
       ]
      },
      {
       "output_type": "stream",
       "stream": "stdout",
       "text": [
        "\n",
        "1 chirp regions found for event 72 tree wftree_06_09_10\n",
        "1 chirp regions found for event 78 tree wftree_06_09_10\n",
        "2 chirp regions found for event 82 tree wftree_06_09_10"
       ]
      },
      {
       "output_type": "stream",
       "stream": "stdout",
       "text": [
        "\n",
        "1 chirp regions found for event 83 tree wftree_06_09_10\n",
        "1 chirp regions found for event 86 tree wftree_06_09_10\n",
        "1 chirp regions found for event 87 tree wftree_06_09_10\n",
        "1 chirp regions found for event 88 tree wftree_06_09_10\n",
        "1 chirp regions found for event 90 tree wftree_06_09_10\n",
        "1 chirp regions found for event 91 tree wftree_06_09_10"
       ]
      },
      {
       "output_type": "stream",
       "stream": "stdout",
       "text": [
        "\n",
        "3 chirp regions found for event 92 tree wftree_06_09_10\n",
        "2 chirp regions found for event 93 tree wftree_06_09_10\n",
        "3 chirp regions found for event 94 tree wftree_06_09_10\n",
        "2 chirp regions found for event 95 tree wftree_06_09_10\n",
        "1 chirp regions found for event 97 tree wftree_06_09_10\n",
        "1 chirp regions found for event 98 tree wftree_06_09_10\n",
        "1 chirp regions found for event 99 tree wftree_06_09_10\n",
        "1 chirp regions found for event 0 tree wftree_06_09_10"
       ]
      },
      {
       "output_type": "stream",
       "stream": "stdout",
       "text": [
        "\n",
        "1 chirp regions found for event 1 tree wftree_06_09_10\n",
        "1 chirp regions found for event 3 tree wftree_06_09_10\n",
        "1 chirp regions found for event 15 tree wftree_06_09_10"
       ]
      },
      {
       "output_type": "stream",
       "stream": "stdout",
       "text": [
        "\n",
        "2 chirp regions found for event 16 tree wftree_06_09_10\n",
        "1 chirp regions found for event 19 tree wftree_06_09_10\n",
        "1 chirp regions found for event 21 tree wftree_06_09_10"
       ]
      },
      {
       "output_type": "stream",
       "stream": "stdout",
       "text": [
        "\n",
        "1 chirp regions found for event 22 tree wftree_06_09_10\n",
        "1 chirp regions found for event 25 tree wftree_06_09_10\n",
        "2 chirp regions found for event 28 tree wftree_06_09_10\n",
        "1 chirp regions found for event 29 tree wftree_06_09_10\n",
        "1 chirp regions found for event 31 tree wftree_06_09_10"
       ]
      },
      {
       "output_type": "stream",
       "stream": "stdout",
       "text": [
        "\n",
        "2 chirp regions found for event 40 tree wftree_06_09_10"
       ]
      },
      {
       "output_type": "stream",
       "stream": "stdout",
       "text": [
        "\n",
        "1 chirp regions found for event 42 tree wftree_06_09_10\n",
        "1 chirp regions found for event 44 tree wftree_06_09_10\n",
        "1 chirp regions found for event 50 tree wftree_06_09_10"
       ]
      },
      {
       "output_type": "stream",
       "stream": "stdout",
       "text": [
        "\n",
        "1 chirp regions found for event 51 tree wftree_06_09_10\n",
        "1 chirp regions found for event 59 tree wftree_06_09_10"
       ]
      },
      {
       "output_type": "stream",
       "stream": "stdout",
       "text": [
        "\n",
        "2 chirp regions found for event 62 tree wftree_06_09_10\n",
        "2 chirp regions found for event 63 tree wftree_06_09_10\n",
        "1 chirp regions found for event 66 tree wftree_06_09_10\n",
        "3 chirp regions found for event 71 tree wftree_06_09_10"
       ]
      },
      {
       "output_type": "stream",
       "stream": "stdout",
       "text": [
        "\n",
        "2 chirp regions found for event 72 tree wftree_06_09_10\n",
        "1 chirp regions found for event 77 tree wftree_06_09_10\n",
        "2 chirp regions found for event 78 tree wftree_06_09_10\n",
        "1 chirp regions found for event 80 tree wftree_06_09_10"
       ]
      },
      {
       "output_type": "stream",
       "stream": "stdout",
       "text": [
        "\n",
        "2 chirp regions found for event 83 tree wftree_06_09_10\n",
        "1 chirp regions found for event 84 tree wftree_06_09_10\n",
        "2 chirp regions found for event 85 tree wftree_06_09_10\n",
        "2 chirp regions found for event 87 tree wftree_06_09_10\n",
        "2 chirp regions found for event 92 tree wftree_06_09_10"
       ]
      },
      {
       "output_type": "stream",
       "stream": "stdout",
       "text": [
        "\n",
        "1 chirp regions found for event 93 tree wftree_06_09_10\n",
        "2 chirp regions found for event 0 tree wftree_06_09_10"
       ]
      },
      {
       "output_type": "stream",
       "stream": "stdout",
       "text": [
        "\n",
        "1 chirp regions found for event 1 tree wftree_06_09_10\n",
        "1 chirp regions found for event 2 tree wftree_06_09_10\n",
        "1 chirp regions found for event 4 tree wftree_06_09_10\n",
        "1 chirp regions found for event 7 tree wftree_06_09_10\n",
        "2 chirp regions found for event 9 tree wftree_06_09_10"
       ]
      },
      {
       "output_type": "stream",
       "stream": "stdout",
       "text": [
        "\n",
        "2 chirp regions found for event 10 tree wftree_06_09_10\n",
        "2 chirp regions found for event 11 tree wftree_06_09_10\n",
        "2 chirp regions found for event 15 tree wftree_06_09_10\n",
        "2 chirp regions found for event 16 tree wftree_06_09_10\n",
        "2 chirp regions found for event 17 tree wftree_06_09_10"
       ]
      },
      {
       "output_type": "stream",
       "stream": "stdout",
       "text": [
        "\n",
        "1 chirp regions found for event 19 tree wftree_06_09_10\n",
        "1 chirp regions found for event 21 tree wftree_06_09_10\n",
        "1 chirp regions found for event 22 tree wftree_06_09_10"
       ]
      },
      {
       "output_type": "stream",
       "stream": "stdout",
       "text": [
        "\n",
        "1 chirp regions found for event 23 tree wftree_06_09_10\n",
        "3 chirp regions found for event 24 tree wftree_06_09_10\n",
        "1 chirp regions found for event 26 tree wftree_06_09_10\n",
        "2 chirp regions found for event 27 tree wftree_06_09_10\n",
        "1 chirp regions found for event 30 tree wftree_06_09_10\n",
        "2 chirp regions found for event 33 tree wftree_06_09_10"
       ]
      },
      {
       "output_type": "stream",
       "stream": "stdout",
       "text": [
        "\n",
        "2 chirp regions found for event 34 tree wftree_06_09_10\n",
        "4 chirp regions found for event 38 tree wftree_06_09_10"
       ]
      },
      {
       "output_type": "stream",
       "stream": "stdout",
       "text": [
        "\n",
        "1 chirp regions found for event 39 tree wftree_06_09_10\n",
        "2 chirp regions found for event 40 tree wftree_06_09_10\n",
        "1 chirp regions found for event 42 tree wftree_06_09_10\n",
        "2 chirp regions found for event 43 tree wftree_06_09_10\n",
        "1 chirp regions found for event 45 tree wftree_06_09_10\n",
        "2 chirp regions found for event 47 tree wftree_06_09_10"
       ]
      },
      {
       "output_type": "stream",
       "stream": "stdout",
       "text": [
        "\n",
        "2 chirp regions found for event 48 tree wftree_06_09_10\n",
        "3 chirp regions found for event 49 tree wftree_06_09_10\n",
        "2 chirp regions found for event 50 tree wftree_06_09_10\n",
        "3 chirp regions found for event 52 tree wftree_06_09_10"
       ]
      },
      {
       "output_type": "stream",
       "stream": "stdout",
       "text": [
        "\n",
        "2 chirp regions found for event 53 tree wftree_06_09_10\n",
        "1 chirp regions found for event 54 tree wftree_06_09_10\n",
        "1 chirp regions found for event 55 tree wftree_06_09_10\n",
        "1 chirp regions found for event 56 tree wftree_06_09_10\n",
        "2 chirp regions found for event 57 tree wftree_06_09_10\n",
        "2 chirp regions found for event 58 tree wftree_06_09_10\n",
        "1 chirp regions found for event 59 tree wftree_06_09_10\n",
        "1 chirp regions found for event 60 tree wftree_06_09_10\n",
        "1 chirp regions found for event 61 tree wftree_06_09_10"
       ]
      },
      {
       "output_type": "stream",
       "stream": "stdout",
       "text": [
        "\n",
        "1 chirp regions found for event 62 tree wftree_06_09_10\n",
        "1 chirp regions found for event 63 tree wftree_06_09_10\n",
        "2 chirp regions found for event 64 tree wftree_06_09_10\n",
        "1 chirp regions found for event 65 tree wftree_06_09_10\n",
        "2 chirp regions found for event 66 tree wftree_06_09_10"
       ]
      },
      {
       "output_type": "stream",
       "stream": "stdout",
       "text": [
        "\n",
        "1 chirp regions found for event 68 tree wftree_06_09_10\n",
        "2 chirp regions found for event 69 tree wftree_06_09_10\n",
        "1 chirp regions found for event 70 tree wftree_06_09_10\n",
        "2 chirp regions found for event 71 tree wftree_06_09_10\n",
        "1 chirp regions found for event 72 tree wftree_06_09_10\n",
        "1 chirp regions found for event 73 tree wftree_06_09_10\n",
        "3 chirp regions found for event 74 tree wftree_06_09_10\n",
        "1 chirp regions found for event 75 tree wftree_06_09_10"
       ]
      },
      {
       "output_type": "stream",
       "stream": "stdout",
       "text": [
        "\n",
        "2 chirp regions found for event 76 tree wftree_06_09_10\n",
        "2 chirp regions found for event 77 tree wftree_06_09_10\n",
        "1 chirp regions found for event 78 tree wftree_06_09_10\n",
        "1 chirp regions found for event 79 tree wftree_06_09_10\n",
        "1 chirp regions found for event 80 tree wftree_06_09_10\n",
        "1 chirp regions found for event 81 tree wftree_06_09_10\n",
        "1 chirp regions found for event 82 tree wftree_06_09_10"
       ]
      },
      {
       "output_type": "stream",
       "stream": "stdout",
       "text": [
        "\n",
        "1 chirp regions found for event 83 tree wftree_06_09_10\n",
        "2 chirp regions found for event 84 tree wftree_06_09_10\n",
        "2 chirp regions found for event 85 tree wftree_06_09_10\n",
        "1 chirp regions found for event 86 tree wftree_06_09_10\n",
        "1 chirp regions found for event 88 tree wftree_06_09_10\n",
        "1 chirp regions found for event 90 tree wftree_06_09_10\n",
        "2 chirp regions found for event 96 tree wftree_06_09_10"
       ]
      },
      {
       "output_type": "stream",
       "stream": "stdout",
       "text": [
        "\n",
        "2 chirp regions found for event 97 tree wftree_06_09_10\n",
        "3 chirp regions found for event 98 tree wftree_06_09_10\n",
        "1 chirp regions found for event 99 tree wftree_06_09_10\n",
        "1 chirp regions found for event 1 tree wftree_06_09_10\n",
        "1 chirp regions found for event 2 tree wftree_06_09_10\n",
        "2 chirp regions found for event 4 tree wftree_06_09_10"
       ]
      },
      {
       "output_type": "stream",
       "stream": "stdout",
       "text": [
        "\n",
        "1 chirp regions found for event 5 tree wftree_06_09_10\n",
        "2 chirp regions found for event 7 tree wftree_06_09_10\n",
        "2 chirp regions found for event 8 tree wftree_06_09_10\n",
        "1 chirp regions found for event 11 tree wftree_06_09_10"
       ]
      },
      {
       "output_type": "stream",
       "stream": "stdout",
       "text": [
        "\n",
        "1 chirp regions found for event 14 tree wftree_06_09_10\n",
        "2 chirp regions found for event 16 tree wftree_06_09_10\n",
        "2 chirp regions found for event 17 tree wftree_06_09_10"
       ]
      },
      {
       "output_type": "stream",
       "stream": "stdout",
       "text": [
        "\n",
        "2 chirp regions found for event 20 tree wftree_06_09_10\n",
        "2 chirp regions found for event 21 tree wftree_06_09_10\n",
        "2 chirp regions found for event 22 tree wftree_06_09_10\n",
        "1 chirp regions found for event 26 tree wftree_06_09_10"
       ]
      },
      {
       "output_type": "stream",
       "stream": "stdout",
       "text": [
        "\n",
        "3 chirp regions found for event 30 tree wftree_06_09_10\n",
        "2 chirp regions found for event 34 tree wftree_06_09_10"
       ]
      },
      {
       "output_type": "stream",
       "stream": "stdout",
       "text": [
        "\n",
        "2 chirp regions found for event 35 tree wftree_06_09_10\n",
        "1 chirp regions found for event 36 tree wftree_06_09_10\n",
        "1 chirp regions found for event 39 tree wftree_06_09_10"
       ]
      },
      {
       "output_type": "stream",
       "stream": "stdout",
       "text": [
        "\n",
        "1 chirp regions found for event 42 tree wftree_06_09_10\n",
        "1 chirp regions found for event 43 tree wftree_06_09_10\n",
        "1 chirp regions found for event 45 tree wftree_06_09_10\n",
        "1 chirp regions found for event 46 tree wftree_06_09_10\n",
        "1 chirp regions found for event 50 tree wftree_06_09_10"
       ]
      },
      {
       "output_type": "stream",
       "stream": "stdout",
       "text": [
        "\n",
        "1 chirp regions found for event 51 tree wftree_06_09_10\n",
        "1 chirp regions found for event 52 tree wftree_06_09_10\n",
        "1 chirp regions found for event 57 tree wftree_06_09_10"
       ]
      },
      {
       "output_type": "stream",
       "stream": "stdout",
       "text": [
        "\n",
        "1 chirp regions found for event 58 tree wftree_06_09_10\n",
        "1 chirp regions found for event 59 tree wftree_06_09_10\n",
        "2 chirp regions found for event 60 tree wftree_06_09_10\n",
        "1 chirp regions found for event 61 tree wftree_06_09_10\n",
        "1 chirp regions found for event 63 tree wftree_06_09_10"
       ]
      },
      {
       "output_type": "stream",
       "stream": "stdout",
       "text": [
        "\n",
        "2 chirp regions found for event 64 tree wftree_06_09_10\n",
        "2 chirp regions found for event 66 tree wftree_06_09_10\n",
        "1 chirp regions found for event 69 tree wftree_06_09_10\n",
        "1 chirp regions found for event 72 tree wftree_06_09_10"
       ]
      },
      {
       "output_type": "stream",
       "stream": "stdout",
       "text": [
        "\n",
        "1 chirp regions found for event 73 tree wftree_06_09_10\n",
        "2 chirp regions found for event 76 tree wftree_06_09_10\n",
        "1 chirp regions found for event 78 tree wftree_06_09_10\n",
        "1 chirp regions found for event 83 tree wftree_06_09_10"
       ]
      },
      {
       "output_type": "stream",
       "stream": "stdout",
       "text": [
        "\n",
        "2 chirp regions found for event 84 tree wftree_06_09_10\n",
        "1 chirp regions found for event 89 tree wftree_06_09_10\n",
        "2 chirp regions found for event 90 tree wftree_06_09_10\n",
        "1 chirp regions found for event 93 tree wftree_06_09_10"
       ]
      },
      {
       "output_type": "stream",
       "stream": "stdout",
       "text": [
        "\n",
        "1 chirp regions found for event 95 tree wftree_06_09_10\n",
        "3 chirp regions found for event 99 tree wftree_06_09_10\n",
        "4 chirp regions found for event 0 tree wftree_06_09_10"
       ]
      },
      {
       "output_type": "stream",
       "stream": "stdout",
       "text": [
        "\n",
        "4 chirp regions found for event 1 tree wftree_06_09_10\n",
        "3 chirp regions found for event 2 tree wftree_06_09_10\n",
        "1 chirp regions found for event 3 tree wftree_06_09_10\n",
        "1 chirp regions found for event 4 tree wftree_06_09_10\n",
        "8 chirp regions found for event 5 tree wftree_06_09_10\n",
        "5 chirp regions found for event 6 tree wftree_06_09_10\n",
        "3 chirp regions found for event 7 tree wftree_06_09_10\n",
        "8 chirp regions found for event 8 tree wftree_06_09_10\n",
        "6 chirp regions found for event 9 tree wftree_06_09_10"
       ]
      },
      {
       "output_type": "stream",
       "stream": "stdout",
       "text": [
        "\n",
        "2 chirp regions found for event 10 tree wftree_06_09_10\n",
        "1 chirp regions found for event 11 tree wftree_06_09_10\n",
        "1 chirp regions found for event 12 tree wftree_06_09_10\n",
        "3 chirp regions found for event 13 tree wftree_06_09_10\n",
        "2 chirp regions found for event 14 tree wftree_06_09_10\n",
        "5 chirp regions found for event 15 tree wftree_06_09_10\n",
        "3 chirp regions found for event 16 tree wftree_06_09_10\n",
        "4 chirp regions found for event 17 tree wftree_06_09_10\n",
        "4 chirp regions found for event 18 tree wftree_06_09_10"
       ]
      },
      {
       "output_type": "stream",
       "stream": "stdout",
       "text": [
        "\n",
        "1 chirp regions found for event 19 tree wftree_06_09_10\n",
        "4 chirp regions found for event 20 tree wftree_06_09_10\n",
        "2 chirp regions found for event 21 tree wftree_06_09_10\n",
        "3 chirp regions found for event 22 tree wftree_06_09_10\n",
        "2 chirp regions found for event 23 tree wftree_06_09_10\n",
        "5 chirp regions found for event 25 tree wftree_06_09_10\n",
        "3 chirp regions found for event 26 tree wftree_06_09_10\n",
        "3 chirp regions found for event 27 tree wftree_06_09_10"
       ]
      },
      {
       "output_type": "stream",
       "stream": "stdout",
       "text": [
        "\n",
        "1 chirp regions found for event 28 tree wftree_06_09_10\n",
        "3 chirp regions found for event 29 tree wftree_06_09_10\n",
        "2 chirp regions found for event 30 tree wftree_06_09_10\n",
        "4 chirp regions found for event 31 tree wftree_06_09_10\n",
        "3 chirp regions found for event 32 tree wftree_06_09_10\n",
        "2 chirp regions found for event 33 tree wftree_06_09_10\n",
        "1 chirp regions found for event 34 tree wftree_06_09_10\n",
        "1 chirp regions found for event 35 tree wftree_06_09_10\n",
        "3 chirp regions found for event 36 tree wftree_06_09_10"
       ]
      },
      {
       "output_type": "stream",
       "stream": "stdout",
       "text": [
        "\n",
        "1 chirp regions found for event 37 tree wftree_06_09_10\n",
        "2 chirp regions found for event 38 tree wftree_06_09_10\n",
        "7 chirp regions found for event 39 tree wftree_06_09_10\n",
        "3 chirp regions found for event 40 tree wftree_06_09_10\n",
        "4 chirp regions found for event 41 tree wftree_06_09_10\n",
        "3 chirp regions found for event 42 tree wftree_06_09_10\n",
        "4 chirp regions found for event 43 tree wftree_06_09_10\n",
        "5 chirp regions found for event 45 tree wftree_06_09_10"
       ]
      },
      {
       "output_type": "stream",
       "stream": "stdout",
       "text": [
        "\n",
        "2 chirp regions found for event 46 tree wftree_06_09_10\n",
        "6 chirp regions found for event 47 tree wftree_06_09_10\n",
        "3 chirp regions found for event 48 tree wftree_06_09_10\n",
        "4 chirp regions found for event 49 tree wftree_06_09_10\n",
        "2 chirp regions found for event 50 tree wftree_06_09_10\n",
        "6 chirp regions found for event 51 tree wftree_06_09_10\n",
        "3 chirp regions found for event 52 tree wftree_06_09_10\n",
        "2 chirp regions found for event 53 tree wftree_06_09_10\n",
        "5 chirp regions found for event 54 tree wftree_06_09_10"
       ]
      },
      {
       "output_type": "stream",
       "stream": "stdout",
       "text": [
        "\n",
        "3 chirp regions found for event 56 tree wftree_06_09_10\n",
        "7 chirp regions found for event 57 tree wftree_06_09_10\n",
        "2 chirp regions found for event 58 tree wftree_06_09_10\n",
        "4 chirp regions found for event 59 tree wftree_06_09_10\n",
        "4 chirp regions found for event 60 tree wftree_06_09_10\n",
        "2 chirp regions found for event 61 tree wftree_06_09_10\n",
        "5 chirp regions found for event 62 tree wftree_06_09_10\n",
        "3 chirp regions found for event 63 tree wftree_06_09_10"
       ]
      },
      {
       "output_type": "stream",
       "stream": "stdout",
       "text": [
        "\n",
        "1 chirp regions found for event 64 tree wftree_06_09_10\n",
        "3 chirp regions found for event 65 tree wftree_06_09_10\n",
        "3 chirp regions found for event 66 tree wftree_06_09_10\n",
        "2 chirp regions found for event 67 tree wftree_06_09_10\n",
        "4 chirp regions found for event 69 tree wftree_06_09_10\n",
        "2 chirp regions found for event 70 tree wftree_06_09_10\n",
        "6 chirp regions found for event 71 tree wftree_06_09_10"
       ]
      },
      {
       "output_type": "stream",
       "stream": "stdout",
       "text": [
        "\n",
        "5 chirp regions found for event 72 tree wftree_06_09_10\n",
        "5 chirp regions found for event 73 tree wftree_06_09_10\n",
        "3 chirp regions found for event 74 tree wftree_06_09_10\n",
        "4 chirp regions found for event 75 tree wftree_06_09_10\n",
        "2 chirp regions found for event 76 tree wftree_06_09_10\n",
        "3 chirp regions found for event 77 tree wftree_06_09_10\n",
        "6 chirp regions found for event 78 tree wftree_06_09_10\n",
        "3 chirp regions found for event 79 tree wftree_06_09_10\n",
        "2 chirp regions found for event 80 tree wftree_06_09_10"
       ]
      },
      {
       "output_type": "stream",
       "stream": "stdout",
       "text": [
        "\n",
        "3 chirp regions found for event 81 tree wftree_06_09_10\n",
        "1 chirp regions found for event 82 tree wftree_06_09_10\n",
        "4 chirp regions found for event 83 tree wftree_06_09_10\n",
        "3 chirp regions found for event 84 tree wftree_06_09_10\n",
        "2 chirp regions found for event 85 tree wftree_06_09_10\n",
        "1 chirp regions found for event 86 tree wftree_06_09_10\n",
        "5 chirp regions found for event 88 tree wftree_06_09_10\n",
        "2 chirp regions found for event 89 tree wftree_06_09_10"
       ]
      },
      {
       "output_type": "stream",
       "stream": "stdout",
       "text": [
        "\n",
        "2 chirp regions found for event 90 tree wftree_06_09_10\n",
        "6 chirp regions found for event 91 tree wftree_06_09_10\n",
        "6 chirp regions found for event 92 tree wftree_06_09_10\n",
        "1 chirp regions found for event 93 tree wftree_06_09_10\n",
        "5 chirp regions found for event 94 tree wftree_06_09_10\n",
        "2 chirp regions found for event 95 tree wftree_06_09_10\n",
        "7 chirp regions found for event 96 tree wftree_06_09_10\n",
        "4 chirp regions found for event 97 tree wftree_06_09_10"
       ]
      },
      {
       "output_type": "stream",
       "stream": "stdout",
       "text": [
        "\n",
        "1 chirp regions found for event 98 tree wftree_06_09_10\n",
        "3 chirp regions found for event 99 tree wftree_06_09_10\n",
        "9 chirp regions found for event 0 tree wftree_06_09_10"
       ]
      },
      {
       "output_type": "stream",
       "stream": "stdout",
       "text": [
        "\n",
        "15 chirp regions found for event 1 tree wftree_06_09_10\n",
        "13 chirp regions found for event 2 tree wftree_06_09_10\n",
        "13 chirp regions found for event 3 tree wftree_06_09_10\n",
        "13 chirp regions found for event 4 tree wftree_06_09_10\n",
        "7 chirp regions found for event 5 tree wftree_06_09_10\n",
        "18 chirp regions found for event 6 tree wftree_06_09_10\n",
        "24 chirp regions found for event 7 tree wftree_06_09_10\n",
        "15 chirp regions found for event 8 tree wftree_06_09_10\n",
        "9 chirp regions found for event 9 tree wftree_06_09_10"
       ]
      },
      {
       "output_type": "stream",
       "stream": "stdout",
       "text": [
        "\n",
        "18 chirp regions found for event 10 tree wftree_06_09_10\n",
        "14 chirp regions found for event 11 tree wftree_06_09_10\n",
        "11 chirp regions found for event 12 tree wftree_06_09_10\n",
        "10 chirp regions found for event 13 tree wftree_06_09_10\n",
        "15 chirp regions found for event 14 tree wftree_06_09_10\n",
        "13 chirp regions found for event 15 tree wftree_06_09_10\n",
        "14 chirp regions found for event 16 tree wftree_06_09_10\n",
        "14 chirp regions found for event 17 tree wftree_06_09_10\n",
        "8 chirp regions found for event 18 tree wftree_06_09_10"
       ]
      },
      {
       "output_type": "stream",
       "stream": "stdout",
       "text": [
        "\n",
        "11 chirp regions found for event 19 tree wftree_06_09_10\n",
        "13 chirp regions found for event 20 tree wftree_06_09_10\n",
        "17 chirp regions found for event 21 tree wftree_06_09_10\n",
        "13 chirp regions found for event 22 tree wftree_06_09_10\n",
        "20 chirp regions found for event 23 tree wftree_06_09_10\n",
        "14 chirp regions found for event 24 tree wftree_06_09_10\n",
        "12 chirp regions found for event 25 tree wftree_06_09_10\n",
        "11 chirp regions found for event 26 tree wftree_06_09_10\n",
        "13 chirp regions found for event 27 tree wftree_06_09_10"
       ]
      },
      {
       "output_type": "stream",
       "stream": "stdout",
       "text": [
        "\n",
        "10 chirp regions found for event 28 tree wftree_06_09_10\n",
        "8 chirp regions found for event 29 tree wftree_06_09_10\n",
        "7 chirp regions found for event 30 tree wftree_06_09_10\n",
        "11 chirp regions found for event 31 tree wftree_06_09_10\n",
        "16 chirp regions found for event 32 tree wftree_06_09_10\n",
        "10 chirp regions found for event 33 tree wftree_06_09_10\n",
        "18 chirp regions found for event 34 tree wftree_06_09_10\n",
        "8 chirp regions found for event 35 tree wftree_06_09_10\n",
        "13 chirp regions found for event 36 tree wftree_06_09_10"
       ]
      },
      {
       "output_type": "stream",
       "stream": "stdout",
       "text": [
        "\n",
        "11 chirp regions found for event 37 tree wftree_06_09_10\n",
        "18 chirp regions found for event 38 tree wftree_06_09_10\n",
        "13 chirp regions found for event 39 tree wftree_06_09_10\n",
        "13 chirp regions found for event 40 tree wftree_06_09_10\n",
        "17 chirp regions found for event 41 tree wftree_06_09_10\n",
        "7 chirp regions found for event 42 tree wftree_06_09_10\n",
        "8 chirp regions found for event 43 tree wftree_06_09_10\n",
        "12 chirp regions found for event 44 tree wftree_06_09_10\n",
        "17 chirp regions found for event 45 tree wftree_06_09_10"
       ]
      },
      {
       "output_type": "stream",
       "stream": "stdout",
       "text": [
        "\n",
        "10 chirp regions found for event 46 tree wftree_06_09_10\n",
        "13 chirp regions found for event 47 tree wftree_06_09_10\n",
        "10 chirp regions found for event 48 tree wftree_06_09_10\n",
        "11 chirp regions found for event 49 tree wftree_06_09_10\n",
        "13 chirp regions found for event 50 tree wftree_06_09_10\n",
        "8 chirp regions found for event 51 tree wftree_06_09_10\n",
        "13 chirp regions found for event 52 tree wftree_06_09_10\n",
        "17 chirp regions found for event 53 tree wftree_06_09_10\n",
        "13 chirp regions found for event 54 tree wftree_06_09_10"
       ]
      },
      {
       "output_type": "stream",
       "stream": "stdout",
       "text": [
        "\n",
        "13 chirp regions found for event 55 tree wftree_06_09_10\n",
        "13 chirp regions found for event 56 tree wftree_06_09_10\n",
        "12 chirp regions found for event 57 tree wftree_06_09_10\n",
        "10 chirp regions found for event 58 tree wftree_06_09_10\n",
        "13 chirp regions found for event 59 tree wftree_06_09_10\n",
        "18 chirp regions found for event 60 tree wftree_06_09_10\n",
        "15 chirp regions found for event 61 tree wftree_06_09_10\n",
        "14 chirp regions found for event 62 tree wftree_06_09_10\n",
        "13 chirp regions found for event 63 tree wftree_06_09_10"
       ]
      },
      {
       "output_type": "stream",
       "stream": "stdout",
       "text": [
        "\n",
        "15 chirp regions found for event 64 tree wftree_06_09_10\n",
        "15 chirp regions found for event 65 tree wftree_06_09_10\n",
        "11 chirp regions found for event 66 tree wftree_06_09_10\n",
        "16 chirp regions found for event 67 tree wftree_06_09_10\n",
        "11 chirp regions found for event 68 tree wftree_06_09_10\n",
        "15 chirp regions found for event 69 tree wftree_06_09_10\n",
        "14 chirp regions found for event 70 tree wftree_06_09_10\n",
        "15 chirp regions found for event 71 tree wftree_06_09_10\n",
        "15 chirp regions found for event 72 tree wftree_06_09_10"
       ]
      },
      {
       "output_type": "stream",
       "stream": "stdout",
       "text": [
        "\n",
        "15 chirp regions found for event 73 tree wftree_06_09_10\n",
        "14 chirp regions found for event 74 tree wftree_06_09_10\n",
        "12 chirp regions found for event 75 tree wftree_06_09_10\n",
        "17 chirp regions found for event 76 tree wftree_06_09_10\n",
        "16 chirp regions found for event 77 tree wftree_06_09_10\n",
        "11 chirp regions found for event 78 tree wftree_06_09_10\n",
        "12 chirp regions found for event 79 tree wftree_06_09_10\n",
        "15 chirp regions found for event 80 tree wftree_06_09_10\n",
        "14 chirp regions found for event 81 tree wftree_06_09_10"
       ]
      },
      {
       "output_type": "stream",
       "stream": "stdout",
       "text": [
        "\n",
        "10 chirp regions found for event 82 tree wftree_06_09_10\n",
        "16 chirp regions found for event 83 tree wftree_06_09_10\n",
        "15 chirp regions found for event 84 tree wftree_06_09_10\n",
        "18 chirp regions found for event 85 tree wftree_06_09_10\n",
        "9 chirp regions found for event 86 tree wftree_06_09_10\n",
        "17 chirp regions found for event 87 tree wftree_06_09_10\n",
        "14 chirp regions found for event 88 tree wftree_06_09_10\n",
        "14 chirp regions found for event 89 tree wftree_06_09_10\n",
        "9 chirp regions found for event 90 tree wftree_06_09_10"
       ]
      },
      {
       "output_type": "stream",
       "stream": "stdout",
       "text": [
        "\n",
        "17 chirp regions found for event 91 tree wftree_06_09_10\n",
        "11 chirp regions found for event 92 tree wftree_06_09_10\n",
        "8 chirp regions found for event 93 tree wftree_06_09_10\n",
        "15 chirp regions found for event 94 tree wftree_06_09_10\n",
        "11 chirp regions found for event 95 tree wftree_06_09_10\n",
        "11 chirp regions found for event 96 tree wftree_06_09_10\n",
        "13 chirp regions found for event 97 tree wftree_06_09_10\n",
        "11 chirp regions found for event 98 tree wftree_06_09_10\n",
        "16 chirp regions found for event 99 tree wftree_06_09_10"
       ]
      },
      {
       "output_type": "stream",
       "stream": "stdout",
       "text": [
        "\n",
        "19 chirp regions found for event 0 tree wftree_06_09_10\n",
        "10 chirp regions found for event 1 tree wftree_06_09_10\n",
        "8 chirp regions found for event 2 tree wftree_06_09_10\n",
        "9 chirp regions found for event 3 tree wftree_06_09_10\n",
        "16 chirp regions found for event 4 tree wftree_06_09_10\n",
        "9 chirp regions found for event 5 tree wftree_06_09_10\n",
        "10 chirp regions found for event 6 tree wftree_06_09_10\n",
        "8 chirp regions found for event 7 tree wftree_06_09_10\n",
        "7 chirp regions found for event 8 tree wftree_06_09_10"
       ]
      },
      {
       "output_type": "stream",
       "stream": "stdout",
       "text": [
        "\n",
        "14 chirp regions found for event 9 tree wftree_06_09_10\n",
        "20 chirp regions found for event 10 tree wftree_06_09_10\n",
        "8 chirp regions found for event 11 tree wftree_06_09_10\n",
        "9 chirp regions found for event 12 tree wftree_06_09_10\n",
        "9 chirp regions found for event 13 tree wftree_06_09_10\n",
        "11 chirp regions found for event 14 tree wftree_06_09_10\n",
        "12 chirp regions found for event 15 tree wftree_06_09_10\n",
        "17 chirp regions found for event 16 tree wftree_06_09_10\n",
        "16 chirp regions found for event 17 tree wftree_06_09_10"
       ]
      },
      {
       "output_type": "stream",
       "stream": "stdout",
       "text": [
        "\n",
        "11 chirp regions found for event 18 tree wftree_06_09_10\n",
        "7 chirp regions found for event 19 tree wftree_06_09_10\n",
        "14 chirp regions found for event 20 tree wftree_06_09_10\n",
        "12 chirp regions found for event 21 tree wftree_06_09_10\n",
        "13 chirp regions found for event 22 tree wftree_06_09_10\n",
        "11 chirp regions found for event 23 tree wftree_06_09_10\n",
        "12 chirp regions found for event 24 tree wftree_06_09_10\n",
        "6 chirp regions found for event 25 tree wftree_06_09_10\n",
        "12 chirp regions found for event 26 tree wftree_06_09_10"
       ]
      },
      {
       "output_type": "stream",
       "stream": "stdout",
       "text": [
        "\n",
        "13 chirp regions found for event 27 tree wftree_06_09_10\n",
        "7 chirp regions found for event 28 tree wftree_06_09_10\n",
        "6 chirp regions found for event 29 tree wftree_06_09_10\n",
        "10 chirp regions found for event 30 tree wftree_06_09_10\n",
        "7 chirp regions found for event 31 tree wftree_06_09_10\n",
        "11 chirp regions found for event 32 tree wftree_06_09_10\n",
        "10 chirp regions found for event 33 tree wftree_06_09_10\n",
        "7 chirp regions found for event 34 tree wftree_06_09_10\n",
        "11 chirp regions found for event 35 tree wftree_06_09_10"
       ]
      },
      {
       "output_type": "stream",
       "stream": "stdout",
       "text": [
        "\n",
        "17 chirp regions found for event 36 tree wftree_06_09_10\n",
        "10 chirp regions found for event 37 tree wftree_06_09_10\n",
        "15 chirp regions found for event 38 tree wftree_06_09_10\n",
        "15 chirp regions found for event 39 tree wftree_06_09_10\n",
        "17 chirp regions found for event 40 tree wftree_06_09_10\n",
        "12 chirp regions found for event 41 tree wftree_06_09_10\n",
        "5 chirp regions found for event 42 tree wftree_06_09_10\n",
        "13 chirp regions found for event 43 tree wftree_06_09_10"
       ]
      },
      {
       "output_type": "stream",
       "stream": "stdout",
       "text": [
        "\n",
        "12 chirp regions found for event 44 tree wftree_06_09_10\n",
        "15 chirp regions found for event 45 tree wftree_06_09_10\n",
        "9 chirp regions found for event 46 tree wftree_06_09_10\n",
        "12 chirp regions found for event 47 tree wftree_06_09_10\n",
        "12 chirp regions found for event 48 tree wftree_06_09_10\n",
        "10 chirp regions found for event 49 tree wftree_06_09_10"
       ]
      },
      {
       "output_type": "stream",
       "stream": "stdout",
       "text": [
        "\n",
        "13 chirp regions found for event 50 tree wftree_06_09_10\n",
        "11 chirp regions found for event 51 tree wftree_06_09_10\n",
        "8 chirp regions found for event 52 tree wftree_06_09_10\n",
        "13 chirp regions found for event 53 tree wftree_06_09_10\n",
        "12 chirp regions found for event 54 tree wftree_06_09_10\n",
        "8 chirp regions found for event 55 tree wftree_06_09_10\n",
        "13 chirp regions found for event 56 tree wftree_06_09_10\n",
        "15 chirp regions found for event 57 tree wftree_06_09_10\n",
        "12 chirp regions found for event 58 tree wftree_06_09_10"
       ]
      },
      {
       "output_type": "stream",
       "stream": "stdout",
       "text": [
        "\n",
        "15 chirp regions found for event 59 tree wftree_06_09_10\n",
        "9 chirp regions found for event 60 tree wftree_06_09_10\n",
        "10 chirp regions found for event 61 tree wftree_06_09_10\n",
        "9 chirp regions found for event 62 tree wftree_06_09_10\n",
        "12 chirp regions found for event 63 tree wftree_06_09_10\n",
        "10 chirp regions found for event 64 tree wftree_06_09_10\n",
        "10 chirp regions found for event 65 tree wftree_06_09_10\n",
        "12 chirp regions found for event 66 tree wftree_06_09_10\n",
        "8 chirp regions found for event 67 tree wftree_06_09_10"
       ]
      },
      {
       "output_type": "stream",
       "stream": "stdout",
       "text": [
        "\n",
        "12 chirp regions found for event 68 tree wftree_06_09_10\n",
        "11 chirp regions found for event 69 tree wftree_06_09_10\n",
        "12 chirp regions found for event 70 tree wftree_06_09_10\n",
        "19 chirp regions found for event 71 tree wftree_06_09_10\n",
        "15 chirp regions found for event 72 tree wftree_06_09_10\n",
        "13 chirp regions found for event 73 tree wftree_06_09_10\n",
        "12 chirp regions found for event 74 tree wftree_06_09_10\n",
        "12 chirp regions found for event 75 tree wftree_06_09_10\n",
        "14 chirp regions found for event 76 tree wftree_06_09_10"
       ]
      },
      {
       "output_type": "stream",
       "stream": "stdout",
       "text": [
        "\n",
        "16 chirp regions found for event 77 tree wftree_06_09_10\n",
        "10 chirp regions found for event 78 tree wftree_06_09_10\n",
        "7 chirp regions found for event 79 tree wftree_06_09_10\n",
        "14 chirp regions found for event 80 tree wftree_06_09_10\n",
        "8 chirp regions found for event 81 tree wftree_06_09_10\n",
        "10 chirp regions found for event 82 tree wftree_06_09_10\n",
        "14 chirp regions found for event 83 tree wftree_06_09_10\n",
        "16 chirp regions found for event 84 tree wftree_06_09_10\n",
        "13 chirp regions found for event 85 tree wftree_06_09_10"
       ]
      },
      {
       "output_type": "stream",
       "stream": "stdout",
       "text": [
        "\n",
        "9 chirp regions found for event 86 tree wftree_06_09_10\n",
        "14 chirp regions found for event 87 tree wftree_06_09_10\n",
        "13 chirp regions found for event 88 tree wftree_06_09_10\n",
        "11 chirp regions found for event 89 tree wftree_06_09_10\n",
        "15 chirp regions found for event 90 tree wftree_06_09_10\n",
        "9 chirp regions found for event 91 tree wftree_06_09_10\n",
        "15 chirp regions found for event 92 tree wftree_06_09_10\n",
        "11 chirp regions found for event 93 tree wftree_06_09_10\n",
        "15 chirp regions found for event 94 tree wftree_06_09_10"
       ]
      },
      {
       "output_type": "stream",
       "stream": "stdout",
       "text": [
        "\n",
        "6 chirp regions found for event 95 tree wftree_06_09_10\n",
        "11 chirp regions found for event 96 tree wftree_06_09_10\n",
        "12 chirp regions found for event 97 tree wftree_06_09_10\n",
        "14 chirp regions found for event 98 tree wftree_06_09_10\n",
        "14 chirp regions found for event 99 tree wftree_06_09_10\n",
        "1 chirp regions found for event 0 tree wftree_06_09_10\n",
        "1 chirp regions found for event 6 tree wftree_06_09_10"
       ]
      },
      {
       "output_type": "stream",
       "stream": "stdout",
       "text": [
        "\n",
        "1 chirp regions found for event 9 tree wftree_06_09_10\n",
        "1 chirp regions found for event 10 tree wftree_06_09_10\n",
        "1 chirp regions found for event 12 tree wftree_06_09_10\n",
        "1 chirp regions found for event 15 tree wftree_06_09_10"
       ]
      },
      {
       "output_type": "stream",
       "stream": "stdout",
       "text": [
        "\n",
        "2 chirp regions found for event 16 tree wftree_06_09_10\n",
        "2 chirp regions found for event 17 tree wftree_06_09_10\n",
        "2 chirp regions found for event 18 tree wftree_06_09_10\n",
        "1 chirp regions found for event 19 tree wftree_06_09_10\n",
        "2 chirp regions found for event 21 tree wftree_06_09_10\n",
        "1 chirp regions found for event 23 tree wftree_06_09_10\n",
        "1 chirp regions found for event 25 tree wftree_06_09_10"
       ]
      },
      {
       "output_type": "stream",
       "stream": "stdout",
       "text": [
        "\n",
        "2 chirp regions found for event 29 tree wftree_06_09_10\n",
        "1 chirp regions found for event 30 tree wftree_06_09_10\n",
        "1 chirp regions found for event 31 tree wftree_06_09_10\n",
        "2 chirp regions found for event 32 tree wftree_06_09_10\n",
        "3 chirp regions found for event 38 tree wftree_06_09_10"
       ]
      },
      {
       "output_type": "stream",
       "stream": "stdout",
       "text": [
        "\n",
        "1 chirp regions found for event 41 tree wftree_06_09_10\n",
        "1 chirp regions found for event 42 tree wftree_06_09_10\n",
        "1 chirp regions found for event 43 tree wftree_06_09_10"
       ]
      },
      {
       "output_type": "stream",
       "stream": "stdout",
       "text": [
        "\n",
        "2 chirp regions found for event 45 tree wftree_06_09_10\n",
        "1 chirp regions found for event 46 tree wftree_06_09_10\n",
        "1 chirp regions found for event 48 tree wftree_06_09_10\n",
        "1 chirp regions found for event 50 tree wftree_06_09_10\n",
        "1 chirp regions found for event 51 tree wftree_06_09_10\n",
        "2 chirp regions found for event 53 tree wftree_06_09_10"
       ]
      },
      {
       "output_type": "stream",
       "stream": "stdout",
       "text": [
        "\n",
        "1 chirp regions found for event 54 tree wftree_06_09_10\n",
        "1 chirp regions found for event 55 tree wftree_06_09_10\n",
        "2 chirp regions found for event 57 tree wftree_06_09_10\n",
        "1 chirp regions found for event 58 tree wftree_06_09_10"
       ]
      },
      {
       "output_type": "stream",
       "stream": "stdout",
       "text": [
        "\n",
        "1 chirp regions found for event 60 tree wftree_06_09_10\n",
        "1 chirp regions found for event 61 tree wftree_06_09_10\n",
        "1 chirp regions found for event 63 tree wftree_06_09_10\n",
        "1 chirp regions found for event 64 tree wftree_06_09_10\n",
        "1 chirp regions found for event 67 tree wftree_06_09_10"
       ]
      },
      {
       "output_type": "stream",
       "stream": "stdout",
       "text": [
        "\n",
        "2 chirp regions found for event 70 tree wftree_06_09_10\n",
        "1 chirp regions found for event 75 tree wftree_06_09_10\n",
        "1 chirp regions found for event 79 tree wftree_06_09_10"
       ]
      },
      {
       "output_type": "stream",
       "stream": "stdout",
       "text": [
        "\n",
        "1 chirp regions found for event 80 tree wftree_06_09_10\n",
        "1 chirp regions found for event 81 tree wftree_06_09_10\n",
        "2 chirp regions found for event 84 tree wftree_06_09_10\n",
        "1 chirp regions found for event 89 tree wftree_06_09_10"
       ]
      },
      {
       "output_type": "stream",
       "stream": "stdout",
       "text": [
        "\n",
        "1 chirp regions found for event 93 tree wftree_06_09_10\n",
        "1 chirp regions found for event 95 tree wftree_06_09_10\n",
        "1 chirp regions found for event 97 tree wftree_06_09_10\n",
        "1 chirp regions found for event 98 tree wftree_06_09_10"
       ]
      },
      {
       "output_type": "stream",
       "stream": "stdout",
       "text": [
        "\n",
        "1 chirp regions found for event 99 tree wftree_06_09_10\n",
        "8 chirp regions found for event 0 tree wftree_06_09_10\n",
        "9 chirp regions found for event 1 tree wftree_06_09_10\n",
        "10 chirp regions found for event 2 tree wftree_06_09_10\n",
        "6 chirp regions found for event 3 tree wftree_06_09_10\n",
        "9 chirp regions found for event 4 tree wftree_06_09_10\n",
        "8 chirp regions found for event 5 tree wftree_06_09_10\n",
        "13 chirp regions found for event 6 tree wftree_06_09_10\n",
        "5 chirp regions found for event 7 tree wftree_06_09_10"
       ]
      },
      {
       "output_type": "stream",
       "stream": "stdout",
       "text": [
        "\n",
        "9 chirp regions found for event 8 tree wftree_06_09_10\n",
        "7 chirp regions found for event 9 tree wftree_06_09_10\n",
        "10 chirp regions found for event 10 tree wftree_06_09_10\n",
        "8 chirp regions found for event 11 tree wftree_06_09_10\n",
        "12 chirp regions found for event 12 tree wftree_06_09_10\n",
        "3 chirp regions found for event 13 tree wftree_06_09_10\n",
        "8 chirp regions found for event 14 tree wftree_06_09_10\n",
        "7 chirp regions found for event 15 tree wftree_06_09_10\n",
        "7 chirp regions found for event 16 tree wftree_06_09_10"
       ]
      },
      {
       "output_type": "stream",
       "stream": "stdout",
       "text": [
        "\n",
        "9 chirp regions found for event 17 tree wftree_06_09_10\n",
        "9 chirp regions found for event 18 tree wftree_06_09_10\n",
        "6 chirp regions found for event 19 tree wftree_06_09_10\n",
        "7 chirp regions found for event 20 tree wftree_06_09_10\n",
        "6 chirp regions found for event 21 tree wftree_06_09_10\n",
        "10 chirp regions found for event 22 tree wftree_06_09_10\n",
        "11 chirp regions found for event 23 tree wftree_06_09_10\n",
        "6 chirp regions found for event 24 tree wftree_06_09_10\n",
        "5 chirp regions found for event 25 tree wftree_06_09_10"
       ]
      },
      {
       "output_type": "stream",
       "stream": "stdout",
       "text": [
        "\n",
        "7 chirp regions found for event 26 tree wftree_06_09_10\n",
        "8 chirp regions found for event 27 tree wftree_06_09_10\n",
        "7 chirp regions found for event 28 tree wftree_06_09_10\n",
        "10 chirp regions found for event 29 tree wftree_06_09_10\n",
        "9 chirp regions found for event 30 tree wftree_06_09_10\n",
        "6 chirp regions found for event 31 tree wftree_06_09_10\n",
        "10 chirp regions found for event 32 tree wftree_06_09_10\n",
        "7 chirp regions found for event 33 tree wftree_06_09_10\n",
        "8 chirp regions found for event 34 tree wftree_06_09_10"
       ]
      },
      {
       "output_type": "stream",
       "stream": "stdout",
       "text": [
        "\n",
        "7 chirp regions found for event 35 tree wftree_06_09_10\n",
        "9 chirp regions found for event 36 tree wftree_06_09_10\n",
        "7 chirp regions found for event 37 tree wftree_06_09_10\n",
        "9 chirp regions found for event 38 tree wftree_06_09_10\n",
        "8 chirp regions found for event 39 tree wftree_06_09_10\n",
        "10 chirp regions found for event 40 tree wftree_06_09_10\n",
        "7 chirp regions found for event 41 tree wftree_06_09_10\n",
        "7 chirp regions found for event 42 tree wftree_06_09_10\n",
        "5 chirp regions found for event 43 tree wftree_06_09_10"
       ]
      },
      {
       "output_type": "stream",
       "stream": "stdout",
       "text": [
        "\n",
        "11 chirp regions found for event 44 tree wftree_06_09_10\n",
        "6 chirp regions found for event 45 tree wftree_06_09_10\n",
        "8 chirp regions found for event 46 tree wftree_06_09_10\n",
        "8 chirp regions found for event 47 tree wftree_06_09_10\n",
        "4 chirp regions found for event 48 tree wftree_06_09_10\n",
        "7 chirp regions found for event 49 tree wftree_06_09_10\n",
        "5 chirp regions found for event 50 tree wftree_06_09_10\n",
        "6 chirp regions found for event 51 tree wftree_06_09_10\n",
        "9 chirp regions found for event 52 tree wftree_06_09_10"
       ]
      },
      {
       "output_type": "stream",
       "stream": "stdout",
       "text": [
        "\n",
        "10 chirp regions found for event 53 tree wftree_06_09_10\n",
        "8 chirp regions found for event 54 tree wftree_06_09_10\n",
        "12 chirp regions found for event 55 tree wftree_06_09_10\n",
        "7 chirp regions found for event 56 tree wftree_06_09_10\n",
        "8 chirp regions found for event 57 tree wftree_06_09_10\n",
        "4 chirp regions found for event 58 tree wftree_06_09_10\n",
        "5 chirp regions found for event 59 tree wftree_06_09_10\n",
        "8 chirp regions found for event 60 tree wftree_06_09_10\n",
        "11 chirp regions found for event 61 tree wftree_06_09_10"
       ]
      },
      {
       "output_type": "stream",
       "stream": "stdout",
       "text": [
        "\n",
        "9 chirp regions found for event 62 tree wftree_06_09_10\n",
        "9 chirp regions found for event 63 tree wftree_06_09_10\n",
        "6 chirp regions found for event 64 tree wftree_06_09_10\n",
        "6 chirp regions found for event 65 tree wftree_06_09_10\n",
        "3 chirp regions found for event 66 tree wftree_06_09_10\n",
        "4 chirp regions found for event 67 tree wftree_06_09_10\n",
        "7 chirp regions found for event 68 tree wftree_06_09_10\n",
        "13 chirp regions found for event 69 tree wftree_06_09_10\n",
        "8 chirp regions found for event 70 tree wftree_06_09_10"
       ]
      },
      {
       "output_type": "stream",
       "stream": "stdout",
       "text": [
        "\n",
        "9 chirp regions found for event 71 tree wftree_06_09_10\n",
        "6 chirp regions found for event 72 tree wftree_06_09_10\n",
        "6 chirp regions found for event 73 tree wftree_06_09_10\n",
        "6 chirp regions found for event 74 tree wftree_06_09_10\n",
        "7 chirp regions found for event 75 tree wftree_06_09_10\n",
        "8 chirp regions found for event 76 tree wftree_06_09_10\n",
        "7 chirp regions found for event 77 tree wftree_06_09_10\n",
        "9 chirp regions found for event 78 tree wftree_06_09_10\n",
        "10 chirp regions found for event 79 tree wftree_06_09_10"
       ]
      },
      {
       "output_type": "stream",
       "stream": "stdout",
       "text": [
        "\n",
        "9 chirp regions found for event 80 tree wftree_06_09_10\n",
        "8 chirp regions found for event 81 tree wftree_06_09_10\n",
        "11 chirp regions found for event 82 tree wftree_06_09_10\n",
        "7 chirp regions found for event 83 tree wftree_06_09_10\n",
        "7 chirp regions found for event 84 tree wftree_06_09_10\n",
        "7 chirp regions found for event 85 tree wftree_06_09_10\n",
        "9 chirp regions found for event 86 tree wftree_06_09_10\n",
        "4 chirp regions found for event 87 tree wftree_06_09_10\n",
        "8 chirp regions found for event 88 tree wftree_06_09_10"
       ]
      },
      {
       "output_type": "stream",
       "stream": "stdout",
       "text": [
        "\n",
        "6 chirp regions found for event 89 tree wftree_06_09_10\n",
        "9 chirp regions found for event 90 tree wftree_06_09_10\n",
        "8 chirp regions found for event 91 tree wftree_06_09_10\n",
        "8 chirp regions found for event 92 tree wftree_06_09_10\n",
        "10 chirp regions found for event 93 tree wftree_06_09_10\n",
        "10 chirp regions found for event 94 tree wftree_06_09_10\n",
        "8 chirp regions found for event 95 tree wftree_06_09_10\n",
        "14 chirp regions found for event 96 tree wftree_06_09_10\n",
        "6 chirp regions found for event 97 tree wftree_06_09_10"
       ]
      },
      {
       "output_type": "stream",
       "stream": "stdout",
       "text": [
        "\n",
        "9 chirp regions found for event 98 tree wftree_06_09_10\n",
        "8 chirp regions found for event 99 tree wftree_06_09_10\n",
        "6 chirp regions found for event 0 tree wftree_06_09_10\n",
        "7 chirp regions found for event 1 tree wftree_06_09_10\n",
        "9 chirp regions found for event 2 tree wftree_06_09_10\n",
        "5 chirp regions found for event 3 tree wftree_06_09_10\n",
        "1 chirp regions found for event 4 tree wftree_06_09_10\n",
        "3 chirp regions found for event 5 tree wftree_06_09_10\n",
        "6 chirp regions found for event 6 tree wftree_06_09_10"
       ]
      },
      {
       "output_type": "stream",
       "stream": "stdout",
       "text": [
        "\n",
        "7 chirp regions found for event 7 tree wftree_06_09_10\n",
        "5 chirp regions found for event 8 tree wftree_06_09_10\n",
        "6 chirp regions found for event 9 tree wftree_06_09_10\n",
        "1 chirp regions found for event 10 tree wftree_06_09_10\n",
        "5 chirp regions found for event 11 tree wftree_06_09_10\n",
        "4 chirp regions found for event 12 tree wftree_06_09_10\n",
        "1 chirp regions found for event 13 tree wftree_06_09_10\n",
        "3 chirp regions found for event 14 tree wftree_06_09_10\n",
        "3 chirp regions found for event 15 tree wftree_06_09_10"
       ]
      },
      {
       "output_type": "stream",
       "stream": "stdout",
       "text": [
        "\n",
        "11 chirp regions found for event 16 tree wftree_06_09_10\n",
        "5 chirp regions found for event 17 tree wftree_06_09_10\n",
        "6 chirp regions found for event 18 tree wftree_06_09_10\n",
        "9 chirp regions found for event 19 tree wftree_06_09_10\n",
        "2 chirp regions found for event 20 tree wftree_06_09_10\n",
        "5 chirp regions found for event 21 tree wftree_06_09_10\n",
        "8 chirp regions found for event 22 tree wftree_06_09_10\n",
        "6 chirp regions found for event 23 tree wftree_06_09_10\n",
        "2 chirp regions found for event 24 tree wftree_06_09_10"
       ]
      },
      {
       "output_type": "stream",
       "stream": "stdout",
       "text": [
        "\n",
        "11 chirp regions found for event 25 tree wftree_06_09_10\n",
        "11 chirp regions found for event 26 tree wftree_06_09_10\n",
        "7 chirp regions found for event 27 tree wftree_06_09_10\n",
        "9 chirp regions found for event 28 tree wftree_06_09_10\n",
        "8 chirp regions found for event 29 tree wftree_06_09_10\n",
        "9 chirp regions found for event 30 tree wftree_06_09_10\n",
        "8 chirp regions found for event 31 tree wftree_06_09_10\n",
        "9 chirp regions found for event 32 tree wftree_06_09_10\n",
        "4 chirp regions found for event 33 tree wftree_06_09_10"
       ]
      },
      {
       "output_type": "stream",
       "stream": "stdout",
       "text": [
        "\n",
        "6 chirp regions found for event 34 tree wftree_06_09_10\n",
        "5 chirp regions found for event 35 tree wftree_06_09_10\n",
        "4 chirp regions found for event 36 tree wftree_06_09_10\n",
        "7 chirp regions found for event 37 tree wftree_06_09_10\n",
        "5 chirp regions found for event 38 tree wftree_06_09_10\n",
        "6 chirp regions found for event 39 tree wftree_06_09_10\n",
        "4 chirp regions found for event 40 tree wftree_06_09_10\n",
        "4 chirp regions found for event 41 tree wftree_06_09_10\n",
        "9 chirp regions found for event 42 tree wftree_06_09_10"
       ]
      },
      {
       "output_type": "stream",
       "stream": "stdout",
       "text": [
        "\n",
        "6 chirp regions found for event 43 tree wftree_06_09_10\n",
        "6 chirp regions found for event 44 tree wftree_06_09_10\n",
        "3 chirp regions found for event 45 tree wftree_06_09_10\n",
        "7 chirp regions found for event 46 tree wftree_06_09_10\n",
        "3 chirp regions found for event 47 tree wftree_06_09_10\n",
        "9 chirp regions found for event 48 tree wftree_06_09_10\n",
        "5 chirp regions found for event 49 tree wftree_06_09_10\n",
        "7 chirp regions found for event 50 tree wftree_06_09_10\n",
        "8 chirp regions found for event 51 tree wftree_06_09_10"
       ]
      },
      {
       "output_type": "stream",
       "stream": "stdout",
       "text": [
        "\n",
        "4 chirp regions found for event 52 tree wftree_06_09_10\n",
        "6 chirp regions found for event 53 tree wftree_06_09_10\n",
        "9 chirp regions found for event 54 tree wftree_06_09_10\n",
        "7 chirp regions found for event 55 tree wftree_06_09_10\n",
        "9 chirp regions found for event 56 tree wftree_06_09_10\n",
        "4 chirp regions found for event 57 tree wftree_06_09_10\n",
        "9 chirp regions found for event 58 tree wftree_06_09_10\n",
        "5 chirp regions found for event 59 tree wftree_06_09_10\n",
        "5 chirp regions found for event 60 tree wftree_06_09_10"
       ]
      },
      {
       "output_type": "stream",
       "stream": "stdout",
       "text": [
        "\n",
        "6 chirp regions found for event 61 tree wftree_06_09_10\n",
        "4 chirp regions found for event 62 tree wftree_06_09_10\n",
        "4 chirp regions found for event 63 tree wftree_06_09_10\n",
        "8 chirp regions found for event 64 tree wftree_06_09_10\n",
        "5 chirp regions found for event 65 tree wftree_06_09_10\n",
        "7 chirp regions found for event 66 tree wftree_06_09_10\n",
        "10 chirp regions found for event 67 tree wftree_06_09_10\n",
        "7 chirp regions found for event 68 tree wftree_06_09_10\n",
        "7 chirp regions found for event 69 tree wftree_06_09_10"
       ]
      },
      {
       "output_type": "stream",
       "stream": "stdout",
       "text": [
        "\n",
        "5 chirp regions found for event 70 tree wftree_06_09_10\n",
        "4 chirp regions found for event 71 tree wftree_06_09_10\n",
        "10 chirp regions found for event 72 tree wftree_06_09_10\n",
        "8 chirp regions found for event 73 tree wftree_06_09_10\n",
        "6 chirp regions found for event 74 tree wftree_06_09_10\n",
        "4 chirp regions found for event 75 tree wftree_06_09_10\n",
        "6 chirp regions found for event 76 tree wftree_06_09_10\n",
        "5 chirp regions found for event 77 tree wftree_06_09_10\n",
        "8 chirp regions found for event 78 tree wftree_06_09_10"
       ]
      },
      {
       "output_type": "stream",
       "stream": "stdout",
       "text": [
        "\n",
        "5 chirp regions found for event 79 tree wftree_06_09_10\n",
        "6 chirp regions found for event 80 tree wftree_06_09_10\n",
        "8 chirp regions found for event 81 tree wftree_06_09_10\n",
        "6 chirp regions found for event 82 tree wftree_06_09_10\n",
        "2 chirp regions found for event 83 tree wftree_06_09_10\n",
        "6 chirp regions found for event 84 tree wftree_06_09_10\n",
        "7 chirp regions found for event 85 tree wftree_06_09_10\n",
        "5 chirp regions found for event 86 tree wftree_06_09_10\n",
        "6 chirp regions found for event 87 tree wftree_06_09_10"
       ]
      },
      {
       "output_type": "stream",
       "stream": "stdout",
       "text": [
        "\n",
        "5 chirp regions found for event 88 tree wftree_06_09_10\n",
        "7 chirp regions found for event 89 tree wftree_06_09_10\n",
        "9 chirp regions found for event 90 tree wftree_06_09_10\n",
        "5 chirp regions found for event 91 tree wftree_06_09_10\n",
        "5 chirp regions found for event 92 tree wftree_06_09_10\n",
        "8 chirp regions found for event 93 tree wftree_06_09_10\n",
        "9 chirp regions found for event 94 tree wftree_06_09_10\n",
        "10 chirp regions found for event 95 tree wftree_06_09_10\n",
        "5 chirp regions found for event 96 tree wftree_06_09_10"
       ]
      },
      {
       "output_type": "stream",
       "stream": "stdout",
       "text": [
        "\n",
        "3 chirp regions found for event 97 tree wftree_06_09_10\n",
        "4 chirp regions found for event 98 tree wftree_06_09_10\n",
        "7 chirp regions found for event 99 tree wftree_06_09_10\n",
        "14 chirp regions found for event 0 tree wftree_06_09_10"
       ]
      },
      {
       "output_type": "stream",
       "stream": "stdout",
       "text": [
        "\n",
        "10 chirp regions found for event 1 tree wftree_06_09_10\n",
        "10 chirp regions found for event 2 tree wftree_06_09_10\n",
        "14 chirp regions found for event 3 tree wftree_06_09_10\n",
        "14 chirp regions found for event 4 tree wftree_06_09_10\n",
        "13 chirp regions found for event 5 tree wftree_06_09_10\n",
        "14 chirp regions found for event 6 tree wftree_06_09_10\n",
        "18 chirp regions found for event 7 tree wftree_06_09_10\n",
        "13 chirp regions found for event 8 tree wftree_06_09_10\n",
        "12 chirp regions found for event 9 tree wftree_06_09_10"
       ]
      },
      {
       "output_type": "stream",
       "stream": "stdout",
       "text": [
        "\n",
        "16 chirp regions found for event 10 tree wftree_06_09_10\n",
        "13 chirp regions found for event 11 tree wftree_06_09_10\n",
        "15 chirp regions found for event 12 tree wftree_06_09_10\n",
        "13 chirp regions found for event 13 tree wftree_06_09_10\n",
        "11 chirp regions found for event 14 tree wftree_06_09_10\n",
        "15 chirp regions found for event 15 tree wftree_06_09_10\n",
        "14 chirp regions found for event 16 tree wftree_06_09_10\n",
        "12 chirp regions found for event 17 tree wftree_06_09_10\n",
        "14 chirp regions found for event 18 tree wftree_06_09_10"
       ]
      },
      {
       "output_type": "stream",
       "stream": "stdout",
       "text": [
        "\n",
        "10 chirp regions found for event 19 tree wftree_06_09_10\n",
        "14 chirp regions found for event 20 tree wftree_06_09_10\n",
        "5 chirp regions found for event 21 tree wftree_06_09_10\n",
        "10 chirp regions found for event 22 tree wftree_06_09_10\n",
        "12 chirp regions found for event 23 tree wftree_06_09_10\n",
        "15 chirp regions found for event 24 tree wftree_06_09_10\n",
        "8 chirp regions found for event 25 tree wftree_06_09_10\n",
        "18 chirp regions found for event 26 tree wftree_06_09_10\n",
        "18 chirp regions found for event 27 tree wftree_06_09_10"
       ]
      },
      {
       "output_type": "stream",
       "stream": "stdout",
       "text": [
        "\n",
        "13 chirp regions found for event 28 tree wftree_06_09_10\n",
        "12 chirp regions found for event 29 tree wftree_06_09_10\n",
        "13 chirp regions found for event 30 tree wftree_06_09_10\n",
        "17 chirp regions found for event 31 tree wftree_06_09_10\n",
        "14 chirp regions found for event 32 tree wftree_06_09_10\n",
        "14 chirp regions found for event 33 tree wftree_06_09_10\n",
        "11 chirp regions found for event 34 tree wftree_06_09_10\n",
        "12 chirp regions found for event 35 tree wftree_06_09_10\n",
        "11 chirp regions found for event 36 tree wftree_06_09_10"
       ]
      },
      {
       "output_type": "stream",
       "stream": "stdout",
       "text": [
        "\n",
        "15 chirp regions found for event 37 tree wftree_06_09_10\n",
        "12 chirp regions found for event 38 tree wftree_06_09_10\n",
        "14 chirp regions found for event 39 tree wftree_06_09_10\n",
        "12 chirp regions found for event 40 tree wftree_06_09_10\n",
        "11 chirp regions found for event 41 tree wftree_06_09_10\n",
        "9 chirp regions found for event 42 tree wftree_06_09_10\n",
        "4 chirp regions found for event 43 tree wftree_06_09_10\n",
        "9 chirp regions found for event 44 tree wftree_06_09_10\n",
        "13 chirp regions found for event 45 tree wftree_06_09_10"
       ]
      },
      {
       "output_type": "stream",
       "stream": "stdout",
       "text": [
        "\n",
        "6 chirp regions found for event 46 tree wftree_06_09_10\n",
        "11 chirp regions found for event 47 tree wftree_06_09_10\n",
        "10 chirp regions found for event 48 tree wftree_06_09_10\n",
        "12 chirp regions found for event 49 tree wftree_06_09_10\n",
        "14 chirp regions found for event 50 tree wftree_06_09_10\n",
        "15 chirp regions found for event 51 tree wftree_06_09_10"
       ]
      },
      {
       "output_type": "stream",
       "stream": "stdout",
       "text": [
        "\n",
        "18 chirp regions found for event 52 tree wftree_06_09_10\n",
        "17 chirp regions found for event 53 tree wftree_06_09_10\n",
        "13 chirp regions found for event 54 tree wftree_06_09_10\n",
        "7 chirp regions found for event 55 tree wftree_06_09_10\n",
        "12 chirp regions found for event 56 tree wftree_06_09_10"
       ]
      },
      {
       "output_type": "stream",
       "stream": "stdout",
       "text": [
        "\n",
        "16 chirp regions found for event 57 tree wftree_06_09_10\n",
        "8 chirp regions found for event 58 tree wftree_06_09_10\n",
        "8 chirp regions found for event 59 tree wftree_06_09_10\n",
        "14 chirp regions found for event 60 tree wftree_06_09_10\n",
        "15 chirp regions found for event 61 tree wftree_06_09_10\n",
        "13 chirp regions found for event 62 tree wftree_06_09_10\n",
        "11 chirp regions found for event 63 tree wftree_06_09_10\n",
        "9 chirp regions found for event 64 tree wftree_06_09_10\n",
        "12 chirp regions found for event 65 tree wftree_06_09_10"
       ]
      },
      {
       "output_type": "stream",
       "stream": "stdout",
       "text": [
        "\n",
        "10 chirp regions found for event 66 tree wftree_06_09_10\n",
        "17 chirp regions found for event 67 tree wftree_06_09_10\n",
        "19 chirp regions found for event 68 tree wftree_06_09_10\n",
        "14 chirp regions found for event 69 tree wftree_06_09_10\n",
        "14 chirp regions found for event 70 tree wftree_06_09_10\n",
        "13 chirp regions found for event 71 tree wftree_06_09_10\n",
        "8 chirp regions found for event 72 tree wftree_06_09_10\n",
        "11 chirp regions found for event 73 tree wftree_06_09_10\n",
        "11 chirp regions found for event 74 tree wftree_06_09_10"
       ]
      },
      {
       "output_type": "stream",
       "stream": "stdout",
       "text": [
        "\n",
        "15 chirp regions found for event 75 tree wftree_06_09_10\n",
        "13 chirp regions found for event 76 tree wftree_06_09_10\n",
        "16 chirp regions found for event 77 tree wftree_06_09_10\n",
        "17 chirp regions found for event 78 tree wftree_06_09_10\n",
        "9 chirp regions found for event 79 tree wftree_06_09_10\n",
        "15 chirp regions found for event 80 tree wftree_06_09_10\n",
        "11 chirp regions found for event 81 tree wftree_06_09_10\n",
        "13 chirp regions found for event 82 tree wftree_06_09_10\n",
        "11 chirp regions found for event 83 tree wftree_06_09_10"
       ]
      },
      {
       "output_type": "stream",
       "stream": "stdout",
       "text": [
        "\n",
        "13 chirp regions found for event 84 tree wftree_06_09_10\n",
        "13 chirp regions found for event 85 tree wftree_06_09_10\n",
        "16 chirp regions found for event 86 tree wftree_06_09_10\n",
        "11 chirp regions found for event 87 tree wftree_06_09_10\n",
        "12 chirp regions found for event 88 tree wftree_06_09_10\n",
        "10 chirp regions found for event 89 tree wftree_06_09_10\n",
        "14 chirp regions found for event 90 tree wftree_06_09_10\n",
        "10 chirp regions found for event 91 tree wftree_06_09_10\n",
        "13 chirp regions found for event 92 tree wftree_06_09_10"
       ]
      },
      {
       "output_type": "stream",
       "stream": "stdout",
       "text": [
        "\n",
        "15 chirp regions found for event 93 tree wftree_06_09_10\n",
        "17 chirp regions found for event 94 tree wftree_06_09_10\n",
        "9 chirp regions found for event 95 tree wftree_06_09_10\n",
        "8 chirp regions found for event 96 tree wftree_06_09_10\n",
        "13 chirp regions found for event 97 tree wftree_06_09_10\n",
        "10 chirp regions found for event 98 tree wftree_06_09_10\n",
        "14 chirp regions found for event 99 tree wftree_06_09_10\n",
        "12 chirp regions found for event 0 tree wftree_06_09_10\n",
        "14 chirp regions found for event 1 tree wftree_06_09_10"
       ]
      },
      {
       "output_type": "stream",
       "stream": "stdout",
       "text": [
        "\n",
        "10 chirp regions found for event 2 tree wftree_06_09_10\n",
        "13 chirp regions found for event 3 tree wftree_06_09_10\n",
        "16 chirp regions found for event 4 tree wftree_06_09_10\n",
        "14 chirp regions found for event 5 tree wftree_06_09_10\n",
        "13 chirp regions found for event 6 tree wftree_06_09_10\n",
        "14 chirp regions found for event 7 tree wftree_06_09_10\n",
        "10 chirp regions found for event 8 tree wftree_06_09_10\n",
        "12 chirp regions found for event 9 tree wftree_06_09_10\n",
        "10 chirp regions found for event 10 tree wftree_06_09_10"
       ]
      },
      {
       "output_type": "stream",
       "stream": "stdout",
       "text": [
        "\n",
        "15 chirp regions found for event 11 tree wftree_06_09_10\n",
        "11 chirp regions found for event 12 tree wftree_06_09_10\n",
        "18 chirp regions found for event 13 tree wftree_06_09_10\n",
        "10 chirp regions found for event 14 tree wftree_06_09_10\n",
        "14 chirp regions found for event 15 tree wftree_06_09_10\n",
        "14 chirp regions found for event 16 tree wftree_06_09_10\n",
        "9 chirp regions found for event 17 tree wftree_06_09_10\n",
        "14 chirp regions found for event 18 tree wftree_06_09_10\n",
        "13 chirp regions found for event 19 tree wftree_06_09_10"
       ]
      },
      {
       "output_type": "stream",
       "stream": "stdout",
       "text": [
        "\n",
        "11 chirp regions found for event 20 tree wftree_06_09_10\n",
        "8 chirp regions found for event 21 tree wftree_06_09_10\n",
        "14 chirp regions found for event 22 tree wftree_06_09_10\n",
        "16 chirp regions found for event 23 tree wftree_06_09_10\n",
        "10 chirp regions found for event 24 tree wftree_06_09_10\n",
        "14 chirp regions found for event 25 tree wftree_06_09_10\n",
        "17 chirp regions found for event 26 tree wftree_06_09_10\n",
        "9 chirp regions found for event 27 tree wftree_06_09_10\n",
        "10 chirp regions found for event 28 tree wftree_06_09_10"
       ]
      },
      {
       "output_type": "stream",
       "stream": "stdout",
       "text": [
        "\n",
        "15 chirp regions found for event 29 tree wftree_06_09_10\n",
        "13 chirp regions found for event 30 tree wftree_06_09_10\n",
        "18 chirp regions found for event 31 tree wftree_06_09_10\n",
        "15 chirp regions found for event 32 tree wftree_06_09_10\n",
        "11 chirp regions found for event 33 tree wftree_06_09_10\n",
        "11 chirp regions found for event 34 tree wftree_06_09_10\n",
        "12 chirp regions found for event 35 tree wftree_06_09_10\n",
        "18 chirp regions found for event 36 tree wftree_06_09_10\n",
        "11 chirp regions found for event 37 tree wftree_06_09_10"
       ]
      },
      {
       "output_type": "stream",
       "stream": "stdout",
       "text": [
        "\n",
        "9 chirp regions found for event 38 tree wftree_06_09_10\n",
        "9 chirp regions found for event 39 tree wftree_06_09_10\n",
        "16 chirp regions found for event 40 tree wftree_06_09_10\n",
        "15 chirp regions found for event 41 tree wftree_06_09_10\n",
        "13 chirp regions found for event 42 tree wftree_06_09_10\n",
        "20 chirp regions found for event 43 tree wftree_06_09_10\n",
        "10 chirp regions found for event 44 tree wftree_06_09_10\n",
        "11 chirp regions found for event 45 tree wftree_06_09_10\n",
        "13 chirp regions found for event 46 tree wftree_06_09_10"
       ]
      },
      {
       "output_type": "stream",
       "stream": "stdout",
       "text": [
        "\n",
        "10 chirp regions found for event 47 tree wftree_06_09_10\n",
        "11 chirp regions found for event 48 tree wftree_06_09_10\n",
        "14 chirp regions found for event 49 tree wftree_06_09_10\n",
        "8 chirp regions found for event 50 tree wftree_06_09_10\n",
        "13 chirp regions found for event 51 tree wftree_06_09_10\n",
        "8 chirp regions found for event 52 tree wftree_06_09_10\n",
        "10 chirp regions found for event 53 tree wftree_06_09_10\n",
        "13 chirp regions found for event 54 tree wftree_06_09_10\n",
        "8 chirp regions found for event 55 tree wftree_06_09_10"
       ]
      },
      {
       "output_type": "stream",
       "stream": "stdout",
       "text": [
        "\n",
        "14 chirp regions found for event 56 tree wftree_06_09_10\n",
        "13 chirp regions found for event 57 tree wftree_06_09_10\n",
        "15 chirp regions found for event 58 tree wftree_06_09_10\n",
        "9 chirp regions found for event 59 tree wftree_06_09_10\n",
        "15 chirp regions found for event 60 tree wftree_06_09_10\n",
        "13 chirp regions found for event 61 tree wftree_06_09_10\n",
        "13 chirp regions found for event 62 tree wftree_06_09_10\n",
        "11 chirp regions found for event 63 tree wftree_06_09_10\n",
        "11 chirp regions found for event 64 tree wftree_06_09_10"
       ]
      },
      {
       "output_type": "stream",
       "stream": "stdout",
       "text": [
        "\n",
        "11 chirp regions found for event 65 tree wftree_06_09_10\n",
        "11 chirp regions found for event 66 tree wftree_06_09_10\n",
        "14 chirp regions found for event 67 tree wftree_06_09_10\n",
        "12 chirp regions found for event 68 tree wftree_06_09_10\n",
        "5 chirp regions found for event 69 tree wftree_06_09_10\n",
        "12 chirp regions found for event 70 tree wftree_06_09_10\n",
        "6 chirp regions found for event 71 tree wftree_06_09_10\n",
        "12 chirp regions found for event 72 tree wftree_06_09_10\n",
        "12 chirp regions found for event 73 tree wftree_06_09_10"
       ]
      },
      {
       "output_type": "stream",
       "stream": "stdout",
       "text": [
        "\n",
        "12 chirp regions found for event 74 tree wftree_06_09_10\n",
        "12 chirp regions found for event 75 tree wftree_06_09_10\n",
        "16 chirp regions found for event 76 tree wftree_06_09_10\n",
        "13 chirp regions found for event 77 tree wftree_06_09_10\n",
        "15 chirp regions found for event 78 tree wftree_06_09_10\n",
        "8 chirp regions found for event 79 tree wftree_06_09_10\n",
        "8 chirp regions found for event 80 tree wftree_06_09_10\n",
        "10 chirp regions found for event 81 tree wftree_06_09_10\n",
        "8 chirp regions found for event 82 tree wftree_06_09_10"
       ]
      },
      {
       "output_type": "stream",
       "stream": "stdout",
       "text": [
        "\n",
        "9 chirp regions found for event 83 tree wftree_06_09_10\n",
        "15 chirp regions found for event 84 tree wftree_06_09_10\n",
        "10 chirp regions found for event 85 tree wftree_06_09_10\n",
        "14 chirp regions found for event 86 tree wftree_06_09_10\n",
        "10 chirp regions found for event 87 tree wftree_06_09_10\n",
        "9 chirp regions found for event 88 tree wftree_06_09_10\n",
        "9 chirp regions found for event 89 tree wftree_06_09_10\n",
        "15 chirp regions found for event 90 tree wftree_06_09_10\n",
        "11 chirp regions found for event 91 tree wftree_06_09_10"
       ]
      },
      {
       "output_type": "stream",
       "stream": "stdout",
       "text": [
        "\n",
        "11 chirp regions found for event 92 tree wftree_06_09_10\n",
        "8 chirp regions found for event 93 tree wftree_06_09_10\n",
        "14 chirp regions found for event 94 tree wftree_06_09_10\n",
        "14 chirp regions found for event 95 tree wftree_06_09_10\n",
        "15 chirp regions found for event 96 tree wftree_06_09_10\n",
        "14 chirp regions found for event 97 tree wftree_06_09_10\n",
        "14 chirp regions found for event 98 tree wftree_06_09_10\n",
        "11 chirp regions found for event 99 tree wftree_06_09_10\n",
        "11 chirp regions found for event 0 tree wftree_06_09_10"
       ]
      },
      {
       "output_type": "stream",
       "stream": "stdout",
       "text": [
        "\n",
        "9 chirp regions found for event 1 tree wftree_06_09_10\n",
        "13 chirp regions found for event 2 tree wftree_06_09_10\n",
        "9 chirp regions found for event 3 tree wftree_06_09_10\n",
        "15 chirp regions found for event 4 tree wftree_06_09_10\n",
        "8 chirp regions found for event 5 tree wftree_06_09_10\n",
        "8 chirp regions found for event 6 tree wftree_06_09_10\n",
        "13 chirp regions found for event 7 tree wftree_06_09_10"
       ]
      },
      {
       "output_type": "stream",
       "stream": "stdout",
       "text": [
        "\n",
        "10 chirp regions found for event 8 tree wftree_06_09_10\n",
        "14 chirp regions found for event 9 tree wftree_06_09_10\n",
        "13 chirp regions found for event 10 tree wftree_06_09_10\n",
        "14 chirp regions found for event 11 tree wftree_06_09_10\n",
        "12 chirp regions found for event 12 tree wftree_06_09_10\n",
        "7 chirp regions found for event 13 tree wftree_06_09_10\n",
        "14 chirp regions found for event 14 tree wftree_06_09_10\n",
        "7 chirp regions found for event 15 tree wftree_06_09_10\n",
        "15 chirp regions found for event 16 tree wftree_06_09_10"
       ]
      },
      {
       "output_type": "stream",
       "stream": "stdout",
       "text": [
        "\n",
        "7 chirp regions found for event 17 tree wftree_06_09_10\n",
        "13 chirp regions found for event 18 tree wftree_06_09_10\n",
        "15 chirp regions found for event 19 tree wftree_06_09_10\n",
        "13 chirp regions found for event 20 tree wftree_06_09_10\n",
        "12 chirp regions found for event 21 tree wftree_06_09_10\n",
        "16 chirp regions found for event 22 tree wftree_06_09_10\n",
        "13 chirp regions found for event 23 tree wftree_06_09_10\n",
        "18 chirp regions found for event 24 tree wftree_06_09_10\n",
        "14 chirp regions found for event 25 tree wftree_06_09_10"
       ]
      },
      {
       "output_type": "stream",
       "stream": "stdout",
       "text": [
        "\n",
        "13 chirp regions found for event 26 tree wftree_06_09_10\n",
        "18 chirp regions found for event 27 tree wftree_06_09_10\n",
        "15 chirp regions found for event 28 tree wftree_06_09_10\n",
        "6 chirp regions found for event 29 tree wftree_06_09_10\n",
        "11 chirp regions found for event 30 tree wftree_06_09_10\n",
        "14 chirp regions found for event 31 tree wftree_06_09_10\n",
        "9 chirp regions found for event 32 tree wftree_06_09_10\n",
        "14 chirp regions found for event 33 tree wftree_06_09_10\n",
        "13 chirp regions found for event 34 tree wftree_06_09_10"
       ]
      },
      {
       "output_type": "stream",
       "stream": "stdout",
       "text": [
        "\n",
        "9 chirp regions found for event 35 tree wftree_06_09_10\n",
        "12 chirp regions found for event 36 tree wftree_06_09_10\n",
        "14 chirp regions found for event 37 tree wftree_06_09_10\n",
        "9 chirp regions found for event 38 tree wftree_06_09_10\n",
        "10 chirp regions found for event 39 tree wftree_06_09_10\n",
        "10 chirp regions found for event 40 tree wftree_06_09_10\n",
        "7 chirp regions found for event 41 tree wftree_06_09_10\n",
        "11 chirp regions found for event 42 tree wftree_06_09_10\n",
        "14 chirp regions found for event 43 tree wftree_06_09_10"
       ]
      },
      {
       "output_type": "stream",
       "stream": "stdout",
       "text": [
        "\n",
        "6 chirp regions found for event 44 tree wftree_06_09_10\n",
        "17 chirp regions found for event 45 tree wftree_06_09_10\n",
        "8 chirp regions found for event 46 tree wftree_06_09_10\n",
        "5 chirp regions found for event 47 tree wftree_06_09_10\n",
        "9 chirp regions found for event 48 tree wftree_06_09_10\n",
        "12 chirp regions found for event 49 tree wftree_06_09_10\n",
        "9 chirp regions found for event 50 tree wftree_06_09_10\n",
        "13 chirp regions found for event 51 tree wftree_06_09_10\n",
        "9 chirp regions found for event 52 tree wftree_06_09_10"
       ]
      },
      {
       "output_type": "stream",
       "stream": "stdout",
       "text": [
        "\n",
        "14 chirp regions found for event 53 tree wftree_06_09_10\n",
        "15 chirp regions found for event 54 tree wftree_06_09_10\n",
        "14 chirp regions found for event 55 tree wftree_06_09_10\n",
        "6 chirp regions found for event 56 tree wftree_06_09_10\n",
        "6 chirp regions found for event 57 tree wftree_06_09_10\n",
        "16 chirp regions found for event 58 tree wftree_06_09_10\n",
        "18 chirp regions found for event 59 tree wftree_06_09_10\n",
        "11 chirp regions found for event 60 tree wftree_06_09_10\n",
        "9 chirp regions found for event 61 tree wftree_06_09_10"
       ]
      },
      {
       "output_type": "stream",
       "stream": "stdout",
       "text": [
        "\n",
        "10 chirp regions found for event 62 tree wftree_06_09_10\n",
        "11 chirp regions found for event 63 tree wftree_06_09_10\n",
        "14 chirp regions found for event 64 tree wftree_06_09_10\n",
        "13 chirp regions found for event 65 tree wftree_06_09_10\n",
        "13 chirp regions found for event 66 tree wftree_06_09_10\n",
        "11 chirp regions found for event 67 tree wftree_06_09_10\n",
        "12 chirp regions found for event 68 tree wftree_06_09_10\n",
        "16 chirp regions found for event 69 tree wftree_06_09_10\n",
        "13 chirp regions found for event 70 tree wftree_06_09_10"
       ]
      },
      {
       "output_type": "stream",
       "stream": "stdout",
       "text": [
        "\n",
        "14 chirp regions found for event 71 tree wftree_06_09_10\n",
        "16 chirp regions found for event 72 tree wftree_06_09_10\n",
        "10 chirp regions found for event 73 tree wftree_06_09_10\n",
        "11 chirp regions found for event 74 tree wftree_06_09_10\n",
        "18 chirp regions found for event 75 tree wftree_06_09_10\n",
        "13 chirp regions found for event 76 tree wftree_06_09_10\n",
        "12 chirp regions found for event 77 tree wftree_06_09_10\n",
        "10 chirp regions found for event 78 tree wftree_06_09_10\n",
        "17 chirp regions found for event 79 tree wftree_06_09_10"
       ]
      },
      {
       "output_type": "stream",
       "stream": "stdout",
       "text": [
        "\n",
        "12 chirp regions found for event 80 tree wftree_06_09_10\n",
        "8 chirp regions found for event 81 tree wftree_06_09_10\n",
        "11 chirp regions found for event 82 tree wftree_06_09_10\n",
        "14 chirp regions found for event 83 tree wftree_06_09_10\n",
        "14 chirp regions found for event 84 tree wftree_06_09_10\n",
        "10 chirp regions found for event 85 tree wftree_06_09_10\n",
        "9 chirp regions found for event 86 tree wftree_06_09_10\n",
        "11 chirp regions found for event 87 tree wftree_06_09_10\n",
        "7 chirp regions found for event 88 tree wftree_06_09_10"
       ]
      },
      {
       "output_type": "stream",
       "stream": "stdout",
       "text": [
        "\n",
        "8 chirp regions found for event 89 tree wftree_06_09_10\n",
        "12 chirp regions found for event 90 tree wftree_06_09_10\n",
        "13 chirp regions found for event 91 tree wftree_06_09_10\n",
        "9 chirp regions found for event 92 tree wftree_06_09_10\n",
        "10 chirp regions found for event 93 tree wftree_06_09_10\n",
        "10 chirp regions found for event 94 tree wftree_06_09_10\n",
        "16 chirp regions found for event 95 tree wftree_06_09_10\n",
        "22 chirp regions found for event 96 tree wftree_06_09_10\n",
        "10 chirp regions found for event 97 tree wftree_06_09_10"
       ]
      },
      {
       "output_type": "stream",
       "stream": "stdout",
       "text": [
        "\n",
        "9 chirp regions found for event 98 tree wftree_06_09_10\n",
        "14 chirp regions found for event 99 tree wftree_06_09_10\n",
        "11 chirp regions found for event 0 tree wftree_06_09_10\n",
        "13 chirp regions found for event 1 tree wftree_06_09_10\n",
        "18 chirp regions found for event 2 tree wftree_06_09_10\n",
        "15 chirp regions found for event 3 tree wftree_06_09_10"
       ]
      },
      {
       "output_type": "stream",
       "stream": "stdout",
       "text": [
        "\n",
        "13 chirp regions found for event 4 tree wftree_06_09_10\n",
        "16 chirp regions found for event 5 tree wftree_06_09_10\n",
        "17 chirp regions found for event 6 tree wftree_06_09_10\n",
        "15 chirp regions found for event 7 tree wftree_06_09_10\n",
        "13 chirp regions found for event 8 tree wftree_06_09_10"
       ]
      },
      {
       "output_type": "stream",
       "stream": "stdout",
       "text": [
        "\n",
        "21 chirp regions found for event 9 tree wftree_06_09_10\n",
        "18 chirp regions found for event 10 tree wftree_06_09_10\n",
        "15 chirp regions found for event 11 tree wftree_06_09_10\n",
        "17 chirp regions found for event 12 tree wftree_06_09_10\n",
        "11 chirp regions found for event 13 tree wftree_06_09_10"
       ]
      },
      {
       "output_type": "stream",
       "stream": "stdout",
       "text": [
        "\n",
        "17 chirp regions found for event 14 tree wftree_06_09_10\n",
        "20 chirp regions found for event 15 tree wftree_06_09_10\n",
        "12 chirp regions found for event 16 tree wftree_06_09_10\n",
        "14 chirp regions found for event 17 tree wftree_06_09_10\n",
        "12 chirp regions found for event 18 tree wftree_06_09_10"
       ]
      },
      {
       "output_type": "stream",
       "stream": "stdout",
       "text": [
        "\n",
        "12 chirp regions found for event 19 tree wftree_06_09_10\n",
        "17 chirp regions found for event 20 tree wftree_06_09_10\n",
        "16 chirp regions found for event 21 tree wftree_06_09_10\n",
        "17 chirp regions found for event 22 tree wftree_06_09_10"
       ]
      },
      {
       "output_type": "stream",
       "stream": "stdout",
       "text": [
        "\n",
        "10 chirp regions found for event 23 tree wftree_06_09_10\n",
        "15 chirp regions found for event 24 tree wftree_06_09_10\n",
        "17 chirp regions found for event 25 tree wftree_06_09_10\n",
        "16 chirp regions found for event 26 tree wftree_06_09_10\n",
        "11 chirp regions found for event 27 tree wftree_06_09_10"
       ]
      },
      {
       "output_type": "stream",
       "stream": "stdout",
       "text": [
        "\n",
        "17 chirp regions found for event 28 tree wftree_06_09_10\n",
        "13 chirp regions found for event 29 tree wftree_06_09_10\n",
        "13 chirp regions found for event 30 tree wftree_06_09_10\n",
        "17 chirp regions found for event 31 tree wftree_06_09_10"
       ]
      },
      {
       "output_type": "stream",
       "stream": "stdout",
       "text": [
        "\n",
        "14 chirp regions found for event 32 tree wftree_06_09_10\n",
        "15 chirp regions found for event 33 tree wftree_06_09_10\n",
        "16 chirp regions found for event 34 tree wftree_06_09_10\n",
        "15 chirp regions found for event 35 tree wftree_06_09_10"
       ]
      },
      {
       "output_type": "stream",
       "stream": "stdout",
       "text": [
        "\n",
        "14 chirp regions found for event 36 tree wftree_06_09_10\n",
        "12 chirp regions found for event 37 tree wftree_06_09_10\n",
        "18 chirp regions found for event 38 tree wftree_06_09_10\n",
        "9 chirp regions found for event 39 tree wftree_06_09_10"
       ]
      },
      {
       "output_type": "stream",
       "stream": "stdout",
       "text": [
        "\n",
        "20 chirp regions found for event 40 tree wftree_06_09_10\n",
        "13 chirp regions found for event 41 tree wftree_06_09_10\n",
        "14 chirp regions found for event 42 tree wftree_06_09_10\n",
        "12 chirp regions found for event 43 tree wftree_06_09_10"
       ]
      },
      {
       "output_type": "stream",
       "stream": "stdout",
       "text": [
        "\n",
        "14 chirp regions found for event 44 tree wftree_06_09_10\n",
        "19 chirp regions found for event 45 tree wftree_06_09_10\n",
        "14 chirp regions found for event 46 tree wftree_06_09_10\n",
        "16 chirp regions found for event 47 tree wftree_06_09_10\n",
        "17 chirp regions found for event 48 tree wftree_06_09_10"
       ]
      },
      {
       "output_type": "stream",
       "stream": "stdout",
       "text": [
        "\n",
        "16 chirp regions found for event 49 tree wftree_06_09_10\n",
        "13 chirp regions found for event 50 tree wftree_06_09_10\n",
        "21 chirp regions found for event 51 tree wftree_06_09_10\n",
        "19 chirp regions found for event 52 tree wftree_06_09_10\n",
        "14 chirp regions found for event 53 tree wftree_06_09_10"
       ]
      },
      {
       "output_type": "stream",
       "stream": "stdout",
       "text": [
        "\n",
        "11 chirp regions found for event 54 tree wftree_06_09_10\n",
        "13 chirp regions found for event 55 tree wftree_06_09_10\n",
        "21 chirp regions found for event 56 tree wftree_06_09_10\n",
        "12 chirp regions found for event 57 tree wftree_06_09_10\n",
        "16 chirp regions found for event 58 tree wftree_06_09_10\n",
        "16 chirp regions found for event 59 tree wftree_06_09_10\n",
        "9 chirp regions found for event 60 tree wftree_06_09_10\n",
        "18 chirp regions found for event 61 tree wftree_06_09_10\n",
        "12 chirp regions found for event 62 tree wftree_06_09_10"
       ]
      },
      {
       "output_type": "stream",
       "stream": "stdout",
       "text": [
        "\n",
        "8 chirp regions found for event 63 tree wftree_06_09_10\n",
        "17 chirp regions found for event 64 tree wftree_06_09_10\n",
        "10 chirp regions found for event 65 tree wftree_06_09_10\n",
        "21 chirp regions found for event 66 tree wftree_06_09_10\n",
        "14 chirp regions found for event 67 tree wftree_06_09_10"
       ]
      },
      {
       "output_type": "stream",
       "stream": "stdout",
       "text": [
        "\n",
        "10 chirp regions found for event 68 tree wftree_06_09_10\n",
        "16 chirp regions found for event 69 tree wftree_06_09_10\n",
        "14 chirp regions found for event 70 tree wftree_06_09_10\n",
        "16 chirp regions found for event 71 tree wftree_06_09_10\n",
        "20 chirp regions found for event 72 tree wftree_06_09_10\n",
        "8 chirp regions found for event 73 tree wftree_06_09_10\n",
        "15 chirp regions found for event 74 tree wftree_06_09_10"
       ]
      },
      {
       "output_type": "stream",
       "stream": "stdout",
       "text": [
        "\n",
        "11 chirp regions found for event 75 tree wftree_06_09_10\n",
        "19 chirp regions found for event 76 tree wftree_06_09_10\n",
        "15 chirp regions found for event 77 tree wftree_06_09_10\n",
        "17 chirp regions found for event 78 tree wftree_06_09_10\n",
        "9 chirp regions found for event 79 tree wftree_06_09_10\n",
        "13 chirp regions found for event 80 tree wftree_06_09_10"
       ]
      },
      {
       "output_type": "stream",
       "stream": "stdout",
       "text": [
        "\n",
        "13 chirp regions found for event 81 tree wftree_06_09_10\n",
        "11 chirp regions found for event 82 tree wftree_06_09_10\n",
        "16 chirp regions found for event 83 tree wftree_06_09_10\n",
        "21 chirp regions found for event 84 tree wftree_06_09_10\n",
        "13 chirp regions found for event 85 tree wftree_06_09_10"
       ]
      },
      {
       "output_type": "stream",
       "stream": "stdout",
       "text": [
        "\n",
        "12 chirp regions found for event 86 tree wftree_06_09_10\n",
        "9 chirp regions found for event 87 tree wftree_06_09_10\n",
        "20 chirp regions found for event 88 tree wftree_06_09_10\n",
        "7 chirp regions found for event 89 tree wftree_06_09_10\n",
        "16 chirp regions found for event 90 tree wftree_06_09_10\n",
        "16 chirp regions found for event 91 tree wftree_06_09_10\n",
        "12 chirp regions found for event 92 tree wftree_06_09_10\n",
        "12 chirp regions found for event 93 tree wftree_06_09_10"
       ]
      },
      {
       "output_type": "stream",
       "stream": "stdout",
       "text": [
        "\n",
        "13 chirp regions found for event 94 tree wftree_06_09_10\n",
        "11 chirp regions found for event 95 tree wftree_06_09_10\n",
        "14 chirp regions found for event 96 tree wftree_06_09_10\n",
        "10 chirp regions found for event 97 tree wftree_06_09_10\n",
        "18 chirp regions found for event 98 tree wftree_06_09_10\n",
        "17 chirp regions found for event 99 tree wftree_06_09_10\n",
        "13 chirp regions found for event 0 tree wftree_06_09_10\n",
        "16 chirp regions found for event 1 tree wftree_06_09_10"
       ]
      },
      {
       "output_type": "stream",
       "stream": "stdout",
       "text": [
        "\n",
        "9 chirp regions found for event 2 tree wftree_06_09_10\n",
        "16 chirp regions found for event 3 tree wftree_06_09_10\n",
        "15 chirp regions found for event 4 tree wftree_06_09_10\n",
        "21 chirp regions found for event 5 tree wftree_06_09_10\n",
        "13 chirp regions found for event 6 tree wftree_06_09_10\n",
        "15 chirp regions found for event 7 tree wftree_06_09_10\n",
        "20 chirp regions found for event 8 tree wftree_06_09_10\n",
        "12 chirp regions found for event 9 tree wftree_06_09_10\n",
        "14 chirp regions found for event 10 tree wftree_06_09_10"
       ]
      },
      {
       "output_type": "stream",
       "stream": "stdout",
       "text": [
        "\n",
        "17 chirp regions found for event 11 tree wftree_06_09_10\n",
        "14 chirp regions found for event 12 tree wftree_06_09_10\n",
        "17 chirp regions found for event 13 tree wftree_06_09_10\n",
        "8 chirp regions found for event 14 tree wftree_06_09_10\n",
        "15 chirp regions found for event 15 tree wftree_06_09_10\n",
        "15 chirp regions found for event 16 tree wftree_06_09_10\n",
        "13 chirp regions found for event 17 tree wftree_06_09_10\n",
        "16 chirp regions found for event 18 tree wftree_06_09_10\n",
        "17 chirp regions found for event 19 tree wftree_06_09_10"
       ]
      },
      {
       "output_type": "stream",
       "stream": "stdout",
       "text": [
        "\n",
        "16 chirp regions found for event 20 tree wftree_06_09_10\n",
        "17 chirp regions found for event 21 tree wftree_06_09_10\n",
        "17 chirp regions found for event 22 tree wftree_06_09_10\n",
        "18 chirp regions found for event 23 tree wftree_06_09_10\n",
        "16 chirp regions found for event 24 tree wftree_06_09_10\n",
        "11 chirp regions found for event 25 tree wftree_06_09_10\n",
        "20 chirp regions found for event 26 tree wftree_06_09_10\n",
        "21 chirp regions found for event 27 tree wftree_06_09_10\n",
        "10 chirp regions found for event 28 tree wftree_06_09_10"
       ]
      },
      {
       "output_type": "stream",
       "stream": "stdout",
       "text": [
        "\n",
        "13 chirp regions found for event 29 tree wftree_06_09_10\n",
        "15 chirp regions found for event 30 tree wftree_06_09_10\n",
        "15 chirp regions found for event 31 tree wftree_06_09_10\n",
        "13 chirp regions found for event 32 tree wftree_06_09_10\n",
        "18 chirp regions found for event 33 tree wftree_06_09_10\n",
        "15 chirp regions found for event 34 tree wftree_06_09_10\n",
        "17 chirp regions found for event 35 tree wftree_06_09_10\n",
        "14 chirp regions found for event 36 tree wftree_06_09_10\n",
        "13 chirp regions found for event 37 tree wftree_06_09_10"
       ]
      },
      {
       "output_type": "stream",
       "stream": "stdout",
       "text": [
        "\n",
        "12 chirp regions found for event 38 tree wftree_06_09_10\n",
        "13 chirp regions found for event 39 tree wftree_06_09_10\n",
        "14 chirp regions found for event 40 tree wftree_06_09_10\n",
        "18 chirp regions found for event 41 tree wftree_06_09_10\n",
        "14 chirp regions found for event 42 tree wftree_06_09_10\n",
        "12 chirp regions found for event 43 tree wftree_06_09_10\n",
        "15 chirp regions found for event 44 tree wftree_06_09_10\n",
        "21 chirp regions found for event 45 tree wftree_06_09_10\n",
        "10 chirp regions found for event 46 tree wftree_06_09_10"
       ]
      },
      {
       "output_type": "stream",
       "stream": "stdout",
       "text": [
        "\n",
        "14 chirp regions found for event 47 tree wftree_06_09_10\n",
        "13 chirp regions found for event 48 tree wftree_06_09_10\n",
        "17 chirp regions found for event 49 tree wftree_06_09_10\n",
        "15 chirp regions found for event 50 tree wftree_06_09_10\n",
        "12 chirp regions found for event 51 tree wftree_06_09_10\n",
        "16 chirp regions found for event 52 tree wftree_06_09_10\n",
        "11 chirp regions found for event 53 tree wftree_06_09_10\n",
        "21 chirp regions found for event 54 tree wftree_06_09_10\n",
        "11 chirp regions found for event 55 tree wftree_06_09_10"
       ]
      },
      {
       "output_type": "stream",
       "stream": "stdout",
       "text": [
        "\n",
        "10 chirp regions found for event 56 tree wftree_06_09_10\n",
        "15 chirp regions found for event 57 tree wftree_06_09_10\n",
        "17 chirp regions found for event 58 tree wftree_06_09_10\n",
        "14 chirp regions found for event 59 tree wftree_06_09_10\n",
        "19 chirp regions found for event 60 tree wftree_06_09_10\n",
        "16 chirp regions found for event 61 tree wftree_06_09_10\n",
        "15 chirp regions found for event 62 tree wftree_06_09_10\n",
        "13 chirp regions found for event 63 tree wftree_06_09_10\n",
        "15 chirp regions found for event 64 tree wftree_06_09_10"
       ]
      },
      {
       "output_type": "stream",
       "stream": "stdout",
       "text": [
        "\n",
        "12 chirp regions found for event 65 tree wftree_06_09_10\n",
        "12 chirp regions found for event 66 tree wftree_06_09_10\n",
        "18 chirp regions found for event 67 tree wftree_06_09_10\n",
        "18 chirp regions found for event 68 tree wftree_06_09_10\n",
        "13 chirp regions found for event 69 tree wftree_06_09_10\n",
        "17 chirp regions found for event 70 tree wftree_06_09_10\n",
        "14 chirp regions found for event 71 tree wftree_06_09_10\n",
        "19 chirp regions found for event 72 tree wftree_06_09_10\n",
        "14 chirp regions found for event 73 tree wftree_06_09_10"
       ]
      },
      {
       "output_type": "stream",
       "stream": "stdout",
       "text": [
        "\n",
        "15 chirp regions found for event 74 tree wftree_06_09_10\n",
        "18 chirp regions found for event 75 tree wftree_06_09_10\n",
        "12 chirp regions found for event 76 tree wftree_06_09_10\n",
        "16 chirp regions found for event 77 tree wftree_06_09_10\n",
        "19 chirp regions found for event 78 tree wftree_06_09_10\n",
        "17 chirp regions found for event 79 tree wftree_06_09_10\n",
        "12 chirp regions found for event 80 tree wftree_06_09_10\n",
        "11 chirp regions found for event 81 tree wftree_06_09_10\n",
        "11 chirp regions found for event 82 tree wftree_06_09_10"
       ]
      },
      {
       "output_type": "stream",
       "stream": "stdout",
       "text": [
        "\n",
        "13 chirp regions found for event 83 tree wftree_06_09_10\n",
        "16 chirp regions found for event 84 tree wftree_06_09_10\n",
        "15 chirp regions found for event 85 tree wftree_06_09_10\n",
        "10 chirp regions found for event 86 tree wftree_06_09_10\n",
        "11 chirp regions found for event 87 tree wftree_06_09_10\n",
        "16 chirp regions found for event 88 tree wftree_06_09_10\n",
        "13 chirp regions found for event 89 tree wftree_06_09_10\n",
        "18 chirp regions found for event 90 tree wftree_06_09_10\n",
        "12 chirp regions found for event 91 tree wftree_06_09_10"
       ]
      },
      {
       "output_type": "stream",
       "stream": "stdout",
       "text": [
        "\n",
        "14 chirp regions found for event 92 tree wftree_06_09_10\n",
        "11 chirp regions found for event 93 tree wftree_06_09_10\n",
        "13 chirp regions found for event 94 tree wftree_06_09_10\n",
        "18 chirp regions found for event 95 tree wftree_06_09_10\n",
        "15 chirp regions found for event 96 tree wftree_06_09_10\n",
        "15 chirp regions found for event 97 tree wftree_06_09_10\n",
        "12 chirp regions found for event 98 tree wftree_06_09_10\n",
        "14 chirp regions found for event 99 tree wftree_06_09_10\n",
        "7 chirp regions found for event 0 tree wftree_06_09_10"
       ]
      },
      {
       "output_type": "stream",
       "stream": "stdout",
       "text": [
        "\n",
        "12 chirp regions found for event 1 tree wftree_06_09_10\n",
        "10 chirp regions found for event 2 tree wftree_06_09_10\n",
        "16 chirp regions found for event 3 tree wftree_06_09_10\n",
        "9 chirp regions found for event 4 tree wftree_06_09_10\n",
        "4 chirp regions found for event 5 tree wftree_06_09_10\n",
        "11 chirp regions found for event 6 tree wftree_06_09_10\n",
        "8 chirp regions found for event 7 tree wftree_06_09_10"
       ]
      },
      {
       "output_type": "stream",
       "stream": "stdout",
       "text": [
        "\n",
        "9 chirp regions found for event 8 tree wftree_06_09_10\n",
        "11 chirp regions found for event 9 tree wftree_06_09_10\n",
        "9 chirp regions found for event 10 tree wftree_06_09_10\n",
        "10 chirp regions found for event 11 tree wftree_06_09_10\n",
        "14 chirp regions found for event 12 tree wftree_06_09_10\n",
        "7 chirp regions found for event 13 tree wftree_06_09_10\n",
        "8 chirp regions found for event 14 tree wftree_06_09_10\n",
        "16 chirp regions found for event 15 tree wftree_06_09_10\n",
        "17 chirp regions found for event 16 tree wftree_06_09_10"
       ]
      },
      {
       "output_type": "stream",
       "stream": "stdout",
       "text": [
        "\n",
        "8 chirp regions found for event 17 tree wftree_06_09_10\n",
        "8 chirp regions found for event 18 tree wftree_06_09_10\n",
        "8 chirp regions found for event 19 tree wftree_06_09_10\n",
        "9 chirp regions found for event 20 tree wftree_06_09_10\n",
        "8 chirp regions found for event 21 tree wftree_06_09_10\n",
        "12 chirp regions found for event 22 tree wftree_06_09_10\n",
        "8 chirp regions found for event 23 tree wftree_06_09_10\n",
        "8 chirp regions found for event 24 tree wftree_06_09_10"
       ]
      },
      {
       "output_type": "stream",
       "stream": "stdout",
       "text": [
        "\n",
        "17 chirp regions found for event 25 tree wftree_06_09_10\n",
        "11 chirp regions found for event 26 tree wftree_06_09_10\n",
        "16 chirp regions found for event 27 tree wftree_06_09_10\n",
        "10 chirp regions found for event 28 tree wftree_06_09_10\n",
        "10 chirp regions found for event 29 tree wftree_06_09_10\n",
        "7 chirp regions found for event 30 tree wftree_06_09_10\n",
        "9 chirp regions found for event 31 tree wftree_06_09_10\n",
        "17 chirp regions found for event 32 tree wftree_06_09_10"
       ]
      },
      {
       "output_type": "stream",
       "stream": "stdout",
       "text": [
        "\n",
        "11 chirp regions found for event 33 tree wftree_06_09_10\n",
        "10 chirp regions found for event 34 tree wftree_06_09_10\n",
        "10 chirp regions found for event 35 tree wftree_06_09_10\n",
        "14 chirp regions found for event 36 tree wftree_06_09_10\n",
        "6 chirp regions found for event 37 tree wftree_06_09_10\n",
        "13 chirp regions found for event 38 tree wftree_06_09_10\n",
        "10 chirp regions found for event 39 tree wftree_06_09_10"
       ]
      },
      {
       "output_type": "stream",
       "stream": "stdout",
       "text": [
        "\n",
        "14 chirp regions found for event 40 tree wftree_06_09_10\n",
        "15 chirp regions found for event 41 tree wftree_06_09_10\n",
        "15 chirp regions found for event 42 tree wftree_06_09_10\n",
        "12 chirp regions found for event 43 tree wftree_06_09_10\n",
        "12 chirp regions found for event 44 tree wftree_06_09_10\n",
        "8 chirp regions found for event 45 tree wftree_06_09_10\n",
        "9 chirp regions found for event 46 tree wftree_06_09_10\n",
        "10 chirp regions found for event 47 tree wftree_06_09_10\n",
        "11 chirp regions found for event 48 tree wftree_06_09_10"
       ]
      },
      {
       "output_type": "stream",
       "stream": "stdout",
       "text": [
        "\n",
        "7 chirp regions found for event 49 tree wftree_06_09_10\n",
        "8 chirp regions found for event 50 tree wftree_06_09_10\n",
        "5 chirp regions found for event 51 tree wftree_06_09_10\n",
        "6 chirp regions found for event 52 tree wftree_06_09_10\n",
        "7 chirp regions found for event 53 tree wftree_06_09_10\n",
        "9 chirp regions found for event 54 tree wftree_06_09_10\n",
        "14 chirp regions found for event 55 tree wftree_06_09_10\n",
        "8 chirp regions found for event 56 tree wftree_06_09_10\n",
        "14 chirp regions found for event 57 tree wftree_06_09_10"
       ]
      },
      {
       "output_type": "stream",
       "stream": "stdout",
       "text": [
        "\n",
        "10 chirp regions found for event 58 tree wftree_06_09_10\n",
        "18 chirp regions found for event 59 tree wftree_06_09_10\n",
        "13 chirp regions found for event 60 tree wftree_06_09_10\n",
        "12 chirp regions found for event 61 tree wftree_06_09_10\n",
        "9 chirp regions found for event 62 tree wftree_06_09_10\n",
        "14 chirp regions found for event 63 tree wftree_06_09_10\n",
        "13 chirp regions found for event 64 tree wftree_06_09_10\n",
        "8 chirp regions found for event 65 tree wftree_06_09_10\n",
        "6 chirp regions found for event 66 tree wftree_06_09_10"
       ]
      },
      {
       "output_type": "stream",
       "stream": "stdout",
       "text": [
        "\n",
        "9 chirp regions found for event 67 tree wftree_06_09_10\n",
        "11 chirp regions found for event 68 tree wftree_06_09_10\n",
        "6 chirp regions found for event 69 tree wftree_06_09_10\n",
        "12 chirp regions found for event 70 tree wftree_06_09_10\n",
        "9 chirp regions found for event 71 tree wftree_06_09_10"
       ]
      },
      {
       "output_type": "stream",
       "stream": "stdout",
       "text": [
        "\n",
        "15 chirp regions found for event 72 tree wftree_06_09_10\n",
        "3 chirp regions found for event 73 tree wftree_06_09_10\n",
        "11 chirp regions found for event 74 tree wftree_06_09_10\n",
        "9 chirp regions found for event 75 tree wftree_06_09_10\n",
        "12 chirp regions found for event 76 tree wftree_06_09_10\n",
        "11 chirp regions found for event 77 tree wftree_06_09_10\n",
        "11 chirp regions found for event 78 tree wftree_06_09_10\n",
        "12 chirp regions found for event 79 tree wftree_06_09_10"
       ]
      },
      {
       "output_type": "stream",
       "stream": "stdout",
       "text": [
        "\n",
        "9 chirp regions found for event 80 tree wftree_06_09_10\n",
        "11 chirp regions found for event 81 tree wftree_06_09_10\n",
        "16 chirp regions found for event 82 tree wftree_06_09_10\n",
        "11 chirp regions found for event 83 tree wftree_06_09_10\n",
        "8 chirp regions found for event 84 tree wftree_06_09_10\n",
        "13 chirp regions found for event 85 tree wftree_06_09_10\n",
        "8 chirp regions found for event 86 tree wftree_06_09_10\n",
        "12 chirp regions found for event 87 tree wftree_06_09_10\n",
        "15 chirp regions found for event 88 tree wftree_06_09_10"
       ]
      },
      {
       "output_type": "stream",
       "stream": "stdout",
       "text": [
        "\n",
        "10 chirp regions found for event 89 tree wftree_06_09_10\n",
        "11 chirp regions found for event 90 tree wftree_06_09_10\n",
        "9 chirp regions found for event 91 tree wftree_06_09_10\n",
        "10 chirp regions found for event 92 tree wftree_06_09_10\n",
        "6 chirp regions found for event 93 tree wftree_06_09_10\n",
        "13 chirp regions found for event 94 tree wftree_06_09_10\n",
        "16 chirp regions found for event 95 tree wftree_06_09_10"
       ]
      },
      {
       "output_type": "stream",
       "stream": "stdout",
       "text": [
        "\n",
        "13 chirp regions found for event 96 tree wftree_06_09_10\n",
        "7 chirp regions found for event 97 tree wftree_06_09_10\n",
        "9 chirp regions found for event 98 tree wftree_06_09_10\n",
        "6 chirp regions found for event 99 tree wftree_06_09_10\n",
        "1 chirp regions found for event 69 tree wftree_06_09_10"
       ]
      },
      {
       "output_type": "stream",
       "stream": "stdout",
       "text": [
        "\n",
        "1 chirp regions found for event 72 tree wftree_06_09_10\n",
        "1 chirp regions found for event 89 tree wftree_06_09_10"
       ]
      },
      {
       "output_type": "stream",
       "stream": "stdout",
       "text": [
        "\n",
        "1 chirp regions found for event 97 tree wftree_06_09_10"
       ]
      },
      {
       "output_type": "stream",
       "stream": "stdout",
       "text": [
        "\n",
        "2 chirp regions found for event 0 tree wftree_06_09_10"
       ]
      },
      {
       "output_type": "stream",
       "stream": "stdout",
       "text": [
        "\n",
        "1 chirp regions found for event 1 tree wftree_06_09_10\n",
        "1 chirp regions found for event 2 tree wftree_06_09_10\n",
        "3 chirp regions found for event 5 tree wftree_06_09_10"
       ]
      },
      {
       "output_type": "stream",
       "stream": "stdout",
       "text": [
        "\n",
        "1 chirp regions found for event 6 tree wftree_06_09_10\n",
        "1 chirp regions found for event 7 tree wftree_06_09_10\n",
        "2 chirp regions found for event 8 tree wftree_06_09_10\n",
        "2 chirp regions found for event 10 tree wftree_06_09_10\n",
        "1 chirp regions found for event 11 tree wftree_06_09_10\n",
        "1 chirp regions found for event 15 tree wftree_06_09_10"
       ]
      },
      {
       "output_type": "stream",
       "stream": "stdout",
       "text": [
        "\n",
        "2 chirp regions found for event 16 tree wftree_06_09_10\n",
        "1 chirp regions found for event 17 tree wftree_06_09_10\n",
        "1 chirp regions found for event 18 tree wftree_06_09_10\n",
        "1 chirp regions found for event 19 tree wftree_06_09_10\n",
        "2 chirp regions found for event 21 tree wftree_06_09_10"
       ]
      },
      {
       "output_type": "stream",
       "stream": "stdout",
       "text": [
        "\n",
        "1 chirp regions found for event 22 tree wftree_06_09_10\n",
        "1 chirp regions found for event 23 tree wftree_06_09_10\n",
        "1 chirp regions found for event 24 tree wftree_06_09_10\n",
        "1 chirp regions found for event 27 tree wftree_06_09_10\n",
        "2 chirp regions found for event 28 tree wftree_06_09_10\n",
        "1 chirp regions found for event 30 tree wftree_06_09_10"
       ]
      },
      {
       "output_type": "stream",
       "stream": "stdout",
       "text": [
        "\n",
        "1 chirp regions found for event 34 tree wftree_06_09_10\n",
        "2 chirp regions found for event 39 tree wftree_06_09_10"
       ]
      },
      {
       "output_type": "stream",
       "stream": "stdout",
       "text": [
        "\n",
        "1 chirp regions found for event 42 tree wftree_06_09_10\n",
        "1 chirp regions found for event 44 tree wftree_06_09_10\n",
        "2 chirp regions found for event 45 tree wftree_06_09_10\n",
        "1 chirp regions found for event 47 tree wftree_06_09_10\n",
        "1 chirp regions found for event 50 tree wftree_06_09_10"
       ]
      },
      {
       "output_type": "stream",
       "stream": "stdout",
       "text": [
        "\n",
        "1 chirp regions found for event 52 tree wftree_06_09_10\n",
        "2 chirp regions found for event 54 tree wftree_06_09_10\n",
        "1 chirp regions found for event 57 tree wftree_06_09_10"
       ]
      },
      {
       "output_type": "stream",
       "stream": "stdout",
       "text": [
        "\n",
        "1 chirp regions found for event 58 tree wftree_06_09_10\n",
        "2 chirp regions found for event 62 tree wftree_06_09_10\n",
        "1 chirp regions found for event 63 tree wftree_06_09_10\n",
        "1 chirp regions found for event 64 tree wftree_06_09_10\n",
        "2 chirp regions found for event 65 tree wftree_06_09_10\n",
        "1 chirp regions found for event 69 tree wftree_06_09_10"
       ]
      },
      {
       "output_type": "stream",
       "stream": "stdout",
       "text": [
        "\n",
        "2 chirp regions found for event 70 tree wftree_06_09_10\n",
        "2 chirp regions found for event 71 tree wftree_06_09_10\n",
        "1 chirp regions found for event 72 tree wftree_06_09_10\n",
        "1 chirp regions found for event 75 tree wftree_06_09_10\n",
        "2 chirp regions found for event 76 tree wftree_06_09_10\n",
        "3 chirp regions found for event 77 tree wftree_06_09_10\n",
        "1 chirp regions found for event 78 tree wftree_06_09_10"
       ]
      },
      {
       "output_type": "stream",
       "stream": "stdout",
       "text": [
        "\n",
        "1 chirp regions found for event 79 tree wftree_06_09_10\n",
        "1 chirp regions found for event 80 tree wftree_06_09_10\n",
        "3 chirp regions found for event 81 tree wftree_06_09_10\n",
        "2 chirp regions found for event 82 tree wftree_06_09_10\n",
        "1 chirp regions found for event 83 tree wftree_06_09_10\n",
        "1 chirp regions found for event 84 tree wftree_06_09_10\n",
        "1 chirp regions found for event 85 tree wftree_06_09_10\n",
        "3 chirp regions found for event 87 tree wftree_06_09_10"
       ]
      },
      {
       "output_type": "stream",
       "stream": "stdout",
       "text": [
        "\n",
        "1 chirp regions found for event 88 tree wftree_06_09_10\n",
        "2 chirp regions found for event 89 tree wftree_06_09_10\n",
        "1 chirp regions found for event 90 tree wftree_06_09_10\n",
        "1 chirp regions found for event 91 tree wftree_06_09_10\n",
        "1 chirp regions found for event 92 tree wftree_06_09_10"
       ]
      },
      {
       "output_type": "stream",
       "stream": "stdout",
       "text": [
        "\n",
        "1 chirp regions found for event 94 tree wftree_06_09_10\n",
        "2 chirp regions found for event 97 tree wftree_06_09_10\n",
        "1 chirp regions found for event 98 tree wftree_06_09_10\n",
        "2 chirp regions found for event 99 tree wftree_06_09_10\n",
        "1 chirp regions found for event 0 tree wftree_06_09_10\n",
        "1 chirp regions found for event 2 tree wftree_06_09_10"
       ]
      },
      {
       "output_type": "stream",
       "stream": "stdout",
       "text": [
        "\n",
        "1 chirp regions found for event 4 tree wftree_06_09_10\n",
        "1 chirp regions found for event 5 tree wftree_06_09_10\n",
        "2 chirp regions found for event 6 tree wftree_06_09_10\n",
        "1 chirp regions found for event 7 tree wftree_06_09_10\n",
        "1 chirp regions found for event 9 tree wftree_06_09_10\n",
        "1 chirp regions found for event 10 tree wftree_06_09_10\n",
        "1 chirp regions found for event 11 tree wftree_06_09_10"
       ]
      },
      {
       "output_type": "stream",
       "stream": "stdout",
       "text": [
        "\n",
        "2 chirp regions found for event 12 tree wftree_06_09_10\n",
        "1 chirp regions found for event 13 tree wftree_06_09_10\n",
        "2 chirp regions found for event 15 tree wftree_06_09_10\n",
        "2 chirp regions found for event 16 tree wftree_06_09_10\n",
        "1 chirp regions found for event 17 tree wftree_06_09_10\n",
        "1 chirp regions found for event 19 tree wftree_06_09_10\n",
        "1 chirp regions found for event 20 tree wftree_06_09_10"
       ]
      },
      {
       "output_type": "stream",
       "stream": "stdout",
       "text": [
        "\n",
        "1 chirp regions found for event 21 tree wftree_06_09_10\n",
        "5 chirp regions found for event 22 tree wftree_06_09_10\n",
        "1 chirp regions found for event 25 tree wftree_06_09_10\n",
        "1 chirp regions found for event 27 tree wftree_06_09_10\n",
        "1 chirp regions found for event 29 tree wftree_06_09_10"
       ]
      },
      {
       "output_type": "stream",
       "stream": "stdout",
       "text": [
        "\n",
        "1 chirp regions found for event 30 tree wftree_06_09_10\n",
        "1 chirp regions found for event 31 tree wftree_06_09_10\n",
        "2 chirp regions found for event 32 tree wftree_06_09_10\n",
        "1 chirp regions found for event 35 tree wftree_06_09_10\n",
        "2 chirp regions found for event 37 tree wftree_06_09_10\n",
        "1 chirp regions found for event 39 tree wftree_06_09_10"
       ]
      },
      {
       "output_type": "stream",
       "stream": "stdout",
       "text": [
        "\n",
        "2 chirp regions found for event 41 tree wftree_06_09_10\n",
        "1 chirp regions found for event 42 tree wftree_06_09_10\n",
        "1 chirp regions found for event 43 tree wftree_06_09_10\n",
        "1 chirp regions found for event 45 tree wftree_06_09_10\n",
        "1 chirp regions found for event 46 tree wftree_06_09_10\n",
        "4 chirp regions found for event 48 tree wftree_06_09_10"
       ]
      },
      {
       "output_type": "stream",
       "stream": "stdout",
       "text": [
        "\n",
        "2 chirp regions found for event 49 tree wftree_06_09_10\n",
        "2 chirp regions found for event 50 tree wftree_06_09_10\n",
        "1 chirp regions found for event 51 tree wftree_06_09_10\n",
        "1 chirp regions found for event 52 tree wftree_06_09_10\n",
        "1 chirp regions found for event 53 tree wftree_06_09_10\n",
        "1 chirp regions found for event 54 tree wftree_06_09_10\n",
        "1 chirp regions found for event 55 tree wftree_06_09_10\n",
        "2 chirp regions found for event 58 tree wftree_06_09_10"
       ]
      },
      {
       "output_type": "stream",
       "stream": "stdout",
       "text": [
        "\n",
        "1 chirp regions found for event 59 tree wftree_06_09_10\n",
        "3 chirp regions found for event 60 tree wftree_06_09_10\n",
        "1 chirp regions found for event 61 tree wftree_06_09_10\n",
        "2 chirp regions found for event 62 tree wftree_06_09_10\n",
        "2 chirp regions found for event 63 tree wftree_06_09_10\n",
        "2 chirp regions found for event 64 tree wftree_06_09_10\n",
        "2 chirp regions found for event 67 tree wftree_06_09_10"
       ]
      },
      {
       "output_type": "stream",
       "stream": "stdout",
       "text": [
        "\n",
        "1 chirp regions found for event 68 tree wftree_06_09_10\n",
        "1 chirp regions found for event 69 tree wftree_06_09_10\n",
        "1 chirp regions found for event 70 tree wftree_06_09_10\n",
        "1 chirp regions found for event 71 tree wftree_06_09_10\n",
        "2 chirp regions found for event 73 tree wftree_06_09_10"
       ]
      },
      {
       "output_type": "stream",
       "stream": "stdout",
       "text": [
        "\n",
        "1 chirp regions found for event 74 tree wftree_06_09_10\n",
        "2 chirp regions found for event 79 tree wftree_06_09_10"
       ]
      },
      {
       "output_type": "stream",
       "stream": "stdout",
       "text": [
        "\n",
        "1 chirp regions found for event 81 tree wftree_06_09_10\n",
        "1 chirp regions found for event 82 tree wftree_06_09_10\n",
        "1 chirp regions found for event 83 tree wftree_06_09_10\n",
        "2 chirp regions found for event 85 tree wftree_06_09_10\n",
        "1 chirp regions found for event 87 tree wftree_06_09_10\n",
        "1 chirp regions found for event 89 tree wftree_06_09_10"
       ]
      },
      {
       "output_type": "stream",
       "stream": "stdout",
       "text": [
        "\n",
        "1 chirp regions found for event 90 tree wftree_06_09_10\n",
        "2 chirp regions found for event 95 tree wftree_06_09_10\n",
        "2 chirp regions found for event 96 tree wftree_06_09_10\n",
        "2 chirp regions found for event 97 tree wftree_06_09_10\n",
        "1 chirp regions found for event 98 tree wftree_06_09_10"
       ]
      },
      {
       "output_type": "stream",
       "stream": "stdout",
       "text": [
        "\n",
        "2 chirp regions found for event 99 tree wftree_06_09_10\n",
        "1 chirp regions found for event 0 tree wftree_06_09_10\n",
        "2 chirp regions found for event 1 tree wftree_06_09_10\n",
        "1 chirp regions found for event 3 tree wftree_06_09_10\n",
        "1 chirp regions found for event 4 tree wftree_06_09_10\n",
        "1 chirp regions found for event 5 tree wftree_06_09_10\n",
        "1 chirp regions found for event 8 tree wftree_06_09_10"
       ]
      },
      {
       "output_type": "stream",
       "stream": "stdout",
       "text": [
        "\n",
        "1 chirp regions found for event 9 tree wftree_06_09_10\n",
        "2 chirp regions found for event 12 tree wftree_06_09_10\n",
        "1 chirp regions found for event 14 tree wftree_06_09_10\n",
        "2 chirp regions found for event 15 tree wftree_06_09_10\n",
        "4 chirp regions found for event 16 tree wftree_06_09_10\n",
        "1 chirp regions found for event 17 tree wftree_06_09_10"
       ]
      },
      {
       "output_type": "stream",
       "stream": "stdout",
       "text": [
        "\n",
        "2 chirp regions found for event 19 tree wftree_06_09_10\n",
        "1 chirp regions found for event 21 tree wftree_06_09_10\n",
        "2 chirp regions found for event 23 tree wftree_06_09_10\n",
        "1 chirp regions found for event 25 tree wftree_06_09_10\n",
        "2 chirp regions found for event 27 tree wftree_06_09_10"
       ]
      },
      {
       "output_type": "stream",
       "stream": "stdout",
       "text": [
        "\n",
        "1 chirp regions found for event 28 tree wftree_06_09_10\n",
        "1 chirp regions found for event 31 tree wftree_06_09_10\n",
        "1 chirp regions found for event 32 tree wftree_06_09_10\n",
        "2 chirp regions found for event 33 tree wftree_06_09_10\n",
        "1 chirp regions found for event 34 tree wftree_06_09_10\n",
        "1 chirp regions found for event 36 tree wftree_06_09_10"
       ]
      },
      {
       "output_type": "stream",
       "stream": "stdout",
       "text": [
        "\n",
        "1 chirp regions found for event 39 tree wftree_06_09_10\n",
        "1 chirp regions found for event 40 tree wftree_06_09_10\n",
        "1 chirp regions found for event 42 tree wftree_06_09_10\n",
        "2 chirp regions found for event 43 tree wftree_06_09_10\n",
        "1 chirp regions found for event 44 tree wftree_06_09_10"
       ]
      },
      {
       "output_type": "stream",
       "stream": "stdout",
       "text": [
        "\n",
        "1 chirp regions found for event 45 tree wftree_06_09_10\n",
        "2 chirp regions found for event 46 tree wftree_06_09_10\n",
        "1 chirp regions found for event 48 tree wftree_06_09_10\n",
        "2 chirp regions found for event 49 tree wftree_06_09_10\n",
        "1 chirp regions found for event 50 tree wftree_06_09_10\n",
        "1 chirp regions found for event 52 tree wftree_06_09_10"
       ]
      },
      {
       "output_type": "stream",
       "stream": "stdout",
       "text": [
        "\n",
        "2 chirp regions found for event 56 tree wftree_06_09_10\n",
        "2 chirp regions found for event 58 tree wftree_06_09_10\n",
        "1 chirp regions found for event 61 tree wftree_06_09_10"
       ]
      },
      {
       "output_type": "stream",
       "stream": "stdout",
       "text": [
        "\n",
        "1 chirp regions found for event 62 tree wftree_06_09_10\n",
        "2 chirp regions found for event 63 tree wftree_06_09_10\n",
        "1 chirp regions found for event 67 tree wftree_06_09_10\n",
        "1 chirp regions found for event 69 tree wftree_06_09_10\n",
        "1 chirp regions found for event 73 tree wftree_06_09_10"
       ]
      },
      {
       "output_type": "stream",
       "stream": "stdout",
       "text": [
        "\n",
        "2 chirp regions found for event 75 tree wftree_06_09_10\n",
        "1 chirp regions found for event 78 tree wftree_06_09_10\n",
        "1 chirp regions found for event 79 tree wftree_06_09_10\n",
        "1 chirp regions found for event 80 tree wftree_06_09_10\n",
        "1 chirp regions found for event 82 tree wftree_06_09_10"
       ]
      },
      {
       "output_type": "stream",
       "stream": "stdout",
       "text": [
        "\n",
        "1 chirp regions found for event 85 tree wftree_06_09_10\n",
        "1 chirp regions found for event 86 tree wftree_06_09_10\n",
        "1 chirp regions found for event 87 tree wftree_06_09_10\n",
        "3 chirp regions found for event 88 tree wftree_06_09_10\n",
        "2 chirp regions found for event 89 tree wftree_06_09_10\n",
        "1 chirp regions found for event 90 tree wftree_06_09_10\n",
        "2 chirp regions found for event 91 tree wftree_06_09_10"
       ]
      },
      {
       "output_type": "stream",
       "stream": "stdout",
       "text": [
        "\n",
        "1 chirp regions found for event 95 tree wftree_06_09_10\n",
        "1 chirp regions found for event 96 tree wftree_06_09_10\n",
        "2 chirp regions found for event 97 tree wftree_06_09_10\n",
        "1 chirp regions found for event 4 tree wftree_06_09_10"
       ]
      },
      {
       "output_type": "stream",
       "stream": "stdout",
       "text": [
        "\n",
        "1 chirp regions found for event 7 tree wftree_06_09_10\n",
        "1 chirp regions found for event 8 tree wftree_06_09_10\n",
        "1 chirp regions found for event 9 tree wftree_06_09_10"
       ]
      },
      {
       "output_type": "stream",
       "stream": "stdout",
       "text": [
        "\n",
        "1 chirp regions found for event 11 tree wftree_06_09_10\n",
        "1 chirp regions found for event 12 tree wftree_06_09_10\n",
        "1 chirp regions found for event 13 tree wftree_06_09_10\n",
        "2 chirp regions found for event 14 tree wftree_06_09_10\n",
        "2 chirp regions found for event 15 tree wftree_06_09_10\n",
        "1 chirp regions found for event 16 tree wftree_06_09_10\n",
        "3 chirp regions found for event 17 tree wftree_06_09_10\n",
        "1 chirp regions found for event 22 tree wftree_06_09_10"
       ]
      },
      {
       "output_type": "stream",
       "stream": "stdout",
       "text": [
        "\n",
        "4 chirp regions found for event 23 tree wftree_06_09_10\n",
        "2 chirp regions found for event 24 tree wftree_06_09_10\n",
        "2 chirp regions found for event 25 tree wftree_06_09_10\n",
        "3 chirp regions found for event 26 tree wftree_06_09_10\n",
        "1 chirp regions found for event 27 tree wftree_06_09_10\n",
        "1 chirp regions found for event 29 tree wftree_06_09_10"
       ]
      },
      {
       "output_type": "stream",
       "stream": "stdout",
       "text": [
        "\n",
        "2 chirp regions found for event 30 tree wftree_06_09_10\n",
        "1 chirp regions found for event 31 tree wftree_06_09_10\n",
        "2 chirp regions found for event 32 tree wftree_06_09_10\n",
        "1 chirp regions found for event 33 tree wftree_06_09_10\n",
        "2 chirp regions found for event 34 tree wftree_06_09_10\n",
        "1 chirp regions found for event 35 tree wftree_06_09_10\n",
        "4 chirp regions found for event 36 tree wftree_06_09_10\n",
        "1 chirp regions found for event 38 tree wftree_06_09_10"
       ]
      },
      {
       "output_type": "stream",
       "stream": "stdout",
       "text": [
        "\n",
        "4 chirp regions found for event 39 tree wftree_06_09_10\n",
        "2 chirp regions found for event 41 tree wftree_06_09_10\n",
        "2 chirp regions found for event 42 tree wftree_06_09_10\n",
        "1 chirp regions found for event 43 tree wftree_06_09_10\n",
        "1 chirp regions found for event 44 tree wftree_06_09_10\n",
        "1 chirp regions found for event 45 tree wftree_06_09_10\n",
        "1 chirp regions found for event 47 tree wftree_06_09_10"
       ]
      },
      {
       "output_type": "stream",
       "stream": "stdout",
       "text": [
        "\n",
        "2 chirp regions found for event 49 tree wftree_06_09_10\n",
        "2 chirp regions found for event 50 tree wftree_06_09_10\n",
        "3 chirp regions found for event 51 tree wftree_06_09_10\n",
        "1 chirp regions found for event 52 tree wftree_06_09_10\n",
        "2 chirp regions found for event 53 tree wftree_06_09_10\n",
        "2 chirp regions found for event 54 tree wftree_06_09_10\n",
        "1 chirp regions found for event 56 tree wftree_06_09_10"
       ]
      },
      {
       "output_type": "stream",
       "stream": "stdout",
       "text": [
        "\n",
        "1 chirp regions found for event 57 tree wftree_06_09_10\n",
        "4 chirp regions found for event 60 tree wftree_06_09_10\n",
        "6 chirp regions found for event 61 tree wftree_06_09_10\n",
        "1 chirp regions found for event 62 tree wftree_06_09_10\n",
        "6 chirp regions found for event 63 tree wftree_06_09_10\n",
        "1 chirp regions found for event 64 tree wftree_06_09_10\n",
        "1 chirp regions found for event 65 tree wftree_06_09_10"
       ]
      },
      {
       "output_type": "stream",
       "stream": "stdout",
       "text": [
        "\n",
        "2 chirp regions found for event 66 tree wftree_06_09_10\n",
        "1 chirp regions found for event 67 tree wftree_06_09_10\n",
        "2 chirp regions found for event 69 tree wftree_06_09_10\n",
        "1 chirp regions found for event 71 tree wftree_06_09_10\n",
        "1 chirp regions found for event 72 tree wftree_06_09_10\n",
        "3 chirp regions found for event 74 tree wftree_06_09_10"
       ]
      },
      {
       "output_type": "stream",
       "stream": "stdout",
       "text": [
        "\n",
        "2 chirp regions found for event 75 tree wftree_06_09_10\n",
        "2 chirp regions found for event 76 tree wftree_06_09_10\n",
        "3 chirp regions found for event 78 tree wftree_06_09_10\n",
        "4 chirp regions found for event 80 tree wftree_06_09_10\n",
        "1 chirp regions found for event 81 tree wftree_06_09_10\n",
        "3 chirp regions found for event 87 tree wftree_06_09_10"
       ]
      },
      {
       "output_type": "stream",
       "stream": "stdout",
       "text": [
        "\n",
        "1 chirp regions found for event 89 tree wftree_06_09_10\n",
        "2 chirp regions found for event 90 tree wftree_06_09_10\n",
        "1 chirp regions found for event 91 tree wftree_06_09_10\n",
        "1 chirp regions found for event 93 tree wftree_06_09_10\n",
        "3 chirp regions found for event 95 tree wftree_06_09_10\n",
        "2 chirp regions found for event 96 tree wftree_06_09_10"
       ]
      },
      {
       "output_type": "stream",
       "stream": "stdout",
       "text": [
        "\n",
        "2 chirp regions found for event 97 tree wftree_06_09_10\n",
        "1 chirp regions found for event 98 tree wftree_06_09_10\n",
        "1 chirp regions found for event 1 tree wftree_06_09_10\n",
        "1 chirp regions found for event 2 tree wftree_06_09_10\n",
        "1 chirp regions found for event 3 tree wftree_06_09_10\n",
        "3 chirp regions found for event 4 tree wftree_06_09_10"
       ]
      },
      {
       "output_type": "stream",
       "stream": "stdout",
       "text": [
        "\n",
        "1 chirp regions found for event 5 tree wftree_06_09_10\n",
        "1 chirp regions found for event 6 tree wftree_06_09_10\n",
        "1 chirp regions found for event 7 tree wftree_06_09_10\n",
        "2 chirp regions found for event 8 tree wftree_06_09_10\n",
        "1 chirp regions found for event 9 tree wftree_06_09_10\n",
        "1 chirp regions found for event 13 tree wftree_06_09_10"
       ]
      },
      {
       "output_type": "stream",
       "stream": "stdout",
       "text": [
        "\n",
        "3 chirp regions found for event 14 tree wftree_06_09_10\n",
        "1 chirp regions found for event 15 tree wftree_06_09_10\n",
        "2 chirp regions found for event 16 tree wftree_06_09_10\n",
        "1 chirp regions found for event 17 tree wftree_06_09_10\n",
        "3 chirp regions found for event 18 tree wftree_06_09_10"
       ]
      },
      {
       "output_type": "stream",
       "stream": "stdout",
       "text": [
        "\n",
        "1 chirp regions found for event 19 tree wftree_06_09_10\n",
        "1 chirp regions found for event 21 tree wftree_06_09_10\n",
        "2 chirp regions found for event 22 tree wftree_06_09_10\n",
        "2 chirp regions found for event 25 tree wftree_06_09_10"
       ]
      },
      {
       "output_type": "stream",
       "stream": "stdout",
       "text": [
        "\n",
        "1 chirp regions found for event 28 tree wftree_06_09_10\n",
        "1 chirp regions found for event 29 tree wftree_06_09_10\n",
        "2 chirp regions found for event 30 tree wftree_06_09_10\n",
        "2 chirp regions found for event 32 tree wftree_06_09_10"
       ]
      },
      {
       "output_type": "stream",
       "stream": "stdout",
       "text": [
        "\n",
        "1 chirp regions found for event 33 tree wftree_06_09_10\n",
        "1 chirp regions found for event 35 tree wftree_06_09_10\n",
        "1 chirp regions found for event 36 tree wftree_06_09_10\n",
        "3 chirp regions found for event 38 tree wftree_06_09_10"
       ]
      },
      {
       "output_type": "stream",
       "stream": "stdout",
       "text": [
        "\n",
        "2 chirp regions found for event 40 tree wftree_06_09_10\n",
        "4 chirp regions found for event 41 tree wftree_06_09_10\n",
        "1 chirp regions found for event 42 tree wftree_06_09_10\n",
        "1 chirp regions found for event 43 tree wftree_06_09_10"
       ]
      },
      {
       "output_type": "stream",
       "stream": "stdout",
       "text": [
        "\n",
        "2 chirp regions found for event 44 tree wftree_06_09_10\n",
        "2 chirp regions found for event 45 tree wftree_06_09_10\n",
        "1 chirp regions found for event 47 tree wftree_06_09_10\n",
        "1 chirp regions found for event 50 tree wftree_06_09_10\n",
        "1 chirp regions found for event 52 tree wftree_06_09_10"
       ]
      },
      {
       "output_type": "stream",
       "stream": "stdout",
       "text": [
        "\n",
        "3 chirp regions found for event 55 tree wftree_06_09_10\n",
        "1 chirp regions found for event 56 tree wftree_06_09_10\n",
        "3 chirp regions found for event 57 tree wftree_06_09_10\n",
        "3 chirp regions found for event 58 tree wftree_06_09_10\n",
        "2 chirp regions found for event 60 tree wftree_06_09_10\n",
        "2 chirp regions found for event 61 tree wftree_06_09_10"
       ]
      },
      {
       "output_type": "stream",
       "stream": "stdout",
       "text": [
        "\n",
        "1 chirp regions found for event 62 tree wftree_06_09_10\n",
        "1 chirp regions found for event 63 tree wftree_06_09_10\n",
        "2 chirp regions found for event 64 tree wftree_06_09_10\n",
        "1 chirp regions found for event 65 tree wftree_06_09_10\n",
        "1 chirp regions found for event 67 tree wftree_06_09_10\n",
        "3 chirp regions found for event 68 tree wftree_06_09_10\n",
        "1 chirp regions found for event 69 tree wftree_06_09_10\n",
        "3 chirp regions found for event 70 tree wftree_06_09_10"
       ]
      },
      {
       "output_type": "stream",
       "stream": "stdout",
       "text": [
        "\n",
        "4 chirp regions found for event 71 tree wftree_06_09_10\n",
        "1 chirp regions found for event 72 tree wftree_06_09_10\n",
        "3 chirp regions found for event 73 tree wftree_06_09_10\n",
        "2 chirp regions found for event 75 tree wftree_06_09_10\n",
        "2 chirp regions found for event 77 tree wftree_06_09_10\n",
        "1 chirp regions found for event 79 tree wftree_06_09_10"
       ]
      },
      {
       "output_type": "stream",
       "stream": "stdout",
       "text": [
        "\n",
        "2 chirp regions found for event 80 tree wftree_06_09_10\n",
        "2 chirp regions found for event 81 tree wftree_06_09_10\n",
        "2 chirp regions found for event 82 tree wftree_06_09_10\n",
        "4 chirp regions found for event 84 tree wftree_06_09_10\n",
        "2 chirp regions found for event 85 tree wftree_06_09_10\n",
        "1 chirp regions found for event 86 tree wftree_06_09_10\n",
        "1 chirp regions found for event 87 tree wftree_06_09_10\n",
        "2 chirp regions found for event 88 tree wftree_06_09_10"
       ]
      },
      {
       "output_type": "stream",
       "stream": "stdout",
       "text": [
        "\n",
        "2 chirp regions found for event 90 tree wftree_06_09_10\n",
        "1 chirp regions found for event 91 tree wftree_06_09_10\n",
        "1 chirp regions found for event 93 tree wftree_06_09_10\n",
        "1 chirp regions found for event 94 tree wftree_06_09_10\n",
        "1 chirp regions found for event 95 tree wftree_06_09_10\n",
        "2 chirp regions found for event 96 tree wftree_06_09_10\n",
        "1 chirp regions found for event 99 tree wftree_06_09_10"
       ]
      },
      {
       "output_type": "stream",
       "stream": "stdout",
       "text": [
        "\n",
        "1 chirp regions found for event 0 tree wftree_06_09_10\n",
        "3 chirp regions found for event 1 tree wftree_06_09_10\n",
        "4 chirp regions found for event 2 tree wftree_06_09_10\n",
        "4 chirp regions found for event 3 tree wftree_06_09_10\n",
        "5 chirp regions found for event 4 tree wftree_06_09_10\n",
        "2 chirp regions found for event 5 tree wftree_06_09_10\n",
        "5 chirp regions found for event 6 tree wftree_06_09_10\n",
        "2 chirp regions found for event 7 tree wftree_06_09_10\n",
        "4 chirp regions found for event 8 tree wftree_06_09_10"
       ]
      },
      {
       "output_type": "stream",
       "stream": "stdout",
       "text": [
        "\n",
        "3 chirp regions found for event 9 tree wftree_06_09_10\n",
        "3 chirp regions found for event 10 tree wftree_06_09_10\n",
        "1 chirp regions found for event 11 tree wftree_06_09_10\n",
        "6 chirp regions found for event 12 tree wftree_06_09_10\n",
        "4 chirp regions found for event 13 tree wftree_06_09_10\n",
        "2 chirp regions found for event 14 tree wftree_06_09_10\n",
        "4 chirp regions found for event 15 tree wftree_06_09_10"
       ]
      },
      {
       "output_type": "stream",
       "stream": "stdout",
       "text": [
        "\n",
        "2 chirp regions found for event 16 tree wftree_06_09_10\n",
        "3 chirp regions found for event 17 tree wftree_06_09_10\n",
        "1 chirp regions found for event 18 tree wftree_06_09_10\n",
        "1 chirp regions found for event 19 tree wftree_06_09_10\n",
        "6 chirp regions found for event 20 tree wftree_06_09_10\n",
        "4 chirp regions found for event 21 tree wftree_06_09_10\n",
        "1 chirp regions found for event 22 tree wftree_06_09_10"
       ]
      },
      {
       "output_type": "stream",
       "stream": "stdout",
       "text": [
        "\n",
        "2 chirp regions found for event 23 tree wftree_06_09_10\n",
        "3 chirp regions found for event 24 tree wftree_06_09_10\n",
        "2 chirp regions found for event 25 tree wftree_06_09_10\n",
        "2 chirp regions found for event 26 tree wftree_06_09_10\n",
        "6 chirp regions found for event 27 tree wftree_06_09_10\n",
        "4 chirp regions found for event 28 tree wftree_06_09_10\n",
        "5 chirp regions found for event 29 tree wftree_06_09_10\n",
        "2 chirp regions found for event 30 tree wftree_06_09_10\n",
        "4 chirp regions found for event 31 tree wftree_06_09_10"
       ]
      },
      {
       "output_type": "stream",
       "stream": "stdout",
       "text": [
        "\n",
        "3 chirp regions found for event 32 tree wftree_06_09_10\n",
        "6 chirp regions found for event 33 tree wftree_06_09_10\n",
        "5 chirp regions found for event 34 tree wftree_06_09_10\n",
        "3 chirp regions found for event 35 tree wftree_06_09_10\n",
        "3 chirp regions found for event 36 tree wftree_06_09_10"
       ]
      },
      {
       "output_type": "stream",
       "stream": "stdout",
       "text": [
        "\n",
        "2 chirp regions found for event 37 tree wftree_06_09_10\n",
        "2 chirp regions found for event 38 tree wftree_06_09_10\n",
        "3 chirp regions found for event 39 tree wftree_06_09_10\n",
        "5 chirp regions found for event 40 tree wftree_06_09_10\n",
        "6 chirp regions found for event 41 tree wftree_06_09_10\n",
        "5 chirp regions found for event 42 tree wftree_06_09_10\n",
        "2 chirp regions found for event 43 tree wftree_06_09_10\n",
        "5 chirp regions found for event 44 tree wftree_06_09_10\n",
        "5 chirp regions found for event 45 tree wftree_06_09_10"
       ]
      },
      {
       "output_type": "stream",
       "stream": "stdout",
       "text": [
        "\n",
        "6 chirp regions found for event 46 tree wftree_06_09_10\n",
        "2 chirp regions found for event 47 tree wftree_06_09_10\n",
        "7 chirp regions found for event 48 tree wftree_06_09_10\n",
        "4 chirp regions found for event 49 tree wftree_06_09_10\n",
        "1 chirp regions found for event 50 tree wftree_06_09_10\n",
        "2 chirp regions found for event 51 tree wftree_06_09_10\n",
        "3 chirp regions found for event 52 tree wftree_06_09_10\n",
        "3 chirp regions found for event 53 tree wftree_06_09_10\n",
        "5 chirp regions found for event 54 tree wftree_06_09_10"
       ]
      },
      {
       "output_type": "stream",
       "stream": "stdout",
       "text": [
        "\n",
        "7 chirp regions found for event 55 tree wftree_06_09_10\n",
        "4 chirp regions found for event 56 tree wftree_06_09_10\n",
        "5 chirp regions found for event 58 tree wftree_06_09_10\n",
        "2 chirp regions found for event 59 tree wftree_06_09_10\n",
        "4 chirp regions found for event 60 tree wftree_06_09_10\n",
        "4 chirp regions found for event 61 tree wftree_06_09_10\n",
        "4 chirp regions found for event 62 tree wftree_06_09_10\n",
        "3 chirp regions found for event 63 tree wftree_06_09_10"
       ]
      },
      {
       "output_type": "stream",
       "stream": "stdout",
       "text": [
        "\n",
        "2 chirp regions found for event 65 tree wftree_06_09_10\n",
        "1 chirp regions found for event 66 tree wftree_06_09_10\n",
        "3 chirp regions found for event 67 tree wftree_06_09_10\n",
        "3 chirp regions found for event 69 tree wftree_06_09_10\n",
        "4 chirp regions found for event 70 tree wftree_06_09_10\n",
        "3 chirp regions found for event 71 tree wftree_06_09_10\n",
        "4 chirp regions found for event 72 tree wftree_06_09_10"
       ]
      },
      {
       "output_type": "stream",
       "stream": "stdout",
       "text": [
        "\n",
        "4 chirp regions found for event 73 tree wftree_06_09_10\n",
        "4 chirp regions found for event 74 tree wftree_06_09_10\n",
        "1 chirp regions found for event 75 tree wftree_06_09_10\n",
        "6 chirp regions found for event 76 tree wftree_06_09_10\n",
        "4 chirp regions found for event 77 tree wftree_06_09_10\n",
        "2 chirp regions found for event 78 tree wftree_06_09_10\n",
        "5 chirp regions found for event 79 tree wftree_06_09_10\n",
        "2 chirp regions found for event 80 tree wftree_06_09_10"
       ]
      },
      {
       "output_type": "stream",
       "stream": "stdout",
       "text": [
        "\n",
        "1 chirp regions found for event 81 tree wftree_06_09_10\n",
        "1 chirp regions found for event 82 tree wftree_06_09_10\n",
        "3 chirp regions found for event 83 tree wftree_06_09_10\n",
        "4 chirp regions found for event 84 tree wftree_06_09_10\n",
        "8 chirp regions found for event 85 tree wftree_06_09_10\n",
        "1 chirp regions found for event 86 tree wftree_06_09_10\n",
        "1 chirp regions found for event 87 tree wftree_06_09_10\n",
        "2 chirp regions found for event 88 tree wftree_06_09_10\n",
        "2 chirp regions found for event 89 tree wftree_06_09_10"
       ]
      },
      {
       "output_type": "stream",
       "stream": "stdout",
       "text": [
        "\n",
        "3 chirp regions found for event 90 tree wftree_06_09_10\n",
        "4 chirp regions found for event 91 tree wftree_06_09_10\n",
        "6 chirp regions found for event 92 tree wftree_06_09_10\n",
        "3 chirp regions found for event 93 tree wftree_06_09_10\n",
        "1 chirp regions found for event 94 tree wftree_06_09_10\n",
        "3 chirp regions found for event 95 tree wftree_06_09_10\n",
        "5 chirp regions found for event 96 tree wftree_06_09_10\n",
        "4 chirp regions found for event 98 tree wftree_06_09_10"
       ]
      },
      {
       "output_type": "stream",
       "stream": "stdout",
       "text": [
        "\n",
        "6 chirp regions found for event 99 tree wftree_06_09_10\n",
        "4 chirp regions found for event 0 tree wftree_06_09_10"
       ]
      },
      {
       "output_type": "stream",
       "stream": "stdout",
       "text": [
        "\n",
        "7 chirp regions found for event 1 tree wftree_06_09_10\n",
        "7 chirp regions found for event 2 tree wftree_06_09_10\n",
        "11 chirp regions found for event 3 tree wftree_06_09_10\n",
        "4 chirp regions found for event 4 tree wftree_06_09_10\n",
        "5 chirp regions found for event 5 tree wftree_06_09_10"
       ]
      },
      {
       "output_type": "stream",
       "stream": "stdout",
       "text": [
        "\n",
        "8 chirp regions found for event 6 tree wftree_06_09_10\n",
        "9 chirp regions found for event 7 tree wftree_06_09_10\n",
        "8 chirp regions found for event 8 tree wftree_06_09_10\n",
        "4 chirp regions found for event 9 tree wftree_06_09_10\n",
        "8 chirp regions found for event 10 tree wftree_06_09_10\n",
        "6 chirp regions found for event 11 tree wftree_06_09_10\n",
        "5 chirp regions found for event 12 tree wftree_06_09_10"
       ]
      },
      {
       "output_type": "stream",
       "stream": "stdout",
       "text": [
        "\n",
        "3 chirp regions found for event 13 tree wftree_06_09_10\n",
        "8 chirp regions found for event 14 tree wftree_06_09_10\n",
        "6 chirp regions found for event 15 tree wftree_06_09_10\n",
        "5 chirp regions found for event 16 tree wftree_06_09_10\n",
        "7 chirp regions found for event 17 tree wftree_06_09_10\n",
        "6 chirp regions found for event 18 tree wftree_06_09_10\n",
        "4 chirp regions found for event 19 tree wftree_06_09_10\n",
        "7 chirp regions found for event 20 tree wftree_06_09_10\n",
        "7 chirp regions found for event 21 tree wftree_06_09_10"
       ]
      },
      {
       "output_type": "stream",
       "stream": "stdout",
       "text": [
        "\n",
        "4 chirp regions found for event 22 tree wftree_06_09_10\n",
        "8 chirp regions found for event 23 tree wftree_06_09_10\n",
        "5 chirp regions found for event 24 tree wftree_06_09_10\n",
        "4 chirp regions found for event 25 tree wftree_06_09_10\n",
        "3 chirp regions found for event 26 tree wftree_06_09_10\n",
        "9 chirp regions found for event 27 tree wftree_06_09_10\n",
        "8 chirp regions found for event 28 tree wftree_06_09_10\n",
        "9 chirp regions found for event 29 tree wftree_06_09_10\n",
        "6 chirp regions found for event 30 tree wftree_06_09_10"
       ]
      },
      {
       "output_type": "stream",
       "stream": "stdout",
       "text": [
        "\n",
        "4 chirp regions found for event 31 tree wftree_06_09_10\n",
        "5 chirp regions found for event 32 tree wftree_06_09_10\n",
        "10 chirp regions found for event 33 tree wftree_06_09_10\n",
        "6 chirp regions found for event 34 tree wftree_06_09_10\n",
        "8 chirp regions found for event 35 tree wftree_06_09_10\n",
        "4 chirp regions found for event 36 tree wftree_06_09_10\n",
        "4 chirp regions found for event 37 tree wftree_06_09_10\n",
        "6 chirp regions found for event 38 tree wftree_06_09_10\n",
        "6 chirp regions found for event 39 tree wftree_06_09_10"
       ]
      },
      {
       "output_type": "stream",
       "stream": "stdout",
       "text": [
        "\n",
        "6 chirp regions found for event 40 tree wftree_06_09_10\n",
        "5 chirp regions found for event 41 tree wftree_06_09_10\n",
        "7 chirp regions found for event 42 tree wftree_06_09_10\n",
        "3 chirp regions found for event 43 tree wftree_06_09_10\n",
        "3 chirp regions found for event 44 tree wftree_06_09_10\n",
        "5 chirp regions found for event 45 tree wftree_06_09_10\n",
        "10 chirp regions found for event 46 tree wftree_06_09_10\n",
        "5 chirp regions found for event 47 tree wftree_06_09_10\n",
        "10 chirp regions found for event 48 tree wftree_06_09_10"
       ]
      },
      {
       "output_type": "stream",
       "stream": "stdout",
       "text": [
        "\n",
        "5 chirp regions found for event 49 tree wftree_06_09_10\n",
        "4 chirp regions found for event 50 tree wftree_06_09_10\n",
        "6 chirp regions found for event 51 tree wftree_06_09_10\n",
        "6 chirp regions found for event 52 tree wftree_06_09_10\n",
        "11 chirp regions found for event 53 tree wftree_06_09_10\n",
        "4 chirp regions found for event 54 tree wftree_06_09_10\n",
        "6 chirp regions found for event 55 tree wftree_06_09_10\n",
        "5 chirp regions found for event 56 tree wftree_06_09_10\n",
        "10 chirp regions found for event 57 tree wftree_06_09_10"
       ]
      },
      {
       "output_type": "stream",
       "stream": "stdout",
       "text": [
        "\n",
        "7 chirp regions found for event 58 tree wftree_06_09_10\n",
        "12 chirp regions found for event 59 tree wftree_06_09_10\n",
        "4 chirp regions found for event 60 tree wftree_06_09_10\n",
        "7 chirp regions found for event 61 tree wftree_06_09_10\n",
        "7 chirp regions found for event 62 tree wftree_06_09_10\n",
        "4 chirp regions found for event 63 tree wftree_06_09_10\n",
        "6 chirp regions found for event 64 tree wftree_06_09_10\n",
        "8 chirp regions found for event 65 tree wftree_06_09_10\n",
        "5 chirp regions found for event 66 tree wftree_06_09_10"
       ]
      },
      {
       "output_type": "stream",
       "stream": "stdout",
       "text": [
        "\n",
        "5 chirp regions found for event 67 tree wftree_06_09_10\n",
        "4 chirp regions found for event 68 tree wftree_06_09_10\n",
        "3 chirp regions found for event 69 tree wftree_06_09_10\n",
        "9 chirp regions found for event 70 tree wftree_06_09_10\n",
        "7 chirp regions found for event 71 tree wftree_06_09_10\n",
        "8 chirp regions found for event 72 tree wftree_06_09_10\n",
        "6 chirp regions found for event 73 tree wftree_06_09_10"
       ]
      },
      {
       "output_type": "stream",
       "stream": "stdout",
       "text": [
        "\n",
        "7 chirp regions found for event 74 tree wftree_06_09_10\n",
        "5 chirp regions found for event 75 tree wftree_06_09_10\n",
        "6 chirp regions found for event 76 tree wftree_06_09_10\n",
        "3 chirp regions found for event 77 tree wftree_06_09_10\n",
        "7 chirp regions found for event 78 tree wftree_06_09_10"
       ]
      },
      {
       "output_type": "stream",
       "stream": "stdout",
       "text": [
        "\n",
        "5 chirp regions found for event 79 tree wftree_06_09_10\n",
        "4 chirp regions found for event 80 tree wftree_06_09_10\n",
        "6 chirp regions found for event 81 tree wftree_06_09_10\n",
        "4 chirp regions found for event 82 tree wftree_06_09_10\n",
        "4 chirp regions found for event 83 tree wftree_06_09_10\n",
        "10 chirp regions found for event 84 tree wftree_06_09_10\n",
        "4 chirp regions found for event 85 tree wftree_06_09_10\n",
        "10 chirp regions found for event 86 tree wftree_06_09_10\n",
        "3 chirp regions found for event 87 tree wftree_06_09_10"
       ]
      },
      {
       "output_type": "stream",
       "stream": "stdout",
       "text": [
        "\n",
        "9 chirp regions found for event 88 tree wftree_06_09_10\n",
        "1 chirp regions found for event 89 tree wftree_06_09_10\n",
        "7 chirp regions found for event 90 tree wftree_06_09_10\n",
        "9 chirp regions found for event 91 tree wftree_06_09_10\n",
        "2 chirp regions found for event 92 tree wftree_06_09_10\n",
        "9 chirp regions found for event 93 tree wftree_06_09_10\n",
        "6 chirp regions found for event 94 tree wftree_06_09_10\n",
        "4 chirp regions found for event 95 tree wftree_06_09_10\n",
        "3 chirp regions found for event 96 tree wftree_06_09_10"
       ]
      },
      {
       "output_type": "stream",
       "stream": "stdout",
       "text": [
        "\n",
        "7 chirp regions found for event 97 tree wftree_06_09_10\n",
        "4 chirp regions found for event 98 tree wftree_06_09_10\n",
        "10 chirp regions found for event 99 tree wftree_06_09_10\n",
        "8 chirp regions found for event 0 tree wftree_06_09_10\n",
        "11 chirp regions found for event 1 tree wftree_06_09_10\n",
        "7 chirp regions found for event 2 tree wftree_06_09_10\n",
        "13 chirp regions found for event 3 tree wftree_06_09_10\n",
        "9 chirp regions found for event 4 tree wftree_06_09_10\n",
        "7 chirp regions found for event 5 tree wftree_06_09_10"
       ]
      },
      {
       "output_type": "stream",
       "stream": "stdout",
       "text": [
        "\n",
        "12 chirp regions found for event 6 tree wftree_06_09_10\n",
        "9 chirp regions found for event 7 tree wftree_06_09_10\n",
        "9 chirp regions found for event 8 tree wftree_06_09_10\n",
        "8 chirp regions found for event 9 tree wftree_06_09_10\n",
        "7 chirp regions found for event 10 tree wftree_06_09_10\n",
        "3 chirp regions found for event 11 tree wftree_06_09_10\n",
        "9 chirp regions found for event 12 tree wftree_06_09_10\n",
        "9 chirp regions found for event 13 tree wftree_06_09_10\n",
        "14 chirp regions found for event 14 tree wftree_06_09_10"
       ]
      },
      {
       "output_type": "stream",
       "stream": "stdout",
       "text": [
        "\n",
        "11 chirp regions found for event 15 tree wftree_06_09_10\n",
        "8 chirp regions found for event 16 tree wftree_06_09_10\n",
        "7 chirp regions found for event 17 tree wftree_06_09_10\n",
        "10 chirp regions found for event 18 tree wftree_06_09_10\n",
        "7 chirp regions found for event 19 tree wftree_06_09_10\n",
        "6 chirp regions found for event 20 tree wftree_06_09_10\n",
        "6 chirp regions found for event 21 tree wftree_06_09_10\n",
        "5 chirp regions found for event 22 tree wftree_06_09_10\n",
        "5 chirp regions found for event 23 tree wftree_06_09_10"
       ]
      },
      {
       "output_type": "stream",
       "stream": "stdout",
       "text": [
        "\n",
        "5 chirp regions found for event 24 tree wftree_06_09_10\n",
        "6 chirp regions found for event 25 tree wftree_06_09_10\n",
        "8 chirp regions found for event 26 tree wftree_06_09_10\n",
        "5 chirp regions found for event 27 tree wftree_06_09_10\n",
        "5 chirp regions found for event 28 tree wftree_06_09_10\n",
        "8 chirp regions found for event 29 tree wftree_06_09_10\n",
        "4 chirp regions found for event 30 tree wftree_06_09_10\n",
        "6 chirp regions found for event 31 tree wftree_06_09_10\n",
        "7 chirp regions found for event 32 tree wftree_06_09_10"
       ]
      },
      {
       "output_type": "stream",
       "stream": "stdout",
       "text": [
        "\n",
        "9 chirp regions found for event 33 tree wftree_06_09_10\n",
        "9 chirp regions found for event 34 tree wftree_06_09_10\n",
        "10 chirp regions found for event 35 tree wftree_06_09_10\n",
        "7 chirp regions found for event 36 tree wftree_06_09_10\n",
        "10 chirp regions found for event 37 tree wftree_06_09_10\n",
        "9 chirp regions found for event 38 tree wftree_06_09_10\n",
        "11 chirp regions found for event 39 tree wftree_06_09_10\n",
        "6 chirp regions found for event 40 tree wftree_06_09_10\n",
        "9 chirp regions found for event 41 tree wftree_06_09_10"
       ]
      },
      {
       "output_type": "stream",
       "stream": "stdout",
       "text": [
        "\n",
        "4 chirp regions found for event 42 tree wftree_06_09_10\n",
        "5 chirp regions found for event 43 tree wftree_06_09_10\n",
        "10 chirp regions found for event 44 tree wftree_06_09_10\n",
        "5 chirp regions found for event 45 tree wftree_06_09_10\n",
        "11 chirp regions found for event 46 tree wftree_06_09_10\n",
        "5 chirp regions found for event 47 tree wftree_06_09_10\n",
        "6 chirp regions found for event 48 tree wftree_06_09_10\n",
        "9 chirp regions found for event 49 tree wftree_06_09_10\n",
        "6 chirp regions found for event 50 tree wftree_06_09_10"
       ]
      },
      {
       "output_type": "stream",
       "stream": "stdout",
       "text": [
        "\n",
        "6 chirp regions found for event 51 tree wftree_06_09_10\n",
        "8 chirp regions found for event 52 tree wftree_06_09_10\n",
        "10 chirp regions found for event 53 tree wftree_06_09_10\n",
        "10 chirp regions found for event 54 tree wftree_06_09_10\n",
        "12 chirp regions found for event 55 tree wftree_06_09_10\n",
        "9 chirp regions found for event 56 tree wftree_06_09_10\n",
        "14 chirp regions found for event 57 tree wftree_06_09_10\n",
        "9 chirp regions found for event 58 tree wftree_06_09_10\n",
        "11 chirp regions found for event 59 tree wftree_06_09_10"
       ]
      },
      {
       "output_type": "stream",
       "stream": "stdout",
       "text": [
        "\n",
        "7 chirp regions found for event 60 tree wftree_06_09_10\n",
        "12 chirp regions found for event 61 tree wftree_06_09_10\n",
        "7 chirp regions found for event 62 tree wftree_06_09_10\n",
        "10 chirp regions found for event 63 tree wftree_06_09_10\n",
        "11 chirp regions found for event 64 tree wftree_06_09_10\n",
        "16 chirp regions found for event 65 tree wftree_06_09_10\n",
        "9 chirp regions found for event 66 tree wftree_06_09_10\n",
        "8 chirp regions found for event 67 tree wftree_06_09_10\n",
        "5 chirp regions found for event 68 tree wftree_06_09_10"
       ]
      },
      {
       "output_type": "stream",
       "stream": "stdout",
       "text": [
        "\n",
        "8 chirp regions found for event 69 tree wftree_06_09_10\n",
        "8 chirp regions found for event 70 tree wftree_06_09_10\n",
        "10 chirp regions found for event 71 tree wftree_06_09_10\n",
        "9 chirp regions found for event 72 tree wftree_06_09_10\n",
        "8 chirp regions found for event 73 tree wftree_06_09_10\n",
        "5 chirp regions found for event 74 tree wftree_06_09_10\n",
        "2 chirp regions found for event 75 tree wftree_06_09_10\n",
        "7 chirp regions found for event 76 tree wftree_06_09_10\n",
        "5 chirp regions found for event 77 tree wftree_06_09_10"
       ]
      },
      {
       "output_type": "stream",
       "stream": "stdout",
       "text": [
        "\n",
        "12 chirp regions found for event 78 tree wftree_06_09_10\n",
        "9 chirp regions found for event 79 tree wftree_06_09_10\n",
        "12 chirp regions found for event 80 tree wftree_06_09_10\n",
        "3 chirp regions found for event 81 tree wftree_06_09_10\n",
        "7 chirp regions found for event 82 tree wftree_06_09_10\n",
        "8 chirp regions found for event 83 tree wftree_06_09_10\n",
        "6 chirp regions found for event 84 tree wftree_06_09_10\n",
        "9 chirp regions found for event 85 tree wftree_06_09_10\n",
        "9 chirp regions found for event 86 tree wftree_06_09_10"
       ]
      },
      {
       "output_type": "stream",
       "stream": "stdout",
       "text": [
        "\n",
        "5 chirp regions found for event 87 tree wftree_06_09_10\n",
        "9 chirp regions found for event 88 tree wftree_06_09_10\n",
        "8 chirp regions found for event 89 tree wftree_06_09_10\n",
        "3 chirp regions found for event 90 tree wftree_06_09_10\n",
        "6 chirp regions found for event 91 tree wftree_06_09_10\n",
        "9 chirp regions found for event 92 tree wftree_06_09_10\n",
        "4 chirp regions found for event 93 tree wftree_06_09_10\n",
        "7 chirp regions found for event 94 tree wftree_06_09_10\n",
        "7 chirp regions found for event 95 tree wftree_06_09_10"
       ]
      },
      {
       "output_type": "stream",
       "stream": "stdout",
       "text": [
        "\n",
        "7 chirp regions found for event 96 tree wftree_06_09_10\n",
        "7 chirp regions found for event 97 tree wftree_06_09_10\n",
        "4 chirp regions found for event 98 tree wftree_06_09_10\n",
        "9 chirp regions found for event 99 tree wftree_06_09_10\n",
        "13 chirp regions found for event 0 tree wftree_06_09_10\n",
        "11 chirp regions found for event 1 tree wftree_06_09_10\n",
        "10 chirp regions found for event 2 tree wftree_06_09_10\n",
        "18 chirp regions found for event 3 tree wftree_06_09_10\n",
        "12 chirp regions found for event 4 tree wftree_06_09_10"
       ]
      },
      {
       "output_type": "stream",
       "stream": "stdout",
       "text": [
        "\n",
        "9 chirp regions found for event 5 tree wftree_06_09_10\n",
        "12 chirp regions found for event 6 tree wftree_06_09_10\n",
        "7 chirp regions found for event 7 tree wftree_06_09_10\n",
        "10 chirp regions found for event 8 tree wftree_06_09_10\n",
        "5 chirp regions found for event 9 tree wftree_06_09_10\n",
        "6 chirp regions found for event 10 tree wftree_06_09_10\n",
        "8 chirp regions found for event 11 tree wftree_06_09_10\n",
        "8 chirp regions found for event 12 tree wftree_06_09_10\n",
        "11 chirp regions found for event 13 tree wftree_06_09_10"
       ]
      },
      {
       "output_type": "stream",
       "stream": "stdout",
       "text": [
        "\n",
        "8 chirp regions found for event 14 tree wftree_06_09_10\n",
        "13 chirp regions found for event 15 tree wftree_06_09_10\n",
        "12 chirp regions found for event 16 tree wftree_06_09_10\n",
        "6 chirp regions found for event 17 tree wftree_06_09_10\n",
        "14 chirp regions found for event 18 tree wftree_06_09_10\n",
        "7 chirp regions found for event 19 tree wftree_06_09_10\n",
        "7 chirp regions found for event 20 tree wftree_06_09_10\n",
        "10 chirp regions found for event 21 tree wftree_06_09_10\n",
        "8 chirp regions found for event 22 tree wftree_06_09_10"
       ]
      },
      {
       "output_type": "stream",
       "stream": "stdout",
       "text": [
        "\n",
        "5 chirp regions found for event 23 tree wftree_06_09_10\n",
        "9 chirp regions found for event 24 tree wftree_06_09_10\n",
        "3 chirp regions found for event 25 tree wftree_06_09_10\n",
        "8 chirp regions found for event 26 tree wftree_06_09_10\n",
        "7 chirp regions found for event 27 tree wftree_06_09_10\n",
        "11 chirp regions found for event 28 tree wftree_06_09_10\n",
        "12 chirp regions found for event 29 tree wftree_06_09_10\n",
        "14 chirp regions found for event 30 tree wftree_06_09_10\n",
        "6 chirp regions found for event 31 tree wftree_06_09_10"
       ]
      },
      {
       "output_type": "stream",
       "stream": "stdout",
       "text": [
        "\n",
        "12 chirp regions found for event 32 tree wftree_06_09_10\n",
        "10 chirp regions found for event 33 tree wftree_06_09_10\n",
        "8 chirp regions found for event 34 tree wftree_06_09_10\n",
        "9 chirp regions found for event 35 tree wftree_06_09_10\n",
        "10 chirp regions found for event 36 tree wftree_06_09_10\n",
        "10 chirp regions found for event 37 tree wftree_06_09_10"
       ]
      },
      {
       "output_type": "stream",
       "stream": "stdout",
       "text": [
        "\n",
        "11 chirp regions found for event 38 tree wftree_06_09_10\n",
        "8 chirp regions found for event 39 tree wftree_06_09_10\n",
        "5 chirp regions found for event 40 tree wftree_06_09_10\n",
        "6 chirp regions found for event 41 tree wftree_06_09_10\n",
        "19 chirp regions found for event 42 tree wftree_06_09_10\n",
        "8 chirp regions found for event 43 tree wftree_06_09_10\n",
        "9 chirp regions found for event 44 tree wftree_06_09_10\n",
        "12 chirp regions found for event 45 tree wftree_06_09_10\n",
        "8 chirp regions found for event 46 tree wftree_06_09_10"
       ]
      },
      {
       "output_type": "stream",
       "stream": "stdout",
       "text": [
        "\n",
        "7 chirp regions found for event 47 tree wftree_06_09_10\n",
        "10 chirp regions found for event 48 tree wftree_06_09_10\n",
        "10 chirp regions found for event 49 tree wftree_06_09_10\n",
        "12 chirp regions found for event 50 tree wftree_06_09_10\n",
        "10 chirp regions found for event 51 tree wftree_06_09_10\n",
        "9 chirp regions found for event 52 tree wftree_06_09_10\n",
        "9 chirp regions found for event 53 tree wftree_06_09_10\n",
        "7 chirp regions found for event 54 tree wftree_06_09_10\n",
        "9 chirp regions found for event 55 tree wftree_06_09_10"
       ]
      },
      {
       "output_type": "stream",
       "stream": "stdout",
       "text": [
        "\n",
        "9 chirp regions found for event 56 tree wftree_06_09_10\n",
        "8 chirp regions found for event 57 tree wftree_06_09_10\n",
        "8 chirp regions found for event 58 tree wftree_06_09_10\n",
        "7 chirp regions found for event 59 tree wftree_06_09_10\n",
        "8 chirp regions found for event 60 tree wftree_06_09_10\n",
        "9 chirp regions found for event 61 tree wftree_06_09_10\n",
        "11 chirp regions found for event 62 tree wftree_06_09_10\n",
        "9 chirp regions found for event 63 tree wftree_06_09_10\n",
        "11 chirp regions found for event 64 tree wftree_06_09_10"
       ]
      },
      {
       "output_type": "stream",
       "stream": "stdout",
       "text": [
        "\n",
        "7 chirp regions found for event 65 tree wftree_06_09_10\n",
        "14 chirp regions found for event 66 tree wftree_06_09_10\n",
        "8 chirp regions found for event 67 tree wftree_06_09_10\n",
        "8 chirp regions found for event 68 tree wftree_06_09_10\n",
        "8 chirp regions found for event 69 tree wftree_06_09_10\n",
        "6 chirp regions found for event 70 tree wftree_06_09_10\n",
        "6 chirp regions found for event 71 tree wftree_06_09_10\n",
        "13 chirp regions found for event 72 tree wftree_06_09_10\n",
        "10 chirp regions found for event 73 tree wftree_06_09_10"
       ]
      },
      {
       "output_type": "stream",
       "stream": "stdout",
       "text": [
        "\n",
        "5 chirp regions found for event 74 tree wftree_06_09_10\n",
        "7 chirp regions found for event 75 tree wftree_06_09_10\n",
        "5 chirp regions found for event 76 tree wftree_06_09_10\n",
        "10 chirp regions found for event 77 tree wftree_06_09_10\n",
        "10 chirp regions found for event 78 tree wftree_06_09_10\n",
        "11 chirp regions found for event 79 tree wftree_06_09_10\n",
        "10 chirp regions found for event 80 tree wftree_06_09_10\n",
        "10 chirp regions found for event 81 tree wftree_06_09_10\n",
        "8 chirp regions found for event 82 tree wftree_06_09_10"
       ]
      },
      {
       "output_type": "stream",
       "stream": "stdout",
       "text": [
        "\n",
        "14 chirp regions found for event 83 tree wftree_06_09_10\n",
        "10 chirp regions found for event 84 tree wftree_06_09_10\n",
        "4 chirp regions found for event 85 tree wftree_06_09_10\n",
        "6 chirp regions found for event 86 tree wftree_06_09_10\n",
        "8 chirp regions found for event 87 tree wftree_06_09_10\n",
        "9 chirp regions found for event 88 tree wftree_06_09_10\n",
        "8 chirp regions found for event 89 tree wftree_06_09_10\n",
        "9 chirp regions found for event 90 tree wftree_06_09_10\n",
        "12 chirp regions found for event 91 tree wftree_06_09_10"
       ]
      },
      {
       "output_type": "stream",
       "stream": "stdout",
       "text": [
        "\n",
        "6 chirp regions found for event 92 tree wftree_06_09_10\n",
        "13 chirp regions found for event 93 tree wftree_06_09_10\n",
        "9 chirp regions found for event 94 tree wftree_06_09_10\n",
        "11 chirp regions found for event 95 tree wftree_06_09_10\n",
        "6 chirp regions found for event 96 tree wftree_06_09_10\n",
        "6 chirp regions found for event 97 tree wftree_06_09_10\n",
        "8 chirp regions found for event 98 tree wftree_06_09_10\n",
        "8 chirp regions found for event 99 tree wftree_06_09_10\n",
        "3 chirp regions found for event 0 tree wftree_06_09_10"
       ]
      },
      {
       "output_type": "stream",
       "stream": "stdout",
       "text": [
        "\n",
        "8 chirp regions found for event 1 tree wftree_06_09_10\n",
        "2 chirp regions found for event 2 tree wftree_06_09_10\n",
        "4 chirp regions found for event 3 tree wftree_06_09_10\n",
        "9 chirp regions found for event 4 tree wftree_06_09_10\n",
        "6 chirp regions found for event 5 tree wftree_06_09_10\n",
        "4 chirp regions found for event 6 tree wftree_06_09_10\n",
        "6 chirp regions found for event 7 tree wftree_06_09_10\n",
        "6 chirp regions found for event 8 tree wftree_06_09_10\n",
        "4 chirp regions found for event 9 tree wftree_06_09_10"
       ]
      },
      {
       "output_type": "stream",
       "stream": "stdout",
       "text": [
        "\n",
        "4 chirp regions found for event 10 tree wftree_06_09_10\n",
        "7 chirp regions found for event 11 tree wftree_06_09_10\n",
        "4 chirp regions found for event 12 tree wftree_06_09_10\n",
        "5 chirp regions found for event 13 tree wftree_06_09_10\n",
        "1 chirp regions found for event 14 tree wftree_06_09_10\n",
        "7 chirp regions found for event 15 tree wftree_06_09_10\n",
        "7 chirp regions found for event 16 tree wftree_06_09_10\n",
        "9 chirp regions found for event 17 tree wftree_06_09_10\n",
        "5 chirp regions found for event 18 tree wftree_06_09_10"
       ]
      },
      {
       "output_type": "stream",
       "stream": "stdout",
       "text": [
        "\n",
        "8 chirp regions found for event 19 tree wftree_06_09_10\n",
        "4 chirp regions found for event 20 tree wftree_06_09_10\n",
        "6 chirp regions found for event 21 tree wftree_06_09_10\n",
        "7 chirp regions found for event 22 tree wftree_06_09_10\n",
        "9 chirp regions found for event 23 tree wftree_06_09_10\n",
        "2 chirp regions found for event 24 tree wftree_06_09_10\n",
        "5 chirp regions found for event 25 tree wftree_06_09_10\n",
        "5 chirp regions found for event 26 tree wftree_06_09_10\n",
        "5 chirp regions found for event 27 tree wftree_06_09_10"
       ]
      },
      {
       "output_type": "stream",
       "stream": "stdout",
       "text": [
        "\n",
        "7 chirp regions found for event 28 tree wftree_06_09_10\n",
        "9 chirp regions found for event 29 tree wftree_06_09_10\n",
        "5 chirp regions found for event 30 tree wftree_06_09_10\n",
        "4 chirp regions found for event 31 tree wftree_06_09_10\n",
        "2 chirp regions found for event 32 tree wftree_06_09_10\n",
        "4 chirp regions found for event 33 tree wftree_06_09_10\n",
        "8 chirp regions found for event 34 tree wftree_06_09_10\n",
        "7 chirp regions found for event 35 tree wftree_06_09_10\n",
        "7 chirp regions found for event 36 tree wftree_06_09_10"
       ]
      },
      {
       "output_type": "stream",
       "stream": "stdout",
       "text": [
        "\n",
        "7 chirp regions found for event 37 tree wftree_06_09_10\n",
        "5 chirp regions found for event 38 tree wftree_06_09_10\n",
        "2 chirp regions found for event 39 tree wftree_06_09_10\n",
        "7 chirp regions found for event 40 tree wftree_06_09_10\n",
        "2 chirp regions found for event 41 tree wftree_06_09_10\n",
        "9 chirp regions found for event 42 tree wftree_06_09_10\n",
        "3 chirp regions found for event 43 tree wftree_06_09_10\n",
        "2 chirp regions found for event 44 tree wftree_06_09_10\n",
        "5 chirp regions found for event 45 tree wftree_06_09_10"
       ]
      },
      {
       "output_type": "stream",
       "stream": "stdout",
       "text": [
        "\n",
        "7 chirp regions found for event 46 tree wftree_06_09_10\n",
        "5 chirp regions found for event 47 tree wftree_06_09_10\n",
        "5 chirp regions found for event 48 tree wftree_06_09_10\n",
        "8 chirp regions found for event 49 tree wftree_06_09_10\n",
        "6 chirp regions found for event 50 tree wftree_06_09_10\n",
        "4 chirp regions found for event 51 tree wftree_06_09_10\n",
        "11 chirp regions found for event 52 tree wftree_06_09_10\n",
        "5 chirp regions found for event 53 tree wftree_06_09_10\n",
        "3 chirp regions found for event 54 tree wftree_06_09_10"
       ]
      },
      {
       "output_type": "stream",
       "stream": "stdout",
       "text": [
        "\n",
        "6 chirp regions found for event 55 tree wftree_06_09_10\n",
        "4 chirp regions found for event 56 tree wftree_06_09_10\n",
        "9 chirp regions found for event 57 tree wftree_06_09_10\n",
        "4 chirp regions found for event 58 tree wftree_06_09_10\n",
        "6 chirp regions found for event 59 tree wftree_06_09_10\n",
        "7 chirp regions found for event 60 tree wftree_06_09_10\n",
        "4 chirp regions found for event 61 tree wftree_06_09_10\n",
        "4 chirp regions found for event 62 tree wftree_06_09_10\n",
        "7 chirp regions found for event 63 tree wftree_06_09_10"
       ]
      },
      {
       "output_type": "stream",
       "stream": "stdout",
       "text": [
        "\n",
        "4 chirp regions found for event 64 tree wftree_06_09_10\n",
        "6 chirp regions found for event 65 tree wftree_06_09_10\n",
        "7 chirp regions found for event 66 tree wftree_06_09_10\n",
        "3 chirp regions found for event 67 tree wftree_06_09_10\n",
        "4 chirp regions found for event 68 tree wftree_06_09_10\n",
        "4 chirp regions found for event 69 tree wftree_06_09_10\n",
        "4 chirp regions found for event 70 tree wftree_06_09_10\n",
        "10 chirp regions found for event 71 tree wftree_06_09_10\n",
        "6 chirp regions found for event 72 tree wftree_06_09_10"
       ]
      },
      {
       "output_type": "stream",
       "stream": "stdout",
       "text": [
        "\n",
        "5 chirp regions found for event 73 tree wftree_06_09_10\n",
        "11 chirp regions found for event 74 tree wftree_06_09_10\n",
        "4 chirp regions found for event 75 tree wftree_06_09_10\n",
        "7 chirp regions found for event 76 tree wftree_06_09_10\n",
        "5 chirp regions found for event 77 tree wftree_06_09_10\n",
        "6 chirp regions found for event 78 tree wftree_06_09_10\n",
        "8 chirp regions found for event 79 tree wftree_06_09_10\n",
        "3 chirp regions found for event 80 tree wftree_06_09_10\n",
        "3 chirp regions found for event 81 tree wftree_06_09_10"
       ]
      },
      {
       "output_type": "stream",
       "stream": "stdout",
       "text": [
        "\n",
        "3 chirp regions found for event 82 tree wftree_06_09_10\n",
        "8 chirp regions found for event 83 tree wftree_06_09_10\n",
        "2 chirp regions found for event 84 tree wftree_06_09_10\n",
        "7 chirp regions found for event 85 tree wftree_06_09_10\n",
        "6 chirp regions found for event 86 tree wftree_06_09_10\n",
        "5 chirp regions found for event 87 tree wftree_06_09_10\n",
        "2 chirp regions found for event 88 tree wftree_06_09_10\n",
        "5 chirp regions found for event 89 tree wftree_06_09_10\n",
        "8 chirp regions found for event 90 tree wftree_06_09_10"
       ]
      },
      {
       "output_type": "stream",
       "stream": "stdout",
       "text": [
        "\n",
        "9 chirp regions found for event 91 tree wftree_06_09_10\n",
        "5 chirp regions found for event 92 tree wftree_06_09_10\n",
        "4 chirp regions found for event 93 tree wftree_06_09_10\n",
        "6 chirp regions found for event 94 tree wftree_06_09_10\n",
        "4 chirp regions found for event 95 tree wftree_06_09_10\n",
        "4 chirp regions found for event 96 tree wftree_06_09_10\n",
        "7 chirp regions found for event 97 tree wftree_06_09_10\n",
        "5 chirp regions found for event 98 tree wftree_06_09_10"
       ]
      },
      {
       "output_type": "stream",
       "stream": "stdout",
       "text": [
        "\n",
        "5 chirp regions found for event 99 tree wftree_06_09_10\n",
        "2 chirp regions found for event 0 tree wftree_06_09_10\n",
        "1 chirp regions found for event 2 tree wftree_06_09_10\n",
        "1 chirp regions found for event 3 tree wftree_06_09_10\n",
        "2 chirp regions found for event 4 tree wftree_06_09_10\n",
        "3 chirp regions found for event 7 tree wftree_06_09_10"
       ]
      },
      {
       "output_type": "stream",
       "stream": "stdout",
       "text": [
        "\n",
        "1 chirp regions found for event 9 tree wftree_06_09_10\n",
        "2 chirp regions found for event 11 tree wftree_06_09_10\n",
        "1 chirp regions found for event 12 tree wftree_06_09_10\n",
        "2 chirp regions found for event 16 tree wftree_06_09_10"
       ]
      },
      {
       "output_type": "stream",
       "stream": "stdout",
       "text": [
        "\n",
        "2 chirp regions found for event 17 tree wftree_06_09_10\n",
        "2 chirp regions found for event 18 tree wftree_06_09_10\n",
        "3 chirp regions found for event 19 tree wftree_06_09_10\n",
        "1 chirp regions found for event 20 tree wftree_06_09_10\n",
        "2 chirp regions found for event 21 tree wftree_06_09_10\n",
        "1 chirp regions found for event 22 tree wftree_06_09_10\n",
        "1 chirp regions found for event 23 tree wftree_06_09_10\n",
        "1 chirp regions found for event 24 tree wftree_06_09_10"
       ]
      },
      {
       "output_type": "stream",
       "stream": "stdout",
       "text": [
        "\n",
        "2 chirp regions found for event 25 tree wftree_06_09_10\n",
        "2 chirp regions found for event 26 tree wftree_06_09_10\n",
        "1 chirp regions found for event 28 tree wftree_06_09_10\n",
        "1 chirp regions found for event 29 tree wftree_06_09_10\n",
        "2 chirp regions found for event 30 tree wftree_06_09_10\n",
        "2 chirp regions found for event 31 tree wftree_06_09_10\n",
        "1 chirp regions found for event 32 tree wftree_06_09_10\n",
        "1 chirp regions found for event 33 tree wftree_06_09_10"
       ]
      },
      {
       "output_type": "stream",
       "stream": "stdout",
       "text": [
        "\n",
        "2 chirp regions found for event 34 tree wftree_06_09_10\n",
        "2 chirp regions found for event 36 tree wftree_06_09_10\n",
        "2 chirp regions found for event 38 tree wftree_06_09_10\n",
        "2 chirp regions found for event 40 tree wftree_06_09_10\n",
        "2 chirp regions found for event 41 tree wftree_06_09_10\n",
        "2 chirp regions found for event 42 tree wftree_06_09_10"
       ]
      },
      {
       "output_type": "stream",
       "stream": "stdout",
       "text": [
        "\n",
        "1 chirp regions found for event 46 tree wftree_06_09_10\n",
        "1 chirp regions found for event 47 tree wftree_06_09_10\n",
        "1 chirp regions found for event 48 tree wftree_06_09_10\n",
        "1 chirp regions found for event 49 tree wftree_06_09_10\n",
        "3 chirp regions found for event 55 tree wftree_06_09_10"
       ]
      },
      {
       "output_type": "stream",
       "stream": "stdout",
       "text": [
        "\n",
        "2 chirp regions found for event 56 tree wftree_06_09_10\n",
        "2 chirp regions found for event 58 tree wftree_06_09_10\n",
        "3 chirp regions found for event 60 tree wftree_06_09_10\n",
        "3 chirp regions found for event 61 tree wftree_06_09_10\n",
        "2 chirp regions found for event 62 tree wftree_06_09_10"
       ]
      },
      {
       "output_type": "stream",
       "stream": "stdout",
       "text": [
        "\n",
        "2 chirp regions found for event 63 tree wftree_06_09_10\n",
        "1 chirp regions found for event 64 tree wftree_06_09_10\n",
        "1 chirp regions found for event 66 tree wftree_06_09_10\n",
        "1 chirp regions found for event 68 tree wftree_06_09_10"
       ]
      },
      {
       "output_type": "stream",
       "stream": "stdout",
       "text": [
        "\n",
        "2 chirp regions found for event 69 tree wftree_06_09_10\n",
        "5 chirp regions found for event 70 tree wftree_06_09_10\n",
        "1 chirp regions found for event 71 tree wftree_06_09_10\n",
        "1 chirp regions found for event 72 tree wftree_06_09_10\n",
        "2 chirp regions found for event 73 tree wftree_06_09_10\n",
        "1 chirp regions found for event 74 tree wftree_06_09_10"
       ]
      },
      {
       "output_type": "stream",
       "stream": "stdout",
       "text": [
        "\n",
        "3 chirp regions found for event 75 tree wftree_06_09_10\n",
        "1 chirp regions found for event 79 tree wftree_06_09_10\n",
        "1 chirp regions found for event 80 tree wftree_06_09_10\n",
        "1 chirp regions found for event 82 tree wftree_06_09_10\n",
        "1 chirp regions found for event 83 tree wftree_06_09_10"
       ]
      },
      {
       "output_type": "stream",
       "stream": "stdout",
       "text": [
        "\n",
        "2 chirp regions found for event 84 tree wftree_06_09_10\n",
        "1 chirp regions found for event 85 tree wftree_06_09_10\n",
        "1 chirp regions found for event 89 tree wftree_06_09_10\n",
        "1 chirp regions found for event 90 tree wftree_06_09_10\n",
        "1 chirp regions found for event 91 tree wftree_06_09_10\n",
        "1 chirp regions found for event 92 tree wftree_06_09_10"
       ]
      },
      {
       "output_type": "stream",
       "stream": "stdout",
       "text": [
        "\n",
        "3 chirp regions found for event 93 tree wftree_06_09_10\n",
        "1 chirp regions found for event 94 tree wftree_06_09_10\n",
        "1 chirp regions found for event 95 tree wftree_06_09_10\n",
        "1 chirp regions found for event 96 tree wftree_06_09_10\n",
        "2 chirp regions found for event 99 tree wftree_06_09_10\n",
        "1 chirp regions found for event 0 tree wftree_06_09_10\n",
        "2 chirp regions found for event 1 tree wftree_06_09_10"
       ]
      },
      {
       "output_type": "stream",
       "stream": "stdout",
       "text": [
        "\n",
        "1 chirp regions found for event 4 tree wftree_06_09_10\n",
        "3 chirp regions found for event 6 tree wftree_06_09_10\n",
        "2 chirp regions found for event 7 tree wftree_06_09_10\n",
        "2 chirp regions found for event 10 tree wftree_06_09_10"
       ]
      },
      {
       "output_type": "stream",
       "stream": "stdout",
       "text": [
        "\n",
        "1 chirp regions found for event 11 tree wftree_06_09_10\n",
        "1 chirp regions found for event 13 tree wftree_06_09_10\n",
        "1 chirp regions found for event 14 tree wftree_06_09_10\n",
        "1 chirp regions found for event 15 tree wftree_06_09_10\n",
        "2 chirp regions found for event 16 tree wftree_06_09_10\n",
        "2 chirp regions found for event 18 tree wftree_06_09_10\n",
        "2 chirp regions found for event 20 tree wftree_06_09_10"
       ]
      },
      {
       "output_type": "stream",
       "stream": "stdout",
       "text": [
        "\n",
        "2 chirp regions found for event 21 tree wftree_06_09_10\n",
        "2 chirp regions found for event 22 tree wftree_06_09_10\n",
        "1 chirp regions found for event 23 tree wftree_06_09_10\n",
        "1 chirp regions found for event 25 tree wftree_06_09_10\n",
        "1 chirp regions found for event 28 tree wftree_06_09_10\n",
        "1 chirp regions found for event 30 tree wftree_06_09_10"
       ]
      },
      {
       "output_type": "stream",
       "stream": "stdout",
       "text": [
        "\n",
        "1 chirp regions found for event 32 tree wftree_06_09_10\n",
        "1 chirp regions found for event 33 tree wftree_06_09_10\n",
        "2 chirp regions found for event 35 tree wftree_06_09_10\n",
        "2 chirp regions found for event 36 tree wftree_06_09_10\n",
        "1 chirp regions found for event 37 tree wftree_06_09_10\n",
        "2 chirp regions found for event 41 tree wftree_06_09_10"
       ]
      },
      {
       "output_type": "stream",
       "stream": "stdout",
       "text": [
        "\n",
        "1 chirp regions found for event 45 tree wftree_06_09_10\n",
        "1 chirp regions found for event 47 tree wftree_06_09_10\n",
        "1 chirp regions found for event 48 tree wftree_06_09_10\n",
        "1 chirp regions found for event 49 tree wftree_06_09_10\n",
        "1 chirp regions found for event 50 tree wftree_06_09_10"
       ]
      },
      {
       "output_type": "stream",
       "stream": "stdout",
       "text": [
        "\n",
        "1 chirp regions found for event 53 tree wftree_06_09_10\n",
        "3 chirp regions found for event 54 tree wftree_06_09_10\n",
        "2 chirp regions found for event 55 tree wftree_06_09_10\n",
        "4 chirp regions found for event 56 tree wftree_06_09_10\n",
        "2 chirp regions found for event 57 tree wftree_06_09_10\n",
        "1 chirp regions found for event 61 tree wftree_06_09_10"
       ]
      },
      {
       "output_type": "stream",
       "stream": "stdout",
       "text": [
        "\n",
        "1 chirp regions found for event 62 tree wftree_06_09_10\n",
        "1 chirp regions found for event 64 tree wftree_06_09_10\n",
        "1 chirp regions found for event 65 tree wftree_06_09_10\n",
        "2 chirp regions found for event 66 tree wftree_06_09_10\n",
        "1 chirp regions found for event 67 tree wftree_06_09_10\n",
        "1 chirp regions found for event 68 tree wftree_06_09_10\n",
        "1 chirp regions found for event 69 tree wftree_06_09_10\n",
        "1 chirp regions found for event 71 tree wftree_06_09_10"
       ]
      },
      {
       "output_type": "stream",
       "stream": "stdout",
       "text": [
        "\n",
        "2 chirp regions found for event 80 tree wftree_06_09_10"
       ]
      },
      {
       "output_type": "stream",
       "stream": "stdout",
       "text": [
        "\n",
        "1 chirp regions found for event 81 tree wftree_06_09_10\n",
        "3 chirp regions found for event 82 tree wftree_06_09_10\n",
        "2 chirp regions found for event 83 tree wftree_06_09_10\n",
        "1 chirp regions found for event 91 tree wftree_06_09_10"
       ]
      },
      {
       "output_type": "stream",
       "stream": "stdout",
       "text": [
        "\n",
        "5 chirp regions found for event 93 tree wftree_06_09_10\n",
        "1 chirp regions found for event 94 tree wftree_06_09_10\n",
        "1 chirp regions found for event 95 tree wftree_06_09_10\n",
        "2 chirp regions found for event 96 tree wftree_06_09_10\n",
        "1 chirp regions found for event 98 tree wftree_06_09_10\n",
        "2 chirp regions found for event 0 tree wftree_06_09_10"
       ]
      },
      {
       "output_type": "stream",
       "stream": "stdout",
       "text": [
        "\n",
        "2 chirp regions found for event 1 tree wftree_06_09_10\n",
        "1 chirp regions found for event 2 tree wftree_06_09_10\n",
        "1 chirp regions found for event 4 tree wftree_06_09_10\n",
        "2 chirp regions found for event 5 tree wftree_06_09_10"
       ]
      },
      {
       "output_type": "stream",
       "stream": "stdout",
       "text": [
        "\n",
        "1 chirp regions found for event 6 tree wftree_06_09_10\n",
        "1 chirp regions found for event 7 tree wftree_06_09_10\n",
        "2 chirp regions found for event 10 tree wftree_06_09_10\n",
        "1 chirp regions found for event 15 tree wftree_06_09_10"
       ]
      },
      {
       "output_type": "stream",
       "stream": "stdout",
       "text": [
        "\n",
        "2 chirp regions found for event 16 tree wftree_06_09_10\n",
        "2 chirp regions found for event 19 tree wftree_06_09_10\n",
        "2 chirp regions found for event 20 tree wftree_06_09_10\n",
        "3 chirp regions found for event 21 tree wftree_06_09_10\n",
        "2 chirp regions found for event 22 tree wftree_06_09_10\n",
        "1 chirp regions found for event 23 tree wftree_06_09_10\n",
        "2 chirp regions found for event 24 tree wftree_06_09_10"
       ]
      },
      {
       "output_type": "stream",
       "stream": "stdout",
       "text": [
        "\n",
        "2 chirp regions found for event 25 tree wftree_06_09_10\n",
        "1 chirp regions found for event 26 tree wftree_06_09_10\n",
        "1 chirp regions found for event 29 tree wftree_06_09_10\n",
        "2 chirp regions found for event 32 tree wftree_06_09_10\n",
        "4 chirp regions found for event 34 tree wftree_06_09_10"
       ]
      },
      {
       "output_type": "stream",
       "stream": "stdout",
       "text": [
        "\n",
        "1 chirp regions found for event 36 tree wftree_06_09_10\n",
        "1 chirp regions found for event 38 tree wftree_06_09_10\n",
        "1 chirp regions found for event 39 tree wftree_06_09_10\n",
        "1 chirp regions found for event 41 tree wftree_06_09_10\n",
        "1 chirp regions found for event 42 tree wftree_06_09_10\n",
        "1 chirp regions found for event 43 tree wftree_06_09_10"
       ]
      },
      {
       "output_type": "stream",
       "stream": "stdout",
       "text": [
        "\n",
        "1 chirp regions found for event 44 tree wftree_06_09_10\n",
        "4 chirp regions found for event 45 tree wftree_06_09_10\n",
        "1 chirp regions found for event 46 tree wftree_06_09_10\n",
        "2 chirp regions found for event 49 tree wftree_06_09_10\n",
        "2 chirp regions found for event 50 tree wftree_06_09_10\n",
        "2 chirp regions found for event 51 tree wftree_06_09_10\n",
        "2 chirp regions found for event 53 tree wftree_06_09_10"
       ]
      },
      {
       "output_type": "stream",
       "stream": "stdout",
       "text": [
        "\n",
        "1 chirp regions found for event 55 tree wftree_06_09_10\n",
        "1 chirp regions found for event 56 tree wftree_06_09_10\n",
        "1 chirp regions found for event 59 tree wftree_06_09_10\n",
        "1 chirp regions found for event 60 tree wftree_06_09_10\n",
        "1 chirp regions found for event 61 tree wftree_06_09_10\n",
        "2 chirp regions found for event 62 tree wftree_06_09_10"
       ]
      },
      {
       "output_type": "stream",
       "stream": "stdout",
       "text": [
        "\n",
        "1 chirp regions found for event 63 tree wftree_06_09_10\n",
        "1 chirp regions found for event 64 tree wftree_06_09_10\n",
        "1 chirp regions found for event 65 tree wftree_06_09_10\n",
        "1 chirp regions found for event 66 tree wftree_06_09_10\n",
        "1 chirp regions found for event 67 tree wftree_06_09_10\n",
        "2 chirp regions found for event 68 tree wftree_06_09_10\n",
        "1 chirp regions found for event 69 tree wftree_06_09_10\n",
        "2 chirp regions found for event 71 tree wftree_06_09_10"
       ]
      },
      {
       "output_type": "stream",
       "stream": "stdout",
       "text": [
        "\n",
        "1 chirp regions found for event 72 tree wftree_06_09_10\n",
        "1 chirp regions found for event 74 tree wftree_06_09_10\n",
        "1 chirp regions found for event 76 tree wftree_06_09_10\n",
        "2 chirp regions found for event 81 tree wftree_06_09_10"
       ]
      },
      {
       "output_type": "stream",
       "stream": "stdout",
       "text": [
        "\n",
        "2 chirp regions found for event 82 tree wftree_06_09_10\n",
        "1 chirp regions found for event 84 tree wftree_06_09_10\n",
        "2 chirp regions found for event 85 tree wftree_06_09_10\n",
        "1 chirp regions found for event 88 tree wftree_06_09_10\n",
        "2 chirp regions found for event 89 tree wftree_06_09_10\n",
        "1 chirp regions found for event 90 tree wftree_06_09_10"
       ]
      },
      {
       "output_type": "stream",
       "stream": "stdout",
       "text": [
        "\n",
        "2 chirp regions found for event 91 tree wftree_06_09_10\n",
        "2 chirp regions found for event 92 tree wftree_06_09_10\n",
        "1 chirp regions found for event 93 tree wftree_06_09_10\n",
        "1 chirp regions found for event 95 tree wftree_06_09_10\n",
        "1 chirp regions found for event 96 tree wftree_06_09_10\n",
        "3 chirp regions found for event 99 tree wftree_06_09_10"
       ]
      },
      {
       "output_type": "stream",
       "stream": "stdout",
       "text": [
        "\n",
        "2 chirp regions found for event 2 tree wftree_06_09_10\n",
        "1 chirp regions found for event 3 tree wftree_06_09_10\n",
        "1 chirp regions found for event 4 tree wftree_06_09_10\n",
        "1 chirp regions found for event 8 tree wftree_06_09_10"
       ]
      },
      {
       "output_type": "stream",
       "stream": "stdout",
       "text": [
        "\n",
        "1 chirp regions found for event 9 tree wftree_06_09_10\n",
        "1 chirp regions found for event 13 tree wftree_06_09_10\n",
        "2 chirp regions found for event 16 tree wftree_06_09_10"
       ]
      },
      {
       "output_type": "stream",
       "stream": "stdout",
       "text": [
        "\n",
        "1 chirp regions found for event 18 tree wftree_06_09_10\n",
        "1 chirp regions found for event 19 tree wftree_06_09_10\n",
        "1 chirp regions found for event 20 tree wftree_06_09_10\n",
        "1 chirp regions found for event 21 tree wftree_06_09_10\n",
        "1 chirp regions found for event 25 tree wftree_06_09_10"
       ]
      },
      {
       "output_type": "stream",
       "stream": "stdout",
       "text": [
        "\n",
        "1 chirp regions found for event 27 tree wftree_06_09_10\n",
        "3 chirp regions found for event 28 tree wftree_06_09_10\n",
        "1 chirp regions found for event 31 tree wftree_06_09_10\n",
        "1 chirp regions found for event 32 tree wftree_06_09_10\n",
        "1 chirp regions found for event 33 tree wftree_06_09_10\n",
        "1 chirp regions found for event 35 tree wftree_06_09_10"
       ]
      },
      {
       "output_type": "stream",
       "stream": "stdout",
       "text": [
        "\n",
        "2 chirp regions found for event 37 tree wftree_06_09_10\n",
        "1 chirp regions found for event 40 tree wftree_06_09_10\n",
        "1 chirp regions found for event 42 tree wftree_06_09_10\n",
        "3 chirp regions found for event 44 tree wftree_06_09_10"
       ]
      },
      {
       "output_type": "stream",
       "stream": "stdout",
       "text": [
        "\n",
        "1 chirp regions found for event 45 tree wftree_06_09_10\n",
        "1 chirp regions found for event 48 tree wftree_06_09_10\n",
        "1 chirp regions found for event 49 tree wftree_06_09_10\n",
        "1 chirp regions found for event 50 tree wftree_06_09_10\n",
        "1 chirp regions found for event 54 tree wftree_06_09_10"
       ]
      },
      {
       "output_type": "stream",
       "stream": "stdout",
       "text": [
        "\n",
        "2 chirp regions found for event 62 tree wftree_06_09_10\n",
        "1 chirp regions found for event 64 tree wftree_06_09_10"
       ]
      },
      {
       "output_type": "stream",
       "stream": "stdout",
       "text": [
        "\n",
        "2 chirp regions found for event 66 tree wftree_06_09_10\n",
        "2 chirp regions found for event 68 tree wftree_06_09_10\n",
        "2 chirp regions found for event 70 tree wftree_06_09_10\n",
        "1 chirp regions found for event 71 tree wftree_06_09_10\n",
        "1 chirp regions found for event 74 tree wftree_06_09_10"
       ]
      },
      {
       "output_type": "stream",
       "stream": "stdout",
       "text": [
        "\n",
        "1 chirp regions found for event 75 tree wftree_06_09_10\n",
        "2 chirp regions found for event 76 tree wftree_06_09_10\n",
        "2 chirp regions found for event 78 tree wftree_06_09_10\n",
        "2 chirp regions found for event 79 tree wftree_06_09_10"
       ]
      },
      {
       "output_type": "stream",
       "stream": "stdout",
       "text": [
        "\n",
        "2 chirp regions found for event 80 tree wftree_06_09_10\n",
        "1 chirp regions found for event 81 tree wftree_06_09_10\n",
        "1 chirp regions found for event 83 tree wftree_06_09_10\n",
        "1 chirp regions found for event 84 tree wftree_06_09_10\n",
        "1 chirp regions found for event 87 tree wftree_06_09_10\n",
        "1 chirp regions found for event 89 tree wftree_06_09_10"
       ]
      },
      {
       "output_type": "stream",
       "stream": "stdout",
       "text": [
        "\n",
        "1 chirp regions found for event 90 tree wftree_06_09_10\n",
        "1 chirp regions found for event 92 tree wftree_06_09_10\n",
        "1 chirp regions found for event 93 tree wftree_06_09_10\n",
        "1 chirp regions found for event 94 tree wftree_06_09_10\n",
        "1 chirp regions found for event 95 tree wftree_06_09_10\n",
        "1 chirp regions found for event 98 tree wftree_06_09_10"
       ]
      },
      {
       "output_type": "stream",
       "stream": "stdout",
       "text": [
        "\n",
        "1 chirp regions found for event 99 tree wftree_06_09_10\n",
        "2 chirp regions found for event 3 tree wftree_06_09_10\n",
        "1 chirp regions found for event 7 tree wftree_06_09_10"
       ]
      },
      {
       "output_type": "stream",
       "stream": "stdout",
       "text": [
        "\n",
        "1 chirp regions found for event 9 tree wftree_06_09_10\n",
        "1 chirp regions found for event 11 tree wftree_06_09_10\n",
        "1 chirp regions found for event 14 tree wftree_06_09_10\n",
        "2 chirp regions found for event 16 tree wftree_06_09_10"
       ]
      },
      {
       "output_type": "stream",
       "stream": "stdout",
       "text": [
        "\n",
        "1 chirp regions found for event 18 tree wftree_06_09_10\n",
        "2 chirp regions found for event 21 tree wftree_06_09_10\n",
        "1 chirp regions found for event 23 tree wftree_06_09_10\n",
        "1 chirp regions found for event 26 tree wftree_06_09_10"
       ]
      },
      {
       "output_type": "stream",
       "stream": "stdout",
       "text": [
        "\n",
        "1 chirp regions found for event 29 tree wftree_06_09_10\n",
        "1 chirp regions found for event 32 tree wftree_06_09_10\n",
        "2 chirp regions found for event 33 tree wftree_06_09_10\n",
        "1 chirp regions found for event 34 tree wftree_06_09_10\n",
        "2 chirp regions found for event 39 tree wftree_06_09_10"
       ]
      },
      {
       "output_type": "stream",
       "stream": "stdout",
       "text": [
        "\n",
        "1 chirp regions found for event 40 tree wftree_06_09_10\n",
        "1 chirp regions found for event 49 tree wftree_06_09_10"
       ]
      },
      {
       "output_type": "stream",
       "stream": "stdout",
       "text": [
        "\n",
        "1 chirp regions found for event 59 tree wftree_06_09_10"
       ]
      },
      {
       "output_type": "stream",
       "stream": "stdout",
       "text": [
        "\n",
        "1 chirp regions found for event 62 tree wftree_06_09_10\n",
        "1 chirp regions found for event 63 tree wftree_06_09_10\n",
        "2 chirp regions found for event 67 tree wftree_06_09_10\n",
        "1 chirp regions found for event 68 tree wftree_06_09_10"
       ]
      },
      {
       "output_type": "stream",
       "stream": "stdout",
       "text": [
        "\n",
        "2 chirp regions found for event 72 tree wftree_06_09_10\n",
        "1 chirp regions found for event 75 tree wftree_06_09_10\n",
        "2 chirp regions found for event 79 tree wftree_06_09_10"
       ]
      },
      {
       "output_type": "stream",
       "stream": "stdout",
       "text": [
        "\n",
        "2 chirp regions found for event 81 tree wftree_06_09_10\n",
        "1 chirp regions found for event 83 tree wftree_06_09_10\n",
        "1 chirp regions found for event 84 tree wftree_06_09_10\n",
        "1 chirp regions found for event 90 tree wftree_06_09_10"
       ]
      },
      {
       "output_type": "stream",
       "stream": "stdout",
       "text": [
        "\n",
        "1 chirp regions found for event 92 tree wftree_06_09_10\n",
        "1 chirp regions found for event 0 tree wftree_06_09_10"
       ]
      },
      {
       "output_type": "stream",
       "stream": "stdout",
       "text": [
        "\n",
        "2 chirp regions found for event 1 tree wftree_06_09_10\n",
        "2 chirp regions found for event 5 tree wftree_06_09_10\n",
        "1 chirp regions found for event 7 tree wftree_06_09_10\n",
        "1 chirp regions found for event 8 tree wftree_06_09_10\n",
        "2 chirp regions found for event 13 tree wftree_06_09_10"
       ]
      },
      {
       "output_type": "stream",
       "stream": "stdout",
       "text": [
        "\n",
        "1 chirp regions found for event 14 tree wftree_06_09_10\n",
        "3 chirp regions found for event 16 tree wftree_06_09_10\n",
        "1 chirp regions found for event 19 tree wftree_06_09_10\n",
        "1 chirp regions found for event 21 tree wftree_06_09_10\n",
        "1 chirp regions found for event 24 tree wftree_06_09_10"
       ]
      },
      {
       "output_type": "stream",
       "stream": "stdout",
       "text": [
        "\n",
        "2 chirp regions found for event 25 tree wftree_06_09_10\n",
        "2 chirp regions found for event 27 tree wftree_06_09_10\n",
        "1 chirp regions found for event 28 tree wftree_06_09_10\n",
        "1 chirp regions found for event 32 tree wftree_06_09_10\n",
        "1 chirp regions found for event 33 tree wftree_06_09_10"
       ]
      },
      {
       "output_type": "stream",
       "stream": "stdout",
       "text": [
        "\n",
        "2 chirp regions found for event 35 tree wftree_06_09_10\n",
        "1 chirp regions found for event 39 tree wftree_06_09_10"
       ]
      },
      {
       "output_type": "stream",
       "stream": "stdout",
       "text": [
        "\n",
        "2 chirp regions found for event 40 tree wftree_06_09_10\n",
        "1 chirp regions found for event 41 tree wftree_06_09_10\n",
        "3 chirp regions found for event 43 tree wftree_06_09_10\n",
        "2 chirp regions found for event 46 tree wftree_06_09_10"
       ]
      },
      {
       "output_type": "stream",
       "stream": "stdout",
       "text": [
        "\n",
        "1 chirp regions found for event 47 tree wftree_06_09_10\n",
        "1 chirp regions found for event 48 tree wftree_06_09_10\n",
        "1 chirp regions found for event 49 tree wftree_06_09_10\n",
        "1 chirp regions found for event 50 tree wftree_06_09_10\n",
        "1 chirp regions found for event 51 tree wftree_06_09_10"
       ]
      },
      {
       "output_type": "stream",
       "stream": "stdout",
       "text": [
        "\n",
        "1 chirp regions found for event 54 tree wftree_06_09_10\n",
        "1 chirp regions found for event 55 tree wftree_06_09_10\n",
        "1 chirp regions found for event 57 tree wftree_06_09_10"
       ]
      },
      {
       "output_type": "stream",
       "stream": "stdout",
       "text": [
        "\n",
        "1 chirp regions found for event 59 tree wftree_06_09_10\n",
        "1 chirp regions found for event 61 tree wftree_06_09_10\n",
        "1 chirp regions found for event 62 tree wftree_06_09_10"
       ]
      },
      {
       "output_type": "stream",
       "stream": "stdout",
       "text": [
        "\n",
        "1 chirp regions found for event 64 tree wftree_06_09_10\n",
        "1 chirp regions found for event 65 tree wftree_06_09_10\n",
        "1 chirp regions found for event 66 tree wftree_06_09_10\n",
        "1 chirp regions found for event 67 tree wftree_06_09_10"
       ]
      },
      {
       "output_type": "stream",
       "stream": "stdout",
       "text": [
        "\n",
        "1 chirp regions found for event 68 tree wftree_06_09_10\n",
        "1 chirp regions found for event 69 tree wftree_06_09_10\n",
        "1 chirp regions found for event 70 tree wftree_06_09_10\n",
        "1 chirp regions found for event 72 tree wftree_06_09_10\n",
        "3 chirp regions found for event 73 tree wftree_06_09_10\n",
        "1 chirp regions found for event 74 tree wftree_06_09_10"
       ]
      },
      {
       "output_type": "stream",
       "stream": "stdout",
       "text": [
        "\n",
        "1 chirp regions found for event 75 tree wftree_06_09_10\n",
        "1 chirp regions found for event 79 tree wftree_06_09_10\n",
        "1 chirp regions found for event 80 tree wftree_06_09_10\n",
        "1 chirp regions found for event 81 tree wftree_06_09_10\n",
        "1 chirp regions found for event 83 tree wftree_06_09_10"
       ]
      },
      {
       "output_type": "stream",
       "stream": "stdout",
       "text": [
        "\n",
        "1 chirp regions found for event 85 tree wftree_06_09_10\n",
        "4 chirp regions found for event 91 tree wftree_06_09_10\n",
        "1 chirp regions found for event 92 tree wftree_06_09_10"
       ]
      },
      {
       "output_type": "stream",
       "stream": "stdout",
       "text": [
        "\n",
        "1 chirp regions found for event 95 tree wftree_06_09_10\n",
        "1 chirp regions found for event 97 tree wftree_06_09_10\n",
        "6 chirp regions found for event 99 tree wftree_06_09_10\n",
        "1 chirp regions found for event 0 tree wftree_06_09_10\n",
        "1 chirp regions found for event 2 tree wftree_06_09_10"
       ]
      },
      {
       "output_type": "stream",
       "stream": "stdout",
       "text": [
        "\n",
        "1 chirp regions found for event 15 tree wftree_06_09_10"
       ]
      },
      {
       "output_type": "stream",
       "stream": "stdout",
       "text": [
        "\n",
        "2 chirp regions found for event 16 tree wftree_06_09_10\n",
        "1 chirp regions found for event 18 tree wftree_06_09_10\n",
        "1 chirp regions found for event 21 tree wftree_06_09_10"
       ]
      },
      {
       "output_type": "stream",
       "stream": "stdout",
       "text": [
        "\n",
        "1 chirp regions found for event 26 tree wftree_06_09_10"
       ]
      },
      {
       "output_type": "stream",
       "stream": "stdout",
       "text": [
        "\n",
        "1 chirp regions found for event 28 tree wftree_06_09_10\n",
        "1 chirp regions found for event 29 tree wftree_06_09_10\n",
        "1 chirp regions found for event 30 tree wftree_06_09_10\n",
        "1 chirp regions found for event 36 tree wftree_06_09_10"
       ]
      },
      {
       "output_type": "stream",
       "stream": "stdout",
       "text": [
        "\n",
        "1 chirp regions found for event 37 tree wftree_06_09_10\n",
        "1 chirp regions found for event 39 tree wftree_06_09_10\n",
        "1 chirp regions found for event 40 tree wftree_06_09_10\n",
        "1 chirp regions found for event 41 tree wftree_06_09_10\n",
        "2 chirp regions found for event 43 tree wftree_06_09_10\n",
        "1 chirp regions found for event 46 tree wftree_06_09_10"
       ]
      },
      {
       "output_type": "stream",
       "stream": "stdout",
       "text": [
        "\n",
        "1 chirp regions found for event 47 tree wftree_06_09_10\n",
        "1 chirp regions found for event 51 tree wftree_06_09_10\n",
        "2 chirp regions found for event 54 tree wftree_06_09_10\n",
        "1 chirp regions found for event 56 tree wftree_06_09_10"
       ]
      },
      {
       "output_type": "stream",
       "stream": "stdout",
       "text": [
        "\n",
        "1 chirp regions found for event 60 tree wftree_06_09_10\n",
        "1 chirp regions found for event 67 tree wftree_06_09_10"
       ]
      },
      {
       "output_type": "stream",
       "stream": "stdout",
       "text": [
        "\n",
        "1 chirp regions found for event 69 tree wftree_06_09_10\n",
        "1 chirp regions found for event 70 tree wftree_06_09_10\n",
        "2 chirp regions found for event 71 tree wftree_06_09_10\n",
        "1 chirp regions found for event 74 tree wftree_06_09_10\n",
        "1 chirp regions found for event 77 tree wftree_06_09_10"
       ]
      },
      {
       "output_type": "stream",
       "stream": "stdout",
       "text": [
        "\n",
        "1 chirp regions found for event 78 tree wftree_06_09_10\n",
        "1 chirp regions found for event 80 tree wftree_06_09_10\n",
        "3 chirp regions found for event 81 tree wftree_06_09_10\n",
        "1 chirp regions found for event 83 tree wftree_06_09_10\n",
        "1 chirp regions found for event 85 tree wftree_06_09_10\n",
        "1 chirp regions found for event 97 tree wftree_06_09_10"
       ]
      },
      {
       "output_type": "stream",
       "stream": "stdout",
       "text": [
        "\n",
        "2 chirp regions found for event 98 tree wftree_06_09_10\n",
        "1 chirp regions found for event 10 tree wftree_06_09_10"
       ]
      },
      {
       "output_type": "stream",
       "stream": "stdout",
       "text": [
        "\n",
        "1 chirp regions found for event 13 tree wftree_06_09_10\n",
        "2 chirp regions found for event 16 tree wftree_06_09_10\n",
        "1 chirp regions found for event 20 tree wftree_06_09_10"
       ]
      },
      {
       "output_type": "stream",
       "stream": "stdout",
       "text": [
        "\n",
        "1 chirp regions found for event 21 tree wftree_06_09_10\n",
        "1 chirp regions found for event 25 tree wftree_06_09_10\n",
        "2 chirp regions found for event 27 tree wftree_06_09_10\n",
        "1 chirp regions found for event 29 tree wftree_06_09_10"
       ]
      },
      {
       "output_type": "stream",
       "stream": "stdout",
       "text": [
        "\n",
        "1 chirp regions found for event 30 tree wftree_06_09_10\n",
        "1 chirp regions found for event 34 tree wftree_06_09_10\n",
        "4 chirp regions found for event 37 tree wftree_06_09_10\n",
        "2 chirp regions found for event 41 tree wftree_06_09_10"
       ]
      },
      {
       "output_type": "stream",
       "stream": "stdout",
       "text": [
        "\n",
        "1 chirp regions found for event 42 tree wftree_06_09_10\n",
        "1 chirp regions found for event 43 tree wftree_06_09_10\n",
        "2 chirp regions found for event 44 tree wftree_06_09_10\n",
        "2 chirp regions found for event 52 tree wftree_06_09_10"
       ]
      },
      {
       "output_type": "stream",
       "stream": "stdout",
       "text": [
        "\n",
        "2 chirp regions found for event 55 tree wftree_06_09_10\n",
        "1 chirp regions found for event 56 tree wftree_06_09_10\n",
        "1 chirp regions found for event 57 tree wftree_06_09_10\n",
        "2 chirp regions found for event 58 tree wftree_06_09_10\n",
        "1 chirp regions found for event 59 tree wftree_06_09_10"
       ]
      },
      {
       "output_type": "stream",
       "stream": "stdout",
       "text": [
        "\n",
        "1 chirp regions found for event 64 tree wftree_06_09_10\n",
        "1 chirp regions found for event 70 tree wftree_06_09_10"
       ]
      },
      {
       "output_type": "stream",
       "stream": "stdout",
       "text": [
        "\n",
        "1 chirp regions found for event 71 tree wftree_06_09_10\n",
        "1 chirp regions found for event 72 tree wftree_06_09_10\n",
        "1 chirp regions found for event 82 tree wftree_06_09_10"
       ]
      },
      {
       "output_type": "stream",
       "stream": "stdout",
       "text": [
        "\n",
        "1 chirp regions found for event 83 tree wftree_06_09_10\n",
        "1 chirp regions found for event 86 tree wftree_06_09_10\n",
        "1 chirp regions found for event 88 tree wftree_06_09_10\n",
        "1 chirp regions found for event 90 tree wftree_06_09_10\n",
        "3 chirp regions found for event 91 tree wftree_06_09_10"
       ]
      },
      {
       "output_type": "stream",
       "stream": "stdout",
       "text": [
        "\n",
        "1 chirp regions found for event 93 tree wftree_06_09_10\n",
        "2 chirp regions found for event 94 tree wftree_06_09_10\n",
        "1 chirp regions found for event 98 tree wftree_06_09_10\n",
        "1 chirp regions found for event 99 tree wftree_06_09_10\n"
       ]
      }
     ],
     "prompt_number": 13
    },
    {
     "cell_type": "code",
     "collapsed": false,
     "input": [
      "event_counter = 0\n",
      "for event in wfs_per_evt.keys():\n",
      "    if event_counter == 1: break\n",
      "    plt.figure()\n",
      "    plt.title(\"Chirpy Waveforms for Event %d, Run %d %d-->%d\"%(event,run,subrun1,subrun2))\n",
      "    counter = 0\n",
      "    offset = 500\n",
      "    for wf,treename in wfs_per_evt[event]:\n",
      "        plt.plot(wf+(counter*offset),label='%s'%treename)\n",
      "        counter += 1\n",
      "#    plt.legend(loc=5,bbox_to_anchor=(1.5,1))\n",
      "    event_counter += 1\n",
      "    plt.show()"
     ],
     "language": "python",
     "metadata": {},
     "outputs": [
      {
       "metadata": {},
       "output_type": "display_data",
       "png": "[encoded data removed]",
       "text": [
        "<matplotlib.figure.Figure at 0x14f9c7fd0>"
       ]
      }
     ],
     "prompt_number": 12
    },
    {
     "cell_type": "code",
     "collapsed": false,
     "input": [],
     "language": "python",
     "metadata": {},
     "outputs": []
    }
   ],
   "metadata": {}
  }
 ]
}