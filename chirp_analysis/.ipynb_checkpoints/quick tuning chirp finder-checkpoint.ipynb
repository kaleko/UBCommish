{
 "metadata": {
  "name": "",
  "signature": "sha256:50d1984664bd395113cbaad96955047142b3c703a8bd6e94a35780c989426f40"
 },
 "nbformat": 3,
 "nbformat_minor": 0,
 "worksheets": []
}