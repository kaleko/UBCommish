{
 "metadata": {
  "name": "",
  "signature": "sha256:4ae0aa0ef4ccecc404f41a15b65bbf0fd67d6e16807602429a6af330b7711b12"
 },
 "nbformat": 3,
 "nbformat_minor": 0,
 "worksheets": [
  {
   "cells": [
    {
     "cell_type": "code",
     "collapsed": false,
     "input": [
      "%matplotlib inline\n",
      "import matplotlib.pyplot as plt\n",
      "import numpy as np\n",
      "import pandas as pd\n",
      "from root_numpy import root2array, root2rec, tree2rec, array2root"
     ],
     "language": "python",
     "metadata": {},
     "outputs": [],
     "prompt_number": 1
    },
    {
     "cell_type": "code",
     "collapsed": false,
     "input": [
      "run = 150\n",
      "subrun1 = 36\n",
      "subrun2 = 50\n",
      "#Notes: 148, 317-->326 only finds vole, 6 12 0 like once\n",
      "data_basedir = '/Users/davidkaleko/Data/UBCommish/chirp_files_v2/'\n",
      "fname = data_basedir + 'chirp_run%03d_subrun%03d_%03d.root'%(run,subrun1,subrun2)"
     ],
     "language": "python",
     "metadata": {},
     "outputs": [],
     "prompt_number": 18
    },
    {
     "cell_type": "code",
     "collapsed": false,
     "input": [
      "wf_dfs = pd.DataFrame(root2array(fname,'wftree'))\n",
      "#wf_dfs.query('event==6')\n"
     ],
     "language": "python",
     "metadata": {},
     "outputs": [],
     "prompt_number": 19
    },
    {
     "cell_type": "code",
     "collapsed": false,
     "input": [
      "n_events = wf_dfs.groupby('event').first().shape[0]\n",
      "plot_offset = 500\n",
      "n_chirping_evts = 0\n",
      "for event in xrange(n_events): \n",
      "    #if event != 4: continue\n",
      "    plt.figure(figsize=(10,7))\n",
      "    event_info = wf_dfs.query('event == %d and (max_rms/min_rms) > 50'%event)\n",
      "    ctr = 0\n",
      "    for key, info in event_info.iterrows():\n",
      "        if info['crate'] == 9 and info['slot'] == 16 and info['femch'] == 19:\n",
      "            continue\n",
      "        plt.title('Event = %d'%event)\n",
      "#        plt.plot(info['wf']-info['mean']+ctr,label='(%d,%d,%d)'%(info['crate'],info['slot'],info['femch']))\n",
      "        #plt.legend(bbox_to_anchor=(1.15,1.3))\n",
      "        plt.legend()\n",
      "        ctr += plot_offset\n",
      "        n_chirping_evts += 1\n",
      "    #    print \"max rms is %f, min rms is %f, ratio %f\" % (info['max_rms'],info['min_rms'],info['max_rms']/info['min_rms'])\n",
      "    n_chirps = ctr/plot_offset\n",
      "    if n_chirps: print\"# of chirping channels found for this event = %d \" %(ctr/500)\n",
      "print \"# of total channels that chirp = %d\" % n_chirping_evts"
     ],
     "language": "python",
     "metadata": {},
     "outputs": [
      {
       "ename": "NameError",
       "evalue": "name 'wf_dfs' is not defined",
       "output_type": "pyerr",
       "traceback": [
        "\u001b[0;31m---------------------------------------------------------------------------\u001b[0m\n\u001b[0;31mNameError\u001b[0m                                 Traceback (most recent call last)",
        "\u001b[0;32m<ipython-input-1-254f99be48da>\u001b[0m in \u001b[0;36m<module>\u001b[0;34m()\u001b[0m\n\u001b[0;32m----> 1\u001b[0;31m \u001b[0mn_events\u001b[0m \u001b[0;34m=\u001b[0m \u001b[0mwf_dfs\u001b[0m\u001b[0;34m.\u001b[0m\u001b[0mgroupby\u001b[0m\u001b[0;34m(\u001b[0m\u001b[0;34m'event'\u001b[0m\u001b[0;34m)\u001b[0m\u001b[0;34m.\u001b[0m\u001b[0mfirst\u001b[0m\u001b[0;34m(\u001b[0m\u001b[0;34m)\u001b[0m\u001b[0;34m.\u001b[0m\u001b[0mshape\u001b[0m\u001b[0;34m[\u001b[0m\u001b[0;36m0\u001b[0m\u001b[0;34m]\u001b[0m\u001b[0;34m\u001b[0m\u001b[0m\n\u001b[0m\u001b[1;32m      2\u001b[0m \u001b[0mplot_offset\u001b[0m \u001b[0;34m=\u001b[0m \u001b[0;36m500\u001b[0m\u001b[0;34m\u001b[0m\u001b[0m\n\u001b[1;32m      3\u001b[0m \u001b[0mn_chirping_evts\u001b[0m \u001b[0;34m=\u001b[0m \u001b[0;36m0\u001b[0m\u001b[0;34m\u001b[0m\u001b[0m\n\u001b[1;32m      4\u001b[0m \u001b[0;32mfor\u001b[0m \u001b[0mevent\u001b[0m \u001b[0;32min\u001b[0m \u001b[0mxrange\u001b[0m\u001b[0;34m(\u001b[0m\u001b[0mn_events\u001b[0m\u001b[0;34m)\u001b[0m\u001b[0;34m:\u001b[0m\u001b[0;34m\u001b[0m\u001b[0m\n\u001b[1;32m      5\u001b[0m     \u001b[0;31m#if event != 4: continue\u001b[0m\u001b[0;34m\u001b[0m\u001b[0;34m\u001b[0m\u001b[0m\n",
        "\u001b[0;31mNameError\u001b[0m: name 'wf_dfs' is not defined"
       ]
      }
     ],
     "prompt_number": 1
    },
    {
     "cell_type": "code",
     "collapsed": false,
     "input": [],
     "language": "python",
     "metadata": {},
     "outputs": []
    }
   ],
   "metadata": {}
  }
 ]
}