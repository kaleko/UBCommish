{
 "metadata": {
  "name": "",
  "signature": "sha256:9a2a1c8e6fd478ba8fe1148e9817ff7552d364340283de47510513d058bba2a6"
 },
 "nbformat": 3,
 "nbformat_minor": 0,
 "worksheets": [
  {
   "cells": [
    {
     "cell_type": "code",
     "collapsed": false,
     "input": [
      "import numpy as np\n",
      "import pandas as pd\n",
      "from root_numpy import root2array, root2rec, tree2rec, array2root\n",
      "\n",
      "run = [ [ 2, 0, 9 ], [ 3, 0, 9 ], [ 5, 0, 15 ], [ 28, 0, 10 ], [ 62, 0, 14 ], [ 83, 0, 10 ], [ 84, 0, 16 ], [ 95, 0, 19 ], [ 95, 44, 55 ], [ 95, 67, 76 ], [ 95, 85, 94 ], [ 95, 100, 109 ], [ 95, 120, 132 ], [ 95, 157, 166 ], [ 95, 174, 187 ], [ 95, 198, 207 ], [ 114, 0, 20 ], [ 114, 110, 130 ], [ 114, 275, 295 ], [ 114, 400, 420 ], [ 114, 640, 660 ], [ 114, 755, 775 ], [ 114, 865, 885 ], [ 115, 110, 130 ], [ 115, 220, 240 ], [ 115, 365, 385 ], [ 115, 475, 495 ], [ 115, 620, 640 ], [ 115, 850, 870 ], [ 115, 980, 1000 ], [ 117, 0, 20 ], [ 117, 115, 135 ], [ 119, 0, 20 ], [ 119, 110, 130 ], [ 119, 230, 250 ], [ 119, 350, 370 ], [ 121, 0, 20 ], [ 126, 0, 11 ], [ 128, 0, 14 ], [ 130, 0, 8 ], [ 131, 0, 11 ], [ 131, 14, 25 ], [ 131, 28, 37 ], [ 131, 42, 52 ], [ 131, 55, 67 ], [ 134, 0, 10 ], [ 138, 0, 10 ], [ 138, 15, 24 ], [ 138, 41, 50 ], [ 138, 54, 63 ], [ 138, 69, 78 ], [ 138, 114, 123 ], [ 138, 127, 136 ], [ 139, 13, 22 ], [ 139, 27, 36 ], [ 139, 41, 50 ], [ 139, 54, 63 ], [ 139, 70, 79 ], [ 139, 83, 92 ], [ 139, 96, 105 ], [ 139, 111, 120 ], [ 139, 127, 136 ], [ 139, 140, 149 ], [ 139, 155, 164 ], [ 140, 0, 9 ], [ 140, 13, 22 ], [ 140, 28, 37 ], [ 140, 41, 50 ], [ 140, 55, 64 ], [ 140, 71, 80 ]  ]\n",
      "\n",
      "cut_high = 6\n",
      "cut_low  = 0.5\n",
      "\n",
      "for i in run:\n",
      "  \n",
      "  run_name = 'run{:03d}_subrun{:03d}_{:03d}'.format(i[0],i[1],i[2])\n",
      "  print run_name\n",
      "  \n",
      "  if i[0] <= 6: gain = 4.7\n",
      "  else: gain = 14.0\n",
      "    \n",
      "  fname = './noise_channels/{}_all.dat'.format(run_name)\n",
      "  f = open(fname,'w')\n",
      "  fname = './noise_channels/{}_high.dat'.format(run_name)\n",
      "  f_high = open(fname,'w')\n",
      "  fname = './noise_channels/{}_low.dat'.format(run_name)\n",
      "  f_low = open(fname,'w')\n",
      "    \n",
      "  fname = '/Users/davidkaleko/Data/UBCommish/noise_files/noise_{}.root'.format(run_name)\n",
      "  wf_df = pd.DataFrame(root2array(fname,'tree'))\n",
      "  grp = wf_df.groupby(['crate', 'slot', 'femch'])\n",
      "\n",
      "  for key, grp_df in grp:\n",
      "    sr = grp_df['rms']\n",
      "    mean = sr.sum() / float(len(sr))\n",
      "    f.write('{} {} {} {}\\n'.format(key[0],key[1],key[2],mean))\n",
      "      \n",
      "    if mean > cut_high * gain / 14:\n",
      "      f_high.write('{} {} {} {}\\n'.format(key[0],key[1],key[2],mean))\n",
      "      \n",
      "    if mean < cut_low * gain / 14:\n",
      "      f_low.write('{} {} {} {}\\n'.format(key[0],key[1],key[2],mean))\n",
      "\n",
      "  f_high.close()\n",
      "  f_low.close()\n",
      "  f.close()"
     ],
     "language": "python",
     "metadata": {},
     "outputs": [
      {
       "output_type": "stream",
       "stream": "stdout",
       "text": [
        "run002_subrun000_009\n",
        "run003_subrun000_009"
       ]
      },
      {
       "output_type": "stream",
       "stream": "stdout",
       "text": [
        "\n",
        "run005_subrun000_015"
       ]
      },
      {
       "output_type": "stream",
       "stream": "stdout",
       "text": [
        "\n",
        "run028_subrun000_010"
       ]
      },
      {
       "output_type": "stream",
       "stream": "stdout",
       "text": [
        "\n",
        "run062_subrun000_014"
       ]
      },
      {
       "output_type": "stream",
       "stream": "stdout",
       "text": [
        "\n",
        "run083_subrun000_010"
       ]
      },
      {
       "output_type": "stream",
       "stream": "stdout",
       "text": [
        "\n",
        "run084_subrun000_016"
       ]
      },
      {
       "output_type": "stream",
       "stream": "stdout",
       "text": [
        "\n",
        "run095_subrun000_019"
       ]
      },
      {
       "output_type": "stream",
       "stream": "stdout",
       "text": [
        "\n",
        "run095_subrun044_055"
       ]
      },
      {
       "output_type": "stream",
       "stream": "stdout",
       "text": [
        "\n",
        "run095_subrun067_076"
       ]
      },
      {
       "output_type": "stream",
       "stream": "stdout",
       "text": [
        "\n",
        "run095_subrun085_094"
       ]
      },
      {
       "output_type": "stream",
       "stream": "stdout",
       "text": [
        "\n",
        "run095_subrun100_109"
       ]
      },
      {
       "output_type": "stream",
       "stream": "stdout",
       "text": [
        "\n",
        "run095_subrun120_132"
       ]
      },
      {
       "output_type": "stream",
       "stream": "stdout",
       "text": [
        "\n",
        "run095_subrun157_166"
       ]
      },
      {
       "output_type": "stream",
       "stream": "stdout",
       "text": [
        "\n",
        "run095_subrun174_187"
       ]
      },
      {
       "output_type": "stream",
       "stream": "stdout",
       "text": [
        "\n",
        "run095_subrun198_207"
       ]
      },
      {
       "output_type": "stream",
       "stream": "stdout",
       "text": [
        "\n",
        "run114_subrun000_020"
       ]
      },
      {
       "output_type": "stream",
       "stream": "stdout",
       "text": [
        "\n",
        "run114_subrun110_130"
       ]
      },
      {
       "output_type": "stream",
       "stream": "stdout",
       "text": [
        "\n",
        "run114_subrun275_295"
       ]
      },
      {
       "output_type": "stream",
       "stream": "stdout",
       "text": [
        "\n",
        "run114_subrun400_420"
       ]
      },
      {
       "output_type": "stream",
       "stream": "stdout",
       "text": [
        "\n",
        "run114_subrun640_660"
       ]
      },
      {
       "output_type": "stream",
       "stream": "stdout",
       "text": [
        "\n",
        "run114_subrun755_775"
       ]
      },
      {
       "output_type": "stream",
       "stream": "stdout",
       "text": [
        "\n",
        "run114_subrun865_885"
       ]
      },
      {
       "output_type": "stream",
       "stream": "stdout",
       "text": [
        "\n",
        "run115_subrun110_130"
       ]
      },
      {
       "output_type": "stream",
       "stream": "stdout",
       "text": [
        "\n",
        "run115_subrun220_240"
       ]
      },
      {
       "output_type": "stream",
       "stream": "stdout",
       "text": [
        "\n",
        "run115_subrun365_385"
       ]
      },
      {
       "output_type": "stream",
       "stream": "stdout",
       "text": [
        "\n",
        "run115_subrun475_495"
       ]
      },
      {
       "output_type": "stream",
       "stream": "stdout",
       "text": [
        "\n",
        "run115_subrun620_640"
       ]
      },
      {
       "output_type": "stream",
       "stream": "stdout",
       "text": [
        "\n",
        "run115_subrun850_870"
       ]
      },
      {
       "output_type": "stream",
       "stream": "stdout",
       "text": [
        "\n",
        "run115_subrun980_1000"
       ]
      },
      {
       "output_type": "stream",
       "stream": "stdout",
       "text": [
        "\n",
        "run117_subrun000_020"
       ]
      },
      {
       "output_type": "stream",
       "stream": "stdout",
       "text": [
        "\n",
        "run117_subrun115_135"
       ]
      },
      {
       "output_type": "stream",
       "stream": "stdout",
       "text": [
        "\n",
        "run119_subrun000_020"
       ]
      },
      {
       "output_type": "stream",
       "stream": "stdout",
       "text": [
        "\n",
        "run119_subrun110_130"
       ]
      },
      {
       "output_type": "stream",
       "stream": "stdout",
       "text": [
        "\n",
        "run119_subrun230_250"
       ]
      },
      {
       "output_type": "stream",
       "stream": "stdout",
       "text": [
        "\n",
        "run119_subrun350_370"
       ]
      },
      {
       "output_type": "stream",
       "stream": "stdout",
       "text": [
        "\n",
        "run121_subrun000_020"
       ]
      },
      {
       "output_type": "stream",
       "stream": "stdout",
       "text": [
        "\n",
        "run126_subrun000_011"
       ]
      },
      {
       "output_type": "stream",
       "stream": "stdout",
       "text": [
        "\n",
        "run128_subrun000_014"
       ]
      },
      {
       "output_type": "stream",
       "stream": "stdout",
       "text": [
        "\n",
        "run130_subrun000_008"
       ]
      },
      {
       "output_type": "stream",
       "stream": "stdout",
       "text": [
        "\n",
        "run131_subrun000_011"
       ]
      },
      {
       "output_type": "stream",
       "stream": "stdout",
       "text": [
        "\n",
        "run131_subrun014_025"
       ]
      },
      {
       "output_type": "stream",
       "stream": "stdout",
       "text": [
        "\n",
        "run131_subrun028_037"
       ]
      },
      {
       "output_type": "stream",
       "stream": "stdout",
       "text": [
        "\n",
        "run131_subrun042_052"
       ]
      },
      {
       "output_type": "stream",
       "stream": "stdout",
       "text": [
        "\n",
        "run131_subrun055_067"
       ]
      },
      {
       "output_type": "stream",
       "stream": "stdout",
       "text": [
        "\n",
        "run134_subrun000_010"
       ]
      },
      {
       "output_type": "stream",
       "stream": "stdout",
       "text": [
        "\n",
        "run138_subrun000_010"
       ]
      },
      {
       "output_type": "stream",
       "stream": "stdout",
       "text": [
        "\n"
       ]
      },
      {
       "ename": "IOError",
       "evalue": "unable to access tree 'tree' in /Users/davidkaleko/Data/UBCommish/noise_files/noise_run138_subrun000_010.root",
       "output_type": "pyerr",
       "traceback": [
        "\u001b[0;31m---------------------------------------------------------------------------\u001b[0m\n\u001b[0;31mIOError\u001b[0m                                   Traceback (most recent call last)",
        "\u001b[0;32m<ipython-input-2-1263d279b087>\u001b[0m in \u001b[0;36m<module>\u001b[0;34m()\u001b[0m\n\u001b[1;32m     24\u001b[0m \u001b[0;34m\u001b[0m\u001b[0m\n\u001b[1;32m     25\u001b[0m   \u001b[0mfname\u001b[0m \u001b[0;34m=\u001b[0m \u001b[0;34m'/Users/davidkaleko/Data/UBCommish/noise_files/noise_{}.root'\u001b[0m\u001b[0;34m.\u001b[0m\u001b[0mformat\u001b[0m\u001b[0;34m(\u001b[0m\u001b[0mrun_name\u001b[0m\u001b[0;34m)\u001b[0m\u001b[0;34m\u001b[0m\u001b[0m\n\u001b[0;32m---> 26\u001b[0;31m   \u001b[0mwf_df\u001b[0m \u001b[0;34m=\u001b[0m \u001b[0mpd\u001b[0m\u001b[0;34m.\u001b[0m\u001b[0mDataFrame\u001b[0m\u001b[0;34m(\u001b[0m\u001b[0mroot2array\u001b[0m\u001b[0;34m(\u001b[0m\u001b[0mfname\u001b[0m\u001b[0;34m,\u001b[0m\u001b[0;34m'tree'\u001b[0m\u001b[0;34m)\u001b[0m\u001b[0;34m)\u001b[0m\u001b[0;34m\u001b[0m\u001b[0m\n\u001b[0m\u001b[1;32m     27\u001b[0m   \u001b[0mgrp\u001b[0m \u001b[0;34m=\u001b[0m \u001b[0mwf_df\u001b[0m\u001b[0;34m.\u001b[0m\u001b[0mgroupby\u001b[0m\u001b[0;34m(\u001b[0m\u001b[0;34m[\u001b[0m\u001b[0;34m'crate'\u001b[0m\u001b[0;34m,\u001b[0m \u001b[0;34m'slot'\u001b[0m\u001b[0;34m,\u001b[0m \u001b[0;34m'femch'\u001b[0m\u001b[0;34m]\u001b[0m\u001b[0;34m)\u001b[0m\u001b[0;34m\u001b[0m\u001b[0m\n\u001b[1;32m     28\u001b[0m \u001b[0;34m\u001b[0m\u001b[0m\n",
        "\u001b[0;32m/Library/Python/2.7/site-packages/root_numpy/_tree.pyc\u001b[0m in \u001b[0;36mroot2array\u001b[0;34m(filenames, treename, branches, selection, start, stop, step, include_weight, weight_name)\u001b[0m\n\u001b[1;32m    197\u001b[0m         \u001b[0mstart\u001b[0m\u001b[0;34m,\u001b[0m \u001b[0mstop\u001b[0m\u001b[0;34m,\u001b[0m \u001b[0mstep\u001b[0m\u001b[0;34m,\u001b[0m\u001b[0;34m\u001b[0m\u001b[0m\n\u001b[1;32m    198\u001b[0m         \u001b[0minclude_weight\u001b[0m\u001b[0;34m,\u001b[0m\u001b[0;34m\u001b[0m\u001b[0m\n\u001b[0;32m--> 199\u001b[0;31m         weight_name)\n\u001b[0m\u001b[1;32m    200\u001b[0m \u001b[0;34m\u001b[0m\u001b[0m\n\u001b[1;32m    201\u001b[0m \u001b[0;34m\u001b[0m\u001b[0m\n",
        "\u001b[0;32m/Library/Python/2.7/site-packages/root_numpy/_librootnumpy.so\u001b[0m in \u001b[0;36m_librootnumpy.root2array_fromFname (root_numpy/src/_librootnumpy.cpp:706)\u001b[0;34m()\u001b[0m\n",
        "\u001b[0;31mIOError\u001b[0m: unable to access tree 'tree' in /Users/davidkaleko/Data/UBCommish/noise_files/noise_run138_subrun000_010.root"
       ]
      }
     ],
     "prompt_number": 2
    },
    {
     "cell_type": "code",
     "collapsed": false,
     "input": [],
     "language": "python",
     "metadata": {},
     "outputs": []
    }
   ],
   "metadata": {}
  }
 ]
}