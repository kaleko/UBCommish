{
 "metadata": {
  "name": "",
  "signature": "sha256:157372cf1152b84dad4ca7d267247b8b2ee30b633f6af5e111e44509ccdfd325"
 },
 "nbformat": 3,
 "nbformat_minor": 0,
 "worksheets": [
  {
   "cells": [
    {
     "cell_type": "code",
     "collapsed": false,
     "input": [
      "%matplotlib inline\n",
      "import matplotlib.pyplot as plt\n",
      "import numpy as np\n",
      "import pandas as pd\n",
      "from root_numpy import root2array, root2rec, tree2rec, array2root\n",
      "from ROOT import TH1F, TFile\n",
      "import nputils as nputils"
     ],
     "language": "python",
     "metadata": {},
     "outputs": [],
     "prompt_number": 1
    },
    {
     "cell_type": "code",
     "collapsed": false,
     "input": [
      "run = 148\n",
      "subrun1 = 317\n",
      "subrun2 = 326\n",
      "data_basedir = '/Users/davidkaleko/Data/UBCommish/wf_files/'\n",
      "fname = data_basedir + 'wf_run%03d_subrun%03d_%03d.root'%(run,subrun1,subrun2)"
     ],
     "language": "python",
     "metadata": {},
     "outputs": [],
     "prompt_number": 2
    },
    {
     "cell_type": "code",
     "collapsed": false,
     "input": [
      "def find_chirp_regions(wf):\n",
      " \n",
      "    RMS_chirp_cutoff = 15\n",
      "    RMS_windowsize = 20\n",
      "    RMS_array = []\n",
      "    \n",
      "    #chirp_regions is [ (start_t,stop_t), (start,stop), etc]\n",
      "    chirp_regions = []\n",
      "\n",
      "    chirp_start, chirp_end = 0,0\n",
      "    last_tick = False\n",
      "    \n",
      "    #sliding window of size RMS_windowsize over waveform, computing RMS in window each time\n",
      "    for tick in np.arange(0,len(wf),int(RMS_windowsize)):\n",
      "        if tick + RMS_windowsize >= len(wf):\n",
      "            break\n",
      "        if len(wf) - (tick + RMS_windowsize) == 1:\n",
      "            last_tick = True\n",
      "            \n",
      "        window_rms = wf[tick:(tick+RMS_windowsize)].std()\n",
      "        RMS_array.append(window_rms)\n",
      "\n",
      "        if window_rms > RMS_chirp_cutoff and tick == 0:\n",
      "            chirp_start = 1\n",
      "            \n",
      "        if len(RMS_array) < 2: continue\n",
      " \n",
      "        #chirps start if it goes from low RMS to high RMS\n",
      "        if RMS_array[-1] > RMS_chirp_cutoff and RMS_array[-2] < RMS_chirp_cutoff:\n",
      "            chirp_start = tick \n",
      "\n",
      "        #chirps end if it goes from high RMS to low RMS\n",
      "        if RMS_array[-1] < RMS_chirp_cutoff and RMS_array[-2] > RMS_chirp_cutoff:\n",
      "            chirp_end = tick \n",
      "         \n",
      "        #assume chirp ends on last tick if in high RMS region\n",
      "        if last_tick and RMS_array[-1] > RMS_chirp_cutoff:\n",
      "            chirp_end = tick\n",
      "            \n",
      "        if chirp_start != 0 and chirp_end != 0 and chirp_end - chirp_start > RMS_windowsize:\n",
      "            chirp_regions.append((chirp_start,chirp_end))\n",
      "            chirp_start, chirp_end = 0, 0\n",
      "\n",
      "    return chirp_regions"
     ],
     "language": "python",
     "metadata": {},
     "outputs": [],
     "prompt_number": 3
    },
    {
     "cell_type": "code",
     "collapsed": false,
     "input": [
      "f = ROOT.TFile(fname,\"READ\")\n",
      "trees = []\n",
      "for key in f.GetListOfKeys():\n",
      "    trees.append(key.GetName())"
     ],
     "language": "python",
     "metadata": {},
     "outputs": [],
     "prompt_number": 4
    },
    {
     "cell_type": "code",
     "collapsed": false,
     "input": [
      "wf_df = {}\n",
      "for tree in trees:\n",
      "    wf_df[tree] = pd.DataFrame(root2array(fname,tree))"
     ],
     "language": "python",
     "metadata": {},
     "outputs": [],
     "prompt_number": 5
    },
    {
     "cell_type": "code",
     "collapsed": false,
     "input": [
      "#organize data event-wise\n",
      "ev_list = {}\n",
      "for tree in trees:\n",
      "    ev_ctr=0\n",
      "    for ev in wf_df[tree]['event']:\n",
      "        if not ev in ev_list.keys(): ev_list[ev]=[]\n",
      "        ev_list[ev].append(tree)\n",
      "        ev_ctr+=1\n"
     ],
     "language": "python",
     "metadata": {},
     "outputs": [],
     "prompt_number": 6
    },
    {
     "cell_type": "code",
     "collapsed": false,
     "input": [
      "ev_histos = []\n",
      "\n",
      "for ev in ev_list:\n",
      "    \n",
      "    start_times = []\n",
      "    end_times = []\n",
      "    \n",
      "    ev_treelist = ev_list[ev]\n",
      "    \n",
      "    for tree in ev_treelist:\n",
      "        wfs = wf_df[tree].query('event==%d' % ev)['wf']\n",
      "        for wf in wfs:\n",
      "            chirp_regions = find_chirp_regions(wf)\n",
      "        for s, e in chirp_regions:\n",
      "            start_times.append(s)\n",
      "            end_times.append(e)\n",
      "                \n",
      "    ev_histos.append( (start_times,end_times) )"
     ],
     "language": "python",
     "metadata": {},
     "outputs": [],
     "prompt_number": 7
    },
    {
     "cell_type": "code",
     "collapsed": false,
     "input": [
      "#for ev_hist in ev_histos:\n",
      "#    if len(ev_hist[0]) < 10: continue\n",
      "#    plt.figure()\n",
      "    #plot start points\n",
      "plt.hist(ev_histos[16][0],bins=100,histtype='stepfilled',color='b',label='Chirp Start Times')\n",
      "plt.hist(ev_histos[16][1],bins=100,histtype='stepfilled',color='r',alpha=0.5,label='Chirp End Times')\n",
      "plt.title(\"Chirp Start end End Times In This Event\")\n",
      "plt.xlabel(\"TDC since Event Start\")\n",
      "plt.ylabel(\"# of Channels\")\n",
      "plt.ylim([0,20])\n",
      "plt.legend()\n",
      "plt.grid()\n",
      "plt.show()"
     ],
     "language": "python",
     "metadata": {},
     "outputs": [
      {
       "metadata": {},
       "output_type": "display_data",
       "png": "[encoded data removed]",
       "text": [
        "<matplotlib.figure.Figure at 0x10d6fbc10>"
       ]
      }
     ],
     "prompt_number": 30
    },
    {
     "cell_type": "code",
     "collapsed": false,
     "input": [
      "for ev_hist in ev_histos:\n",
      "    if len(ev_hist[0]) < 0:\n",
      "        print ctr\n",
      "        break\n",
      "    ctr += 1"
     ],
     "language": "python",
     "metadata": {},
     "outputs": [],
     "prompt_number": 15
    },
    {
     "cell_type": "code",
     "collapsed": false,
     "input": [
      "print ev_histos[0][0]"
     ],
     "language": "python",
     "metadata": {},
     "outputs": [
      {
       "output_type": "stream",
       "stream": "stdout",
       "text": [
        "[1, 7740, 8020, 8160, 1, 80, 340, 1300, 3280, 3640, 3780, 3940, 4140, 4280, 4500, 4640, 5140, 5280, 6280, 6560, 7280, 80, 340, 1300, 3140, 3280, 3640, 3780, 3940, 4140, 4280, 4500, 4640, 5140, 5280, 6280, 6560, 7280, 80, 340, 3280, 3640, 3940, 4140, 4280, 4500, 80, 340, 3280, 3640, 4140, 4280, 80, 340, 3280, 3640, 3940, 4140, 4280, 4500, 5280, 80, 340, 3280, 3640, 3780, 3940, 4140, 4280, 4500, 5280, 80, 340, 3280, 3640, 3780, 3940, 4140, 4280, 4500, 4640, 5140, 5280, 6280, 6560, 80, 340, 3140, 3280, 3640, 3780, 3940, 4140, 4280, 4500, 4640, 5140, 5280, 6280, 6560, 80, 340, 3280, 3640, 3780, 3940, 4140, 4280, 4500, 4640, 5140, 5280, 6280, 6560, 80, 340, 3280, 3640, 3780, 3940, 4140, 4280, 4500, 4640, 5140, 5280, 6280, 6560, 80, 340, 3280, 3640, 3780, 3940, 4140, 4280, 4500, 4640, 5140, 5280, 6280, 6560, 80, 320, 640, 780, 1040, 1300, 1380, 1640, 3140, 3280, 3460, 3640, 3780, 3940, 4140, 4280, 4480, 4640, 4780, 4900, 5140, 5280, 5520, 5800, 5860, 6280, 6560, 7280, 7580, 80, 340, 3280, 4140, 4280, 1, 2280, 8860, 1, 900, 5440, 6060, 6760, 7160, 7260]\n"
       ]
      }
     ],
     "prompt_number": 17
    },
    {
     "cell_type": "code",
     "collapsed": false,
     "input": [],
     "language": "python",
     "metadata": {},
     "outputs": []
    }
   ],
   "metadata": {}
  }
 ]
}