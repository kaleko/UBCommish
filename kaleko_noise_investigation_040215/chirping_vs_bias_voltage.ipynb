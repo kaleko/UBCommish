{
 "metadata": {
  "name": "",
  "signature": "sha256:cc56db52cfc71192be0476600fb5359c8a2638ef2be0c35b1d74c02d58e697e6"
 },
 "nbformat": 3,
 "nbformat_minor": 0,
 "worksheets": [
  {
   "cells": [
    {
     "cell_type": "code",
     "collapsed": false,
     "input": [
      "%matplotlib inline\n",
      "import matplotlib.pyplot as plt\n",
      "import numpy as np\n",
      "import pandas as pd\n",
      "from root_numpy import root2array, root2rec, tree2rec, array2root\n",
      "from ROOT import TH1F, TFile\n",
      "import nputils as nputils"
     ],
     "language": "python",
     "metadata": {},
     "outputs": [],
     "prompt_number": 1
    },
    {
     "cell_type": "code",
     "collapsed": false,
     "input": [
      "data_basedir = '/Users/davidkaleko/Data/UBCommish/noise_files/'\n",
      "run = 147\n",
      "#for ramping up feedthrough 7\n",
      "#subruns_volts = [\n",
      "#('noise_run147_subrun000_016.root',50),\n",
      "#('noise_run147_subrun026_037.root',100),\n",
      "#('noise_run147_subrun041_050.root',150),\n",
      "#('noise_run147_subrun054_064.root',200),\n",
      "#('noise_run147_subrun071_081.root',250),\n",
      "#('noise_run147_subrun085_096.root',300),\n",
      "#('noise_run147_subrun100_110.root',350),\n",
      "#('noise_run147_subrun114_126.root',400),\n",
      "#('noise_run147_subrun130_140.root',440)\n",
      "#]\n",
      "#for ramping up feedthrough 8\n",
      "#subruns_volts = [\n",
      "#('noise_run147_subrun168_178.root',50),\n",
      "#('noise_run147_subrun181_192.root',100),\n",
      "#('noise_run147_subrun196_206.root',150),\n",
      "#('noise_run147_subrun209_219.root',200),\n",
      "#('noise_run147_subrun222_235.root',250), #These DNE yet?\n",
      "#('noise_run147_subrun238_248.root',300), #These DNE yet?\n",
      "#('noise_run147_subrun251_260.root',350), #These DNE yet?\n",
      "#('noise_run148_subrun000_011.root',400), #These DNE yet?\n",
      "#('noise_run148_subrun014_023.root',440)  #These DNE yet?\n",
      "#]\n",
      "#for ramping up feedthrough 9\n",
      "subruns_volts = [\n",
      "('noise_run147_subrun168_178.root',50),\n",
      "('noise_run147_subrun181_192.root',100),\n",
      "('noise_run147_subrun196_206.root',150),\n",
      "('noise_run147_subrun209_219.root',200),\n",
      "]\n"
     ],
     "language": "python",
     "metadata": {},
     "outputs": [],
     "prompt_number": 10
    },
    {
     "cell_type": "code",
     "collapsed": false,
     "input": [
      "ch_mapping = 'mapping_for_jeremy.txt'\n",
      "mapping_df = pd.DataFrame(np.loadtxt(ch_mapping, delimiter='\\t',dtype='int'))\n",
      "mapping_df.columns = ['larsoft_chno','crate','slot','femch']"
     ],
     "language": "python",
     "metadata": {},
     "outputs": [],
     "prompt_number": 11
    },
    {
     "cell_type": "code",
     "collapsed": false,
     "input": [
      "def does_wf_chirp(wf):\n",
      " \n",
      "    RMS_chirp_min = 40\n",
      "    RMS_quiet_max = 10\n",
      "    RMS_windowsize = 20\n",
      "    RMS_array = []\n",
      "    \n",
      "    did_chirp = False\n",
      "    \n",
      "    #sliding window of size RMS_windowsize over waveform, computing RMS in window each time\n",
      "    for tick in np.arange(0,len(wf),int(RMS_windowsize/2)):\n",
      "        if tick + RMS_windowsize >= len(wf):\n",
      "            break\n",
      "        window_rms = wf[tick:(tick+RMS_windowsize)].std()\n",
      "        RMS_array.append(window_rms)\n",
      "        \n",
      "        if len(RMS_array) < 2: continue\n",
      "        #it chirped it if went from high RMS to low RMS\n",
      "        did_chirp = True if RMS_array[-1] > RMS_chirp_min and RMS_array[-2] < RMS_quiet_max else False\n",
      "        #it also chirped if it went from low RMS to high RMS\n",
      "        did_chirp = True if RMS_array[-1] < RMS_quiet_max and RMS_array[-2] > RMS_chirp_min else False\n",
      "    \n",
      "        if did_chirp: break\n",
      "    \n",
      "    return did_chirp"
     ],
     "language": "python",
     "metadata": {},
     "outputs": [],
     "prompt_number": 12
    },
    {
     "cell_type": "code",
     "collapsed": false,
     "input": [
      "voltages = []\n",
      "n_chirps = []\n",
      "\n",
      "for subruns,volts in subruns_volts:\n",
      "    \n",
      "    n_chirping_channels = 0\n",
      " \n",
      "    fname = data_basedir+subruns\n",
      "    f = ROOT.TFile(fname,\"READ\")\n",
      " \n",
      "    #find chirping channels    \n",
      "    high_rms_channels = []\n",
      "    wf_df = pd.DataFrame(root2array(fname,'tree'))\n",
      "    grp = wf_df.groupby(['crate', 'slot', 'femch'])\n",
      "\n",
      "    for key, grp_df in grp:\n",
      "        sr = grp_df['rms']\n",
      "        rms = sr.std()\n",
      "        if rms > 5:\n",
      "            high_rms_channels.append(key)\n",
      "    \n",
      "    for c,s,ch in high_rms_channels:\n",
      "        larsoft_num = int(mapping_df.query('crate == %d and slot == %d and femch == %d'%(c,s,ch))['larsoft_chno'])        \n",
      "        bad_wf = nputils.TH1_to_nparray(f.Get('hWF_BAD_%0.4d'%larsoft_num))\n",
      "        bad_wf = bad_wf[1:]\n",
      "        good_wf = nputils.TH1_to_nparray(f.Get('hWF_GOOD_%0.4d'%larsoft_num))\n",
      "        good_wf = good_wf[1:]\n",
      "        \n",
      "        if does_wf_chirp(good_wf) or does_wf_chirp(bad_wf):\n",
      "            n_chirping_channels += 1\n",
      "    \n",
      "    voltages.append(volts)\n",
      "    n_chirps.append(n_chirping_channels)\n",
      "    print \"bias voltage, n chirping channels = (%d, %d)\" % (volts,n_chirping_channels)\n",
      "    f.Close()\n",
      "  \n",
      "    "
     ],
     "language": "python",
     "metadata": {},
     "outputs": [
      {
       "output_type": "stream",
       "stream": "stdout",
       "text": [
        "bias voltage, n chirping channels = (50, 2)\n",
        "bias voltage, n chirping channels = (100, 1)"
       ]
      },
      {
       "output_type": "stream",
       "stream": "stdout",
       "text": [
        "\n",
        "bias voltage, n chirping channels = (150, 3)"
       ]
      },
      {
       "output_type": "stream",
       "stream": "stdout",
       "text": [
        "\n",
        "bias voltage, n chirping channels = (200, 1)"
       ]
      },
      {
       "output_type": "stream",
       "stream": "stdout",
       "text": [
        "\n"
       ]
      },
      {
       "ename": "IOError",
       "evalue": "unable to access tree 'tree' in /Users/davidkaleko/Data/UBCommish/noise_files/noise_run147_subrun222_235.root",
       "output_type": "pyerr",
       "traceback": [
        "\u001b[0;31m---------------------------------------------------------------------------\u001b[0m\n\u001b[0;31mIOError\u001b[0m                                   Traceback (most recent call last)",
        "\u001b[0;32m<ipython-input-13-d36e64c1df82>\u001b[0m in \u001b[0;36m<module>\u001b[0;34m()\u001b[0m\n\u001b[1;32m     11\u001b[0m     \u001b[0;31m#find chirping channels\u001b[0m\u001b[0;34m\u001b[0m\u001b[0;34m\u001b[0m\u001b[0m\n\u001b[1;32m     12\u001b[0m     \u001b[0mhigh_rms_channels\u001b[0m \u001b[0;34m=\u001b[0m \u001b[0;34m[\u001b[0m\u001b[0;34m]\u001b[0m\u001b[0;34m\u001b[0m\u001b[0m\n\u001b[0;32m---> 13\u001b[0;31m     \u001b[0mwf_df\u001b[0m \u001b[0;34m=\u001b[0m \u001b[0mpd\u001b[0m\u001b[0;34m.\u001b[0m\u001b[0mDataFrame\u001b[0m\u001b[0;34m(\u001b[0m\u001b[0mroot2array\u001b[0m\u001b[0;34m(\u001b[0m\u001b[0mfname\u001b[0m\u001b[0;34m,\u001b[0m\u001b[0;34m'tree'\u001b[0m\u001b[0;34m)\u001b[0m\u001b[0;34m)\u001b[0m\u001b[0;34m\u001b[0m\u001b[0m\n\u001b[0m\u001b[1;32m     14\u001b[0m     \u001b[0mgrp\u001b[0m \u001b[0;34m=\u001b[0m \u001b[0mwf_df\u001b[0m\u001b[0;34m.\u001b[0m\u001b[0mgroupby\u001b[0m\u001b[0;34m(\u001b[0m\u001b[0;34m[\u001b[0m\u001b[0;34m'crate'\u001b[0m\u001b[0;34m,\u001b[0m \u001b[0;34m'slot'\u001b[0m\u001b[0;34m,\u001b[0m \u001b[0;34m'femch'\u001b[0m\u001b[0;34m]\u001b[0m\u001b[0;34m)\u001b[0m\u001b[0;34m\u001b[0m\u001b[0m\n\u001b[1;32m     15\u001b[0m \u001b[0;34m\u001b[0m\u001b[0m\n",
        "\u001b[0;32m/Library/Python/2.7/site-packages/root_numpy/_tree.pyc\u001b[0m in \u001b[0;36mroot2array\u001b[0;34m(filenames, treename, branches, selection, start, stop, step, include_weight, weight_name)\u001b[0m\n\u001b[1;32m    197\u001b[0m         \u001b[0mstart\u001b[0m\u001b[0;34m,\u001b[0m \u001b[0mstop\u001b[0m\u001b[0;34m,\u001b[0m \u001b[0mstep\u001b[0m\u001b[0;34m,\u001b[0m\u001b[0;34m\u001b[0m\u001b[0m\n\u001b[1;32m    198\u001b[0m         \u001b[0minclude_weight\u001b[0m\u001b[0;34m,\u001b[0m\u001b[0;34m\u001b[0m\u001b[0m\n\u001b[0;32m--> 199\u001b[0;31m         weight_name)\n\u001b[0m\u001b[1;32m    200\u001b[0m \u001b[0;34m\u001b[0m\u001b[0m\n\u001b[1;32m    201\u001b[0m \u001b[0;34m\u001b[0m\u001b[0m\n",
        "\u001b[0;32m/Library/Python/2.7/site-packages/root_numpy/_librootnumpy.so\u001b[0m in \u001b[0;36m_librootnumpy.root2array_fromFname (root_numpy/src/_librootnumpy.cpp:706)\u001b[0;34m()\u001b[0m\n",
        "\u001b[0;31mIOError\u001b[0m: unable to access tree 'tree' in /Users/davidkaleko/Data/UBCommish/noise_files/noise_run147_subrun222_235.root"
       ]
      }
     ],
     "prompt_number": 13
    },
    {
     "cell_type": "code",
     "collapsed": false,
     "input": [],
     "language": "python",
     "metadata": {},
     "outputs": []
    }
   ],
   "metadata": {}
  }
 ]
}