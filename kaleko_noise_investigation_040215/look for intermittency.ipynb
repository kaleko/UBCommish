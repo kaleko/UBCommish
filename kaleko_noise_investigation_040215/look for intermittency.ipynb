{
 "metadata": {
  "name": "",
  "signature": "sha256:14b8caaecde300e11cb9dbd768e9f363c2f64753a09f2d620a1557381b738bb7"
 },
 "nbformat": 3,
 "nbformat_minor": 0,
 "worksheets": [
  {
   "cells": [
    {
     "cell_type": "code",
     "collapsed": false,
     "input": [
      "%matplotlib inline\n",
      "import matplotlib.pyplot as plt\n",
      "import numpy as np\n",
      "import pandas as pd\n",
      "from root_numpy import root2array, root2rec, tree2rec, array2root\n",
      "from ROOT import TH1F, TFile\n",
      "import nputils as nputils"
     ],
     "language": "python",
     "metadata": {},
     "outputs": [],
     "prompt_number": 1
    },
    {
     "cell_type": "code",
     "collapsed": false,
     "input": [
      "run = 2#95\n",
      "subrun1 = 0#0\n",
      "subrun2 = 9#19\n",
      "data_basedir = '/Users/davidkaleko/Data/UBCommish/noise_files/'\n",
      "fname = data_basedir + 'noise_run%03d_subrun%03d_%03d.root'%(run,subrun1,subrun2)"
     ],
     "language": "python",
     "metadata": {},
     "outputs": [],
     "prompt_number": 11
    },
    {
     "cell_type": "code",
     "collapsed": false,
     "input": [
      "f = ROOT.TFile(fname,\"READ\")\n",
      "ch_mapping = 'mapping_for_jeremy.txt'\n",
      "mapping_df = pd.DataFrame(np.loadtxt(ch_mapping, delimiter='\\t',dtype='int'))\n",
      "mapping_df.columns = ['larsoft_chno','crate','slot','femch']"
     ],
     "language": "python",
     "metadata": {},
     "outputs": [],
     "prompt_number": 12
    },
    {
     "cell_type": "code",
     "collapsed": false,
     "input": [
      "kazu_txt = '/Users/davidkaleko/Desktop/tmp_kazu_files_run2.txt'\n",
      "csvs = np.loadtxt(kazu_txt,delimiter=' ',dtype='int')"
     ],
     "language": "python",
     "metadata": {},
     "outputs": [],
     "prompt_number": 15
    },
    {
     "cell_type": "code",
     "collapsed": false,
     "input": [
      "for c,s,v in csvs:\n",
      "    larsoft_num = int(mapping_df.query('crate == %d and slot == %d and femch == %d'%(c,s,v))['larsoft_chno'])        \n",
      "    bad_wf = nputils.TH1_to_nparray(f.Get('hWF_BAD_%0.4d'%larsoft_num))\n",
      "    bad_wf = bad_wf[1:]\n",
      "    good_wf = nputils.TH1_to_nparray(f.Get('hWF_GOOD_%0.4d'%larsoft_num))\n",
      "    good_wf = good_wf[1:]\n",
      "    \n",
      "#    plt.figure()\n",
      "#    plt.title(\"Plotting %d,%d,%d from run 95 subruns 0 19 (\\\"GOOD\\\")\" % (c,s,v))\n",
      "#    plt.plot(good_wf)\n",
      "#    plt.figure()\n",
      "#    plt.title(\"Plotting %d,%d,%d from run 95 subruns 0 19 (\\\"GOOD\\\")\" % (c,s,v))\n",
      "#    plt.plot(bad_wf)"
     ],
     "language": "python",
     "metadata": {},
     "outputs": [
      {
       "ename": "NameError",
       "evalue": "name 'csvs' is not defined",
       "output_type": "pyerr",
       "traceback": [
        "\u001b[0;31m---------------------------------------------------------------------------\u001b[0m\n\u001b[0;31mNameError\u001b[0m                                 Traceback (most recent call last)",
        "\u001b[0;32m<ipython-input-1-95f2e26f4c58>\u001b[0m in \u001b[0;36m<module>\u001b[0;34m()\u001b[0m\n\u001b[0;32m----> 1\u001b[0;31m \u001b[0;32mfor\u001b[0m \u001b[0mc\u001b[0m\u001b[0;34m,\u001b[0m\u001b[0ms\u001b[0m\u001b[0;34m,\u001b[0m\u001b[0mv\u001b[0m \u001b[0;32min\u001b[0m \u001b[0mcsvs\u001b[0m\u001b[0;34m:\u001b[0m\u001b[0;34m\u001b[0m\u001b[0m\n\u001b[0m\u001b[1;32m      2\u001b[0m     \u001b[0mlarsoft_num\u001b[0m \u001b[0;34m=\u001b[0m \u001b[0mint\u001b[0m\u001b[0;34m(\u001b[0m\u001b[0mmapping_df\u001b[0m\u001b[0;34m.\u001b[0m\u001b[0mquery\u001b[0m\u001b[0;34m(\u001b[0m\u001b[0;34m'crate == %d and slot == %d and femch == %d'\u001b[0m\u001b[0;34m%\u001b[0m\u001b[0;34m(\u001b[0m\u001b[0mc\u001b[0m\u001b[0;34m,\u001b[0m\u001b[0ms\u001b[0m\u001b[0;34m,\u001b[0m\u001b[0mv\u001b[0m\u001b[0;34m)\u001b[0m\u001b[0;34m)\u001b[0m\u001b[0;34m[\u001b[0m\u001b[0;34m'larsoft_chno'\u001b[0m\u001b[0;34m]\u001b[0m\u001b[0;34m)\u001b[0m\u001b[0;34m\u001b[0m\u001b[0m\n\u001b[1;32m      3\u001b[0m     \u001b[0mbad_wf\u001b[0m \u001b[0;34m=\u001b[0m \u001b[0mnputils\u001b[0m\u001b[0;34m.\u001b[0m\u001b[0mTH1_to_nparray\u001b[0m\u001b[0;34m(\u001b[0m\u001b[0mf\u001b[0m\u001b[0;34m.\u001b[0m\u001b[0mGet\u001b[0m\u001b[0;34m(\u001b[0m\u001b[0;34m'hWF_BAD_%0.4d'\u001b[0m\u001b[0;34m%\u001b[0m\u001b[0mlarsoft_num\u001b[0m\u001b[0;34m)\u001b[0m\u001b[0;34m)\u001b[0m\u001b[0;34m\u001b[0m\u001b[0m\n\u001b[1;32m      4\u001b[0m     \u001b[0mbad_wf\u001b[0m \u001b[0;34m=\u001b[0m \u001b[0mbad_wf\u001b[0m\u001b[0;34m[\u001b[0m\u001b[0;36m1\u001b[0m\u001b[0;34m:\u001b[0m\u001b[0;34m]\u001b[0m\u001b[0;34m\u001b[0m\u001b[0m\n\u001b[1;32m      5\u001b[0m     \u001b[0mgood_wf\u001b[0m \u001b[0;34m=\u001b[0m \u001b[0mnputils\u001b[0m\u001b[0;34m.\u001b[0m\u001b[0mTH1_to_nparray\u001b[0m\u001b[0;34m(\u001b[0m\u001b[0mf\u001b[0m\u001b[0;34m.\u001b[0m\u001b[0mGet\u001b[0m\u001b[0;34m(\u001b[0m\u001b[0;34m'hWF_GOOD_%0.4d'\u001b[0m\u001b[0;34m%\u001b[0m\u001b[0mlarsoft_num\u001b[0m\u001b[0;34m)\u001b[0m\u001b[0;34m)\u001b[0m\u001b[0;34m\u001b[0m\u001b[0m\n",
        "\u001b[0;31mNameError\u001b[0m: name 'csvs' is not defined"
       ]
      }
     ],
     "prompt_number": 1
    },
    {
     "cell_type": "code",
     "collapsed": false,
     "input": [],
     "language": "python",
     "metadata": {},
     "outputs": []
    }
   ],
   "metadata": {}
  }
 ]
}